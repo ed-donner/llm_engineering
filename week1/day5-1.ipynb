{
 "cells": [
  {
   "cell_type": "code",
   "execution_count": 1,
   "id": "158daae8-068c-41be-9705-9ad7ebbc8978",
   "metadata": {},
   "outputs": [],
   "source": [
    "import os\n",
    "import requests\n",
    "from bs4 import BeautifulSoup\n",
    "from IPython.display import Markdown,display\n",
    "from openai import OpenAI\n",
    "import json\n",
    "from typing import List"
   ]
  },
  {
   "cell_type": "code",
   "execution_count": 2,
   "id": "b02de40b-6f77-4b40-86dc-8e5f1a5452b2",
   "metadata": {},
   "outputs": [],
   "source": [
    "MODEL=\"llama3.2\"\n",
    "openai = OpenAI(base_url=\"http://localhost:11434/v1\", api_key=\"ollama\")"
   ]
  },
  {
   "cell_type": "code",
   "execution_count": 3,
   "id": "045ea9e9-8670-4677-aa25-dfdef41ef5c4",
   "metadata": {},
   "outputs": [],
   "source": [
    "# message=\"Bye, I'm Deadpool\"\n",
    "# response=openai.chat.completions.create(model=MODEL,messages=[{\"role\":\"user\",\"content\":message}])\n",
    "# print(response.choices[0].message.content)"
   ]
  },
  {
   "cell_type": "code",
   "execution_count": 4,
   "id": "0804be70-db69-4522-bdec-f95489e9c798",
   "metadata": {},
   "outputs": [],
   "source": [
    "headers = {\n",
    " \"User-Agent\": \"Mozilla/5.0 (Windows NT 10.0; Win64; x64) AppleWebKit/537.36 (KHTML, like Gecko) Chrome/117.0.0.0 Safari/537.36\"\n",
    "}\n",
    "\n",
    "class bsWebsite:\n",
    "    def __init__(self,url):\n",
    "        self.url=url\n",
    "        response=requests.get(url,headers=headers)\n",
    "        soup=BeautifulSoup(response.content,\"html.parser\")\n",
    "        self.title=soup.title.string if soup.title else \"No title\"\n",
    "        if soup.body:\n",
    "            for irr in soup.body([\"img\",\"script\",\"input\",\"style\"]):\n",
    "                irr.decompose()\n",
    "            self.text=soup.body.get_text(separator=\"\\n\",strip=True)\n",
    "        else:\n",
    "            self.text=\"\"\n",
    "\n",
    "        links=[link.get('href') for link in soup.find_all('a')]\n",
    "        self.links=[link for link in links if link]\n",
    "        # or can do it one line:\n",
    "        # self.links=[link.get('href') for link in soup.find_all('a') if link.get('href')]\n",
    "    def get_contents(self):\n",
    "        return f\"Webpage Title:\\n{self.title}\\nWebpage Content:\\n{self.text}\\n\\n\""
   ]
  },
  {
   "cell_type": "code",
   "execution_count": 5,
   "id": "6ef824dd-b527-4049-a4b2-befd8518c516",
   "metadata": {},
   "outputs": [],
   "source": [
    "# ed=bsWebsite(\"https://edwarddonner.com\")\n",
    "# ed.links"
   ]
  },
  {
   "cell_type": "code",
   "execution_count": 6,
   "id": "69d87c54-63c3-4b57-bca0-53b9ff7584e7",
   "metadata": {},
   "outputs": [],
   "source": [
    "link_system_prompt=\"\"\"You are an expert analyzer who recieves a list of links found on a webpage. Your job is to analyze which links \n",
    "                      are relevant to include in a brochure for the website. This includes links like About page, Careers/Jobs page, \n",
    "                      Company page, etc.\n",
    "                      You should respond in JSON as demonstrated below:\n",
    "                      {\n",
    "                          \"links\":[\n",
    "                              {\"type\":\"About page\",\"url\":\"https://aboutpage/url/goes/here\"},\n",
    "                              {\"type\":\"Company page\",\"url\":\"https://companypage/url/goes/here\"}\n",
    "                          ]\n",
    "                      }\n",
    "                    \"\"\""
   ]
  },
  {
   "cell_type": "code",
   "execution_count": 7,
   "id": "cb41e6bd-6c19-4aa6-bb18-d7d6f8e6dd4c",
   "metadata": {},
   "outputs": [],
   "source": [
    "def link_user_prompt(website):\n",
    "    user_prompt=f\"\"\"Here is a list of links found at {website.title}. Provide relevant links only and make sure to\n",
    "                    discard links like Terms of Services, Privacy Policy, Help, Cookies Preferences, etc.\n",
    "                    Respond with full https url in JSON format.\n",
    "                    List of links (some might be relevant):\n",
    "                    {website.links}\n",
    "                \"\"\"\n",
    "    return user_prompt"
   ]
  },
  {
   "cell_type": "code",
   "execution_count": 8,
   "id": "b0c8a0b4-2444-408c-bd4e-0f84db741e1b",
   "metadata": {},
   "outputs": [],
   "source": [
    "# link_user_prompt(ed)"
   ]
  },
  {
   "cell_type": "code",
   "execution_count": 9,
   "id": "82706165-b7dc-4ab5-95fb-39dd3cf63333",
   "metadata": {},
   "outputs": [],
   "source": [
    "def get_links(url):\n",
    "    website=bsWebsite(url)\n",
    "    response=openai.chat.completions.create(\n",
    "        model=MODEL,\n",
    "        messages=[\n",
    "                    {\"role\":\"system\",\"content\":link_system_prompt},\n",
    "                    {\"role\":\"user\",\"content\":link_user_prompt(website)}\n",
    "                ],\n",
    "        response_format={\"type\":\"json_object\"})\n",
    "    result=response.choices[0].message.content\n",
    "    return json.loads(result)"
   ]
  },
  {
   "cell_type": "code",
   "execution_count": 10,
   "id": "a39c3805-c294-45a5-9943-4c8601e234b4",
   "metadata": {},
   "outputs": [],
   "source": [
    "# get_links(\"https://huggingface.co\")"
   ]
  },
  {
   "cell_type": "code",
   "execution_count": 11,
   "id": "86bc72b2-e050-4a33-a2d2-2dbee442b09f",
   "metadata": {},
   "outputs": [],
   "source": [
    "def get_all_details(url):\n",
    "    result=f\"Landing Page:\\n\"\n",
    "    result+=bsWebsite(url).get_contents()\n",
    "    links=get_links(url)\n",
    "    for link in links['links']:\n",
    "        result+=f\"\\n\\n{link['type']}\\n\"\n",
    "        try:\n",
    "            result+=bsWebsite(link['url']).get_contents()\n",
    "        except Exception as e:\n",
    "            result+=f\"Cannot retrive from {link['url']} due to error: {e}\"       \n",
    "    return result"
   ]
  },
  {
   "cell_type": "code",
   "execution_count": 12,
   "id": "b16f6494-347f-4e4e-afd1-2d1b1dc9b075",
   "metadata": {},
   "outputs": [],
   "source": [
    "# get_all_details(\"https://huggingface.co\")"
   ]
  },
  {
   "cell_type": "code",
   "execution_count": 13,
   "id": "8ec6bb8e-bf50-4033-a648-ff7d23d31790",
   "metadata": {},
   "outputs": [],
   "source": [
    "bro_system_prompt=\"You are an assistant who's excellent at creating brochures for companies by analyzing\\\n",
    "                   their website's content and relevant pages. You include all the crucial details like\\\n",
    "                   information about the company, what is it about, culture of the company, job or career\\\n",
    "                   opportunities, subscriptions, etc, if it's given. Create the brochure in a way that impresses\\\n",
    "                   prospective customers or investors.\""
   ]
  },
  {
   "cell_type": "code",
   "execution_count": 14,
   "id": "57f726d1-7f53-40e1-9526-615a6e390f30",
   "metadata": {},
   "outputs": [],
   "source": [
    "def bro_user_prompt(name,url):\n",
    "    user_prompt=f\"\"\"You are looking at a company called {name}.\n",
    "                  Here is the content from its landing page and other relevant pages.\n",
    "                  Use this information to build an amazing short brochure for the company.\n",
    "                  Respond in markdown.\n",
    "                  Content:\\n\"\"\"\n",
    "    user_prompt+=get_all_details(url)\n",
    "    return user_prompt[:8_000]"
   ]
  },
  {
   "cell_type": "code",
   "execution_count": 15,
   "id": "35c7b27e-98c2-4209-83f6-ff9e837f4104",
   "metadata": {},
   "outputs": [],
   "source": [
    "# bro_user_prompt(\"Hugging face\",\"https://huggingface.co\")"
   ]
  },
  {
   "cell_type": "code",
   "execution_count": 16,
   "id": "c090c960-ee12-4e4a-a15a-e7c266c5d907",
   "metadata": {},
   "outputs": [],
   "source": [
    "def create_brochure(name,url):\n",
    "    response=openai.chat.completions.create(\n",
    "        model=MODEL,\n",
    "        messages=[\n",
    "            {\"role\":\"system\",\"content\":bro_system_prompt},\n",
    "            {\"role\":\"user\",\"content\":bro_user_prompt(name,url)}\n",
    "        ]\n",
    "    )\n",
    "    result=response.choices[0].message.content\n",
    "    return result"
   ]
  },
  {
   "cell_type": "code",
   "execution_count": 17,
   "id": "c070168d-68e2-4baa-b472-a3949e232ac7",
   "metadata": {},
   "outputs": [],
   "source": [
    "# create_brochure(\"HuggingFace\", \"https://huggingface.co\")"
   ]
  },
  {
   "cell_type": "code",
   "execution_count": 18,
   "id": "9cbff83a-725c-4530-94dd-e77a20f09175",
   "metadata": {},
   "outputs": [],
   "source": [
    "spain_system_prompt=\"\"\"You are an exceptional translator who is very proficient in Spanish.\n",
    "                       You're a given the contents of a brochure in English to analyze and translate to Spanish.\n",
    "                       Make sure the translation is coherent and makes sense to a Spanish human reader.\n",
    "                       Respond in markdown.\"\"\""
   ]
  },
  {
   "cell_type": "code",
   "execution_count": 19,
   "id": "ad4a7fb6-02b3-4fc3-9b41-129055a11546",
   "metadata": {},
   "outputs": [],
   "source": [
    "def spain_user_prompt(name,brochure):\n",
    "    user_prompt=f\"\"\"You are provided with the English brochure of the company {name}.\n",
    "                    Make sure to include every piece of information present in the brochure.\n",
    "                    Do not convert the name of company and other short-forms if any.\n",
    "                    Respond in markdown. Here is the content of brochure:\\n\\n{brochure}\"\"\"\n",
    "    return user_prompt"
   ]
  },
  {
   "cell_type": "code",
   "execution_count": 20,
   "id": "cab72622-9ea1-4b87-8a80-5c76d0400f10",
   "metadata": {},
   "outputs": [],
   "source": [
    "def spanish_brochure(name,url):\n",
    "    print(\"Creating brochure...\")\n",
    "    brochure=create_brochure(name,url)\n",
    "    print(\"Brochure created!\")\n",
    "    # Safety check\n",
    "    if not isinstance(brochure, str) or not brochure.strip():\n",
    "        brochure = \"[Brochure could not be generated.]\"\n",
    "        print(\"Brochure was empty!\")\n",
    "\n",
    "    print(\"Length of brochure: \",len(brochure))\n",
    "    # Optional trimming\n",
    "    brochure = brochure[:5000]\n",
    "    print(brochure[:500])\n",
    "    \n",
    "    print(\"Creating user prompt: \")\n",
    "    user_prompt = spain_user_prompt(name, brochure)\n",
    "    print(\"User prompt: \",user_prompt)\n",
    "\n",
    "    response=openai.chat.completions.create(\n",
    "    model=MODEL,\n",
    "    messages=[\n",
    "        {\"role\":\"system\",\"content\":spain_system_prompt},\n",
    "        {\"role\":\"user\",\"content\":user_prompt}\n",
    "    ])\n",
    "    result=response.choices[0].message.content\n",
    "    display(Markdown(result))"
   ]
  },
  {
   "cell_type": "code",
   "execution_count": 21,
   "id": "873b7ee6-03b4-4287-bcae-de9e3cb43c4b",
   "metadata": {},
   "outputs": [
    {
     "name": "stdout",
     "output_type": "stream",
     "text": [
      "Creating brochure...\n",
      "Brochure created!\n",
      "Length of brochure:  2456\n",
      "**Hugging Face Brochure**\n",
      "=========================\n",
      "\n",
      "[Image of Hugging Face logo]\n",
      "\n",
      "**Welcome to Hugging Face**\n",
      "\n",
      "The AI community building the future. Explore, collaborate, and discover cutting-edge machine learning models, datasets, and applications on our platform.\n",
      "\n",
      "**About Us**\n",
      "\n",
      "Hugging Face is a collaboration platform for the machine learning community. We empower the next generation of machine learning engineers, scientists, and end users to learn, collaborate, and share their work to build \n",
      "Creating user prompt: \n",
      "User prompt:  You are provided with the English brochure of the company HuggingFace.\n",
      "                    Make sure to include every piece of information present in the brochure.\n",
      "                    Do not convert the name of company and other short-forms if any.\n",
      "                    Respond in markdown. Here is the content of brochure:\n",
      "\n",
      "**Hugging Face Brochure**\n",
      "=========================\n",
      "\n",
      "[Image of Hugging Face logo]\n",
      "\n",
      "**Welcome to Hugging Face**\n",
      "\n",
      "The AI community building the future. Explore, collaborate, and discover cutting-edge machine learning models, datasets, and applications on our platform.\n",
      "\n",
      "**About Us**\n",
      "\n",
      "Hugging Face is a collaboration platform for the machine learning community. We empower the next generation of machine learning engineers, scientists, and end users to learn, collaborate, and share their work to build an open and ethical AI future together.\n",
      "\n",
      "[Image of team members]\n",
      "\n",
      "**Our Mission**\n",
      "\n",
      "* Democratize artificial intelligence through natural language processing\n",
      "* Provide a central place for sharing, exploring, discovering, and experimenting with open-source ML\n",
      "* Foster a community of machine learning enthusiasts, engineers, scientists, and end users\n",
      "\n",
      "**What We Offer**\n",
      "\n",
      "* A vast repository of 1M+ models and 250k+ datasets\n",
      "* A platform for building, collaborating, and sharing AI applications\n",
      "* An open-source stack for fast prototyping and iteration\n",
      "* A collaborative community with opportunities for skill-building and career growth\n",
      "\n",
      "**Products**\n",
      "\n",
      "* **Hugging Face**: Our natural language processing software to solve and democratize artificial intelligence\n",
      "* **Gradio**: A platform for building immersive apps in Python\n",
      "* **Transformer Hub**: A collection of pre-trained transformer models for NLP and computer vision applications\n",
      "\n",
      "**Community**\n",
      "\n",
      "Join our vibrant community of 50,000+ organizations using Hugging Face:\n",
      "\n",
      "* Share your work and build your ML profile\n",
      "* Discover new models, datasets, and applications\n",
      "* Explore AI apps and collaborate with others\n",
      "* Participate in hackathons, competitions, and events\n",
      "\n",
      "**Careers**\n",
      "\n",
      "We're passionate about building an open and inclusive AI future. Explore our job openings and join our mission:\n",
      "\n",
      "* **Software Development**: Join our team of engineers and scientists working on cutting-edge ML projects\n",
      "* **Research and Development**: Collaborate with us on research initiatives and projects that push the boundaries of AI\n",
      "\n",
      "[Image of Hugging Face logo]\n",
      "\n",
      "**Get Started Today!**\n",
      "\n",
      "Explore our platform, contribute to open-source projects, and join our community. Sign up now for free access to our resources and tools.\n",
      "\n",
      "[CTA button: Sign Up Now]\n",
      "\n",
      "---\n",
      "\n",
      "**Back**\n",
      "\n",
      "* [Hugging Face Home](http://huggingface.co)\n",
      "* [Hugging Face Blog](https://blog.huggingface.co)\n",
      "* [Hugging Face GitHub](https://github.com/huggingface)\n"
     ]
    },
    {
     "data": {
      "text/markdown": [
       "**Hugging Face Brochure**\n",
       "=========================\n",
       "\n",
       "[Imagen de la logotipo de Hugging Face]\n",
       "\n",
       "**Bienvenido a Hugging Face**\n",
       "\n",
       "La comunidad del aprendizaje automático construyendo el futuro. Explora, colaborea y descubre modelos avanzados de aprendizaje automático, conjuntos de datos y aplicaciones en nuestra plataforma.\n",
       "\n",
       "**Sobre Nosotros**\n",
       "\n",
       "Hugging Face es una plataforma de colaboración para la comunidad de aprendizaje automático. Empoderamos a los ingenieros de aprendizaje automático, científicos y usuarios finales para que aprendan, colaboren y compartan sus trabajos para construir un futuro abierto y ético de inteligencia artificial juntos.\n",
       "\n",
       "[Imagen de miembros del equipo]\n",
       "\n",
       "**Nuestra Misión**\n",
       "\n",
       "* Democratizar la inteligencia artificial a través del procesamiento de lenguaje natural\n",
       "* Proporcionar un lugar central para compartir, explorar, descubrir y experimentar con software abierto de aprendizaje automático\n",
       "* Fomentar una comunidad de entusiastas de aprendizaje automático, ingenieros, científicos y usuarios finales\n",
       "\n",
       "**Lo que Ofrecemos**\n",
       "\n",
       "* Un rico repositorio de 1M+ modelos y 250k+ conjuntos de datos\n",
       "* Una plataforma para construir, colaborar y compartir aplicaciones de inteligencia artificial\n",
       "* Un stack abierto source para rápida prototipificación e iteración\n",
       "* Una comunidad colaborativa con oportunidades para el crecimiento profesional y la formación\n",
       "\n",
       "**Productos**\n",
       "\n",
       "* **Hugging Face**: Nuestra software de procesamiento de lenguaje para resolver y democratizar la inteligencia artificial\n",
       "* **Gradio**: Una plataforma para construir aplicaciones inmersivas en Python\n",
       "* **Transformer Hub**: Colección de modelos pre-entrenados de transformadores para aplicaciones de visión y visión utilizando el lenguaje natural\n",
       "\n",
       "**Comunidad**\n",
       "\n",
       "Únete a nuestra vibrante comunidad de 50,000+ organizaciones utilizando Hugging Face:\n",
       "\n",
       "* Comparte tu trabajo e infórmate sobre aplicaciones de inteligencia artificial nuevas\n",
       "* Descubre nuevos modelos, conjuntos de datos e interfaces de usuario\n",
       "* Explora aplicaciones de inteligencia artificial y colaborea con otros\n",
       "* Participa en hackathones, concursos y eventos\n",
       "\n",
       "**Oportunidades de Carrera**\n",
       "\n",
       "Estamos apasionados por construir un futuro abierto e inclusivo. Explore nuestras plataformas de empleo de la comunidad Hugging Face:\n",
       "\n",
       "* **Desarrollo de Software**: Únete al equipo de ingenieros y científicos trabajando en proyectos de aprendizaje automático.\n",
       "* **Investigación y Desarrollo**: Colabora con nosotros en iniciativas de investigación e información que empujen fronteras del aprendizaje automático\n",
       "\n",
       "[Imagen de la logotipo de Hugging Face]\n",
       "\n",
       "**Comienza Ahora!**\n",
       "\n",
       "Explora nuestra plataforma, contribuye a proyectos de software abiertos e infórmate sobre nuestros recursos y herramientas. Registra tu cuenta ahora para obtener acceso gratuito.\n",
       "\n",
       "[Botón CTA: Inscribirse Ahora]\n",
       "\n",
       "---\n",
       "\n",
       "**Atrás**\n",
       "\n",
       "* [Home Hugging Face](http://huggingface.co)\n",
       "* [Blog de Hugging Face](https://blog.huggingface.co)\n",
       "* [GitHub de Hugging Face](https://github.com/huggingface)"
      ],
      "text/plain": [
       "<IPython.core.display.Markdown object>"
      ]
     },
     "metadata": {},
     "output_type": "display_data"
    }
   ],
   "source": [
    "spanish_brochure(\"HuggingFace\", \"https://huggingface.co\")"
   ]
  },
  {
   "cell_type": "code",
   "execution_count": null,
   "id": "9ea3237f-28df-4c90-b770-accaa24d06de",
   "metadata": {},
   "outputs": [],
   "source": []
  }
 ],
 "metadata": {
  "kernelspec": {
   "display_name": "Python 3 (ipykernel)",
   "language": "python",
   "name": "python3"
  },
  "language_info": {
   "codemirror_mode": {
    "name": "ipython",
    "version": 3
   },
   "file_extension": ".py",
   "mimetype": "text/x-python",
   "name": "python",
   "nbconvert_exporter": "python",
   "pygments_lexer": "ipython3",
   "version": "3.11.13"
  }
 },
 "nbformat": 4,
 "nbformat_minor": 5
}
