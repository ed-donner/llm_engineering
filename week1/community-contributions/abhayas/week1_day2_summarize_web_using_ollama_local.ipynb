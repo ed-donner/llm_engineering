{
 "cells": [
  {
   "cell_type": "code",
   "execution_count": null,
   "id": "86282ee7-659b-46b4-b06a-06a54a6b6030",
   "metadata": {},
   "outputs": [],
   "source": [
    "from bs4 import BeautifulSoup\n",
    "import requests\n",
    "from IPython.display import Markdown, display\n",
    "import ollama"
   ]
  },
  {
   "cell_type": "code",
   "execution_count": null,
   "id": "35f9aacd-8145-4332-b2ab-f805b2ba8ddc",
   "metadata": {},
   "outputs": [],
   "source": [
    "response = requests.get(\"https://news.google.com/home?hl=en-IN&gl=IN&ceid=IN:en\")"
   ]
  },
  {
   "cell_type": "code",
   "execution_count": null,
   "id": "2adc4cdf-27ba-4be0-8323-bcaff7ef0a48",
   "metadata": {},
   "outputs": [],
   "source": [
    "bs = BeautifulSoup(response.content, \"html.parser\")"
   ]
  },
  {
   "cell_type": "code",
   "execution_count": null,
   "id": "9d00724a-64cc-4cfc-9556-869626a5aacd",
   "metadata": {},
   "outputs": [],
   "source": [
    "finalconent = bs.select(\"body\")[0].get_text(separator=\"\\n\", strip=True)"
   ]
  },
  {
   "cell_type": "code",
   "execution_count": null,
   "id": "b89bc4c6-d370-4202-9455-cc382517e45e",
   "metadata": {},
   "outputs": [],
   "source": [
    "OLLAMA_API = \"http://127.0.0.1:11434/api/chat\"\n",
    "MODEL = \"llama3.2\""
   ]
  },
  {
   "cell_type": "code",
   "execution_count": null,
   "id": "accb7cc0-4f07-4cbe-87ef-c1c4759e6425",
   "metadata": {},
   "outputs": [],
   "source": [
    "messages = [\n",
    "    {\"role\": \"system\", \"content\": \"Your role to summarize given content from a website igoring the navigations\"},\n",
    "    {\"role\": \"user\", \"content\": finalconent}\n",
    "]"
   ]
  },
  {
   "cell_type": "code",
   "execution_count": null,
   "id": "89d3bc8c-0e52-412b-9b26-788cc15d2495",
   "metadata": {
    "scrolled": true
   },
   "outputs": [],
   "source": [
    "response = ollama.chat(model=MODEL, messages=messages)"
   ]
  },
  {
   "cell_type": "code",
   "execution_count": null,
   "id": "8c64ffb8-eeb3-45ef-9e41-8515decacbaf",
   "metadata": {},
   "outputs": [],
   "source": [
    "Markdown(response['message']['content'])"
   ]
  },
  {
   "cell_type": "code",
   "execution_count": null,
   "id": "72a4eb5d-40c4-4f7c-87ab-a21db32b81c9",
   "metadata": {},
   "outputs": [],
   "source": []
  }
 ],
 "metadata": {
  "kernelspec": {
   "display_name": "Python 3 (ipykernel)",
   "language": "python",
   "name": "python3"
  },
  "language_info": {
   "codemirror_mode": {
    "name": "ipython",
    "version": 3
   },
   "file_extension": ".py",
   "mimetype": "text/x-python",
   "name": "python",
   "nbconvert_exporter": "python",
   "pygments_lexer": "ipython3",
   "version": "3.11.13"
  }
 },
 "nbformat": 4,
 "nbformat_minor": 5
}
