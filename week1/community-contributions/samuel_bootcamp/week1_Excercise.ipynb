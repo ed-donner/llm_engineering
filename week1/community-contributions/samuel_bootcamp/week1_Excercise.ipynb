{
 "cells": [
  {
   "cell_type": "code",
   "execution_count": null,
   "id": "c2c69b15",
   "metadata": {},
   "outputs": [],
   "source": []
  },
  {
   "cell_type": "markdown",
   "id": "5def4883",
   "metadata": {},
   "source": [
    "Website Summarizer"
   ]
  },
  {
   "cell_type": "markdown",
   "id": "4bd9779e",
   "metadata": {},
   "source": []
  },
  {
   "cell_type": "code",
   "execution_count": 39,
   "id": "3e9422b0",
   "metadata": {},
   "outputs": [
    {
     "name": "stdout",
     "output_type": "stream",
     "text": [
      "API key found and looks good so far!\n"
     ]
    }
   ],
   "source": [
    "\n",
    "import os\n",
    "from dotenv import load_dotenv\n",
    "\n",
    "load_dotenv(override=True)\n",
    "api_key = os.getenv('DEEPSEEK_API_KEY')\n",
    "if not api_key:\n",
    "    print(\"No API key was found - please head over to the troubleshooting notebook in this folder to identify & fix!\")\n",
    "#elif not api_key.startswith(\"sk-proj-\"):\n",
    "#    print(\"An API key was found, but it doesn't start sk-proj-; please check you're using the right key - see troubleshooting notebook\")\n",
    "elif not api_key.startswith(\"sk-\"):\n",
    "    print(\"An API key was found, but it doesn't start sk-proj-; please check you're using the right key - see troubleshooting notebook\")\n",
    "elif api_key.strip() != api_key:\n",
    "    print(\"An API key was found, but it looks like it might have space or tab characters at the start or end - please remove them - see troubleshooting notebook\")\n",
    "else:\n",
    "    print(\"API key found and looks good so far!\")"
   ]
  },
  {
   "cell_type": "code",
   "execution_count": 43,
   "id": "dabfa3f7",
   "metadata": {},
   "outputs": [],
   "source": [
    "from openai import OpenAI\n",
    "import os\n",
    "from dotenv import load_dotenv\n",
    "\n",
    "def simple_chat(messages):\n",
    "    \n",
    "    load_dotenv(override=True)\n",
    "    #api_key = os.getenv('OPENAI_API_KEY')\n",
    "    api_key = os.getenv('DEEPSEEK_API_KEY')\n",
    "    \n",
    "    if not api_key:\n",
    "        return \"Error: DEEPSEEK_API_KEY environment variable is not set\"\n",
    "    \n",
    "\n",
    "    client = OpenAI(\n",
    "        api_key=api_key,\n",
    "        base_url=\"https://api.deepseek.com/v1\"\n",
    "    )\n",
    "\n",
    "    try:\n",
    "        response = client.chat.completions.create(\n",
    "            model=\"deepseek-chat\",\n",
    "            messages=messages,  \n",
    "            temperature=0.7,\n",
    "            max_tokens=1000\n",
    "        )\n",
    "        return response.choices[0].message.content\n",
    "    except Exception as e:\n",
    "        return f\"Error: {str(e)}\"\n",
    "\n",
    "# Website \n",
    "website = \"www.muriras.com\"\n",
    "\n",
    "# prompts\n",
    "system_prompt = \"\"\"\n",
    "You are a snarky assistant that analyzes the contents of a website,\n",
    "and provides a short, snarky, humorous summary, ignoring text that might be navigation related.\n",
    "Respond in markdown. Do not wrap the markdown in a code block - respond just with the markdown.\n",
    "\"\"\"\n",
    "\n",
    "user_prompt_prefix = \"\"\"\n",
    "Here are the contents of a website.\n",
    "Provide a short summary of this website.\n",
    "If it includes news or announcements, then summarize these too.\n",
    "\n",
    "\"\"\"\n",
    "\n"
   ]
  },
  {
   "cell_type": "code",
   "execution_count": 44,
   "id": "d04e33ed",
   "metadata": {},
   "outputs": [],
   "source": [
    "#Getting website contents\n",
    "import requests\n",
    "from bs4 import BeautifulSoup\n",
    "\n",
    "def get_website_content(url):\n",
    "    try:\n",
    "        \n",
    "        if not url.startswith(('http://', 'https://')):\n",
    "            url = 'https://' + url\n",
    "            \n",
    "        response = requests.get(url, timeout=10)\n",
    "        response.raise_for_status()\n",
    "        \n",
    "        \n",
    "        soup = BeautifulSoup(response.content, 'html.parser')\n",
    "        \n",
    "        # Removing script and style elements\n",
    "        for script in soup([\"script\", \"style\"]):\n",
    "            script.decompose()\n",
    "            \n",
    "        # Getting text content\n",
    "        text = soup.get_text()\n",
    "        \n",
    "        # Cleaning up the text\n",
    "        lines = (line.strip() for line in text.splitlines())\n",
    "        chunks = (phrase.strip() for line in lines for phrase in line.split(\"  \"))\n",
    "        text = ' '.join(chunk for chunk in chunks if chunk)\n",
    "        \n",
    "        return text\n",
    "    except Exception as e:\n",
    "        return f\"Error fetching website content: {str(e)}\"\n",
    "\n"
   ]
  },
  {
   "cell_type": "code",
   "execution_count": 45,
   "id": "062c8559",
   "metadata": {},
   "outputs": [
    {
     "name": "stdout",
     "output_type": "stream",
     "text": [
      "Website Summary:\n",
      "### 🖥️ Muriras Ltd: Because Your Business Needs More Than Just a Fancy Logo\n",
      "\n",
      "Welcome to Muriras Ltd, where they’ve apparently solved every business problem you didn’t know you had—from HR headaches to real estate woes, and even insurance collections (because who doesn’t dream of automating premium tracking?).\n",
      "\n",
      "**What They Offer (in a Nutshell):**\n",
      "- **HR Software:** For when you’re tired of remembering your employees’ names.\n",
      "- **Real Estate Management:** So you can list properties while pretending you’re on *Selling Sunset*.\n",
      "- **Payment Systems:** Because manually counting cash is so 1999.\n",
      "- **Insurance Collections:** Automate nagging your clients for money—efficiency at its finest!\n",
      "- **Point of Sale:** Real-time updates so you’ll know the instant you’re out of avocado toast.\n",
      "\n",
      "**Their Big Vision:** To “empower” your business with “smart software,” though they forgot to mention it also comes with a side of buzzwords like “streamline,” “integrate,” and “transform.”\n",
      "\n",
      "**News & Announcements:** Surprisingly, none! Just an empty cart and a plea to “Join our community” for updates that may or may not include cat memes.\n",
      "\n",
      "In short: If your business runs on chaos, Muriras promises to replace it with organized, slightly boring software. Get a quote—your sanity may thank you (or not).\n"
     ]
    }
   ],
   "source": [
    "# Main execution\n",
    "if __name__ == \"__main__\":\n",
    "    \n",
    "    \n",
    "    # Getting website content\n",
    "    website_content = get_website_content(website)\n",
    "    \n",
    "   \n",
    "    if website_content.startswith(\"Error\"):\n",
    "        print(f\"Failed to fetch website: {website_content}\")\n",
    "    else:\n",
    "        # Create the messages for the chat\n",
    "        user_prompt = user_prompt_prefix + website_content\n",
    "        \n",
    "        messages = [\n",
    "            {\"role\": \"system\", \"content\": system_prompt},\n",
    "            {\"role\": \"user\", \"content\": user_prompt}\n",
    "        ]\n",
    "        \n",
    "        # Get the summary\n",
    "        summary = simple_chat(messages)\n",
    "        print(\"Website Summary:\")\n",
    "        print(summary)"
   ]
  },
  {
   "cell_type": "code",
   "execution_count": null,
   "id": "ee63e8f1",
   "metadata": {},
   "outputs": [],
   "source": []
  }
 ],
 "metadata": {
  "kernelspec": {
   "display_name": "llms",
   "language": "python",
   "name": "python3"
  },
  "language_info": {
   "codemirror_mode": {
    "name": "ipython",
    "version": 3
   },
   "file_extension": ".py",
   "mimetype": "text/x-python",
   "name": "python",
   "nbconvert_exporter": "python",
   "pygments_lexer": "ipython3",
   "version": "3.11.14"
  }
 },
 "nbformat": 4,
 "nbformat_minor": 5
}
