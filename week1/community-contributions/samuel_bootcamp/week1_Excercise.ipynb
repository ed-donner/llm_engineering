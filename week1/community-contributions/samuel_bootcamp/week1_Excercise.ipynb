{
 "cells": [
  {
   "cell_type": "markdown",
   "id": "5def4883",
   "metadata": {},
   "source": [
    "My Excercise"
   ]
  },
  {
   "cell_type": "markdown",
   "id": "4bd9779e",
   "metadata": {},
   "source": [
    "Test"
   ]
  }
 ],
 "metadata": {
  "language_info": {
   "name": "python"
  }
 },
 "nbformat": 4,
 "nbformat_minor": 5
}
