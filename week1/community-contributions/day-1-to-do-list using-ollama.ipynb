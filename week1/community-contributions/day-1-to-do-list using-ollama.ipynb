{
 "cells": [
  {
   "cell_type": "code",
   "execution_count": 1,
   "id": "f61139a1-40e1-4273-b9a6-5a0a9d63a9bd",
   "metadata": {},
   "outputs": [
    {
     "ename": "ModuleNotFoundError",
     "evalue": "No module named 'reportlab'",
     "output_type": "error",
     "traceback": [
      "\u001b[31m---------------------------------------------------------------------------\u001b[39m",
      "\u001b[31mModuleNotFoundError\u001b[39m                       Traceback (most recent call last)",
      "\u001b[36mCell\u001b[39m\u001b[36m \u001b[39m\u001b[32mIn[1]\u001b[39m\u001b[32m, line 3\u001b[39m\n\u001b[32m      1\u001b[39m \u001b[38;5;28;01mimport\u001b[39;00m\u001b[38;5;250m \u001b[39m\u001b[34;01mrequests\u001b[39;00m\n\u001b[32m      2\u001b[39m \u001b[38;5;28;01mimport\u001b[39;00m\u001b[38;5;250m \u001b[39m\u001b[34;01mjson\u001b[39;00m\n\u001b[32m----> \u001b[39m\u001b[32m3\u001b[39m \u001b[38;5;28;01mfrom\u001b[39;00m\u001b[38;5;250m \u001b[39m\u001b[34;01mreportlab\u001b[39;00m\u001b[34;01m.\u001b[39;00m\u001b[34;01mlib\u001b[39;00m\u001b[34;01m.\u001b[39;00m\u001b[34;01mpagesizes\u001b[39;00m\u001b[38;5;250m \u001b[39m\u001b[38;5;28;01mimport\u001b[39;00m letter\n\u001b[32m      4\u001b[39m \u001b[38;5;28;01mfrom\u001b[39;00m\u001b[38;5;250m \u001b[39m\u001b[34;01mreportlab\u001b[39;00m\u001b[34;01m.\u001b[39;00m\u001b[34;01mpdfgen\u001b[39;00m\u001b[38;5;250m \u001b[39m\u001b[38;5;28;01mimport\u001b[39;00m canvas\n\u001b[32m      5\u001b[39m \u001b[38;5;28;01mfrom\u001b[39;00m\u001b[38;5;250m \u001b[39m\u001b[34;01mIPython\u001b[39;00m\u001b[34;01m.\u001b[39;00m\u001b[34;01mdisplay\u001b[39;00m\u001b[38;5;250m \u001b[39m\u001b[38;5;28;01mimport\u001b[39;00m display, FileLink\n",
      "\u001b[31mModuleNotFoundError\u001b[39m: No module named 'reportlab'"
     ]
    }
   ],
   "source": [
    "import requests\n",
    "import json\n",
    "from reportlab.lib.pagesizes import letter\n",
    "from reportlab.pdfgen import canvas\n",
    "from IPython.display import display, FileLink\n",
    "from IPython.display import display, HTML, FileLink\n",
    "from reportlab.lib.pagesizes import A4"
   ]
  },
  {
   "cell_type": "code",
   "execution_count": 2,
   "id": "e0858b96-fd41-4911-a333-814e4ed23279",
   "metadata": {},
   "outputs": [
    {
     "name": "stdout",
     "output_type": "stream",
     "text": [
      "Collecting reportlab\n",
      "  Downloading reportlab-4.3.1-py3-none-any.whl.metadata (1.7 kB)\n",
      "Requirement already satisfied: pillow>=9.0.0 in /opt/anaconda3/envs/llms/lib/python3.11/site-packages (from reportlab) (11.1.0)\n",
      "Collecting chardet (from reportlab)\n",
      "  Downloading chardet-5.2.0-py3-none-any.whl.metadata (3.4 kB)\n",
      "Downloading reportlab-4.3.1-py3-none-any.whl (1.9 MB)\n",
      "\u001b[2K   \u001b[38;2;114;156;31m━━━━━━━━━━━━━━━━━━━━━━━━━━━━━━━━━━━━━━━━\u001b[0m \u001b[32m1.9/1.9 MB\u001b[0m \u001b[31m11.2 MB/s\u001b[0m eta \u001b[36m0:00:00\u001b[0m\n",
      "\u001b[?25hDownloading chardet-5.2.0-py3-none-any.whl (199 kB)\n",
      "Installing collected packages: chardet, reportlab\n",
      "Successfully installed chardet-5.2.0 reportlab-4.3.1\n"
     ]
    }
   ],
   "source": [
    "!pip install reportlab"
   ]
  },
  {
   "cell_type": "code",
   "execution_count": 3,
   "id": "62cc9d37-c801-4e8a-ad2c-7b1450725a10",
   "metadata": {},
   "outputs": [],
   "source": [
    "OLLAMA_API = \"http://localhost:11434/api/chat\"\n",
    "HEADERS = {\"Content-Type\":\"application/json\"}\n",
    "MODEL = \"llama3.2\""
   ]
  },
  {
   "cell_type": "code",
   "execution_count": 4,
   "id": "525a81e7-30f8-4db7-bc8d-29948195bd4f",
   "metadata": {},
   "outputs": [],
   "source": [
    "system_prompt = \"\"\"You are a to-do list generator. Based on the user's input, you will create a clear and descriptive to-do\n",
    "list using bullet points. Only generate the to-do list as bullet points with some explaination and time fraame only if asked for and nothing else. \n",
    "Be a little descriptive.\"\"\""
   ]
  },
  {
   "cell_type": "code",
   "execution_count": 5,
   "id": "7fca3303-3add-468a-a6bd-be7a4d72c811",
   "metadata": {},
   "outputs": [],
   "source": [
    "def generate_to_do_list(task_description):\n",
    "    payload = {\n",
    "        \"model\": MODEL,\n",
    "        \"messages\": [\n",
    "            {\"role\": \"system\", \"content\": system_prompt},\n",
    "            {\"role\": \"user\", \"content\": task_description}\n",
    "        ],\n",
    "        \"stream\": False\n",
    "    }\n",
    "\n",
    "    response = requests.post(OLLAMA_API, json=payload, headers=HEADERS)\n",
    "\n",
    "    if response.status_code == 200:\n",
    "        try:\n",
    "            json_response = response.json()\n",
    "            to_do_list = json_response.get(\"message\", {}).get(\"content\", \"No to-do list found.\")\n",
    "            \n",
    "            formatted_output = \"Your To-Do List:\\n\\n\" + to_do_list\n",
    "            file_name = \"to_do_list.txt\"\n",
    "            \n",
    "            with open(file_name, \"w\", encoding=\"utf-8\") as file:\n",
    "                file.write(formatted_output)\n",
    "\n",
    "            return file_name\n",
    "        \n",
    "        except Exception as e:\n",
    "            return f\"Error parsing JSON: {e}\"\n",
    "    else:\n",
    "        return f\"Error: {response.status_code} - {response.text}\""
   ]
  },
  {
   "cell_type": "code",
   "execution_count": 6,
   "id": "d45d6c7e-0e89-413e-8f30-e4975ea6d043",
   "metadata": {},
   "outputs": [
    {
     "name": "stdin",
     "output_type": "stream",
     "text": [
      "Enter the task description of the to-do list: what i need to do to get a job like graphic designer\n"
     ]
    }
   ],
   "source": [
    "task_description = input(\"Enter the task description of the to-do list:\")"
   ]
  },
  {
   "cell_type": "code",
   "execution_count": 7,
   "id": "5493da44-e254-4d06-b973-a8069c2fc625",
   "metadata": {
    "scrolled": true
   },
   "outputs": [],
   "source": [
    "result = generate_to_do_list(task_description)"
   ]
  },
  {
   "cell_type": "code",
   "execution_count": 8,
   "id": "5e95c722-ce1a-4630-b21a-1e00e7ba6ab9",
   "metadata": {},
   "outputs": [
    {
     "ename": "NameError",
     "evalue": "name 'HTML' is not defined",
     "output_type": "error",
     "traceback": [
      "\u001b[31m---------------------------------------------------------------------------\u001b[39m",
      "\u001b[31mNameError\u001b[39m                                 Traceback (most recent call last)",
      "\u001b[36mCell\u001b[39m\u001b[36m \u001b[39m\u001b[32mIn[8]\u001b[39m\u001b[32m, line 1\u001b[39m\n\u001b[32m----> \u001b[39m\u001b[32m1\u001b[39m display(\u001b[43mHTML\u001b[49m(\u001b[33m\"\u001b[39m\u001b[33m<p>You can download your to-do list by clicking the link below:</p>\u001b[39m\u001b[33m\"\u001b[39m))\n\u001b[32m      2\u001b[39m display(FileLink(result))\n",
      "\u001b[31mNameError\u001b[39m: name 'HTML' is not defined"
     ]
    }
   ],
   "source": [
    "display(HTML(\"<p>You can download your to-do list by clicking the link below:</p>\"))\n",
    "display(FileLink(result))"
   ]
  },
  {
   "cell_type": "code",
   "execution_count": null,
   "id": "f3d0a44e-bca4-4944-8593-1761c2f73a70",
   "metadata": {},
   "outputs": [],
   "source": []
  }
 ],
 "metadata": {
  "kernelspec": {
   "display_name": "Python 3 (ipykernel)",
   "language": "python",
   "name": "python3"
  },
  "language_info": {
   "codemirror_mode": {
    "name": "ipython",
    "version": 3
   },
   "file_extension": ".py",
   "mimetype": "text/x-python",
   "name": "python",
   "nbconvert_exporter": "python",
   "pygments_lexer": "ipython3",
   "version": "3.11.11"
  }
 },
 "nbformat": 4,
 "nbformat_minor": 5
}
