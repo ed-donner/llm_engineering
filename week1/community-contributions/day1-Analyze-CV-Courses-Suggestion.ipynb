{
 "cells": [
  {
   "cell_type": "code",
   "execution_count": null,
   "id": "f2945dba-4b3c-47f5-ab96-87bb3fc0d3fd",
   "metadata": {},
   "outputs": [],
   "source": [
    "#In this example, we will get course suggestions to improve our career \n",
    "# based on our CV uploaded IN PDF format\n",
    "#05/10/2025"
   ]
  },
  {
   "cell_type": "code",
   "execution_count": null,
   "id": "5fc1bc30-9a7a-48dc-8635-82bc7e6469ae",
   "metadata": {
    "scrolled": true
   },
   "outputs": [],
   "source": [
    "pip install python-dotenv openai PyPDF2 ipywidgets"
   ]
  },
  {
   "cell_type": "code",
   "execution_count": null,
   "id": "d729bbe9-180f-417c-9935-88c4f684a824",
   "metadata": {},
   "outputs": [],
   "source": [
    "#imports\n",
    "\n",
    "import io\n",
    "import os\n",
    "import PyPDF2\n",
    "import ipywidgets as widgets\n",
    "from IPython.display import display, clear_output\n",
    "from dotenv import load_dotenv\n",
    "from openai import OpenAI"
   ]
  },
  {
   "cell_type": "code",
   "execution_count": null,
   "id": "87069c6a-e247-4e3d-9235-3829d73c1d9c",
   "metadata": {},
   "outputs": [],
   "source": [
    "# Load environment variables\n",
    "load_dotenv(override=True)\n",
    "api_key = os.getenv('OPENAI_API_KEY')\n",
    "\n",
    "# Validate API key\n",
    "if not api_key:\n",
    "    print(\"❌ No API key was found - please head over to the troubleshooting notebook to identify & fix!\")\n",
    "elif not api_key.startswith(\"sk-proj-\"):\n",
    "    print(\"⚠️ An API key was found, but it doesn't start with sk-proj-; please check you're using the right key.\")\n",
    "elif api_key.strip() != api_key:\n",
    "    print(\"⚠️ An API key was found, but it looks like it might have extra spaces or tabs. Please fix.\")\n",
    "else:\n",
    "    print(\"✅ API key found and looks good!\")\n"
   ]
  },
  {
   "cell_type": "code",
   "execution_count": null,
   "id": "7e94cabd-87a0-44aa-a18b-ce464e0e4886",
   "metadata": {},
   "outputs": [],
   "source": [
    "# Create OpenAI client\n",
    "openai = OpenAI(api_key=api_key)"
   ]
  },
  {
   "cell_type": "code",
   "execution_count": null,
   "id": "0d688e81-97c4-42b4-b379-aed0c35a3045",
   "metadata": {},
   "outputs": [],
   "source": [
    "# File upload widget\n",
    "upload_widget = widgets.FileUpload(\n",
    "    accept='.pdf',\n",
    "    multiple=False\n",
    ")\n",
    "display(upload_widget)"
   ]
  },
  {
   "cell_type": "code",
   "execution_count": null,
   "id": "5e790593-7a79-4f7a-8450-7d5189793f8b",
   "metadata": {},
   "outputs": [],
   "source": [
    "# Extract text from PDF\n",
    "def extract_text(uploaded_file):\n",
    "    uploaded_info = list(uploaded_file.values())[0] if isinstance(uploaded_file, dict) else uploaded_file[0]\n",
    "    file_content = uploaded_info['content']\n",
    "    file_stream = io.BytesIO(file_content)\n",
    "    reader = PyPDF2.PdfReader(file_stream)\n",
    "    text = \"\"\n",
    "    for page in reader.pages:\n",
    "        text += page.extract_text()\n",
    "    return text\n"
   ]
  },
  {
   "cell_type": "code",
   "execution_count": null,
   "id": "531dd931-389a-4124-b6f7-db4031c5a6d2",
   "metadata": {},
   "outputs": [],
   "source": [
    "# Get course suggestions using OpenAI API\n",
    "def get_course_suggestions(resume_text):\n",
    "    system_prompt = \"You are a career coach that suggests valuable courses based on a resume.\"\n",
    "    user_prompt = f\"Here is my resume:\\n\\n{resume_text}\\n\\nWhat courses could help me improve this resume for better job opportunities?\"\n",
    "\n",
    "    response = openai.chat.completions.create(\n",
    "        model=\"gpt-4\",\n",
    "        messages=[\n",
    "            {\"role\": \"system\", \"content\": system_prompt},\n",
    "            {\"role\": \"user\", \"content\": user_prompt}\n",
    "        ],\n",
    "        temperature=0.7,\n",
    "        max_tokens=500\n",
    "    )\n",
    "    return response.choices[0].message.content\n"
   ]
  },
  {
   "cell_type": "code",
   "execution_count": null,
   "id": "3f70376c-b7d9-4886-b313-1abbe3d40647",
   "metadata": {},
   "outputs": [],
   "source": [
    "# Analyze button callback\n",
    "def on_analyze_click(b):\n",
    "    with output:\n",
    "        clear_output()\n",
    "        if not upload_widget.value:\n",
    "            print(\"❌ Please upload a PDF resume first.\")\n",
    "            return\n",
    "\n",
    "        try:\n",
    "            resume_text = extract_text(upload_widget.value)\n",
    "            print(\"✅ Resume uploaded. Getting course suggestions...\\n\")\n",
    "            suggestions = get_course_suggestions(resume_text)\n",
    "            print(\"💡 Suggested Courses:\")\n",
    "            print(suggestions)\n",
    "        except Exception as e:\n",
    "            print(f\"❌ An error occurred: {e}\")\n"
   ]
  },
  {
   "cell_type": "code",
   "execution_count": null,
   "id": "82b699de-ffbf-444e-94b5-814c7f77d623",
   "metadata": {},
   "outputs": [],
   "source": [
    "# Analyze button\n",
    "analyze_button = widgets.Button(description=\"Analyze Resume\", button_style='primary')\n",
    "analyze_button.on_click(on_analyze_click)\n",
    "display(analyze_button)\n",
    "\n",
    "# Output area\n",
    "output = widgets.Output()\n",
    "display(output)"
   ]
  },
  {
   "cell_type": "code",
   "execution_count": null,
   "id": "33471ba9-94a3-42b7-935c-da8cca6b2d92",
   "metadata": {},
   "outputs": [],
   "source": []
  }
 ],
 "metadata": {
  "kernelspec": {
   "display_name": "Python 3 (ipykernel)",
   "language": "python",
   "name": "python3"
  },
  "language_info": {
   "codemirror_mode": {
    "name": "ipython",
    "version": 3
   },
   "file_extension": ".py",
   "mimetype": "text/x-python",
   "name": "python",
   "nbconvert_exporter": "python",
   "pygments_lexer": "ipython3",
   "version": "3.11.11"
  }
 },
 "nbformat": 4,
 "nbformat_minor": 5
}
