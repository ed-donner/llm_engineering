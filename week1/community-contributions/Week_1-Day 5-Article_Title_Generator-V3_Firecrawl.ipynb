{
 "cells": [
  {
   "cell_type": "markdown",
   "id": "603cd418-504a-4b4d-b1c3-be04febf3e79",
   "metadata": {},
   "source": [
    "# Article Title Generator (V3 - using Firecrawl) \n",
    "\n",
    "Summarization use-case in which the user provides an article, which the LLM will analyze to suggest an SEO-optimized title.\n",
    "\n",
    "**NOTES**:\n",
    "\n",
    "1. This version supports website scrapping using [Firecrawl](https://www.firecrawl.dev/).<br>\n",
    "    1. **Note:** There is a Free tier that provides 500 one-time credits (good for scraping 500 pages).\n",
    "    2. Upon registration, get and add your Firecrawl API Key to the .env file as: **`FIRECRAWL_API_KEY`**.<br><br>\n",
    "2. Leverage streaming (OpenAI only).<br>\n",
    "3. The following models were configured:<br>\n",
    "    1. OpenAI gpt-4o-mini\n",
    "    2. Llama llama3.2\n",
    "    3. Deepseek deepseek-r1:1.5b\n",
    "    4. Firecrawl LLM Extract feature<br><br>\n",
    "    \n",
    "   It is possible to configure additional models by adding the new model to the MODELS dictionary and its\n",
    "   initialization to the CLIENTS dictionary. Then, call the model with --> **`answer =\n",
    "   get_answer('NEW_MODEL')`**.<br>\n",
    "4. Users are encouraged to assess and rank the suggested titles using any headline analyzer tool online.\n",
    "   Example: [ISITWP Headline Analyzer](https://www.isitwp.com/headline-analyzer/). "
   ]
  },
  {
   "cell_type": "code",
   "execution_count": null,
   "id": "115004a8-747a-4954-9580-1ed548f80336",
   "metadata": {},
   "outputs": [],
   "source": [
    "# install required libraries if they were not part of the requirements.txt\n",
    "!pip install firecrawl-py"
   ]
  },
  {
   "cell_type": "code",
   "execution_count": null,
   "id": "e773daa6-d05e-49bf-ad8e-a8ed4882b77e",
   "metadata": {},
   "outputs": [],
   "source": [
    "# confirming Llama is loaded\n",
    "!ollama pull llama3.2"
   ]
  },
  {
   "cell_type": "code",
   "execution_count": null,
   "id": "279b0c00-9bb0-4c7f-9c6d-aa0b108274b9",
   "metadata": {},
   "outputs": [],
   "source": [
    "# imports\n",
    "import os\n",
    "from dotenv import load_dotenv\n",
    "from IPython.display import Markdown, display, update_display\n",
    "from openai import OpenAI\n",
    "from firecrawl import FirecrawlApp"
   ]
  },
  {
   "cell_type": "code",
   "execution_count": null,
   "id": "d4730d8d-3e20-4f3c-a4ff-ed2ac0a8aa27",
   "metadata": {},
   "outputs": [],
   "source": [
    "# set environment variables for OpenAi\n",
    "load_dotenv(override=True)\n",
    "api_key = os.getenv('OPENAI_API_KEY')\n",
    "\n",
    "# validate API Key\n",
    "if not api_key:\n",
    "    raise ValueError(\"No OPENAI API Key was found! Please check the .env file.\")"
   ]
  },
  {
   "cell_type": "code",
   "execution_count": null,
   "id": "b2a78101-d866-400f-a482-1d8fda8e0df9",
   "metadata": {},
   "outputs": [],
   "source": [
    "# set environment variable for Firecrawl\n",
    "firecrawl_api_key = os.getenv('FIRECRAWL_API_KEY')\n",
    "\n",
    "# validate API Key\n",
    "if not firecrawl_api_key:\n",
    "    raise ValueError(\"No FIRECRAWL API Key was found! Please check the .env file.\")"
   ]
  },
  {
   "cell_type": "code",
   "execution_count": null,
   "id": "1abbb826-de66-498c-94d8-33369ad01885",
   "metadata": {},
   "outputs": [],
   "source": [
    "# constants\n",
    "MODELS = { 'GPT': 'gpt-4o-mini', \n",
    "          'LLAMA': 'llama3.2', \n",
    "          'DEEPSEEK': 'deepseek-r1:1.5b'\n",
    "         }\n",
    "\n",
    "CLIENTS = { 'GPT': OpenAI(), \n",
    "            'LLAMA': OpenAI(base_url='http://localhost:11434/v1', api_key='ollama'),\n",
    "            'DEEPSEEK': OpenAI(base_url='http://localhost:11434/v1', api_key='ollama') \n",
    "          }\n",
    "\n",
    "# path to Chrome\n",
    "# CHROME_PATH = \"C:/Program Files/Google/Chrome/Application/chrome.exe\""
   ]
  },
  {
   "cell_type": "markdown",
   "id": "6f490fe4-32d5-41f3-890d-ecf4e5e01dd4",
   "metadata": {},
   "source": [
    "**Webcrawler** (based on the code from Firecrawl [documentation](https://docs.firecrawl.dev/introduction))."
   ]
  },
  {
   "cell_type": "code",
   "execution_count": null,
   "id": "2852700e-33ed-4be5-bd31-8aa05036aaf2",
   "metadata": {},
   "outputs": [],
   "source": [
    "class WebsiteCrawler:\n",
    "    def __init__(self, url, wait_time=20, format='markdown'):\n",
    "        \"\"\"\n",
    "        Initialize the WebsiteCrawler using Firecrawl to scrape JavaScript-rendered content.\n",
    "        \"\"\"\n",
    "        self.url = url\n",
    "        self.wait_time = wait_time\n",
    "        self.format = format\n",
    "\n",
    "        try:\n",
    "\n",
    "            # initialize Firecrawl\n",
    "            screate_app = FirecrawlApp(api_key=firecrawl_api_key)\n",
    "\n",
    "            # Scrape a website:\n",
    "            scrape_result = screate_app.scrape_url(self.url,\n",
    "                                                  params=self.getParams())\n",
    "    \n",
    "\n",
    "            # parse data\n",
    "            self.title = scrape_result['metadata']['ogTitle']\n",
    "\n",
    "            # get the content using the appropriate key\n",
    "            if format == 'markdown':\n",
    "                # OpenAI, Llama, Deepseek\n",
    "                self.text = scrape_result['markdown'] \n",
    "            elif format == 'json':\n",
    "                # Firecrawl LLM Extract\n",
    "                self.text = scrape_result['json']\n",
    "\n",
    "        except Exception as e:\n",
    "            print(f\"Error occurred: {e}\")\n",
    "            self.title = \"Error occurred\"\n",
    "            self.text = \"\"\n",
    "\n",
    "    # set appropriate parameters for scraping\n",
    "    def getParams(self):\n",
    "\n",
    "      # For OpenAi, Llama or Deepseek\n",
    "      params={'formats': [self.format], \n",
    "              'actions': [{\"type\": \"wait\", \"milliseconds\": self.wait_time}], \n",
    "              'includeTags': [\"main\"], }\n",
    "\n",
    "      # For Firecrawl LLM extract\n",
    "      if self.format == 'json':\n",
    "          params={'formats': [self.format], \n",
    "                  'actions': [{\"type\": \"wait\", \"milliseconds\": self.wait_time}], \n",
    "                  'jsonOptions': {'systemPrompt': system_prompt, 'prompt': user_prompt, }}\n",
    "                  \n",
    "      return params\n",
    "\n",
    "    # Get Firecrawl LLM extract result\n",
    "    def getResult(self):\n",
    "\n",
    "      formated_result = f\"\"\"\n",
    "                        **Optimized Title:** {self.text['Optimized Title']} \n",
    "                        <br><br>**Justification:** {self.text['Justification']}\n",
    "                        \"\"\"\n",
    "\n",
    "      # Remove leading and trailing spaces                   \n",
    "      return formated_result.strip()\n",
    "            "
   ]
  },
  {
   "cell_type": "markdown",
   "id": "592d8f86-fbf7-4b16-a69d-468030d72dc4",
   "metadata": {},
   "source": [
    "### Prompts"
   ]
  },
  {
   "cell_type": "code",
   "execution_count": null,
   "id": "1914afad-dbd8-4c1f-8e68-80b0e5d743a9",
   "metadata": {},
   "outputs": [],
   "source": [
    "# system prompt\n",
    "system_prompt = \"\"\"\n",
    "    You are an experienced SEO-focused copywriter. The user will provide an article, and your task is to analyze its content and generate a single, most effective, keyword-optimized title to maximize SEO performance.\n",
    "\n",
    "Instructions:\n",
    "Ignore irrelevant content, such as the current title (if any), navigation menus, advertisements, or unrelated text.\n",
    "Prioritize SEO best practices, considering:\n",
    "Keyword relevance and search intent (informational, transactional, etc.).\n",
    "Readability and engagement.\n",
    "Avoiding keyword stuffing.\n",
    "Ensure conciseness and clarity, keeping the title under 60 characters when possible for optimal SERP display.\n",
    "Use a compelling structure that balances informativeness and engagement, leveraging formats like:\n",
    "Listicles (\"10 Best Strategies for…\")\n",
    "How-to guides (\"How to Boost…\")\n",
    "Questions (\"What Is the Best Way to…\")\n",
    "Power words to enhance click-through rates (e.g., \"Proven,\" \"Ultimate,\" \"Essential\").\n",
    "Provide only one single, best title—do not suggest multiple options.\n",
    "Limit the answer to the following Response Format (Markdown):\n",
    "Optimized Title: [Provide only one title here]\n",
    "Justification: [Explain why this title is effective for SEO]\n",
    "\n",
    "    \"\"\""
   ]
  },
  {
   "cell_type": "markdown",
   "id": "b0486867-6d38-4cb5-91d4-fb60952c3a9b",
   "metadata": {},
   "source": [
    "**Provide the article URL and get its content for analysis**"
   ]
  },
  {
   "cell_type": "code",
   "execution_count": null,
   "id": "ddd76319-13ce-480b-baa7-cab6a5c88168",
   "metadata": {},
   "outputs": [],
   "source": [
    "# article url - change to any other article URL\n",
    "article_url = \"https://searchengineland.com/seo-trends-2025-447745\"\n",
    "\n",
    "# get article content\n",
    "article = WebsiteCrawler(url=article_url)"
   ]
  },
  {
   "cell_type": "code",
   "execution_count": null,
   "id": "176cfac7-5e6d-4d4a-a1c4-1b63b60de1f7",
   "metadata": {},
   "outputs": [],
   "source": [
    "# user prompt\n",
    "user_prompt = \"\"\"\n",
    "Following the article to be analyzed to suggest a title. Limit the answer to the following Response Format (Markdown): \n",
    "Optimized Title: [Provide only one title here]\n",
    "Justification: [Explain why this title is effective for SEO].\n",
    "\"\"\"\n",
    "\n",
    "user_prompt = f\"{user_prompt} {article}\"\n",
    "                "
   ]
  },
  {
   "cell_type": "code",
   "execution_count": null,
   "id": "c45fc7d7-08c9-4e34-b427-b928a219bb94",
   "metadata": {},
   "outputs": [],
   "source": [
    "# message list\n",
    "messages = [\n",
    "            {\"role\": \"system\", \"content\": system_prompt},\n",
    "            {\"role\": \"user\", \"content\": user_prompt}\n",
    "           ]"
   ]
  },
  {
   "cell_type": "code",
   "execution_count": null,
   "id": "f67b881f-1040-4cf7-82c5-e85f4c0bd252",
   "metadata": {},
   "outputs": [],
   "source": [
    "# get suggested title\n",
    "def get_title(model, **kwargs):\n",
    "    # stream if GPT\n",
    "    if 'stream' in kwargs:\n",
    "        response = CLIENTS[model].chat.completions.create(\n",
    "                model=MODELS[model],\n",
    "                messages=messages,\n",
    "                stream=kwargs['stream']\n",
    "            )\n",
    "    else:\n",
    "        response = CLIENTS[model].chat.completions.create(\n",
    "                model=MODELS[model],\n",
    "                messages=messages,\n",
    "            )\n",
    "\n",
    "    return response\n",
    "    "
   ]
  },
  {
   "cell_type": "code",
   "execution_count": null,
   "id": "8988d6ff-076a-4eae-baf4-26a8d6a2bc44",
   "metadata": {},
   "outputs": [],
   "source": [
    "# filter response from model verbose - like Deepseek reasoning/thinking verbose\n",
    "def filter_response(response):\n",
    "    filtered_response = response\n",
    "    # Find last occurrence of 'Optimized Title:' to avoid displaying reasoning verbose\n",
    "    substring = 'Optimized Title:'\n",
    "    start = response.rfind(substring)\n",
    "    if start > -1:\n",
    "        filtered_response = response[start:]\n",
    "\n",
    "    # Find if the title has quotation (or other) marks and remove it - this should be improved\n",
    "    filtered_response = (\n",
    "        filtered_response.replace('\"', '', 2)\n",
    "        .replace('[', '', 1)\n",
    "        .replace(']', '', 1)\n",
    "        .replace('**', '', 2)\n",
    "    )\n",
    "     \n",
    "    return filtered_response"
   ]
  },
  {
   "cell_type": "code",
   "execution_count": null,
   "id": "0e9e99cf-5e25-4a1f-ab11-a2255e318671",
   "metadata": {},
   "outputs": [],
   "source": [
    "# display suggested title\n",
    "def display_title(model):\n",
    "    # get model-suggested title\n",
    "    title = get_title(model)\n",
    "    \n",
    "    display(Markdown(f\"### {model} (___{MODELS[model]}___) Answer\\n\\n_______\")) \n",
    "\n",
    "    response = \"\"\n",
    "\n",
    "    if model == 'GPT':\n",
    "        display_handle = display(Markdown(\"\"), display_id=True)\n",
    "        # for chunk in stream:\n",
    "        for chunk in get_title(model=model, stream=True):\n",
    "            response += chunk.choices[0].delta.content or ''\n",
    "            response = (\n",
    "                response.replace(\"```\",\"\")\n",
    "                .replace(\"markdown\", \"\")\n",
    "                .replace(\"Optimized Title:\", \"**Optimized Title:**\")\n",
    "                .replace(\"Justification:\", \"**Justification:**\")\n",
    "            )\n",
    "            update_display(Markdown(response), display_id=display_handle.display_id)\n",
    "    else:\n",
    "        response = get_title(model=model)\n",
    "        response = response.choices[0].message.content\n",
    "        response = filter_response(response)\n",
    "\n",
    "        # insert line break to preserve format - only LLAMA\n",
    "        line_break = \"<br><br>\"\n",
    "        if model == \"DEEPSEEK\":\n",
    "            line_break = \"\"\n",
    "        \n",
    "        response = (\n",
    "            response.replace(\"Optimized Title:\", \"**Optimized Title:**\")\n",
    "            .replace(\"Justification:\", f\"{line_break}**Justification:**\") \n",
    "        )\n",
    "        display(Markdown(response))"
   ]
  },
  {
   "cell_type": "markdown",
   "id": "947b42ed-5b43-486d-8af3-e5b671c1fd0e",
   "metadata": {},
   "source": [
    "### Get OpenAI Suggested Title"
   ]
  },
  {
   "cell_type": "code",
   "execution_count": null,
   "id": "eb6f66e3-ab99-4f76-9358-896cb43c1fa1",
   "metadata": {},
   "outputs": [],
   "source": [
    "# get and display openAi suggested title\n",
    "display_title(model='GPT')"
   ]
  },
  {
   "cell_type": "markdown",
   "id": "70073ebf-a00a-416b-854d-642d450cd99b",
   "metadata": {},
   "source": [
    "### Get Llama Suggested Title"
   ]
  },
  {
   "cell_type": "code",
   "execution_count": null,
   "id": "caa190bb-de5f-45cc-b671-5d62688f7b25",
   "metadata": {},
   "outputs": [],
   "source": [
    "# get and display Llama suggested title\n",
    "display_title(model='LLAMA')"
   ]
  },
  {
   "cell_type": "markdown",
   "id": "811edc4f-20e2-482d-ac89-fae9d1b70bed",
   "metadata": {},
   "source": [
    "### Get Deepseek Suggested Title"
   ]
  },
  {
   "cell_type": "code",
   "execution_count": null,
   "id": "082628e4-ff4c-46dd-ae5f-76578eb017ad",
   "metadata": {},
   "outputs": [],
   "source": [
    "# get and display Deepseek title\n",
    "display_title(model='DEEPSEEK')"
   ]
  },
  {
   "cell_type": "markdown",
   "id": "f2d401ed-734d-4e96-be30-09b49d516f38",
   "metadata": {},
   "source": [
    "### Using Firecrawl LLM Extract (to replace LLMs above - OpenAI, Llama & Deepseek)"
   ]
  },
  {
   "cell_type": "markdown",
   "id": "3e6495a2-df0b-4a7b-a376-692456be633d",
   "metadata": {},
   "source": [
    "### Get Firecrawl Suggested Title"
   ]
  },
  {
   "cell_type": "code",
   "execution_count": null,
   "id": "c8763b0a-54ef-409f-8dd6-13231b6f7774",
   "metadata": {},
   "outputs": [],
   "source": [
    "fc_title = WebsiteCrawler(url=article_url, format='json')\n",
    "\n",
    "display(Markdown(fc_title.getResult()))"
   ]
  },
  {
   "cell_type": "markdown",
   "id": "7fc404a6-3a91-4c09-89de-867d3d69b4b2",
   "metadata": {},
   "source": [
    "### Observations\n",
    "\n",
    "1. **Firecrawl** is a great alternative to replace both Selenium and BeautifulSoup. However, it is not free.\n",
    "2. **Firecrawl LLM Extract** feature may replace the calls to other LLMs for analysis and title generation. Note that the result provided seems to be cached upon its first generation. Therefore, the suggested title and its justification will always be the same. \n",
    "3. **Deepseek challenges:**\\\n",
    "   a.It always returns its thinking/reasoning verbose, which, while helpful to understand how it works, is not always\n",
    "      required, such as in this example code. A new function (**filter_response**) was created to remove the additional verbose.\\\n",
    "   b. It is unreliable with the response, sometimes returning the required format for the response instead of the\n",
    "      actual response. For example, for the title, it may sometimes return:\n",
    "   \n",
    "   **Optimized Title:** \\[The user wants the suggested title here]\n",
    "    \n",
    "### Suggested future improvements\n",
    "\n",
    "1. Add the logic that would allow each model to assess the recommendations from the different models and \n",
    "   select the best among these.\n",
    "2. Add the logic to leverage an API (if available) that automatically assesses the suggested titles."
   ]
  },
  {
   "cell_type": "code",
   "execution_count": null,
   "id": "1af8260b-5ba1-4eeb-acd0-02de537b1bf4",
   "metadata": {},
   "outputs": [],
   "source": [
    "\n"
   ]
  }
 ],
 "metadata": {
  "kernelspec": {
   "display_name": "Python 3 (ipykernel)",
   "language": "python",
   "name": "python3"
  },
  "language_info": {
   "codemirror_mode": {
    "name": "ipython",
    "version": 3
   },
   "file_extension": ".py",
   "mimetype": "text/x-python",
   "name": "python",
   "nbconvert_exporter": "python",
   "pygments_lexer": "ipython3",
   "version": "3.11.11"
  }
 },
 "nbformat": 4,
 "nbformat_minor": 5
}
