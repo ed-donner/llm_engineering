{
 "cells": [
  {
   "cell_type": "code",
   "execution_count": 1,
   "id": "922bb144",
   "metadata": {},
   "outputs": [],
   "source": [
    "import os\n",
    "import requests\n",
    "from dotenv import load_dotenv\n",
    "from bs4 import BeautifulSoup\n",
    "from IPython.display import Markdown, display\n",
    "from openai import OpenAI"
   ]
  },
  {
   "cell_type": "code",
   "execution_count": 2,
   "id": "870bdcd9",
   "metadata": {},
   "outputs": [
    {
     "name": "stdout",
     "output_type": "stream",
     "text": [
      "API key found and looks good so far!\n"
     ]
    }
   ],
   "source": [
    "# Load environment variables in a file called .env\n",
    "load_dotenv(override=True)\n",
    "api_key = os.getenv(\"OPENAI_API_KEY\")\n",
    "\n",
    "# Check the key\n",
    "if not api_key:\n",
    "    print(\"No API key was found - please head over to the troubleshooting notebook in this folder to identify & fix!\")\n",
    "elif not api_key.startswith(\"sk-proj-\"):\n",
    "    print(\"An API key was found, but it doesn't start sk-proj-; please check you're using the right key - see troubleshooting notebook\")\n",
    "elif api_key.strip() != api_key:\n",
    "    print(\"An API key was found, but it looks like it might have space or tab characters at the start or end - please remove them - see troubleshooting notebook\")\n",
    "else:\n",
    "    print(\"API key found and looks good so far!\")"
   ]
  },
  {
   "cell_type": "code",
   "execution_count": 3,
   "id": "f6146102",
   "metadata": {},
   "outputs": [],
   "source": [
    "openai = OpenAI()"
   ]
  },
  {
   "cell_type": "code",
   "execution_count": 4,
   "id": "2f75573f",
   "metadata": {},
   "outputs": [],
   "source": [
    "class FinvizWebsite():\n",
    "    \"\"\"\n",
    "    Create this Website object from the given url using the BeautifulSoup library\n",
    "    \"\"\"\n",
    "    \n",
    "    def __init__(self, ticker):\n",
    "        self.ticker = ticker.upper()\n",
    "        self.url = f\"https://finviz.com/quote.ashx?t={self.ticker}&p=d&ty=ea\"\n",
    "        self.headers = {\n",
    "            \"User-Agent\": \"Mozilla/5.0 (Windows NT 10.0; Win64; x64) AppleWebKit/537.36 (KHTML, like Gecko) Chrome/117.0.0.0 Safari/537.36\"\n",
    "        }\n",
    "        response = requests.get(self.url, headers=self.headers)\n",
    "        soup = BeautifulSoup(response.content, \"html.parser\")\n",
    "        self.title = soup.title.string if soup.title else \"No title found\"\n",
    "        self.table = soup.find(\"table\", class_=\"snapshot-table2\")     "
   ]
  },
  {
   "cell_type": "code",
   "execution_count": 5,
   "id": "42c7ced6",
   "metadata": {},
   "outputs": [],
   "source": [
    "def messages_for(website):\n",
    "    system_prompt = \"\"\"\n",
    "        You are a financial analysis assistant that analyzes the contents of HTML formated table.\n",
    "    and provides a summary of the stock's analysis with clear and professional language appropriate for financial research \n",
    "    with bulleted important list of **pros** and **cons** , ignoring text that might be navigation related. Repond in markdown.\n",
    "    \"\"\"\n",
    "    \n",
    "    user_prompt = f\"\"\"\n",
    "        You are looking at a website titled {website.title}.\\n\n",
    "        The contents of this website is as follows; please provide a summary of the stock's analysis from this website in markdown.\\n\\n\n",
    "        {website.table}\n",
    "    \"\"\"\n",
    "    \n",
    "    return [\n",
    "        {\"role\": \"system\", \"content\": system_prompt},\n",
    "        {\"role\": \"user\", \"content\": user_prompt}\n",
    "    ]\n"
   ]
  },
  {
   "cell_type": "code",
   "execution_count": 6,
   "id": "7bfaa6da",
   "metadata": {},
   "outputs": [],
   "source": [
    "def display_summary(ticker):\n",
    "    website = FinvizWebsite(ticker)\n",
    "    response = openai.chat.completions.create(\n",
    "        model = \"gpt-4o-mini\",\n",
    "        messages = messages_for(website)\n",
    "    )\n",
    "    summary = response.choices[0].message.content\n",
    "    display(Markdown(summary))"
   ]
  },
  {
   "cell_type": "code",
   "execution_count": 7,
   "id": "eeeff6f7",
   "metadata": {},
   "outputs": [
    {
     "data": {
      "text/markdown": [
       "# AAPL - Apple Inc Earnings Analysis Summary\n",
       "\n",
       "Apple Inc (AAPL) exhibits a strong market presence and substantial financial metrics, yet some concerns regarding growth and valuation persist. Below is a concise analysis outlining the key advantages and disadvantages of the stock.\n",
       "\n",
       "## Key Financial Metrics\n",
       "- **Current Price**: $201.08\n",
       "- **Market Capitalization**: $3,003.30B\n",
       "- **P/E Ratio**: 31.38\n",
       "- **Forward P/E**: 25.88\n",
       "- **EPS (ttm)**: 6.41\n",
       "- **EPS Estimated Next Y**: 7.77\n",
       "- **Dividend Yield**: 0.51% (Estimated Dividend: $1.03)\n",
       "\n",
       "## Pros\n",
       "- **Strong Market Leadership**: Apple is a major constituent of key indices such as DJIA, NDX, and S&P 500.\n",
       "- **Solid Revenue Generation**: With a revenue of $400.37B and a robust income of $97.29B reported TTM, the company shows a strong financial backbone.\n",
       "- **High Return on Equity (ROE)**: At 138.02%, indicating effective use of shareholders' equity.\n",
       "- **Competitive Profit Margins**: The profit margin stands at 24.30%, showcasing effective cost management.\n",
       "- **Historical Performance**: The stock has shown impressive growth over the long term, with a 10-year performance of 535.32%.\n",
       "\n",
       "## Cons\n",
       "- **High Valuation Metrics**: A relatively high P/E ratio of 31.38 could indicate overvaluation compared to historical averages.\n",
       "- **Weak Recent Performance**: The stock’s performance over the past quarter and year has shown declines of -10.17% and -19.70% respectively, raising concerns for current investors.\n",
       "- **Insider Transactions**: A decrease in insider ownership by -1.28% could suggest lack of confidence from executives.\n",
       "- **High PEG Ratio**: With a PEG ratio of 4.09, this value suggests that the stock may be overvalued relative to its earnings growth potential.\n",
       "- **Debt Levels**: High total debt-to-equity ratio of 1.47 may concern investors regarding long-term solvency.\n",
       "\n",
       "## Conclusion\n",
       "While Apple Inc demonstrates strong financial health and potential for long-term growth, investors should consider the high valuation and recent stock performance as factors warranting caution."
      ],
      "text/plain": [
       "<IPython.core.display.Markdown object>"
      ]
     },
     "metadata": {},
     "output_type": "display_data"
    }
   ],
   "source": [
    "display_summary(\"aapl\")"
   ]
  },
  {
   "cell_type": "code",
   "execution_count": 8,
   "id": "5aed2001",
   "metadata": {},
   "outputs": [
    {
     "data": {
      "text/markdown": [
       "# Tesla Inc. (TSLA) Stock Analysis Summary\n",
       "\n",
       "## Overview\n",
       "Tesla Inc. (TSLA) is a high-profile company in the electric vehicle sector, and its stock has gained significant attention for its price volatility and growth potential. Below is a detailed analysis of the stock's financial metrics, performance indicators, and overall sentiment.\n",
       "\n",
       "## Key Financial Metrics\n",
       "- **Market Cap**: $1,040.96 billion\n",
       "- **P/E Ratio (ttm)**: 177.98\n",
       "- **Diluted EPS (ttm)**: 1.82\n",
       "- **Forward P/E**: 110.64\n",
       "- **EPS Estimate Next Year**: 2.93\n",
       "- **Insider Ownership**: 12.91%\n",
       "- **Institutional Ownership**: 49.22%\n",
       "- **Shares Outstanding**: 3.22 billion\n",
       "- **Cash per Share**: 11.63\n",
       "\n",
       "## Performance Metrics\n",
       "- **Performance (Week)**: +0.46%\n",
       "- **Performance (Month)**: -9.32%\n",
       "- **Performance (Quarter)**: +18.49%\n",
       "- **Performance (Year-to-Date)**: -19.86%\n",
       "- **Performance (Year)**: +72.74%\n",
       "- **52-Week High/Low**: $488.54 / $182.00\n",
       "- **Volume**: 88,602,833 shares\n",
       "\n",
       "## Analysts' Sentiment\n",
       "- **Mean Recommendation**: 2.59 (Buy/Sell scale)\n",
       "- **Mean Target Price**: $311.12 \n",
       "\n",
       "## Pros and Cons\n",
       "\n",
       "### Pros\n",
       "- **Strong Annual Growth**: Performance shows a remarkable increase of 72.74% over the past year.\n",
       "- **Institutional Support**: 49.22% of institutional ownership indicates strong backing by large investors.\n",
       "- **Significant Revenue**: The company reported total sales of $95.72 billion, demonstrating its strong market presence.\n",
       "- **Positive EPS Growth Expected**: An estimated EPS growth of 53.25% for the next year suggests strong growth potential.\n",
       "\n",
       "### Cons\n",
       "- **High Valuation Metrics**: The P/E ratio of 177.98 indicates the stock might be overvalued compared to current earnings.\n",
       "- **Negative Performance Trends**: A -19.86% YTD performance suggests challenges in maintaining upward momentum.\n",
       "- **Quarterly Earnings Decline**: EPS growth is negative at -53.71% year-over-year.\n",
       "- **Volatility**: With a beta of 2.43, the stock exhibits significant volatility, posing risks for investors.\n",
       "\n",
       "## Conclusion\n",
       "Tesla Inc. remains a pivotal player in the electric vehicle industry, marked by high growth potential and significant institutional investment. However, the stock's current high valuation and recent performance struggles present risks that investors should consider before making decisions. The balance between growth prospects and valuation metrics will be crucial for TSLA in the coming quarters."
      ],
      "text/plain": [
       "<IPython.core.display.Markdown object>"
      ]
     },
     "metadata": {},
     "output_type": "display_data"
    }
   ],
   "source": [
    "display_summary(\"tsla\")"
   ]
  }
 ],
 "metadata": {
  "kernelspec": {
   "display_name": ".venv",
   "language": "python",
   "name": "python3"
  },
  "language_info": {
   "codemirror_mode": {
    "name": "ipython",
    "version": 3
   },
   "file_extension": ".py",
   "mimetype": "text/x-python",
   "name": "python",
   "nbconvert_exporter": "python",
   "pygments_lexer": "ipython3",
   "version": "3.12.10"
  }
 },
 "nbformat": 4,
 "nbformat_minor": 5
}
