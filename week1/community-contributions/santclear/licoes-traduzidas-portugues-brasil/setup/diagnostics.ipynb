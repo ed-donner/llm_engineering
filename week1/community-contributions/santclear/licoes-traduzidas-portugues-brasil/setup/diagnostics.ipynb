{
 "cells": [
  {
   "cell_type": "markdown",
   "id": "73287ed4-81e3-496a-9e47-f0e8c3770ce9",
   "metadata": {},
   "source": [
    "# Coletando informações diagnósticas essenciais\n",
    "\n",
    "## Execute a próxima célula para coletar alguns dados importantes\n",
    "\n",
    "Execute a próxima célula; ela deve levar cerca de um minuto para rodar (principalmente o teste de rede).\n",
    "Em seguida, envie por e-mail o resultado da última célula para ed@edwarddonner.com.  \n",
    "Como alternativa: isso criará um arquivo chamado report.txt - basta anexar o arquivo ao seu e-mail."
   ]
  },
  {
   "cell_type": "code",
   "execution_count": null,
   "id": "ed8056e8-efa2-4b6f-a4bb-e7ceb733c517",
   "metadata": {},
   "outputs": [],
   "source": [
    "# Execute meu relatório de diagnósticos para coletar informações essenciais de depuração\n",
    "# Por favor, envie os resultados por e-mail. Você pode copiar e colar a saída ou anexar o arquivo report.txt\n",
    "\n",
    "!pip install -q requests speedtest-cli psutil setuptools\n",
    "from diagnostics import Diagnostics\n",
    "Diagnostics().run()"
   ]
  }
 ],
 "metadata": {
  "kernelspec": {
   "display_name": "Python 3 (ipykernel)",
   "language": "python",
   "name": "python3"
  },
  "language_info": {
   "codemirror_mode": {
    "name": "ipython",
    "version": 3
   },
   "file_extension": ".py",
   "mimetype": "text/x-python",
   "name": "python",
   "nbconvert_exporter": "python",
   "pygments_lexer": "ipython3",
   "version": "3.11.10"
  }
 },
 "nbformat": 4,
 "nbformat_minor": 5
}
