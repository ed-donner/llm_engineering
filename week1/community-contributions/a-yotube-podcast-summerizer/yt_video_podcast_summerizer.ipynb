{
  "cells": [
    {
      "cell_type": "markdown",
      "metadata": {
        "id": "4KULQ4rViju1"
      },
      "source": [
        "# **Youtube Informative-video Summerizer**\n",
        "\n",
        "This python app let's you summerize youtube videos that contains information-sharing-through-talking, like someone talking about a subject, someone sharing a life advice, a podcast etc.\n",
        "\n",
        "We extract the transcipt analyize it with an LLM to summerize and create summerization and analysis.\n",
        "\n",
        "\n",
        "> We use youtube_transcript_api which allows you to get the transcript text of any youtube video.\n",
        "\n",
        "> Results however are not ideal for our use case since it does not provide who says what in case of more than one speaker. it only provide one giant string of all the words said in the video respectivly with some noise.\n",
        "\n",
        "\n",
        "\n",
        "\n",
        "\n",
        "\n",
        "\n",
        "\n"
      ]
    },
    {
      "cell_type": "code",
      "execution_count": 5,
      "metadata": {
        "id": "C21ZN5MNZ_1b"
      },
      "outputs": [
        {
          "name": "stdout",
          "output_type": "stream",
          "text": [
            "/Users/bogdanteslarasu/workspace/repos/llm/llm_engineering/.venv/bin/python: No module named uv\n",
            "Note: you may need to restart the kernel to use updated packages.\n"
          ]
        }
      ],
      "source": [
        "uv add youtube-transcript-api"
      ]
    },
    {
      "cell_type": "code",
      "execution_count": 9,
      "metadata": {
        "id": "ttbBAJC7Zrn5"
      },
      "outputs": [],
      "source": [
        "from youtube_transcript_api import YouTubeTranscriptApi\n",
        "from youtube_transcript_api.formatters import TextFormatter, SRTFormatter\n",
        "import re\n",
        "import os\n",
        "from openai import OpenAI\n",
        "from dotenv import load_dotenv\n",
        "from IPython.display import Markdown, display, update_display"
      ]
    },
    {
      "cell_type": "code",
      "execution_count": 10,
      "metadata": {
        "id": "1oP0uPCylaig"
      },
      "outputs": [],
      "source": [
        "ytt = YouTubeTranscriptApi()\n",
        "formatter = TextFormatter() # --> Plain text\n",
        "# formatter = SRTFormatter() # --> With timestamps\n",
        "\n",
        "openai_api_key = os.getenv('OPENAI_API_KEY')\n",
        "openai_client = OpenAI(api_key=openai_api_key)\n",
        "MODEL = \"gpt-4o-mini\""
      ]
    },
    {
      "cell_type": "code",
      "execution_count": 11,
      "metadata": {
        "id": "ILPjwpGkZm1t"
      },
      "outputs": [],
      "source": [
        "def get_video_id(url):\n",
        "    \"\"\"Extracts video ID from a YouTube URL.\"\"\"\n",
        "    regex = r\"(?:v=|\\/)([0-9A-Za-z_-]{11}).*\"\n",
        "    match = re.search(regex, url)\n",
        "    if match:\n",
        "        return match.group(1)\n",
        "    raise ValueError(\"Invalid YouTube URL\")\n",
        "\n",
        "\n",
        "def get_transcript(url):\n",
        "    video_id = get_video_id(url)\n",
        "    fetched_transcript = ytt.fetch(video_id)\n",
        "    # ^ defaults to English transcript, for other language use:\n",
        "    # fetched = ytt.fetch(video_id, languages=['de', 'en'])\n",
        "    transcript_text = formatter.format_transcript(fetched_transcript)\n",
        "    return transcript_text"
      ]
    },
    {
      "cell_type": "code",
      "execution_count": 12,
      "metadata": {
        "id": "Ye3m_3lEejb_"
      },
      "outputs": [],
      "source": [
        "system_prompt = \"\"\"You are an expert assistant specialized in analyzing podcast transcripts. You will be given the full transcript of a YouTube podcast episode.\n",
        "\n",
        "Your task is to extract and summarize the main views or arguments presented in the podcast. For each view or argument, also identify and list any supporting evidence such as:\n",
        "\n",
        "- Facts or statistics\n",
        "- Academic studies or research\n",
        "- Theories or philosophical frameworks\n",
        "- Anecdotes or personal experiences\n",
        "- Expert opinions or quotes\n",
        "\n",
        "Recognize off topic segments and adds and igrone them.\n",
        "\n",
        "Structure your output in a clear and concise format.\n",
        "\n",
        "Output Format:\n",
        "\n",
        "Podcast Summary:\n",
        "\n",
        "1. View/Argument:\n",
        "   - Description: [Summarize the view or claim in 1-2 sentences.]\n",
        "   - Supporting Evidence:\n",
        "     • [Fact, study, or reasoning #1]\n",
        "     • [Fact, study, or reasoning #2]\n",
        "     • [Optional counterarguments or nuances, if any]\n",
        "\n",
        "2. View/Argument:\n",
        "   - Description: [...]\n",
        "   - Supporting Evidence:\n",
        "     • [...]\n",
        "\n",
        "Guidelines:\n",
        "- Only include major views or arguments that are discussed in depth.\n",
        "- Paraphrase in clear, neutral, and objective language.\n",
        "- Do not include filler, small talk, or off-topic segments.\n",
        "- If a claim lacks explicit evidence, note it as “No clear supporting evidence provided.”\n",
        "\n",
        "Always respond and orginize your response using Markdow.\n",
        "\"\"\"\n"
      ]
    },
    {
      "cell_type": "code",
      "execution_count": 13,
      "metadata": {
        "id": "1jk6YbkpupqI"
      },
      "outputs": [],
      "source": [
        "def get_user_prompt(title,url):\n",
        "    prompt = f\"Following is a transcript for a podcast titled '{title}' \\n\"\n",
        "    prompt += \"Carefully read through this content, analyse and summerize it as told, respond in Markdown.\"\n",
        "    prompt += \"\\nTranscript: \\n\\n\"\n",
        "    prompt += get_transcript(url)\n",
        "    return prompt"
      ]
    },
    {
      "cell_type": "code",
      "execution_count": 14,
      "metadata": {
        "id": "wJy0Qb8u9uqR"
      },
      "outputs": [],
      "source": [
        "# user_prompt = get_user_prompt()\n",
        "def summerize_video(title,url):\n",
        "    user_prompt = get_user_prompt(title,url)\n",
        "    stream = openai_client.chat.completions.create(\n",
        "        model=MODEL,\n",
        "        messages=[\n",
        "            {\"role\": \"system\", \"content\": system_prompt},\n",
        "            {\"role\": \"user\", \"content\": user_prompt},\n",
        "        ],\n",
        "        stream = True,\n",
        "    )\n",
        "\n",
        "    response = \"\"\n",
        "    display_handle = display(Markdown(\"\"), display_id=True)\n",
        "    for chunk in stream:\n",
        "        response += chunk.choices[0].delta.content or ''\n",
        "        response = response.replace(\"```\",\"\").replace(\"markdown\", \"\")\n",
        "        update_display(Markdown(response), display_id=display_handle.display_id)"
      ]
    },
    {
      "cell_type": "code",
      "execution_count": 15,
      "metadata": {
        "colab": {
          "base_uri": "https://localhost:8080/",
          "height": 1000
        },
        "id": "tbvBiPrv_O3i",
        "outputId": "69d24254-e384-4b07-e35f-96c7bb733298"
      },
      "outputs": [
        {
          "data": {
            "text/markdown": [
              "# Podcast Summary: You Need to Be Bored. Here's Why.\n",
              "\n",
              "1. **View/Argument: Boredom is essential for mental well-being.**\n",
              "   - **Description:** The speaker argues that boredom encourages the brain to engage in introspection, leading to deeper understanding of one's life and reducing feelings of emptiness and depression.\n",
              "   - **Supporting Evidence:**\n",
              "     • The \"default mode network\" in the brain activates during boredom, prompting reflection on significant existential questions.\n",
              "     • Many participants in a Harvard study chose to administer painful shocks to avoid boredom, indicating a strong aversion to uncomfortable thoughts.\n",
              "     • Increased rates of anxiety and depression in society correlate with a reduced capacity for individuals to find meaning in their lives.\n",
              "     \n",
              "2. **View/Argument: Modern technology exacerbates the dislike of boredom.**\n",
              "   - **Description:** The prevalence of smartphones and screens allows individuals to escape boredom, hindering their ability to grapple with meaningful questions and fostering a cycle of dissatisfaction.\n",
              "   - **Supporting Evidence:**\n",
              "     • The speaker attributes the increase of depression and anxiety to the avoidance of boredom through constant engagement with devices.\n",
              "     • Engaging more fully in moments of boredom can lead to greater appreciation of daily life, relationships, and work.\n",
              "   \n",
              "3. **View/Argument: Implementing personal protocols can combat device dependency and promote boredom.**\n",
              "   - **Description:** The speaker advocates for self-imposed strategies to limit device use, enabling individuals to embrace boredom and enhance introspection.\n",
              "   - **Supporting Evidence:**\n",
              "     • Personal anecdotes describing a \"no device policy\" after 7 PM, family meals without devices, and regular social media fasts illustrate effective measures to combat technology addiction.\n",
              "     • The speaker experiences initial discomfort during device abstinence, which eventually leads to feelings of calmness and well-being.\n",
              "     • Practical suggestions for handling emergencies with device use highlight the non-essential nature of constant connectivity.\n",
              "   \n",
              "4. **View/Argument: Longer periods of intentional boredom can facilitate personal growth.**\n",
              "   - **Description:** The speaker encourages listeners to practice extending boredom to gain insights into life's bigger questions, potentially leading to increased happiness.\n",
              "   - **Supporting Evidence:**\n",
              "     • By deliberately experiencing boredom, individuals can develop resilience against mundane aspects of life and foster personal reflection.\n",
              "     • Suggestions for practice include gym workouts and commutes without distractions, enhancing the capacity for self-exploration and creativity. \n",
              "\n",
              "This structured analysis captures the key arguments presented in the podcast while highlighting supporting evidence and personal experiences."
            ],
            "text/plain": [
              "<IPython.core.display.Markdown object>"
            ]
          },
          "metadata": {},
          "output_type": "display_data"
        }
      ],
      "source": [
        "summerize_video(\"You Need to Be Bored. Here's Why.\",\"https://www.youtube.com/watch?v=orQKfIXMiA8\")"
      ]
    }
  ],
  "metadata": {
    "colab": {
      "provenance": []
    },
    "kernelspec": {
      "display_name": ".venv",
      "language": "python",
      "name": "python3"
    },
    "language_info": {
      "codemirror_mode": {
        "name": "ipython",
        "version": 3
      },
      "file_extension": ".py",
      "mimetype": "text/x-python",
      "name": "python",
      "nbconvert_exporter": "python",
      "pygments_lexer": "ipython3",
      "version": "3.12.12"
    }
  },
  "nbformat": 4,
  "nbformat_minor": 0
}
