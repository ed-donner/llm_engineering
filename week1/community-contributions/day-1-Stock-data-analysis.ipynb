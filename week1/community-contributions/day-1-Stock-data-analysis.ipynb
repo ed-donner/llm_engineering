{
 "cells": [
  {
   "cell_type": "markdown",
   "id": "306f1a67-4f1c-4aed-8f80-2a8458a1bce5",
   "metadata": {},
   "source": [
    "# Stock data analysis"
   ]
  },
  {
   "cell_type": "code",
   "execution_count": 1,
   "id": "4e2a9393-7767-488e-a8bf-27c12dca35bd",
   "metadata": {},
   "outputs": [],
   "source": [
    "import os\n",
    "import requests\n",
    "from dotenv import load_dotenv\n",
    "from bs4 import BeautifulSoup\n",
    "from IPython.display import Markdown, display\n",
    "from openai import OpenAI\n",
    "\n",
    "# If you get an error running this cell, then please head over to the troubleshooting notebook!"
   ]
  },
  {
   "cell_type": "markdown",
   "id": "6900b2a8-6384-4316-8aaa-5e519fca4254",
   "metadata": {},
   "source": [
    "# Connecting to OpenAI"
   ]
  },
  {
   "cell_type": "code",
   "execution_count": 2,
   "id": "7b87cadb-d513-4303-baee-a37b6f938e4d",
   "metadata": {},
   "outputs": [
    {
     "name": "stdout",
     "output_type": "stream",
     "text": [
      "API key found and looks good so far!\n"
     ]
    }
   ],
   "source": [
    "# Load environment variables in a file called .env\n",
    "\n",
    "load_dotenv(override=True)\n",
    "api_key = os.getenv('OPENAI_API_KEY')\n",
    "\n",
    "# Check the key\n",
    "\n",
    "if not api_key:\n",
    "    print(\"No API key was found - please head over to the troubleshooting notebook in this folder to identify & fix!\")\n",
    "elif not api_key.startswith(\"sk-proj-\"):\n",
    "    print(\"An API key was found, but it doesn't start sk-proj-; please check you're using the right key - see troubleshooting notebook\")\n",
    "elif api_key.strip() != api_key:\n",
    "    print(\"An API key was found, but it looks like it might have space or tab characters at the start or end - please remove them - see troubleshooting notebook\")\n",
    "else:\n",
    "    print(\"API key found and looks good so far!\")\n"
   ]
  },
  {
   "cell_type": "code",
   "execution_count": 3,
   "id": "019974d9-f3ad-4a8a-b5f9-0a3719aea2d3",
   "metadata": {},
   "outputs": [],
   "source": [
    "openai = OpenAI()"
   ]
  },
  {
   "cell_type": "code",
   "execution_count": 4,
   "id": "51d42a08-188e-4c56-9578-47cd549bd1d8",
   "metadata": {},
   "outputs": [],
   "source": [
    "from urllib.parse import urlencode\n",
    "import datetime\n",
    "\n",
    "headers = {\n",
    " \"User-Agent\": \"Mozilla/5.0 (Windows NT 10.0; Win64; x64) AppleWebKit/537.36 (KHTML, like Gecko) Chrome/117.0.0.0 Safari/537.36\"\n",
    "}"
   ]
  },
  {
   "cell_type": "code",
   "execution_count": 5,
   "id": "682eff74-55c4-4d4b-b267-703edbc293c7",
   "metadata": {},
   "outputs": [],
   "source": [
    "class YahooFinanceWebsite:\n",
    "    def __init__(self, stock_symbol):\n",
    "        \"\"\"\n",
    "        Create this Website object from the given url using the BeautifulSoup library\n",
    "        \"\"\"\n",
    "        self.stock_symbol = stock_symbol.upper()\n",
    "\n",
    "    def __build_url(self, params):\n",
    "        base_url = f\"https://finance.yahoo.com/quote/{self.stock_symbol}/history/\"\n",
    "        query_string = urlencode(params)\n",
    "        return f\"{base_url}?{query_string}\"\n",
    "\n",
    "    def get_stock_data(self):\n",
    "        datetime_now = datetime.datetime.now()\n",
    "        datetime_year_ago = datetime_now - datetime.timedelta(days=365)\n",
    "        params = {\"frequency\": \"1wk\", \"period1\": datetime_year_ago.timestamp(), \"period2\": datetime_now.timestamp()}\n",
    "        url = self.__build_url(params)\n",
    "        response = requests.get(url, headers=headers)\n",
    "\n",
    "        soup = BeautifulSoup(response.content, 'html.parser')\n",
    "        \n",
    "        title = soup.title.string if soup.title else \"No title found\"\n",
    "        for irrelevant in soup.body([\"script\", \"style\", \"img\", \"input\"]):\n",
    "            irrelevant.decompose()\n",
    "\n",
    "        html_table_data = soup.find(\"table\")\n",
    "\n",
    "        return title, html_table_data"
   ]
  },
  {
   "cell_type": "code",
   "execution_count": 6,
   "id": "70b8d7e7-51e7-4392-9b85-9ac9f67a907c",
   "metadata": {},
   "outputs": [],
   "source": [
    "def build_stock_analysis_prompt(stock_symbol, title, stock_table_data):\n",
    "    sys_prompt = r\"\"\"You are an assistant that analyzes the contents of HTML formated table that contains data on a specific stock.\n",
    "    The HTML table contains the date, open price, close price, low and highs aggregated for every week over one year timeframe.\n",
    "    Ignoring text, tags or html attributes that might be navigation related. \n",
    "    Respond in Markdown format\"\"\"\n",
    "    \n",
    "    user_prompt = f\"The data provided below in the HTML table format for {stock_symbol} from the Yahoo Finances.\\\n",
    "    Make the explaination easy enough for a newbie to understand. \\\n",
    "    Analyze and Summarize the trends on this stock:\\n{stock_table_data}\\n\\n\\\n",
    "    Also, calculate the total returns in percentage one could have expected over this period.\"\n",
    "    \n",
    "    return [\n",
    "        {\"role\": \"system\", \"content\": sys_prompt},\n",
    "        {\"role\": \"user\", \"content\": user_prompt}\n",
    "    ]"
   ]
  },
  {
   "cell_type": "code",
   "execution_count": 7,
   "id": "de514421-4cc8-4881-85b4-97f03e94c589",
   "metadata": {},
   "outputs": [],
   "source": [
    "def analyze_stock_trends(stock_symbol):\n",
    "    stock_data_page = YahooFinanceWebsite(stock_symbol)\n",
    "    title, stock_table_data = stock_data_page.get_stock_data()\n",
    "    response = openai.chat.completions.create(\n",
    "        model = \"gpt-4o-mini\",\n",
    "        messages = build_stock_analysis_prompt(stock_symbol, title, stock_table_data)\n",
    "    )\n",
    "    return response.choices[0].message.content\n",
    "\n",
    "def display_analysis(stock_symbol):\n",
    "    display(Markdown(analyze_stock_trends(stock_symbol)))"
   ]
  },
  {
   "cell_type": "code",
   "execution_count": 8,
   "id": "41acc36f-484a-4257-a240-cf27520e7396",
   "metadata": {},
   "outputs": [
    {
     "data": {
      "text/markdown": [
       "## GOOG Stock Trend Analysis\n",
       "\n",
       "### Overview of Weekly Data\n",
       "The provided data covers stock prices for Alphabet Inc. (GOOG) on a weekly basis, showing the open, high, low, close prices, adjusted close prices, and trading volume for each week. \n",
       "\n",
       "### Key Price Metrics\n",
       "1. **Open**: Price at which the stock opened at the start of the trading week.\n",
       "2. **High**: The highest price reached during the week.\n",
       "3. **Low**: The lowest price reached during the week.\n",
       "4. **Close**: Price at which the stock closed at the end of the trading week.\n",
       "5. **Adjusted Close**: The closing price adjusted for dividends and stock splits.\n",
       "\n",
       "### Price Trend Summary\n",
       "- **April 2024 - April 2025**: Stock prices for GOOG primarily ranged between **$143.39** (April 7, 2025) and **$202.21** (Feb 3, 2025). \n",
       "- **Price Fluctuations**: \n",
       "  - The stock shows volatility, with significant price movements up and down.\n",
       "  - The stock reached its peak during the week of February 3, 2025, but saw declines through March and into April, indicating some recent bearish sentiment.\n",
       "\n",
       "### Observations from Weekly Prices\n",
       "- **Recent Decline**: In the last weeks, particularly from March 24, 2025 to the latest data in April 2025, the stock price decreased, indicating recent market pressures.\n",
       "- **Trading Volume**: The trading volume also exhibited substantial fluctuations with peaks correlating with price changes. Notably high volume in some weeks suggests increased interest or reaction to news related to the company or market conditions.\n",
       "\n",
       "### Percentage Return Calculation\n",
       "To calculate total returns over the observed period from the start of the year to the last provided date:\n",
       "\n",
       "1. **Initial Price (Jan 6, 2025)**: $195.15\n",
       "2. **Final Price (Apr 15, 2025)**: $158.68\n",
       "\n",
       "The formula for percentage return is:\n",
       "\\[\n",
       "\\text{Percentage Return} = \\left( \\frac{\\text{Final Price} - \\text{Initial Price}}{\\text{Initial Price}} \\right) \\times 100\n",
       "\\]\n",
       "\n",
       "Calculating:\n",
       "\\[\n",
       "\\text{Percentage Return} = \\left( \\frac{158.68 - 195.15}{195.15} \\right) \\times 100 = \\left( \\frac{-36.47}{195.15} \\right) \\times 100 \\approx -18.67\\%\n",
       "\\]\n",
       "\n",
       "### Conclusion\n",
       "- The analysis indicates that GOOG has experienced a **decline of approximately 18.67%** over the observed period, reflecting broader market trends or company-specific challenges.\n",
       "- Investors should be cautious and keep an eye on upcoming earnings reports or news which might influence stock performance in the near future."
      ],
      "text/plain": [
       "<IPython.core.display.Markdown object>"
      ]
     },
     "metadata": {},
     "output_type": "display_data"
    }
   ],
   "source": [
    "display_analysis(\"GOOG\")"
   ]
  },
  {
   "cell_type": "code",
   "execution_count": 9,
   "id": "7e09541f-bbc4-4cf3-a1ef-9ed5e1b718e4",
   "metadata": {},
   "outputs": [
    {
     "data": {
      "text/markdown": [
       "## Analysis of PFE Stock Trends\n",
       "\n",
       "### Overview of Stock Data\n",
       "\n",
       "The data shows historical weekly prices for Pfizer Inc. (PFE) over a timeframe leading up to April 15, 2025. Key metrics include:\n",
       "\n",
       "- **Open Price:** The price at which the stock opened at the beginning of the trading week.\n",
       "- **High Price:** The highest price reached during the week.\n",
       "- **Low Price:** The lowest price reached during the week.\n",
       "- **Close Price:** The price at which the stock settled at the end of the trading week.\n",
       "- **Adj Close:** The adjusted closing price accounts for stock splits and dividends.\n",
       "- **Volume:** The number of shares traded during the week.\n",
       "\n",
       "### Key Trends Observed\n",
       "\n",
       "1. **Overall Price Movement:**\n",
       "   - The stock opened at **22.17** on **April 15, 2025** and closed at **22.44** on the same date.\n",
       "   - In the weeks preceding, Pfizer's stock experienced fluctuations, ending higher than it started in several instances but also showing notable declines. \n",
       "\n",
       "2. **Recent Performance:**\n",
       "   - The highest observed close was **26.73** on **March 3, 2025**.\n",
       "   - Notable drops occurred in late March and early April, seeing prices fall from as high as **26.28** to **22.12**.\n",
       "   - The stock had significant volatility, with a decline to approximately **21.91** from a high in March.\n",
       "\n",
       "3. **Volume Trends:**\n",
       "   - Some weeks, especially around the higher price points, show substantial trading volume (e.g. **493,533,700** shares on **March 17, 2025**).\n",
       "   - Lower trading volumes typically occurred during less volatile periods.\n",
       "\n",
       "4. **Dividend Reports:**\n",
       "   - Dividends were reported at **0.43** on **January 24, 2025**, and **0.42** on **November 8, 2024**, among others. This indicates that the stock pays dividends, which can be a valuable component of total returns for investors.\n",
       "\n",
       "### Total Return Calculation\n",
       "\n",
       "To calculate the total return over the period, we will use the **initial and final adjusted close prices** to find the percentage return:\n",
       "\n",
       "- **Adjustment for Low and High Returns:**\n",
       "   - **Initial Price (Adj Close on April 15, 2024)**: **26.00**\n",
       "   - **Final Price (Adj Close on April 15, 2025)**: **22.44**\n",
       "  \n",
       "Using the formula for total return:\n",
       "\n",
       "\\[\n",
       "\\text{Total Return (\\%)} = \\left( \\frac{\\text{Final Price} - \\text{Initial Price}}{\\text{Initial Price}} \\right) \\times 100\n",
       "\\]\n",
       "\n",
       "Substituting the values:\n",
       "\n",
       "\\[\n",
       "= \\left( \\frac{22.44 - 26.00}{26.00} \\right) \\times 100 \\\\\n",
       "= \\left( \\frac{-3.56}{26.00} \\right) \\times 100 \\\\\n",
       "\\approx -13.69\\%\n",
       "\\]\n",
       "\n",
       "### Summary\n",
       "\n",
       "1. **Price Fluctuation:** The stock has been volatile, with highs around **26** and lows dropping under **22**.\n",
       "2. **Negative Return:** An investor who held PFE from April 2024 to April 2025 would have experienced a total return of approximately **-13.69%**, reflecting a loss.\n",
       "3. **Dividend Benefits:** Despite the drop in price, the dividends can offer some offset to losses for stockholders, providing a cash return.\n",
       "\n",
       "As a new investor, it's essential to remember that stock prices can be highly volatile and affected by various factors, including market sentiment, earnings reports, and broader economic conditions. Always assess both price trends and underlying performance for informed investment decisions."
      ],
      "text/plain": [
       "<IPython.core.display.Markdown object>"
      ]
     },
     "metadata": {},
     "output_type": "display_data"
    }
   ],
   "source": [
    "display_analysis(\"PFE\")"
   ]
  },
  {
   "cell_type": "code",
   "execution_count": 10,
   "id": "e6af9395-0c5c-4265-a309-baba786bfa71",
   "metadata": {},
   "outputs": [
    {
     "data": {
      "text/markdown": [
       "## AAPL Stock Analysis (April 2024 - April 2025)\n",
       "\n",
       "### Key Data Overview\n",
       "The provided data shows Apple Inc. (AAPL) stock performance over a year, summarized in a weekly format. The table includes:\n",
       "\n",
       "- **Date**: The date of trading.\n",
       "- **Open**: The stock price at the beginning of the week.\n",
       "- **High**: The highest price reached during that week.\n",
       "- **Low**: The lowest price during the week.\n",
       "- **Close**: The stock price at the end of the week.\n",
       "- **Adj Close**: Adjusted closing price, considering dividends and stock splits.\n",
       "- **Volume**: The number of shares traded over the week.\n",
       "\n",
       "### Trends and Observations\n",
       "\n",
       "1. **Price Fluctuations**:\n",
       "   - The stock price began at **$175.36** at the start of the week ending April 15, 2024, and ended at **$202.14** by the week ending April 15, 2025.\n",
       "   - The highest recorded price in this interval was **$254.77** (week ending December 23, 2024).\n",
       "   - The lowest recorded price was **$164.08** (week ending April 15, 2024).\n",
       "   - Overall, the stock showed significant price fluctuations—from a low of **$164.08** to a high of **$254.77**.\n",
       "\n",
       "2. **General Trend**:\n",
       "   - There is an overall upward trend in the stock price, particularly observed towards the end of the analyzed period.\n",
       "   - Early 2025 shows recovery from dips seen in late 2024, indicating a rebound in investor sentiment.\n",
       "\n",
       "3. **Monthly Overview**:\n",
       "   - **January 2025**: Prices fluctuated between **$222.54** and **$236.00**.\n",
       "   - **February 2025**: A notable increase, with prices often hovering above **$240**.\n",
       "   - **March 2025**: A peak was reached with prices hitting above **$225** before a drop back down.\n",
       "\n",
       "4. **Volume Trends**:\n",
       "   - The highest trading volumes were observed in early 2025, with notably high trading days (e.g., **675,037,600** shares traded).\n",
       "   - Higher trading volumes often coincide with market volatility, suggesting increased investor activity during these periods.\n",
       "\n",
       "5. **Dividends**:\n",
       "   - Regular dividends were issued throughout the year, indicating a commitment to returning value to shareholders.\n",
       "\n",
       "### Total Return Calculation\n",
       "To calculate the total return percentage over the one-year period:\n",
       "\n",
       "1. **Begin Price (April 15, 2024)**: **$175.36**\n",
       "2. **End Price (April 15, 2025)**: **$202.14**\n",
       "3. **Return Calculation**:\n",
       "   \\[\n",
       "   \\text{Total Return} = \\left(\\frac{\\text{End Price} - \\text{Start Price}}{\\text{Start Price}}\\right) \\times 100\n",
       "   \\]\n",
       "\n",
       "   Plugging in the numbers:\n",
       "   \\[\n",
       "   \\text{Total Return} = \\left(\\frac{202.14 - 175.36}{175.36}\\right) \\times 100 \\approx 15.27\\%\n",
       "   \\]\n",
       "\n",
       "### Conclusion\n",
       "- Over the analyzed year, AAPL experienced notable price fluctuations but ended significantly higher than it started, marking a **≈ 15.27%** increase in value.\n",
       "- This performance, alongside the consistent dividend payments, signifies a potentially fruitful investment for shareholders within this timeframe. \n",
       "\n",
       "Investing in stocks always involves risk, and trends may vary based on broader market conditions and company performance. Hence, it is advisable to conduct thorough research or consult a financial advisor before making investment decisions."
      ],
      "text/plain": [
       "<IPython.core.display.Markdown object>"
      ]
     },
     "metadata": {},
     "output_type": "display_data"
    }
   ],
   "source": [
    "display_analysis(\"AAPL\")"
   ]
  },
  {
   "cell_type": "code",
   "execution_count": null,
   "id": "afe4f6d1-a6ea-44b5-81ae-8e756cfc0d84",
   "metadata": {},
   "outputs": [],
   "source": []
  }
 ],
 "metadata": {
  "kernelspec": {
   "display_name": "Python 3 (ipykernel)",
   "language": "python",
   "name": "python3"
  },
  "language_info": {
   "codemirror_mode": {
    "name": "ipython",
    "version": 3
   },
   "file_extension": ".py",
   "mimetype": "text/x-python",
   "name": "python",
   "nbconvert_exporter": "python",
   "pygments_lexer": "ipython3",
   "version": "3.11.11"
  }
 },
 "nbformat": 4,
 "nbformat_minor": 5
}
