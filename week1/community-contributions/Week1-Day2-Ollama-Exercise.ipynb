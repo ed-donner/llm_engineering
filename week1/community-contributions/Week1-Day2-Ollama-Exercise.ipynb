{
 "cells": [
  {
   "cell_type": "markdown",
   "id": "fad31e32-2e42-42ae-ae63-c15d90292839",
   "metadata": {},
   "source": [
    "# First Project\n",
    "\n",
    "Day1"
   ]
  },
  {
   "cell_type": "code",
   "execution_count": 3,
   "id": "e95ac7f2-5192-4f83-acf3-61df30cd3109",
   "metadata": {},
   "outputs": [],
   "source": [
    "# imports\n",
    "\n",
    "import requests\n",
    "from bs4 import BeautifulSoup\n",
    "from IPython.display import Markdown, display"
   ]
  },
  {
   "cell_type": "code",
   "execution_count": null,
   "id": "08405038-4115-487f-9efc-de58572453c1",
   "metadata": {},
   "outputs": [],
   "source": []
  }
 ],
 "metadata": {
  "kernelspec": {
   "display_name": "Python 3 (ipykernel)",
   "language": "python",
   "name": "python3"
  },
  "language_info": {
   "codemirror_mode": {
    "name": "ipython",
    "version": 3
   },
   "file_extension": ".py",
   "mimetype": "text/x-python",
   "name": "python",
   "nbconvert_exporter": "python",
   "pygments_lexer": "ipython3",
   "version": "3.11.11"
  }
 },
 "nbformat": 4,
 "nbformat_minor": 5
}
