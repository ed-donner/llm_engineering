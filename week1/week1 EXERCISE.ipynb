{
 "cells": [
  {
   "cell_type": "markdown",
   "id": "fe12c203-e6a6-452c-a655-afb8a03a4ff5",
   "metadata": {},
   "source": [
    "# End of week 1 exercise\n",
    "\n",
    "To demonstrate your familiarity with OpenAI API, and also Ollama, build a tool that takes a technical question,  \n",
    "and responds with an explanation. This is a tool that you will be able to use yourself during the course!"
   ]
  },
  {
   "cell_type": "code",
   "execution_count": 31,
   "id": "c1070317-3ed9-4659-abe3-828943230e03",
   "metadata": {},
   "outputs": [],
   "source": [
    "import os\n",
    "import json\n",
    "import requests\n",
    "from IPython.display import Markdown, display, update_display\n",
    "from dotenv import load_dotenv\n",
    "\n",
    "\n"
   ]
  },
  {
   "cell_type": "code",
   "execution_count": 32,
   "id": "4ece4c36",
   "metadata": {},
   "outputs": [],
   "source": [
    "\n",
    "# --- Load environment ---\n",
    "load_dotenv()\n",
    "\n",
    "MODEL_LLAMA = os.getenv(\"LOCAL_MODEL_NAME\", \"llama3.2\")\n",
    "OLLAMA_BASE = os.getenv(\"OLLAMA_BASE_URL\", \"http://localhost:11434/v1\")"
   ]
  },
  {
   "cell_type": "code",
   "execution_count": 33,
   "id": "cd50e252",
   "metadata": {},
   "outputs": [],
   "source": [
    "question = \"\"\"\n",
    "Please explain what this code does and why:\n",
    "yield from {book.get(\"author\") for book in books if book.get(\"author\")}\n",
    "\"\"\"\n"
   ]
  },
  {
   "cell_type": "code",
   "execution_count": 34,
   "id": "ce40c15c",
   "metadata": {},
   "outputs": [
    {
     "name": "stdout",
     "output_type": "stream",
     "text": [
      "Getting explanation from llama3.2 using Ollama...\n"
     ]
    },
    {
     "data": {
      "text/markdown": [
       "This line of code is using the `yield from` keyword in Python, which is used for iterating over multiple iterators. Let's break it down:\n",
       "\n",
       "```python\n",
       "for book in books:\n",
       "```\n",
       "\n",
       "This part starts a loop that will iterate over an iterable called `books`. This could be any type of object, such as a list, set, dictionary iterator, etc.\n",
       "\n",
       "```python\n",
       "yield from {book.get(\"author\") for book in books if book.get(\"author\")}\n",
       "```\n",
       "\n",
       " Inside this loop, another generator expression is using `yield from` to send the results of several sub-generators through its parent generator. In this case:\n",
       "\n",
       "1. `(book.get(\"author\"))`: This is a generator expression that generates values by applying a function (`get`) to each item in an iterable called `book`. It assumes that each book has a key called `\"author\"` containing some author name.\n",
       "\n",
       "2. `{... for book in books if book.get(\"author\")}`: Before the generator can run, there's a condition that needs to be met for it to start its sub-generations: that book indeed contains an `\"author\"`. That's exactly what `if book.get(\"author\")` does - checks whether or not the sub-expression is true before starting each sub-generation.\n",
       "\n",
       "These two together means you are only generating values from books, where `book.hasAuthor()` function results in True. In Python 3.10 and later, we don't need to check if this value exists before trying to get it out of the dictionary with \"author\" key. In earlier Python versions we do that.\n",
       "\n",
       "In summary, when you look at your code as a whole, you can see two nested `for` loops - an outer loop that goes through each book, and for which there is a sub-loop where author names are produced in sequence so you could use them somewhere later.\n",
       "\n",
       "```python\n",
       "# This is the example code that uses 'yield from'\n",
       "books = [\n",
       "        {'id':0,\"name\":\"Python Programming\"},\n",
       "        {'id' : 2, \"name\": \"A Book on Python programming\" },\n",
       "        {\"id\"      :\"4\", \"name\":\"Python Documentation\"}\n",
       "   ]\n",
       "\n",
       "\n",
       "def get_all_authors(books):\n",
       "    for book in books:\n",
       "         yield book.get(\"author\") \n",
       "\n",
       "# usage\n",
       "all_authors = [a for a in get_all_authors(books) if a]\n",
       "print(all_authors)\n",
       "```\n",
       "\n",
       "  The code does not handle cases where there is no '\"author\"' inside each dictionary. In 'real world applications' it might raise an exception and make more sense."
      ],
      "text/plain": [
       "<IPython.core.display.Markdown object>"
      ]
     },
     "metadata": {},
     "output_type": "display_data"
    },
    {
     "name": "stdout",
     "output_type": "stream",
     "text": [
      "\n",
      "Final explanation:\n",
      "\n"
     ]
    },
    {
     "data": {
      "text/markdown": [
       "### Llama 3.2 Explanation\n",
       "\n",
       "This line of code is using the `yield from` keyword in Python, which is used for iterating over multiple iterators. Let's break it down:\n",
       "\n",
       "```python\n",
       "for book in books:\n",
       "```\n",
       "\n",
       "This part starts a loop that will iterate over an iterable called `books`. This could be any type of object, such as a list, set, dictionary iterator, etc.\n",
       "\n",
       "```python\n",
       "yield from {book.get(\"author\") for book in books if book.get(\"author\")}\n",
       "```\n",
       "\n",
       " Inside this loop, another generator expression is using `yield from` to send the results of several sub-generators through its parent generator. In this case:\n",
       "\n",
       "1. `(book.get(\"author\"))`: This is a generator expression that generates values by applying a function (`get`) to each item in an iterable called `book`. It assumes that each book has a key called `\"author\"` containing some author name.\n",
       "\n",
       "2. `{... for book in books if book.get(\"author\")}`: Before the generator can run, there's a condition that needs to be met for it to start its sub-generations: that book indeed contains an `\"author\"`. That's exactly what `if book.get(\"author\")` does - checks whether or not the sub-expression is true before starting each sub-generation.\n",
       "\n",
       "These two together means you are only generating values from books, where `book.hasAuthor()` function results in True. In Python 3.10 and later, we don't need to check if this value exists before trying to get it out of the dictionary with \"author\" key. In earlier Python versions we do that.\n",
       "\n",
       "In summary, when you look at your code as a whole, you can see two nested `for` loops - an outer loop that goes through each book, and for which there is a sub-loop where author names are produced in sequence so you could use them somewhere later.\n",
       "\n",
       "```python\n",
       "# This is the example code that uses 'yield from'\n",
       "books = [\n",
       "        {'id':0,\"name\":\"Python Programming\"},\n",
       "        {'id' : 2, \"name\": \"A Book on Python programming\" },\n",
       "        {\"id\"      :\"4\", \"name\":\"Python Documentation\"}\n",
       "   ]\n",
       "\n",
       "\n",
       "def get_all_authors(books):\n",
       "    for book in books:\n",
       "         yield book.get(\"author\") \n",
       "\n",
       "# usage\n",
       "all_authors = [a for a in get_all_authors(books) if a]\n",
       "print(all_authors)\n",
       "```\n",
       "\n",
       "  The code does not handle cases where there is no '\"author\"' inside each dictionary. In 'real world applications' it might raise an exception and make more sense."
      ],
      "text/plain": [
       "<IPython.core.display.Markdown object>"
      ]
     },
     "metadata": {},
     "output_type": "display_data"
    }
   ],
   "source": [
    "\n",
    "\n",
    "print(f\"Getting explanation from {MODEL_LLAMA} using Ollama...\")\n",
    "\n",
    "try:\n",
    "    response = requests.post(\n",
    "        f\"{OLLAMA_BASE}/completions\",\n",
    "        json={\n",
    "            \"model\": MODEL_LLAMA,\n",
    "            \"prompt\": question,\n",
    "            \"stream\": True\n",
    "        },\n",
    "        stream=True,\n",
    "        timeout=120\n",
    "    )\n",
    "\n",
    "    output = \"\"\n",
    "    display_handle = display(Markdown(\"Generating response...\"), display_id=True)\n",
    "\n",
    "    for line in response.iter_lines(decode_unicode=True):\n",
    "        if not line.strip():\n",
    "            continue\n",
    "\n",
    "        # Each event line starts with \"data: \"\n",
    "        if line.startswith(\"data: \"):\n",
    "            line = line[len(\"data: \"):]\n",
    "\n",
    "        if line.strip() == \"[DONE]\":\n",
    "            break\n",
    "\n",
    "        try:\n",
    "            data = json.loads(line)\n",
    "        except json.JSONDecodeError:\n",
    "            continue\n",
    "\n",
    "        # In Ollama /v1/completions, the text comes in data['choices'][0]['text']\n",
    "        text = data.get(\"choices\", [{}])[0].get(\"text\", \"\")\n",
    "        if text:\n",
    "            output += text\n",
    "            update_display(Markdown(output), display_id=display_handle.display_id)\n",
    "\n",
    "    print(\"\\nFinal explanation:\\n\")\n",
    "    display(Markdown(f\"### Llama 3.2 Explanation\\n\\n{output.strip()}\"))\n",
    "\n",
    "except requests.exceptions.ConnectionError:\n",
    "    print(\"Could not connect to Ollama — make sure it’s running (run `ollama serve`).\")\n",
    "except Exception as e:\n",
    "    print(\"Unexpected error:\", e)\n"
   ]
  }
 ],
 "metadata": {
  "kernelspec": {
   "display_name": ".venv",
   "language": "python",
   "name": "python3"
  },
  "language_info": {
   "codemirror_mode": {
    "name": "ipython",
    "version": 3
   },
   "file_extension": ".py",
   "mimetype": "text/x-python",
   "name": "python",
   "nbconvert_exporter": "python",
   "pygments_lexer": "ipython3",
   "version": "3.13.5"
  }
 },
 "nbformat": 4,
 "nbformat_minor": 5
}
