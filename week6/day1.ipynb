{
 "cells": [
  {
   "cell_type": "markdown",
   "id": "28a0673e-96b5-43f2-8a8b-bd033bf851b0",
   "metadata": {},
   "source": [
    "# The Big Project begins!!\n",
    "\n",
    "## The Product Pricer\n",
    "\n",
    "A model that can estimate how much something costs, from its description.\n",
    "\n",
    "## Data Curation Part 1\n",
    "\n",
    "Today we'll begin our scrubbing and curating our dataset by focusing on a subset of the data: Home Appliances.\n",
    "\n",
    "The dataset is here:  \n",
    "https://huggingface.co/datasets/McAuley-Lab/Amazon-Reviews-2023\n",
    "\n",
    "And the folder with all the product datasets is here:  \n",
    "https://huggingface.co/datasets/McAuley-Lab/Amazon-Reviews-2023/tree/main/raw/meta_categories"
   ]
  },
  {
   "cell_type": "code",
   "execution_count": 1,
   "id": "67cedf85-8125-4322-998e-9375fe745597",
   "metadata": {},
   "outputs": [],
   "source": [
    "# imports\n",
    "\n",
    "import os\n",
    "from dotenv import load_dotenv\n",
    "from huggingface_hub import login\n",
    "from datasets import load_dataset, Dataset, DatasetDict\n",
    "import matplotlib.pyplot as plt"
   ]
  },
  {
   "cell_type": "code",
   "execution_count": 5,
   "id": "7390a6aa-79cb-4dea-b6d7-de7e4b13e472",
   "metadata": {},
   "outputs": [],
   "source": [
    "# environment\n",
    "\n",
    "load_dotenv(override=True)\n",
    "os.environ['OPENAI_API_KEY'] = os.getenv('OPENAI_API_KEY', 'your-key-if-not-using-env')\n",
    "os.environ['ANTHROPIC_API_KEY'] = os.getenv('ANTHROPIC_API_KEY', 'your-key-if-not-using-env')\n",
    "os.environ['HF_TOKEN'] = os.getenv('HF_TOKEN', 'your-key-if-not-using-env')"
   ]
  },
  {
   "cell_type": "code",
   "execution_count": 6,
   "id": "0732274a-aa6a-44fc-aee2-40dc8a8e4451",
   "metadata": {},
   "outputs": [
    {
     "name": "stderr",
     "output_type": "stream",
     "text": [
      "Note: Environment variable`HF_TOKEN` is set and is the current active token independently from the token you've just configured.\n"
     ]
    }
   ],
   "source": [
    "# Log in to HuggingFace\n",
    "\n",
    "hf_token = os.environ['HF_TOKEN']\n",
    "login(hf_token, add_to_git_credential=True)"
   ]
  },
  {
   "cell_type": "markdown",
   "id": "e7cb2e20-7fac-44c1-8a4b-131dd37ee06e",
   "metadata": {},
   "source": [
    "## One more import - the Item class\n",
    "\n",
    "If you get an error that you need to agree to Meta's terms when you run this, then follow the link it provides you and follow their instructions. You should get approved by Meta within minutes.\n",
    "\n",
    "See the last cell in [this colab](https://colab.research.google.com/drive/1deJO03YZTXUwcq2vzxWbiBhrRuI29Vo8?usp=sharing#scrollTo=FqyF5jZQkIl_) for steps to take if Meta doesn't approve.\n",
    "\n",
    "Any problems - message me or email me!  \n",
    "\n",
    "With thanks to student Dr John S. for pointing out that this import needs to come after signing in to HF"
   ]
  },
  {
   "cell_type": "code",
   "execution_count": 7,
   "id": "b5521526-0da9-42d7-99e3-f950fab71662",
   "metadata": {},
   "outputs": [
    {
     "data": {
      "application/vnd.jupyter.widget-view+json": {
       "model_id": "a3104114e1ec464983ad5aeca0418b97",
       "version_major": 2,
       "version_minor": 0
      },
      "text/plain": [
       "tokenizer_config.json:   0%|          | 0.00/50.5k [00:00<?, ?B/s]"
      ]
     },
     "metadata": {},
     "output_type": "display_data"
    },
    {
     "data": {
      "application/vnd.jupyter.widget-view+json": {
       "model_id": "10a97e8695174b42b372ae981ca6f6c0",
       "version_major": 2,
       "version_minor": 0
      },
      "text/plain": [
       "tokenizer.json:   0%|          | 0.00/9.09M [00:00<?, ?B/s]"
      ]
     },
     "metadata": {},
     "output_type": "display_data"
    },
    {
     "data": {
      "application/vnd.jupyter.widget-view+json": {
       "model_id": "b265a70b79164a3788e099bc044e9035",
       "version_major": 2,
       "version_minor": 0
      },
      "text/plain": [
       "special_tokens_map.json:   0%|          | 0.00/73.0 [00:00<?, ?B/s]"
      ]
     },
     "metadata": {},
     "output_type": "display_data"
    }
   ],
   "source": [
    "from items import Item"
   ]
  },
  {
   "cell_type": "code",
   "execution_count": 8,
   "id": "1adcf323-de9d-4c24-a9c3-d7ae554d06ca",
   "metadata": {},
   "outputs": [],
   "source": [
    "%matplotlib inline"
   ]
  },
  {
   "cell_type": "markdown",
   "id": "cd6d801e-d195-45fe-898e-495dbcb19d7d",
   "metadata": {},
   "source": [
    "## Load our dataset\n",
    "\n",
    "In the next cell, we load in the dataset from huggingface.\n",
    "\n",
    "If this gives you an error like \"trust_remote_code is no longer supported\", then please run this command in a new cell: `!pip install datasets==3.6.0` and then restart the Kernel, and try again."
   ]
  },
  {
   "cell_type": "code",
   "execution_count": 9,
   "id": "049885d4-fdfa-4ff0-a932-4a2ed73928e2",
   "metadata": {},
   "outputs": [
    {
     "data": {
      "application/vnd.jupyter.widget-view+json": {
       "model_id": "22ca994230e84df98d19d1b24e0931f8",
       "version_major": 2,
       "version_minor": 0
      },
      "text/plain": [
       "README.md: 0.00B [00:00, ?B/s]"
      ]
     },
     "metadata": {},
     "output_type": "display_data"
    },
    {
     "data": {
      "application/vnd.jupyter.widget-view+json": {
       "model_id": "3c12856f2aeb431c967050954f71a462",
       "version_major": 2,
       "version_minor": 0
      },
      "text/plain": [
       "Amazon-Reviews-2023.py: 0.00B [00:00, ?B/s]"
      ]
     },
     "metadata": {},
     "output_type": "display_data"
    },
    {
     "data": {
      "application/vnd.jupyter.widget-view+json": {
       "model_id": "671985f47d4f45c2994d0a41f9aafa25",
       "version_major": 2,
       "version_minor": 0
      },
      "text/plain": [
       "raw/meta_categories/meta_Appliances.json(…):   0%|          | 0.00/285M [00:00<?, ?B/s]"
      ]
     },
     "metadata": {},
     "output_type": "display_data"
    },
    {
     "data": {
      "application/vnd.jupyter.widget-view+json": {
       "model_id": "d265dfd415f84b2aa653fa11d16f3f41",
       "version_major": 2,
       "version_minor": 0
      },
      "text/plain": [
       "Generating full split: 0 examples [00:00, ? examples/s]"
      ]
     },
     "metadata": {},
     "output_type": "display_data"
    }
   ],
   "source": [
    "dataset = load_dataset(\"McAuley-Lab/Amazon-Reviews-2023\", f\"raw_meta_Appliances\", split=\"full\", trust_remote_code=True)"
   ]
  },
  {
   "cell_type": "code",
   "execution_count": 10,
   "id": "cde08860-b393-49b8-a620-06a8c0990a64",
   "metadata": {},
   "outputs": [
    {
     "name": "stdout",
     "output_type": "stream",
     "text": [
      "Number of Appliances: 94,327\n"
     ]
    }
   ],
   "source": [
    "print(f\"Number of Appliances: {len(dataset):,}\")"
   ]
  },
  {
   "cell_type": "code",
   "execution_count": 14,
   "id": "3e29a5ab-ca61-41cc-9b33-22d374681b85",
   "metadata": {},
   "outputs": [
    {
     "data": {
      "text/plain": [
       "{'main_category': 'Industrial & Scientific',\n",
       " 'title': 'ROVSUN Ice Maker Machine Countertop, Make 44lbs Ice in 24 Hours, Compact & Portable Ice Maker with Ice Basket for Home, Office, Kitchen, Bar (Silver)',\n",
       " 'average_rating': 3.7,\n",
       " 'rating_number': 61,\n",
       " 'features': ['【Quick Ice Making】This countertop ice machine creates crystal & bullet shaped ice cubes; 44lbs of ice ready in 24 hours, 12 cubes made per cycle within 10 mins; you can perfectly use it for drinks, wine, smoothies, food',\n",
       "  '【Portable Design】The weight of this ice maker is only 23.3lbs, and the small size (10.63 x14.37 x 12.87)\" makes it portable. It\\'s compact feature is perfect for home, office, apartments, dormitories, RVs and more, it can be placed on countertop or tabletop, plug it anywhere you like',\n",
       "  '【Simple Operation】Adding the water tank with purified water; Power on machine and press \"on/off\" button to start ice making process; After 8-12 minutes, ice cube will fall off into the ice basket automatically; Take it out and make you cool',\n",
       "  '【Full Monitoring】 Designed with compressor cooling system, operates at low noise and will not disturb your normal life; See-through window on top allows you to easily view the progress and check ice level',\n",
       "  \"【1 Year Warranty】We do cover 1 year warranty on this ice maker, any questions about it, please don't hesitate to contact us at any time for getting a satisfied service. Worry free purchase, so get this ice machine home today\"],\n",
       " 'description': [],\n",
       " 'price': 'None',\n",
       " 'images': {'hi_res': ['https://m.media-amazon.com/images/I/61zNIJh6ZCL._SL1500_.jpg',\n",
       "   'https://m.media-amazon.com/images/I/71i3VazBG1L._SL1500_.jpg',\n",
       "   'https://m.media-amazon.com/images/I/71INhlaKSGL._SL1500_.jpg',\n",
       "   'https://m.media-amazon.com/images/I/71IjZxwpPgL._SL1500_.jpg',\n",
       "   'https://m.media-amazon.com/images/I/8154EOa6mML._SL1500_.jpg',\n",
       "   'https://m.media-amazon.com/images/I/71P3bDmPIXL._SL1500_.jpg',\n",
       "   'https://m.media-amazon.com/images/I/71ST326RerL._SL1500_.jpg',\n",
       "   'https://m.media-amazon.com/images/I/81I6c2yZStL._SL1500_.jpg',\n",
       "   'https://m.media-amazon.com/images/I/71Dap4gcywL._SL1500_.jpg'],\n",
       "  'large': ['https://m.media-amazon.com/images/I/31idkuA3KlL.jpg',\n",
       "   'https://m.media-amazon.com/images/I/41-MiODg9xL.jpg',\n",
       "   'https://m.media-amazon.com/images/I/41wDXfH8m8L.jpg',\n",
       "   'https://m.media-amazon.com/images/I/41U-3N4Al4L.jpg',\n",
       "   'https://m.media-amazon.com/images/I/51ZMIaw5j+L.jpg',\n",
       "   'https://m.media-amazon.com/images/I/41rxwKw1FqL.jpg',\n",
       "   'https://m.media-amazon.com/images/I/5146wcOEdfL.jpg',\n",
       "   'https://m.media-amazon.com/images/I/61-9E6JF51L.jpg',\n",
       "   'https://m.media-amazon.com/images/I/51+Ddh3KfhL.jpg'],\n",
       "  'thumb': ['https://m.media-amazon.com/images/I/31idkuA3KlL._SX38_SY50_CR,0,0,38,50_.jpg',\n",
       "   'https://m.media-amazon.com/images/I/41-MiODg9xL._SX38_SY50_CR,0,0,38,50_.jpg',\n",
       "   'https://m.media-amazon.com/images/I/41wDXfH8m8L._SX38_SY50_CR,0,0,38,50_.jpg',\n",
       "   'https://m.media-amazon.com/images/I/41U-3N4Al4L._SX38_SY50_CR,0,0,38,50_.jpg',\n",
       "   'https://m.media-amazon.com/images/I/51ZMIaw5j+L._SX38_SY50_CR,0,0,38,50_.jpg',\n",
       "   'https://m.media-amazon.com/images/I/41rxwKw1FqL._SX38_SY50_CR,0,0,38,50_.jpg',\n",
       "   'https://m.media-amazon.com/images/I/5146wcOEdfL._SX38_SY50_CR,0,0,38,50_.jpg',\n",
       "   'https://m.media-amazon.com/images/I/61-9E6JF51L._SX38_SY50_CR,0,0,38,50_.jpg',\n",
       "   'https://m.media-amazon.com/images/I/51+Ddh3KfhL._SX38_SY50_CR,0,0,38,50_.jpg'],\n",
       "  'variant': ['MAIN',\n",
       "   'PT01',\n",
       "   'PT02',\n",
       "   'PT03',\n",
       "   'PT04',\n",
       "   'PT05',\n",
       "   'PT06',\n",
       "   'PT07',\n",
       "   'PT08']},\n",
       " 'videos': {'title': ['Our Point of View on the Euhomy Ice Maker Machine',\n",
       "   'Frigidaire Ice Maker, Stainless (5 Stars) ',\n",
       "   'Review & Demonstration - Silonn Ice Maker - NOT BAD!',\n",
       "   ' Never Run Out of Ice',\n",
       "   'Live DEMO - How Fast Can You Really Make Ice With EUHOMY?',\n",
       "   'Portable Ice Maker Countertop 26Lbs/24H',\n",
       "   'Countertop ice machine 2 size bullet style ice ',\n",
       "   'HONEST Review of Frigidare Ice Maker',\n",
       "   'VIVOHOME Countertop Automatic Ice Cube Maker Machine',\n",
       "   'How To Clean Your Ice Maker '],\n",
       "  'url': ['https://www.amazon.com/vdp/04e6baae04404579891e175567cb7b9d?ref=dp_vse_rvc_0',\n",
       "   'https://www.amazon.com/vdp/0d6ee873c04545e297872f21f38ecd09?ref=dp_vse_rvc_1',\n",
       "   'https://www.amazon.com/vdp/0576ed1078764f53996bef3725ff767d?ref=dp_vse_rvc_2',\n",
       "   'https://www.amazon.com/vdp/0f8034b1507d4db8b05eb89321599eb0?ref=dp_vse_rvc_3',\n",
       "   'https://www.amazon.com/vdp/02caa2103d524af08793cecf3ec72fb0?ref=dp_vse_rvc_4',\n",
       "   'https://www.amazon.com/vdp/0bbb3e5c7b114ed9acde5bc1cc0d6e56?ref=dp_vse_rvc_5',\n",
       "   'https://www.amazon.com/vdp/036aa78c1fce4d66975a8d9df13cf692?ref=dp_vse_rvc_6',\n",
       "   'https://www.amazon.com/vdp/0eee9377eebf416f92f40c79a1201b0a?ref=dp_vse_rvc_7',\n",
       "   'https://www.amazon.com/vdp/08e510fdb18448fea830d0a358fddc3f?ref=dp_vse_rvc_8',\n",
       "   'https://www.amazon.com/vdp/0f989ad8e1aa4b999beac8a87542f2f6?ref=dp_vse_rvc_9'],\n",
       "  'user_id': ['/shop/influencer-20a38664',\n",
       "   '/shop/dr.nailnipperfanpage',\n",
       "   '/shop/influencer-5d9ad12c',\n",
       "   '/shop/mdomer8',\n",
       "   '/shop/influencer-767279e2',\n",
       "   '',\n",
       "   '/shop/wolfzoidgaming',\n",
       "   '/shop/sensationmecrazy',\n",
       "   '',\n",
       "   '/shop/videozeus']},\n",
       " 'store': 'ROVSUN',\n",
       " 'categories': ['Appliances',\n",
       "  'Refrigerators, Freezers & Ice Makers',\n",
       "  'Ice Makers'],\n",
       " 'details': '{\"Brand\": \"ROVSUN\", \"Model Name\": \"ICM-2005\", \"Capacity\": \"44 Pounds\", \"Wattage\": \"120 watts\", \"Voltage\": \"120 Volts\", \"Package Dimensions\": \"18 x 16 x 13.5 inches; 26.5 Pounds\", \"Date First Available\": \"March 17, 2021\", \"Manufacturer\": \"ROVSUN\"}',\n",
       " 'parent_asin': 'B08Z743RRD',\n",
       " 'bought_together': None,\n",
       " 'subtitle': None,\n",
       " 'author': None}"
      ]
     },
     "execution_count": 14,
     "metadata": {},
     "output_type": "execute_result"
    }
   ],
   "source": [
    "# Investigate a particular datapoint\n",
    "datapoint = dataset[0]\n",
    "datapoint\n"
   ]
  },
  {
   "cell_type": "code",
   "execution_count": 15,
   "id": "40a4e10f-6710-4780-a95e-6c0030c3fb87",
   "metadata": {},
   "outputs": [
    {
     "name": "stdout",
     "output_type": "stream",
     "text": [
      "ROVSUN Ice Maker Machine Countertop, Make 44lbs Ice in 24 Hours, Compact & Portable Ice Maker with Ice Basket for Home, Office, Kitchen, Bar (Silver)\n",
      "[]\n",
      "['【Quick Ice Making】This countertop ice machine creates crystal & bullet shaped ice cubes; 44lbs of ice ready in 24 hours, 12 cubes made per cycle within 10 mins; you can perfectly use it for drinks, wine, smoothies, food', '【Portable Design】The weight of this ice maker is only 23.3lbs, and the small size (10.63 x14.37 x 12.87)\" makes it portable. It\\'s compact feature is perfect for home, office, apartments, dormitories, RVs and more, it can be placed on countertop or tabletop, plug it anywhere you like', '【Simple Operation】Adding the water tank with purified water; Power on machine and press \"on/off\" button to start ice making process; After 8-12 minutes, ice cube will fall off into the ice basket automatically; Take it out and make you cool', '【Full Monitoring】 Designed with compressor cooling system, operates at low noise and will not disturb your normal life; See-through window on top allows you to easily view the progress and check ice level', \"【1 Year Warranty】We do cover 1 year warranty on this ice maker, any questions about it, please don't hesitate to contact us at any time for getting a satisfied service. Worry free purchase, so get this ice machine home today\"]\n",
      "{\"Brand\": \"ROVSUN\", \"Model Name\": \"ICM-2005\", \"Capacity\": \"44 Pounds\", \"Wattage\": \"120 watts\", \"Voltage\": \"120 Volts\", \"Package Dimensions\": \"18 x 16 x 13.5 inches; 26.5 Pounds\", \"Date First Available\": \"March 17, 2021\", \"Manufacturer\": \"ROVSUN\"}\n",
      "None\n"
     ]
    }
   ],
   "source": [
    "# Investigate print from above output 'title' etc...\n",
    "\n",
    "print(datapoint[\"title\"])\n",
    "print(datapoint[\"description\"])\n",
    "print(datapoint[\"features\"])\n",
    "print(datapoint[\"details\"])\n",
    "print(datapoint[\"price\"])"
   ]
  },
  {
   "cell_type": "code",
   "execution_count": 16,
   "id": "9d356c6f-b6e8-4e01-98cd-c562d132aafa",
   "metadata": {},
   "outputs": [
    {
     "name": "stdout",
     "output_type": "stream",
     "text": [
      "There are 46,726 with prices which is 49.5%\n"
     ]
    }
   ],
   "source": [
    "# How many have prices?\n",
    "\n",
    "prices = 0\n",
    "for datapoint in dataset:\n",
    "    try:\n",
    "        price = float(datapoint[\"price\"])\n",
    "        if price > 0:\n",
    "            prices += 1\n",
    "    except ValueError as e:\n",
    "        pass\n",
    "\n",
    "print(f\"There are {prices:,} with prices which is {prices/len(dataset)*100:,.1f}%\")"
   ]
  },
  {
   "cell_type": "code",
   "execution_count": 17,
   "id": "bd890259-aa25-4097-9524-f91c2bdd719b",
   "metadata": {},
   "outputs": [],
   "source": [
    "# For those with prices, gather the price and the length\n",
    "\n",
    "prices = []\n",
    "lengths = []\n",
    "for datapoint in dataset:\n",
    "    try:\n",
    "        price = float(datapoint[\"price\"])\n",
    "        if price > 0:\n",
    "            prices.append(price)\n",
    "            contents = datapoint[\"title\"] + str(datapoint[\"description\"]) + str(datapoint[\"features\"]) + str(datapoint[\"details\"])\n",
    "            lengths.append(len(contents))\n",
    "    except ValueError as e:\n",
    "        pass"
   ]
  },
  {
   "cell_type": "code",
   "execution_count": 18,
   "id": "89078cb1-9679-4eb0-b295-599b8586bcd1",
   "metadata": {},
   "outputs": [
    {
     "data": {
      "image/png": "[encoded data removed]",
      "text/plain": [
       "<Figure size 1500x600 with 1 Axes>"
      ]
     },
     "metadata": {},
     "output_type": "display_data"
    }
   ],
   "source": [
    "# Plot the distribution of lengths\n",
    "\n",
    "plt.figure(figsize=(15, 6))\n",
    "plt.title(f\"Lengths: Avg {sum(lengths)/len(lengths):,.0f} and highest {max(lengths):,}\\n\")\n",
    "plt.xlabel('Length (chars)')\n",
    "plt.ylabel('Count')\n",
    "plt.hist(lengths, rwidth=0.7, color=\"lightblue\", bins=range(0, 6000, 100))\n",
    "plt.show()"
   ]
  },
  {
   "cell_type": "code",
   "execution_count": 19,
   "id": "c38e0c43-9f7a-450e-a911-c94d37d9b9c3",
   "metadata": {},
   "outputs": [
    {
     "data": {
      "image/png": "[encoded data removed]",
      "text/plain": [
       "<Figure size 1500x600 with 1 Axes>"
      ]
     },
     "metadata": {},
     "output_type": "display_data"
    }
   ],
   "source": [
    "# Plot the distribution of prices\n",
    "\n",
    "plt.figure(figsize=(15, 6))\n",
    "plt.title(f\"Prices: Avg {sum(prices)/len(prices):,.2f} and highest {max(prices):,}\\n\")\n",
    "plt.xlabel('Price ($)')\n",
    "plt.ylabel('Count')\n",
    "plt.hist(prices, rwidth=0.7, color=\"orange\", bins=range(0, 1000, 10))\n",
    "plt.show()"
   ]
  },
  {
   "cell_type": "code",
   "execution_count": 20,
   "id": "eabc7c61-0cd2-41f4-baa1-b85400bbf87f",
   "metadata": {},
   "outputs": [
    {
     "name": "stdout",
     "output_type": "stream",
     "text": [
      "TurboChef BULLET Rapid Cook Electric Microwave Convection Oven\n"
     ]
    }
   ],
   "source": [
    "# So what is this item??\n",
    "\n",
    "for datapoint in dataset:\n",
    "    try:\n",
    "        price = float(datapoint[\"price\"])\n",
    "        if price > 21000:\n",
    "            print(datapoint['title'])\n",
    "    except ValueError as e:\n",
    "        pass"
   ]
  },
  {
   "cell_type": "markdown",
   "id": "3668ae25-3461-4e6e-9ccb-221c1925a497",
   "metadata": {},
   "source": [
    "This is the closest I can find - looks like it's going at a bargain price!!\n",
    "\n",
    "https://www.amazon.com/TurboChef-Electric-Countertop-Microwave-Convection/dp/B01D05U9NO/"
   ]
  },
  {
   "cell_type": "markdown",
   "id": "a0d02f58-23f6-4f81-a779-7c0555afd13d",
   "metadata": {},
   "source": [
    "## Now it's time to curate our dataset\n",
    "\n",
    "We select items that cost between 1 and 999 USD\n",
    "\n",
    "We will be create Item instances, which truncate the text to fit within 180 tokens using the right Tokenizer\n",
    "\n",
    "And will create a prompt to be used during Training.\n",
    "\n",
    "Items will be rejected if they don't have sufficient characters.\n",
    "\n",
    "## But why 180 tokens??\n",
    "\n",
    "A student asked me a great question - why are we truncating to 180 tokens? How did we determine that number? (Thank you Moataz A. for the excellent question).\n",
    "\n",
    "The answer: this is an example of a \"hyper-parameter\". In other words, it's basically trial and error! We want a sufficiently large number of tokens so that we have enough useful information to gauge the price. But we also want to keep the number low so that we can train efficiently. You'll see this in action in Week 7.\n",
    "\n",
    "I started with a number that seemed reasonable, and experimented with a few variations before settling on 180. If you have time, you should do the same! You might find that you can beat my results by finding a better balance. This kind of trial-and-error might sound a bit unsatisfactory, but it's a crucial part of the data science R&D process.\n",
    "\n",
    "There's another interesting reason why we might favor a lower number of tokens in the training data. When we eventually get to use our model at inference time, we'll want to provide new products and have it estimate a price. And we'll be using short descriptions of products - like 1-2 sentences. For best performance, we should size our training data to be similar to the inputs we will provide at inference time.\n",
    "\n",
    "## But I see in items.py it constrains inputs to 160 tokens?\n",
    "\n",
    "Another great question from Moataz A.! The description of the products is limited to 160 tokens because we add some more text before and after the description to turn it into a prompt. That brings it to around 180 tokens in total.\n",
    "\n"
   ]
  },
  {
   "cell_type": "code",
   "execution_count": 23,
   "id": "430b432f-b769-41da-9506-a238cb5cf1b6",
   "metadata": {},
   "outputs": [
    {
     "name": "stdout",
     "output_type": "stream",
     "text": [
      "There are 29,191 items\n"
     ]
    }
   ],
   "source": [
    "# Create an Item object for each with a price\n",
    "\n",
    "#dz_items = []\n",
    "items = []\n",
    "for datapoint in dataset:\n",
    "    try:\n",
    "        price = float(datapoint[\"price\"])\n",
    "        if price > 0:\n",
    "            item = Item(datapoint, price)\n",
    "            if item.include:\n",
    "                #dz_items.append(item)\n",
    "                items.append(item)\n",
    "    except ValueError as e:\n",
    "        pass\n",
    "\n",
    "#print(f\"There are {len(dz_items):,} items\")\n",
    "print(f\"There are {len(items):,} items\")"
   ]
  },
  {
   "cell_type": "code",
   "execution_count": 29,
   "id": "a718267a-324d-43a9-b1e7-60eec09204d6",
   "metadata": {},
   "outputs": [
    {
     "data": {
      "text/plain": [
       "<WP67003405 67003405 Door Pivot Block - Compatible Kenmore KitchenAid Maytag Whirlpool Refrigerator - Replaces AP6010352 8208254 PS11743531 - Quick DIY Repair Solution = $16.52>"
      ]
     },
     "execution_count": 29,
     "metadata": {},
     "output_type": "execute_result"
    }
   ],
   "source": [
    "# Look at the first item\n",
    "\n",
    "items[1]\n",
    "#dz_items[1]"
   ]
  },
  {
   "cell_type": "code",
   "execution_count": 30,
   "id": "70219e99-22cc-4e08-9121-51f9707caef0",
   "metadata": {},
   "outputs": [
    {
     "name": "stdout",
     "output_type": "stream",
     "text": [
      "How much does this cost to the nearest dollar?\n",
      "\n",
      "Samsung Assembly Ice Maker-Mech\n",
      "This is an O.E.M. Authorized part, fits with various Samsung brand models, oem part # this product in manufactured in south Korea. This is an O.E.M. Authorized part Fits with various Samsung brand models Oem part # This is a Samsung replacement part Part Number This is an O.E.M. part Manufacturer J&J International Inc., Part Weight 1 pounds, Dimensions 18 x 12 x 6 inches, model number Is Discontinued No, Color White, Material Acrylonitrile Butadiene Styrene, Quantity 1, Certification Certified frustration-free, Included Components Refrigerator-replacement-parts, Rank Tools & Home Improvement Parts & Accessories 31211, Available April 21, 2011\n",
      "\n",
      "Price is $118.00\n"
     ]
    }
   ],
   "source": [
    "# Investigate the prompt that will be used during training - the model learns to complete this\n",
    "\n",
    "print(items[100].prompt)"
   ]
  },
  {
   "cell_type": "code",
   "execution_count": 31,
   "id": "d9998b8d-d746-4541-9ac2-701108e0e8fb",
   "metadata": {},
   "outputs": [
    {
     "name": "stdout",
     "output_type": "stream",
     "text": [
      "How much does this cost to the nearest dollar?\n",
      "\n",
      "Samsung Assembly Ice Maker-Mech\n",
      "This is an O.E.M. Authorized part, fits with various Samsung brand models, oem part # this product in manufactured in south Korea. This is an O.E.M. Authorized part Fits with various Samsung brand models Oem part # This is a Samsung replacement part Part Number This is an O.E.M. part Manufacturer J&J International Inc., Part Weight 1 pounds, Dimensions 18 x 12 x 6 inches, model number Is Discontinued No, Color White, Material Acrylonitrile Butadiene Styrene, Quantity 1, Certification Certified frustration-free, Included Components Refrigerator-replacement-parts, Rank Tools & Home Improvement Parts & Accessories 31211, Available April 21, 2011\n",
      "\n",
      "Price is $\n"
     ]
    }
   ],
   "source": [
    "# Investigate the prompt that will be used during testing - the model has to complete this\n",
    "\n",
    "print(items[100].test_prompt())"
   ]
  },
  {
   "cell_type": "code",
   "execution_count": 32,
   "id": "7a116369-335a-412b-b70c-2add6675c2e3",
   "metadata": {},
   "outputs": [
    {
     "data": {
      "image/png": "[encoded data removed]",
      "text/plain": [
       "<Figure size 1500x600 with 1 Axes>"
      ]
     },
     "metadata": {},
     "output_type": "display_data"
    }
   ],
   "source": [
    "# Plot the distribution of token counts\n",
    "\n",
    "tokens = [item.token_count for item in items]\n",
    "plt.figure(figsize=(15, 6))\n",
    "plt.title(f\"Token counts: Avg {sum(tokens)/len(tokens):,.1f} and highest {max(tokens):,}\\n\")\n",
    "plt.xlabel('Length (tokens)')\n",
    "plt.ylabel('Count')\n",
    "plt.hist(tokens, rwidth=0.7, color=\"green\", bins=range(0, 300, 10))\n",
    "plt.show()"
   ]
  },
  {
   "cell_type": "code",
   "execution_count": 33,
   "id": "8d1744aa-71e7-435e-876e-91f06583211a",
   "metadata": {},
   "outputs": [
    {
     "data": {
      "image/png": "[encoded data removed]",
      "text/plain": [
       "<Figure size 1500x600 with 1 Axes>"
      ]
     },
     "metadata": {},
     "output_type": "display_data"
    }
   ],
   "source": [
    "# Plot the distribution of prices\n",
    "\n",
    "prices = [item.price for item in items]\n",
    "plt.figure(figsize=(15, 6))\n",
    "plt.title(f\"Prices: Avg {sum(prices)/len(prices):,.1f} and highest {max(prices):,}\\n\")\n",
    "plt.xlabel('Price ($)')\n",
    "plt.ylabel('Count')\n",
    "plt.hist(prices, rwidth=0.7, color=\"purple\", bins=range(0, 300, 10))\n",
    "plt.show()"
   ]
  },
  {
   "cell_type": "markdown",
   "id": "2b58dc61-747f-46f7-b9e0-c205db4f3e5e",
   "metadata": {},
   "source": [
    "## Sidenote\n",
    "\n",
    "If you like the variety of colors that matplotlib can use in its charts, you should bookmark this:\n",
    "\n",
    "https://matplotlib.org/stable/gallery/color/named_colors.html\n",
    "\n",
    "## Todos for you:\n",
    "\n",
    "- Review the Item class and check you're comfortable with it\n",
    "- Examine some Item objects, look at the training prompt with `item.prompt` and test prompt with `item.test_prompt()`\n",
    "- Make some more histograms to better understand the data\n",
    "\n",
    "## Next time we will combine with many other types of product\n",
    "\n",
    "Like Electronics and Automotive. This will give us a massive dataset, and we can then be picky about choosing a subset that will be most suitable for training."
   ]
  },
  {
   "cell_type": "code",
   "execution_count": null,
   "id": "9d8213c9-c39d-4b26-9d3d-cb5a3be1ea4c",
   "metadata": {},
   "outputs": [],
   "source": []
  }
 ],
 "metadata": {
  "kernelspec": {
   "display_name": "Python 3 (ipykernel)",
   "language": "python",
   "name": "python3"
  },
  "language_info": {
   "codemirror_mode": {
    "name": "ipython",
    "version": 3
   },
   "file_extension": ".py",
   "mimetype": "text/x-python",
   "name": "python",
   "nbconvert_exporter": "python",
   "pygments_lexer": "ipython3",
   "version": "3.12.10"
  }
 },
 "nbformat": 4,
 "nbformat_minor": 5
}
