{
 "cells": [
  {
   "cell_type": "markdown",
   "id": "d9b9eaa6-a12f-4cf8-a4c5-e8ac2c15d15b",
   "metadata": {},
   "source": [
    "# 🔍 Predicting Item Prices from Descriptions (Part 2)\n",
    "---\n",
    "- Data Curation & Preprocessing\n",
    "- ➡️ Model Benchmarking – Traditional ML vs LLMs\n",
    "- E5 Embeddings & RAG\n",
    "- Fine-Tuning GPT-4o Mini\n",
    "- Evaluating LLaMA 3.1 8B Quantized\n",
    "- Fine-Tuning LLaMA 3.1 with QLoRA\n",
    "- Evaluating Fine-Tuned LLaMA \n",
    "- Summary & Leaderboard\n",
    "\n",
    "--- \n",
    "\n",
    "# ⚔️ Part 2: Traditional ML vs LLMs\n",
    "\n",
    "- Tasks:\n",
    "    - Vectorize text (BoW, Word2Vec)\n",
    "    - Train SVR, LR, XGBoost models\n",
    "    - Predict with LLMs (GPT-4o, Claude, LLaMA…)\n",
    "    - Compare traditional ML vs LLMs\n",
    "  \n",
    "📊 Which model predicts prices best? Let’s find out.\n",
    "\n",
    "- 🧑‍💻 Skill Level: Advanced\n",
    "- ⚙️ Hardware: ✅ CPU is sufficient — no GPU required\n",
    "- 🛠️ Requirements: 🔑 HF Token, Open API Key, Anthropic API key, Groq API key\n",
    "\n",
    "⚠️ This notebook assumes you're familiar with NLP techniques (e.g., converting text to vectors using Bag-of-Words or Word2Vec) and traditional ML models (like SVR, Logistic Regression, XGBoost) along with basic evaluation metrics.\n",
    "\n",
    "---\n",
    "📢 Find more LLM notebooks on my [GitHub repository](https://github.com/lisekarimi/lexo)"
   ]
  },
  {
   "cell_type": "code",
   "execution_count": null,
   "id": "4ce6a892-b357-4132-b9c0-a3142a0244c8",
   "metadata": {},
   "outputs": [],
   "source": [
    "# imports\n",
    "\n",
    "import os\n",
    "import importlib\n",
    "import re\n",
    "import csv\n",
    "import tiktoken\n",
    "import math\n",
    "from datasets import load_dataset\n",
    "import pandas as pd\n",
    "import numpy as np\n",
    "from sklearn.linear_model import LinearRegression\n",
    "from sklearn.feature_extraction.text import CountVectorizer\n",
    "from gensim.models import Word2Vec\n",
    "from gensim.utils import simple_preprocess\n",
    "from sklearn.svm import LinearSVR\n",
    "import xgboost as xgb\n",
    "from dotenv import load_dotenv\n",
    "from openai import OpenAI\n",
    "from anthropic import Anthropic"
   ]
  },
  {
   "cell_type": "markdown",
   "id": "6f82b230-2e03-4b1e-9be5-926fcd19acbe",
   "metadata": {},
   "source": [
    "## 📥 Load Dataset"
   ]
  },
  {
   "cell_type": "code",
   "execution_count": null,
   "id": "4292a45d",
   "metadata": {},
   "outputs": [],
   "source": [
    "# #If you face NotImplementedError: Loading a dataset cached in a LocalFileSystem is not supported run:\n",
    "# %pip install -U datasets"
   ]
  },
  {
   "cell_type": "code",
   "execution_count": null,
   "id": "55f1495b-f343-4152-8739-3a99f5ac405d",
   "metadata": {},
   "outputs": [],
   "source": [
    "HF_USER = \"lisekarimi\"\n",
    "DATASET_NAME = f\"{HF_USER}/pricer-data\"\n",
    "\n",
    "dataset = load_dataset(DATASET_NAME)\n",
    "train = dataset['train']\n",
    "test = dataset['test']"
   ]
  },
  {
   "cell_type": "code",
   "execution_count": null,
   "id": "85880d79-f1ba-4ee8-a039-b6acea84562c",
   "metadata": {},
   "outputs": [],
   "source": [
    "print(train[0][\"text\"])"
   ]
  },
  {
   "cell_type": "code",
   "execution_count": null,
   "id": "88842541-d73b-4fae-a550-6dedf8fab633",
   "metadata": {},
   "outputs": [],
   "source": [
    "print(train[0][\"price\"])"
   ]
  },
  {
   "cell_type": "markdown",
   "id": "1e3501c5-a52d-4ace-a988-b86b7e7dbb31",
   "metadata": {},
   "source": [
    "## 🛠️ Prepare Data for models"
   ]
  },
  {
   "cell_type": "code",
   "execution_count": null,
   "id": "0a87cd82-127b-4a66-9ad9-90978a2376b5",
   "metadata": {},
   "outputs": [],
   "source": [
    "def mask_price_value(text):\n",
    "    return re.sub(r\"(\\n\\nPrice is \\$).*\", r\"\\1\", text)"
   ]
  },
  {
   "cell_type": "code",
   "execution_count": null,
   "id": "84ad6155-2708-4810-80a6-7efcf3bbd886",
   "metadata": {},
   "outputs": [],
   "source": [
    "# Extract prices\n",
    "prices = np.array([float(datapoint[\"price\"]) for datapoint in train])\n",
    "\n",
    "# Extract cleaned prompts\n",
    "documents = [mask_price_value(datapoint[\"text\"]) for datapoint in train]\n",
    "\n",
    "# Set random seed for reproducibility\n",
    "np.random.seed(42)"
   ]
  },
  {
   "cell_type": "code",
   "execution_count": null,
   "id": "c1c82371-5e92-4354-a064-38db1b6a8339",
   "metadata": {},
   "outputs": [],
   "source": [
    "print(documents[0])"
   ]
  },
  {
   "cell_type": "markdown",
   "id": "f05dd862-cc64-43d3-a0c3-c3a16d66e1bf",
   "metadata": {},
   "source": [
    "## 📊 Model Evaluation with testing.py\n",
    "\n",
    "- Runs predictions and computes errors on test data\n",
    "- Metrics: Absolute error, RMSLE, and hit rate\n",
    "- Visual: Scatter plot of predicted vs. actual prices (color-coded)"
   ]
  },
  {
   "cell_type": "code",
   "execution_count": null,
   "id": "45965754-7107-4023-bb33-81730b73db2e",
   "metadata": {},
   "outputs": [],
   "source": [
    "import helpers.testing\n",
    "importlib.reload(helpers.testing)\n",
    "\n",
    "from helpers.testing import Tester  # noqa: E402\n",
    "\n",
    "results = {}  # Store each model's tester to compare and find the best performer"
   ]
  },
  {
   "cell_type": "markdown",
   "id": "2d8b08a8-f0a3-468f-91ea-7da60aecc32a",
   "metadata": {},
   "source": [
    "## 🎯 Price Prediction with Traditional ML"
   ]
  },
  {
   "cell_type": "markdown",
   "id": "35475efe-0751-443a-9605-89e2025c3eb4",
   "metadata": {},
   "source": [
    "## Bag-of-Words + Linear Regression"
   ]
  },
  {
   "cell_type": "code",
   "execution_count": null,
   "id": "ded239d6-4dca-439b-8748-67aa2d2fa2a9",
   "metadata": {},
   "outputs": [],
   "source": [
    "# Use the CountVectorizer for a Bag of Words model\n",
    "vectorizer = CountVectorizer(max_features=1000, stop_words='english')\n",
    "X = vectorizer.fit_transform(documents)\n",
    "regressor = LinearRegression()\n",
    "regressor.fit(X, prices)\n",
    "\n",
    "def bow_lr_pricer(datapoint):\n",
    "    x = vectorizer.transform([mask_price_value(datapoint[\"text\"])])\n",
    "    return max(regressor.predict(x)[0], 0)\n",
    "\n",
    "tester = Tester(bow_lr_pricer, test)\n",
    "tester.run()\n",
    "results[\"Bag of Words LR\"] = tester"
   ]
  },
  {
   "cell_type": "markdown",
   "id": "4b861fe5",
   "metadata": {},
   "source": [
    "Bow Lr Pricer Error=$121.23 RMSLE=0.98 Hits=27.2%"
   ]
  },
  {
   "cell_type": "markdown",
   "id": "25dfc7c6-a258-4b56-8c02-f01003c4674d",
   "metadata": {},
   "source": [
    "## Word2Vec + Linear Regression"
   ]
  },
  {
   "cell_type": "code",
   "execution_count": null,
   "id": "efa22fd1-e81d-4142-b0a1-f1399c7a98a3",
   "metadata": {},
   "outputs": [],
   "source": [
    "# Preprocess the documents\n",
    "processed_docs = [simple_preprocess(doc) for doc in documents]\n",
    "\n",
    "# Train Word2Vec model\n",
    "w2v_model = Word2Vec(sentences=processed_docs, vector_size=400, window=5, min_count=1, workers=4)\n",
    "\n",
    "# This step of averaging vectors across the document is a weakness in our approach\n",
    "\n",
    "def document_vector(doc):\n",
    "    doc_words = simple_preprocess(doc)\n",
    "    word_vectors = [w2v_model.wv[word] for word in doc_words if word in w2v_model.wv]\n",
    "    return np.mean(word_vectors, axis=0) if word_vectors else np.zeros(w2v_model.vector_size)\n",
    "\n",
    "# Create feature matrix\n",
    "X_w2v = np.array([document_vector(doc) for doc in documents])\n",
    "\n",
    "# Run Linear Regression on word2vec\n",
    "\n",
    "word2vec_lr_regressor = LinearRegression()\n",
    "word2vec_lr_regressor.fit(X_w2v, prices)\n",
    "\n",
    "def word2vec_lr_pricer(datapoint):\n",
    "    doc = mask_price_value(datapoint[\"text\"])\n",
    "    vec = document_vector(doc)\n",
    "    return max(0, word2vec_lr_regressor.predict([vec])[0])\n",
    "\n",
    "tester = Tester(word2vec_lr_pricer, test)\n",
    "tester.run()\n",
    "results[\"Word2Vec LR\"] = tester"
   ]
  },
  {
   "cell_type": "markdown",
   "id": "daaf6101",
   "metadata": {},
   "source": [
    "Word2Vec Lr Pricer Error=$127.42 RMSLE=0.97 Hits=27.6%"
   ]
  },
  {
   "cell_type": "markdown",
   "id": "5f1fe808-f80e-4d15-8ec7-d31710cf68c5",
   "metadata": {},
   "source": [
    "## Word2Vec + Linear SVR"
   ]
  },
  {
   "cell_type": "code",
   "execution_count": null,
   "id": "35d01455-6619-4f29-8f95-90c03763407e",
   "metadata": {},
   "outputs": [],
   "source": [
    "svr_regressor = LinearSVR()\n",
    "svr_regressor.fit(X_w2v, prices)\n",
    "\n",
    "def svr_pricer(datapoint):\n",
    "    np.random.seed(42)\n",
    "    doc = mask_price_value(datapoint[\"text\"])\n",
    "    doc_vector = document_vector(doc)\n",
    "    return max(float(svr_regressor.predict([doc_vector])[0]),0)\n",
    "\n",
    "tester = Tester(svr_pricer, test)\n",
    "tester.run()\n",
    "results[\"Word2Vec SVR\"] = tester"
   ]
  },
  {
   "cell_type": "markdown",
   "id": "48cb9c88",
   "metadata": {},
   "source": [
    "Svr Pricer Error=$124.24 RMSLE=0.98 Hits=28.4%"
   ]
  },
  {
   "cell_type": "markdown",
   "id": "469ca205-3e5e-4aca-8b77-53f6acd92e40",
   "metadata": {},
   "source": [
    "## Word2Vec + XGBoost "
   ]
  },
  {
   "cell_type": "markdown",
   "id": "a55acfe0-9633-45aa-a4c4-96b434a5a43b",
   "metadata": {},
   "source": [
    "I initially tried Random Forest, but it struggled with high training time and didn’t scale well with this data.\n",
    "That’s why I opted for XGBoost — it’s faster, handles large datasets efficiently, and often delivers better performance on structured data."
   ]
  },
  {
   "cell_type": "code",
   "execution_count": null,
   "id": "b0e3e1d7-2e62-4866-924e-7ed4483db8bc",
   "metadata": {},
   "outputs": [],
   "source": [
    "xgb_model = xgb.XGBRegressor(n_estimators=100, random_state=42, n_jobs=-1, verbosity=0)\n",
    "xgb_model.fit(X_w2v, prices)\n",
    "\n",
    "def xgboost_pricer(datapoint):\n",
    "    doc = mask_price_value(datapoint[\"text\"])\n",
    "    doc_vector = document_vector(doc)\n",
    "    return max(0, xgb_model.predict([doc_vector])[0])\n",
    "\n",
    "tester = Tester(xgboost_pricer, test)\n",
    "tester.run()\n",
    "results[\"Word2Vec XGBoost\"] = tester\n"
   ]
  },
  {
   "cell_type": "markdown",
   "id": "d35050fa",
   "metadata": {},
   "source": [
    "Xgboost Pricer Error=$107.97 RMSLE=0.84 Hits=29.2%"
   ]
  },
  {
   "cell_type": "markdown",
   "id": "4db1051d-9a7e-4cec-87fc-0d77fd858ced",
   "metadata": {},
   "source": [
    "## 🚀 Price Prediction with Frontier LLMs"
   ]
  },
  {
   "cell_type": "code",
   "execution_count": null,
   "id": "0ef3fa58-87b7-4c30-8088-1a4999f0d25a",
   "metadata": {},
   "outputs": [],
   "source": [
    "load_dotenv(override=True)\n",
    "\n",
    "# Get API keys from environment\n",
    "openai_api_key = os.getenv('OPENAI_API_KEY')\n",
    "if not openai_api_key:\n",
    "   print(\"❌ OPENAI_API_KEY is missing\")\n",
    "\n",
    "anthropic_api_key = os.getenv('ANTHROPIC_API_KEY')\n",
    "if not anthropic_api_key:\n",
    "   print(\"❌ ANTHROPIC_API_KEY is missing\")\n",
    "\n",
    "groq_api_key = os.getenv('GROQ_API_KEY')\n",
    "if not groq_api_key:\n",
    "   print(\"❌ GROQ_API_KEY is missing\")\n",
    "\n",
    "# Initialize clients\n",
    "openai = OpenAI(api_key=openai_api_key)\n",
    "claude = Anthropic(api_key=anthropic_api_key)\n",
    "groq = OpenAI(api_key=groq_api_key, base_url=\"https://api.groq.com/openai/v1\")"
   ]
  },
  {
   "cell_type": "code",
   "execution_count": null,
   "id": "d86b3bca-513b-4621-8c66-4b89c134b895",
   "metadata": {},
   "outputs": [],
   "source": [
    "def messages_for(datapoint):\n",
    "    system_message = \"You estimate prices of items. Reply only with the price, no explanation\"\n",
    "    user_prompt = mask_price_value(datapoint[\"text\"]).replace(\" to the nearest dollar\", \"\").replace(\"\\n\\nPrice is $\",\"\")\n",
    "    return [\n",
    "        {\"role\": \"system\", \"content\": system_message},\n",
    "        {\"role\": \"user\", \"content\": user_prompt},\n",
    "        {\"role\": \"assistant\", \"content\": \"Price is $\"}\n",
    "    ]\n",
    "\n",
    "messages_for(train[0])"
   ]
  },
  {
   "cell_type": "code",
   "execution_count": null,
   "id": "f502d428-98aa-4160-bebe-726efcce5c65",
   "metadata": {},
   "outputs": [],
   "source": [
    "# A utility function to extract the price from a string\n",
    "\n",
    "def get_price(s):\n",
    "    s = s.replace('$','').replace(',','')\n",
    "    match = re.search(r\"[-+]?\\d*\\.\\d+|\\d+\", s)\n",
    "    return float(match.group()) if match else 0\n",
    "\n",
    "get_price(\"The price is roughly $99.99 because blah blah\") # Testing"
   ]
  },
  {
   "cell_type": "code",
   "execution_count": null,
   "id": "3845eda0-d37d-4605-a00f-83b1d8fc6945",
   "metadata": {},
   "outputs": [],
   "source": [
    "# A utility function to Count the tokens before passing the prompt to the model\n",
    "\n",
    "def count_tokens(messages):\n",
    "    encoding = tiktoken.get_encoding(\"cl100k_base\")\n",
    "    token_count = sum(len(encoding.encode(message['content'])) for message in messages)\n",
    "    return token_count\n"
   ]
  },
  {
   "cell_type": "markdown",
   "id": "4737e678-5d57-4dee-984b-ae5c56f9542d",
   "metadata": {},
   "source": [
    "### gpt-4o-mini"
   ]
  },
  {
   "cell_type": "code",
   "execution_count": null,
   "id": "dca067d0-a4ff-4a48-bb74-d2914f3704b7",
   "metadata": {},
   "outputs": [],
   "source": [
    "# Count tokens once before running\n",
    "total_tokens = 0\n",
    "for datapoint in train:\n",
    "    messages = messages_for(datapoint)\n",
    "    total_tokens += count_tokens(messages)\n",
    "print(f\"Total tokens: {total_tokens}\")\n",
    "\n",
    "def gpt_4o_mini(datapoint):\n",
    "    messages = messages_for(datapoint)\n",
    "    response = openai.chat.completions.create(\n",
    "        model=\"gpt-4o-mini\",\n",
    "        messages=messages,\n",
    "        seed=42,\n",
    "        max_tokens=5\n",
    "    )\n",
    "    reply = response.choices[0].message.content\n",
    "    return get_price(reply)\n",
    "\n",
    "tester = Tester(gpt_4o_mini, test)\n",
    "tester.run()\n",
    "results[\"gpt 4o mini\"] = tester"
   ]
  },
  {
   "cell_type": "markdown",
   "id": "5c4c8ee4",
   "metadata": {},
   "source": [
    "Gpt 4o Mini Error=$99.30 RMSLE=0.75 Hits=44.8%"
   ]
  },
  {
   "cell_type": "markdown",
   "id": "00a72937-9cde-472c-bd22-84996a42ab4c",
   "metadata": {},
   "source": [
    "### gpt 4o (the big guy 😎)"
   ]
  },
  {
   "cell_type": "code",
   "execution_count": null,
   "id": "20d18e1a-ccbf-4481-84ed-16b1c5760176",
   "metadata": {},
   "outputs": [],
   "source": [
    "def gpt_4o_frontier(datapoint):\n",
    "    response = openai.chat.completions.create(\n",
    "        model=\"gpt-4o\",\n",
    "        messages=messages_for(datapoint),\n",
    "        seed=42,\n",
    "        max_tokens=5\n",
    "    )\n",
    "    reply = response.choices[0].message.content\n",
    "    return get_price(reply)\n",
    "\n",
    "tester = Tester(gpt_4o_frontier, test)\n",
    "tester.run()\n",
    "results[\"gpt 4o (the big guy)\"] = tester"
   ]
  },
  {
   "cell_type": "markdown",
   "id": "0c307928",
   "metadata": {},
   "source": [
    "Gpt 4O Frontier Error=$87.68 RMSLE=1.01 Hits=51.2%"
   ]
  },
  {
   "cell_type": "markdown",
   "id": "20af42a7-8889-4091-bee9-80aeaf63816f",
   "metadata": {},
   "source": [
    "### claude 3.7 Sonnet"
   ]
  },
  {
   "cell_type": "code",
   "execution_count": null,
   "id": "f4e343ef-2097-4395-86b2-90c489f133fe",
   "metadata": {},
   "outputs": [],
   "source": [
    "def claude_3_point_7_sonnet(datapoint):\n",
    "    messages = messages_for(datapoint)\n",
    "    system_message = messages[0]['content']\n",
    "    messages = messages[1:]\n",
    "    response = claude.messages.create(\n",
    "        model=\"claude-3-7-sonnet-20250219\",\n",
    "        max_tokens=5,\n",
    "        system=system_message,\n",
    "        messages=messages\n",
    "    )\n",
    "    reply = response.content[0].text\n",
    "    return get_price(reply)\n",
    "\n",
    "tester = Tester(claude_3_point_7_sonnet, test)\n",
    "tester.run()\n",
    "results[\"claude 3.7 sonnet\"] = tester"
   ]
  },
  {
   "cell_type": "markdown",
   "id": "fdbba849",
   "metadata": {},
   "source": [
    "Claude 3 Point 7 Sonnet Error=$110.26 RMSLE=0.60 Hits=46.0%"
   ]
  },
  {
   "cell_type": "markdown",
   "id": "0ff3a6bd-99b8-438e-abc1-295bf0bb9961",
   "metadata": {},
   "source": [
    "### groq model"
   ]
  },
  {
   "cell_type": "code",
   "execution_count": null,
   "id": "58a0c852-0811-4156-9c08-fa5bf4b54cd2",
   "metadata": {},
   "outputs": [],
   "source": [
    "def llama3_groq_pricer(datapoint):\n",
    "    response = groq.chat.completions.create(\n",
    "        model=\"llama3-70b-8192\",\n",
    "        messages=messages_for(datapoint),\n",
    "        max_tokens=5,\n",
    "        seed=42\n",
    "    )\n",
    "    reply = response.choices[0].message.content\n",
    "    return get_price(reply)\n",
    "\n",
    "tester = Tester(llama3_groq_pricer, test)\n",
    "tester.run()\n",
    "results[\"llama3-70b-8192\"] = tester"
   ]
  },
  {
   "cell_type": "markdown",
   "id": "daf7f96c",
   "metadata": {},
   "source": [
    "Llama3 Groq Pricer Error=$122.95 RMSLE=0.73 Hits=44.8%"
   ]
  },
  {
   "cell_type": "code",
   "execution_count": null,
   "id": "b4cd8f25-9a8d-4227-ba58-c163b4d601cb",
   "metadata": {},
   "outputs": [],
   "source": [
    "def deepseek_qwen_pricer(datapoint):\n",
    "    response = groq.chat.completions.create(\n",
    "        model=\"deepseek-r1-distill-qwen-32b\",\n",
    "        messages=messages_for(datapoint),\n",
    "        max_tokens=5,\n",
    "        seed=42\n",
    "    )\n",
    "    reply = response.choices[0].message.content\n",
    "    return get_price(reply)\n",
    "\n",
    "tester = Tester(deepseek_qwen_pricer, test)\n",
    "tester.run()\n",
    "results[\"deepseek-qwen-32b\"] = tester"
   ]
  },
  {
   "cell_type": "markdown",
   "id": "7280870e",
   "metadata": {},
   "source": [
    "Deepseek Qwen Pricer Error=$178.96 RMSLE=0.83 Hits=33.2%"
   ]
  },
  {
   "cell_type": "markdown",
   "id": "af7d0190-d89b-4525-8a34-21033e99abb0",
   "metadata": {},
   "source": [
    "## 🕵️ Human Judgement Baseline (Ed)\n",
    "\n",
    "We include a human baseline from our instructor Ed, who manually estimated prices based on item descriptions (💪 thanks Ed for taking on this exhausting task!). This allows us to compare model performance against human intuition."
   ]
  },
  {
   "cell_type": "code",
   "execution_count": null,
   "id": "4d63970d-a2d2-4329-8fe7-d0bdc2ff1bcb",
   "metadata": {},
   "outputs": [],
   "source": [
    "human_predictions = []\n",
    "\n",
    "with open('data/human_output.csv', 'r', encoding=\"utf-8\") as csvfile:\n",
    "    reader = csv.reader(csvfile)\n",
    "    for row in reader:\n",
    "        human_predictions.append(float(row[1]))\n",
    "\n",
    "def human_pricer(datapoint):\n",
    "    # `Tester` runs in order, so use the index from Tester itself\n",
    "    idx = human_pricer.counter\n",
    "    human_pricer.counter += 1\n",
    "    return human_predictions[idx]\n",
    "\n",
    "human_pricer.counter = 0  # initialize counter\n",
    "\n",
    "tester = Tester(human_pricer, test)\n",
    "tester.run()\n",
    "results[\"Human Predictions\"] = tester"
   ]
  },
  {
   "cell_type": "markdown",
   "id": "08c0d367-d596-43e6-81af-5889691fa34b",
   "metadata": {},
   "source": [
    "## 🥇 Benchmark Showdown: ML, LLMs, and Ed"
   ]
  },
  {
   "cell_type": "code",
   "execution_count": null,
   "id": "830ae9a5-a185-41af-b17f-8d6a3f3752b7",
   "metadata": {},
   "outputs": [],
   "source": [
    "def truncate(x, decimals=2):\n",
    "    factor = 10 ** decimals\n",
    "    return math.floor(x * factor) / factor\n",
    "\n",
    "df_results = []\n",
    "\n",
    "for model_name, tester in results.items():\n",
    "    avg_error = truncate(sum(tester.errors) / tester.size)\n",
    "    hit_percent = truncate(sum(1 for c in tester.colors if c == \"green\") / tester.size * 100)\n",
    "    rmsle = truncate(math.sqrt(sum(tester.sles) / tester.size))\n",
    "\n",
    "    df_results.append({\n",
    "        \"model\": model_name,\n",
    "        \"avrg_error\": avg_error,\n",
    "        \"rmsle\": rmsle,\n",
    "        \"accuracy_%\": hit_percent\n",
    "    })\n",
    "\n",
    "df_results = pd.DataFrame(df_results)\n",
    "df_results = df_results.sort_values(by=\"avrg_error\")\n",
    "\n",
    "# Display with .2f formatting\n",
    "print(df_results.to_string(index=False, float_format=\"{:.2f}\".format))\n"
   ]
  },
  {
   "attachments": {
    "image.png": {
     "image/png": "[encoded data removed]"
    }
   },
   "cell_type": "markdown",
   "id": "e78ddc21-1ffc-431b-902b-4562bdd4e789",
   "metadata": {},
   "source": [
    "![image.png](attachment:image.png)\n",
    "\n",
    "🏁 **GPT-4o, GPT-4o Mini and XGBoost** clearly outperformed both LLMs (like Claude 3.7, LLaMA3-70B, DeepSeek-32B) and traditional ML approaches (LR, SVR).\n",
    "\n",
    "Now let’s take the top-performing frontier LLM — **GPT-4o Mini** — to test if retrieval (RAG) boosts its performance, and the best ML model — **XGBoost** — to see if contextual embeddings enhance its predictions.\n",
    "\n",
    "Let’s find out.\n",
    "\n",
    "🔜 See you in the [next notebook](https://github.com/lisek75/nlp_llms_notebook/blob/main/09_part3_e5embeddings_rag.ipynb)"
   ]
  }
 ],
 "metadata": {
  "kernelspec": {
   "display_name": ".venv",
   "language": "python",
   "name": "python3"
  },
  "language_info": {
   "codemirror_mode": {
    "name": "ipython",
    "version": 3
   },
   "file_extension": ".py",
   "mimetype": "text/x-python",
   "name": "python",
   "nbconvert_exporter": "python",
   "pygments_lexer": "ipython3",
   "version": "3.11.7"
  }
 },
 "nbformat": 4,
 "nbformat_minor": 5
}
