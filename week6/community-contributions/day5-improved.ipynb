{
 "cells": [
  {
   "cell_type": "markdown",
   "id": "db8736a7-ed94-441c-9556-831fa57b5a10",
   "metadata": {},
   "source": [
    "# The Product Pricer Continued\n",
    "\n",
    "A model that can estimate how much something costs, from its description.\n",
    "\n",
    "## AT LAST - it's time for Fine Tuning!\n",
    "\n",
    "After all this data preparation, and old school machine learning, we've finally arrived at the moment you've been waiting for. Fine-tuning a model."
   ]
  },
  {
   "cell_type": "code",
   "execution_count": 1,
   "id": "681c717b-4c24-4ac3-a5f3-3c5881d6e70a",
   "metadata": {},
   "outputs": [],
   "source": [
    "# imports\n",
    "\n",
    "import os\n",
    "import re\n",
    "import math\n",
    "import json\n",
    "import random\n",
    "from dotenv import load_dotenv\n",
    "from huggingface_hub import login\n",
    "import matplotlib.pyplot as plt\n",
    "import numpy as np\n",
    "import pickle\n",
    "from collections import Counter\n",
    "from openai import OpenAI\n",
    "from anthropic import Anthropic"
   ]
  },
  {
   "cell_type": "code",
   "execution_count": 2,
   "id": "36d05bdc-0155-4c72-a7ee-aa4e614ffd3c",
   "metadata": {},
   "outputs": [],
   "source": [
    "# environment\n",
    "\n",
    "load_dotenv(override=True)\n",
    "os.environ['OPENAI_API_KEY'] = os.getenv('OPENAI_API_KEY', 'your-key-if-not-using-env')\n",
    "os.environ['ANTHROPIC_API_KEY'] = os.getenv('ANTHROPIC_API_KEY', 'your-key-if-not-using-env')\n",
    "os.environ['HF_TOKEN'] = os.getenv('HF_TOKEN', 'your-key-if-not-using-env')"
   ]
  },
  {
   "cell_type": "code",
   "execution_count": 3,
   "id": "4dd3aad2-6f99-433c-8792-e461d2f06622",
   "metadata": {},
   "outputs": [
    {
     "name": "stderr",
     "output_type": "stream",
     "text": [
      "Note: Environment variable`HF_TOKEN` is set and is the current active token independently from the token you've just configured.\n"
     ]
    }
   ],
   "source": [
    "# Log in to HuggingFace\n",
    "\n",
    "hf_token = os.environ['HF_TOKEN']\n",
    "login(hf_token, add_to_git_credential=True)"
   ]
  },
  {
   "cell_type": "code",
   "execution_count": 51,
   "id": "884a50bd-8cae-425e-8e56-f079fc3e65ce",
   "metadata": {},
   "outputs": [],
   "source": [
    "# moved our Tester into a separate package\n",
    "# call it with Tester.test(function_name, test_dataset)\n",
    "\n",
    "from items import Item\n",
    "from testing import Tester"
   ]
  },
  {
   "cell_type": "code",
   "execution_count": 5,
   "id": "b0a6fb86-74a4-403c-ab25-6db2d74e9d2b",
   "metadata": {},
   "outputs": [],
   "source": [
    "openai = OpenAI()"
   ]
  },
  {
   "cell_type": "code",
   "execution_count": 6,
   "id": "c830ed3e-24ee-4af6-a07b-a1bfdcd39278",
   "metadata": {},
   "outputs": [],
   "source": [
    "%matplotlib inline"
   ]
  },
  {
   "cell_type": "code",
   "execution_count": 7,
   "id": "5c9b05f4-c9eb-462c-8d86-de9140a2d985",
   "metadata": {},
   "outputs": [],
   "source": [
    "# Let's avoid curating all our data again! Load in the pickle files:\n",
    "\n",
    "with open('train.pkl', 'rb') as file:\n",
    "    train = pickle.load(file)\n",
    "\n",
    "with open('test.pkl', 'rb') as file:\n",
    "    test = pickle.load(file)"
   ]
  },
  {
   "cell_type": "code",
   "execution_count": 8,
   "id": "e8367135-f40e-43e1-8f3c-09e990ab1194",
   "metadata": {},
   "outputs": [],
   "source": [
    "# OpenAI recommends fine-tuning with populations of 50-100 examples\n",
    "# But as our examples are very small, I'm suggesting we go with 200 examples (and 1 epoch)\n",
    "\n",
    "fine_tune_train = train[:200]\n",
    "fine_tune_validation = train[200:250]"
   ]
  },
  {
   "cell_type": "markdown",
   "id": "8be4a889-81c3-42b1-a2fc-034cdc7321a6",
   "metadata": {},
   "source": [
    "# Step 1\n",
    "\n",
    "Prepare our data for fine-tuning in JSONL (JSON Lines) format and upload to OpenAI"
   ]
  },
  {
   "cell_type": "code",
   "execution_count": null,
   "id": "8ae2fb3c-1cff-4ce3-911e-627c970edd7b",
   "metadata": {},
   "outputs": [],
   "source": [
    "# # First let's work on a good prompt for a Frontier model\n",
    "# # Notice that I'm removing the \" to the nearest dollar\"\n",
    "# # When we train our own models, we'll need to make the problem as easy as possible, \n",
    "# # but a Frontier model needs no such simplification.\n",
    "\n",
    "# def messages_for(item):\n",
    "#     system_message = \"You estimate prices of items. Reply only with the price, no explanation\"\n",
    "#     user_prompt = item.test_prompt().replace(\" to the nearest dollar\",\"\").replace(\"\\n\\nPrice is $\",\"\")\n",
    "#     return [\n",
    "#         {\"role\": \"system\", \"content\": system_message},\n",
    "#         {\"role\": \"user\", \"content\": user_prompt},\n",
    "#         {\"role\": \"assistant\", \"content\": f\"Price is ${item.price:.2f}\"}\n",
    "#     ]"
   ]
  },
  {
   "cell_type": "code",
   "execution_count": 9,
   "id": "ca3c0910-1919-47f8-8800-b12be4e983e9",
   "metadata": {},
   "outputs": [],
   "source": [
    "def messages_for(item):\n",
    "    system_message = \"\"\"You are an Amazon marketplace pricing expert. Analyze product descriptions to predict accurate Amazon selling prices based on typical marketplace dynamics and consumer behavior patterns.\n",
    "\n",
    "Key Amazon pricing factors to evaluate:\n",
    "- Brand strength (Apple, Samsung, Nike = premium; generic/unbranded = budget)\n",
    "- Product category positioning (Home & Kitchen, Electronics, Sports, Beauty, etc.)\n",
    "- Pack size and quantity (bulk/multi-packs often better per-unit value)\n",
    "- Prime eligibility indicators and fulfillment method signals\n",
    "- Product variations (color, size, model) affecting price tiers\n",
    "- Feature density and specification richness\n",
    "- Amazon's Choice or bestseller indicators in description\n",
    "- Customer rating implications (4.5+ stars = premium pricing power)\n",
    "- Seasonal/trending product indicators\n",
    "\n",
    "Amazon-specific pricing patterns:\n",
    "- Electronics: $10-50 (accessories), $50-200 (mid-tier), $200+ (premium)\n",
    "- Home/Kitchen: $15-40 (small items), $40-150 (appliances), $150+ (major items)\n",
    "- Beauty/Personal Care: $8-25 (drugstore), $25-60 (prestige), $60+ (luxury)\n",
    "- Sports/Outdoors: $20-80 (equipment), $30-120 (apparel), $100+ (specialized gear)\n",
    "- Books/Media: $10-20 (paperback), $15-35 (hardcover), $25-50 (specialty)\n",
    "- Toys/Games: $15-40 (standard), $40-100 (premium/electronic)\n",
    "\n",
    "Consider Amazon's psychological pricing (ends in .99, .95, .49) and competitive marketplace pressure.\n",
    "\n",
    "Output format: Respond with only the price including dollar sign and cents (e.g., \"$24.99\"). No explanations or additional text.\"\"\"\n",
    "    \n",
    "    user_prompt = item.test_prompt().replace(\" to the nearest dollar\",\"\").replace(\"\\n\\nPrice is $\",\"\")\n",
    "    \n",
    "    return [\n",
    "        {\"role\": \"system\", \"content\": system_message},\n",
    "        {\"role\": \"user\", \"content\": user_prompt},\n",
    "        {\"role\": \"assistant\", \"content\": f\"${item.price:.2f}\"}\n",
    "    ]"
   ]
  },
  {
   "cell_type": "code",
   "execution_count": 10,
   "id": "1aa280f6-1227-426a-a2e2-1ce985feba1e",
   "metadata": {},
   "outputs": [
    {
     "data": {
      "text/plain": [
       "[{'role': 'system',\n",
       "  'content': 'You are an Amazon marketplace pricing expert. Analyze product descriptions to predict accurate Amazon selling prices based on typical marketplace dynamics and consumer behavior patterns.\\n\\nKey Amazon pricing factors to evaluate:\\n- Brand strength (Apple, Samsung, Nike = premium; generic/unbranded = budget)\\n- Product category positioning (Home & Kitchen, Electronics, Sports, Beauty, etc.)\\n- Pack size and quantity (bulk/multi-packs often better per-unit value)\\n- Prime eligibility indicators and fulfillment method signals\\n- Product variations (color, size, model) affecting price tiers\\n- Feature density and specification richness\\n- Amazon\\'s Choice or bestseller indicators in description\\n- Customer rating implications (4.5+ stars = premium pricing power)\\n- Seasonal/trending product indicators\\n\\nAmazon-specific pricing patterns:\\n- Electronics: $10-50 (accessories), $50-200 (mid-tier), $200+ (premium)\\n- Home/Kitchen: $15-40 (small items), $40-150 (appliances), $150+ (major items)\\n- Beauty/Personal Care: $8-25 (drugstore), $25-60 (prestige), $60+ (luxury)\\n- Sports/Outdoors: $20-80 (equipment), $30-120 (apparel), $100+ (specialized gear)\\n- Books/Media: $10-20 (paperback), $15-35 (hardcover), $25-50 (specialty)\\n- Toys/Games: $15-40 (standard), $40-100 (premium/electronic)\\n\\nConsider Amazon\\'s psychological pricing (ends in .99, .95, .49) and competitive marketplace pressure.\\n\\nOutput format: Respond with only the price including dollar sign and cents (e.g., \"$24.99\"). No explanations or additional text.'},\n",
       " {'role': 'user',\n",
       "  'content': 'How much does this cost?\\n\\nDelphi FG0166 Fuel Pump Module\\nDelphi brings 80 years of OE Heritage into each Delphi pump, ensuring quality and fitment for each Delphi part. Part is validated, tested and matched to the right vehicle application Delphi brings 80 years of OE Heritage into each Delphi assembly, ensuring quality and fitment for each Delphi part Always be sure to check and clean fuel tank to avoid unnecessary returns Rigorous OE-testing ensures the pump can withstand extreme temperatures Brand Delphi, Fit Type Vehicle Specific Fit, Dimensions LxWxH 19.7 x 7.7 x 5.1 inches, Weight 2.2 Pounds, Auto Part Position Unknown, Operation Mode Mechanical, Manufacturer Delphi, Model FUEL PUMP, Dimensions 19.7'},\n",
       " {'role': 'assistant', 'content': '$226.95'}]"
      ]
     },
     "execution_count": 10,
     "metadata": {},
     "output_type": "execute_result"
    }
   ],
   "source": [
    "messages_for(train[0])"
   ]
  },
  {
   "cell_type": "code",
   "execution_count": 11,
   "id": "c0e5b56c-8a0b-4d8e-a112-ce87efb4e152",
   "metadata": {},
   "outputs": [],
   "source": [
    "# Convert the items into a list of json objects - a \"jsonl\" string\n",
    "# Each row represents a message in the form:\n",
    "# {\"messages\" : [{\"role\": \"system\", \"content\": \"You estimate prices...\n",
    "\n",
    "\n",
    "def make_jsonl(items):\n",
    "    result = \"\"\n",
    "    for item in items:\n",
    "        messages = messages_for(item)\n",
    "        messages_str = json.dumps(messages)\n",
    "        result += '{\"messages\": ' + messages_str +'}\\n'\n",
    "    return result.strip()"
   ]
  },
  {
   "cell_type": "code",
   "execution_count": 12,
   "id": "5e72de93-a6a6-4b35-855e-15786b97bf5f",
   "metadata": {},
   "outputs": [
    {
     "name": "stdout",
     "output_type": "stream",
     "text": [
      "{\"messages\": [{\"role\": \"system\", \"content\": \"You are an Amazon marketplace pricing expert. Analyze product descriptions to predict accurate Amazon selling prices based on typical marketplace dynamics and consumer behavior patterns.\\n\\nKey Amazon pricing factors to evaluate:\\n- Brand strength (Apple, Samsung, Nike = premium; generic/unbranded = budget)\\n- Product category positioning (Home & Kitchen, Electronics, Sports, Beauty, etc.)\\n- Pack size and quantity (bulk/multi-packs often better per-unit value)\\n- Prime eligibility indicators and fulfillment method signals\\n- Product variations (color, size, model) affecting price tiers\\n- Feature density and specification richness\\n- Amazon's Choice or bestseller indicators in description\\n- Customer rating implications (4.5+ stars = premium pricing power)\\n- Seasonal/trending product indicators\\n\\nAmazon-specific pricing patterns:\\n- Electronics: $10-50 (accessories), $50-200 (mid-tier), $200+ (premium)\\n- Home/Kitchen: $15-40 (small items), $40-150 (appliances), $150+ (major items)\\n- Beauty/Personal Care: $8-25 (drugstore), $25-60 (prestige), $60+ (luxury)\\n- Sports/Outdoors: $20-80 (equipment), $30-120 (apparel), $100+ (specialized gear)\\n- Books/Media: $10-20 (paperback), $15-35 (hardcover), $25-50 (specialty)\\n- Toys/Games: $15-40 (standard), $40-100 (premium/electronic)\\n\\nConsider Amazon's psychological pricing (ends in .99, .95, .49) and competitive marketplace pressure.\\n\\nOutput format: Respond with only the price including dollar sign and cents (e.g., \\\"$24.99\\\"). No explanations or additional text.\"}, {\"role\": \"user\", \"content\": \"How much does this cost?\\n\\nDelphi FG0166 Fuel Pump Module\\nDelphi brings 80 years of OE Heritage into each Delphi pump, ensuring quality and fitment for each Delphi part. Part is validated, tested and matched to the right vehicle application Delphi brings 80 years of OE Heritage into each Delphi assembly, ensuring quality and fitment for each Delphi part Always be sure to check and clean fuel tank to avoid unnecessary returns Rigorous OE-testing ensures the pump can withstand extreme temperatures Brand Delphi, Fit Type Vehicle Specific Fit, Dimensions LxWxH 19.7 x 7.7 x 5.1 inches, Weight 2.2 Pounds, Auto Part Position Unknown, Operation Mode Mechanical, Manufacturer Delphi, Model FUEL PUMP, Dimensions 19.7\"}, {\"role\": \"assistant\", \"content\": \"$226.95\"}]}\n",
      "{\"messages\": [{\"role\": \"system\", \"content\": \"You are an Amazon marketplace pricing expert. Analyze product descriptions to predict accurate Amazon selling prices based on typical marketplace dynamics and consumer behavior patterns.\\n\\nKey Amazon pricing factors to evaluate:\\n- Brand strength (Apple, Samsung, Nike = premium; generic/unbranded = budget)\\n- Product category positioning (Home & Kitchen, Electronics, Sports, Beauty, etc.)\\n- Pack size and quantity (bulk/multi-packs often better per-unit value)\\n- Prime eligibility indicators and fulfillment method signals\\n- Product variations (color, size, model) affecting price tiers\\n- Feature density and specification richness\\n- Amazon's Choice or bestseller indicators in description\\n- Customer rating implications (4.5+ stars = premium pricing power)\\n- Seasonal/trending product indicators\\n\\nAmazon-specific pricing patterns:\\n- Electronics: $10-50 (accessories), $50-200 (mid-tier), $200+ (premium)\\n- Home/Kitchen: $15-40 (small items), $40-150 (appliances), $150+ (major items)\\n- Beauty/Personal Care: $8-25 (drugstore), $25-60 (prestige), $60+ (luxury)\\n- Sports/Outdoors: $20-80 (equipment), $30-120 (apparel), $100+ (specialized gear)\\n- Books/Media: $10-20 (paperback), $15-35 (hardcover), $25-50 (specialty)\\n- Toys/Games: $15-40 (standard), $40-100 (premium/electronic)\\n\\nConsider Amazon's psychological pricing (ends in .99, .95, .49) and competitive marketplace pressure.\\n\\nOutput format: Respond with only the price including dollar sign and cents (e.g., \\\"$24.99\\\"). No explanations or additional text.\"}, {\"role\": \"user\", \"content\": \"How much does this cost?\\n\\nPower Stop Rear Z36 Truck and Tow Brake Kit with Calipers\\nThe Power Stop Z36 Truck & Tow Performance brake kit provides the superior stopping power demanded by those who tow boats, haul loads, tackle mountains, lift trucks, and play in the harshest conditions. The brake rotors are drilled to keep temperatures down during extreme braking and slotted to sweep away any debris for constant pad contact. Combined with our Z36 Carbon-Fiber Ceramic performance friction formulation, you can confidently push your rig to the limit and look good doing it with red powder brake calipers. Components are engineered to handle the stress of towing, hauling, mountainous driving, and lifted trucks. Dust-free braking performance. Z36 Carbon-Fiber Ceramic formula provides the extreme braking performance demanded by your truck or 4x\"}, {\"role\": \"assistant\", \"content\": \"$506.98\"}]}\n",
      "{\"messages\": [{\"role\": \"system\", \"content\": \"You are an Amazon marketplace pricing expert. Analyze product descriptions to predict accurate Amazon selling prices based on typical marketplace dynamics and consumer behavior patterns.\\n\\nKey Amazon pricing factors to evaluate:\\n- Brand strength (Apple, Samsung, Nike = premium; generic/unbranded = budget)\\n- Product category positioning (Home & Kitchen, Electronics, Sports, Beauty, etc.)\\n- Pack size and quantity (bulk/multi-packs often better per-unit value)\\n- Prime eligibility indicators and fulfillment method signals\\n- Product variations (color, size, model) affecting price tiers\\n- Feature density and specification richness\\n- Amazon's Choice or bestseller indicators in description\\n- Customer rating implications (4.5+ stars = premium pricing power)\\n- Seasonal/trending product indicators\\n\\nAmazon-specific pricing patterns:\\n- Electronics: $10-50 (accessories), $50-200 (mid-tier), $200+ (premium)\\n- Home/Kitchen: $15-40 (small items), $40-150 (appliances), $150+ (major items)\\n- Beauty/Personal Care: $8-25 (drugstore), $25-60 (prestige), $60+ (luxury)\\n- Sports/Outdoors: $20-80 (equipment), $30-120 (apparel), $100+ (specialized gear)\\n- Books/Media: $10-20 (paperback), $15-35 (hardcover), $25-50 (specialty)\\n- Toys/Games: $15-40 (standard), $40-100 (premium/electronic)\\n\\nConsider Amazon's psychological pricing (ends in .99, .95, .49) and competitive marketplace pressure.\\n\\nOutput format: Respond with only the price including dollar sign and cents (e.g., \\\"$24.99\\\"). No explanations or additional text.\"}, {\"role\": \"user\", \"content\": \"How much does this cost?\\n\\nABBA 36 Gas Cooktop with 5 Sealed Burners - Tempered Glass Surface with SABAF Burners, Natural Gas Stove for Countertop, Home Improvement Essentials, Easy to Clean, 36 x 4.1 x 20.5\\ncooktop Gas powered with 4 fast burners and 1 ultra-fast center burner Tempered glass surface with removable grid for easy cleaning Lightweight for easy installation. Installation Manual Included Counter cutout Dimensions 19 3/8 x 34 1/2 (see diagram) Insured shipping for your satisfaction and peace of mind Brand Name ABBA EST. 1956, Weight 30 pounds, Dimensions 20.5\\\\ D x 36\\\\ W x 4.1\\\\ H, Installation Type Count\"}, {\"role\": \"assistant\", \"content\": \"$405.00\"}]}\n"
     ]
    }
   ],
   "source": [
    "print(make_jsonl(train[:3]))"
   ]
  },
  {
   "cell_type": "code",
   "execution_count": 13,
   "id": "7734bff0-95c4-4e67-a87e-7e2254e2c67d",
   "metadata": {},
   "outputs": [],
   "source": [
    "# Convert the items into jsonl and write them to a file\n",
    "\n",
    "def write_jsonl(items, filename):\n",
    "    with open(filename, \"w\") as f:\n",
    "        jsonl = make_jsonl(items)\n",
    "        f.write(jsonl)"
   ]
  },
  {
   "cell_type": "code",
   "execution_count": 14,
   "id": "393d3ad8-999a-4f99-8c04-339d9166d604",
   "metadata": {},
   "outputs": [],
   "source": [
    "write_jsonl(fine_tune_train, \"fine_tune_train.jsonl\")"
   ]
  },
  {
   "cell_type": "code",
   "execution_count": 15,
   "id": "8e23927f-d73e-4668-ac20-abe6f14a56cb",
   "metadata": {},
   "outputs": [],
   "source": [
    "write_jsonl(fine_tune_validation, \"fine_tune_validation.jsonl\")"
   ]
  },
  {
   "cell_type": "code",
   "execution_count": 16,
   "id": "d59ad8d2-c61a-448e-b7ed-232f1606970f",
   "metadata": {},
   "outputs": [],
   "source": [
    "with open(\"fine_tune_train.jsonl\", \"rb\") as f:\n",
    "    train_file = openai.files.create(file=f, purpose=\"fine-tune\")"
   ]
  },
  {
   "cell_type": "code",
   "execution_count": 17,
   "id": "083fefba-fd54-47ce-9ff3-aabbc200846f",
   "metadata": {},
   "outputs": [
    {
     "data": {
      "text/plain": [
       "FileObject(id='file-8nECKUWKSHTorbKVrcLxGc', bytes=480142, created_at=1753339843, filename='fine_tune_train.jsonl', object='file', purpose='fine-tune', status='processed', expires_at=None, status_details=None)"
      ]
     },
     "execution_count": 17,
     "metadata": {},
     "output_type": "execute_result"
    }
   ],
   "source": [
    "train_file"
   ]
  },
  {
   "cell_type": "code",
   "execution_count": 18,
   "id": "97df3360-0760-4422-a556-5f26d23de6dc",
   "metadata": {},
   "outputs": [],
   "source": [
    "with open(\"fine_tune_validation.jsonl\", \"rb\") as f:\n",
    "    validation_file = openai.files.create(file=f, purpose=\"fine-tune\")"
   ]
  },
  {
   "cell_type": "code",
   "execution_count": 19,
   "id": "a1abb8f3-9e52-4061-970c-fcf399d8ffa3",
   "metadata": {},
   "outputs": [
    {
     "data": {
      "text/plain": [
       "FileObject(id='file-TkMc2SaZVLPmoP37ucXDPH', bytes=119935, created_at=1753339852, filename='fine_tune_validation.jsonl', object='file', purpose='fine-tune', status='processed', expires_at=None, status_details=None)"
      ]
     },
     "execution_count": 19,
     "metadata": {},
     "output_type": "execute_result"
    }
   ],
   "source": [
    "validation_file"
   ]
  },
  {
   "cell_type": "markdown",
   "id": "466052b9-9fb9-48f6-8cf9-c74e6ddc1394",
   "metadata": {},
   "source": [
    "# Step 2\n",
    "\n",
    "I love Weights and Biases - a beautiful, free platform for monitoring training runs.  \n",
    "Weights and Biases is integrated with OpenAI for fine-tuning.\n",
    "\n",
    "First set up your weights & biases free account at:\n",
    "\n",
    "https://wandb.ai\n",
    "\n",
    "From the Avatar >> Settings menu, near the bottom, you can create an API key.\n",
    "\n",
    "Then visit the OpenAI dashboard at:\n",
    "\n",
    "https://platform.openai.com/account/organization\n",
    "\n",
    "In the integrations section, you can add your Weights & Biases key.\n",
    "\n",
    "## And now time to Fine-tune!"
   ]
  },
  {
   "cell_type": "code",
   "execution_count": 20,
   "id": "c7add1a7-a746-4d6e-a5f8-e25629b8b527",
   "metadata": {},
   "outputs": [],
   "source": [
    "wandb_integration = {\"type\": \"wandb\", \"wandb\": {\"project\": \"gpt-pricer\"}}"
   ]
  },
  {
   "cell_type": "code",
   "execution_count": 21,
   "id": "49801e69-9277-4deb-9f33-99efb6b45ac2",
   "metadata": {},
   "outputs": [
    {
     "data": {
      "text/plain": [
       "'file-8nECKUWKSHTorbKVrcLxGc'"
      ]
     },
     "execution_count": 21,
     "metadata": {},
     "output_type": "execute_result"
    }
   ],
   "source": [
    "train_file.id"
   ]
  },
  {
   "cell_type": "code",
   "execution_count": 23,
   "id": "45421b86-5531-4e42-ab19-d6abbb8f4c13",
   "metadata": {},
   "outputs": [
    {
     "data": {
      "text/plain": [
       "FineTuningJob(id='ftjob-IBBaP9CY5ovNGnsueXoCLjeX', created_at=1753341041, error=Error(code=None, message=None, param=None), fine_tuned_model=None, finished_at=None, hyperparameters=Hyperparameters(batch_size='auto', learning_rate_multiplier='auto', n_epochs=1), model='gpt-4o-mini-2024-07-18', object='fine_tuning.job', organization_id='org-du4k6X6j1Eu0j5xNKaVVIO3O', result_files=[], seed=42, status='validating_files', trained_tokens=None, training_file='file-8nECKUWKSHTorbKVrcLxGc', validation_file='file-TkMc2SaZVLPmoP37ucXDPH', estimated_finish=None, integrations=[FineTuningJobWandbIntegrationObject(type='wandb', wandb=FineTuningJobWandbIntegration(project='gpt-pricer', entity=None, name=None, tags=None, run_id='ftjob-IBBaP9CY5ovNGnsueXoCLjeX'))], metadata=None, method=Method(type='supervised', dpo=None, reinforcement=None, supervised=SupervisedMethod(hyperparameters=SupervisedHyperparameters(batch_size='auto', learning_rate_multiplier='auto', n_epochs=1))), user_provided_suffix='pricer', usage_metrics=None, shared_with_openai=False, eval_id=None)"
      ]
     },
     "execution_count": 23,
     "metadata": {},
     "output_type": "execute_result"
    }
   ],
   "source": [
    "openai.fine_tuning.jobs.create(\n",
    "    training_file=train_file.id,\n",
    "    validation_file=validation_file.id,\n",
    "    model=\"gpt-4o-mini-2024-07-18\",\n",
    "    seed=42,\n",
    "    hyperparameters={\"n_epochs\": 1},\n",
    "    integrations = [wandb_integration],\n",
    "    suffix=\"pricer\"\n",
    ")"
   ]
  },
  {
   "cell_type": "code",
   "execution_count": 24,
   "id": "aeb9de2e-542c-4e83-81c7-b6745133e48b",
   "metadata": {},
   "outputs": [
    {
     "data": {
      "text/plain": [
       "SyncCursorPage[FineTuningJob](data=[FineTuningJob(id='ftjob-IBBaP9CY5ovNGnsueXoCLjeX', created_at=1753341041, error=Error(code=None, message=None, param=None), fine_tuned_model=None, finished_at=None, hyperparameters=Hyperparameters(batch_size='auto', learning_rate_multiplier='auto', n_epochs=1), model='gpt-4o-mini-2024-07-18', object='fine_tuning.job', organization_id='org-du4k6X6j1Eu0j5xNKaVVIO3O', result_files=[], seed=42, status='validating_files', trained_tokens=None, training_file='file-8nECKUWKSHTorbKVrcLxGc', validation_file='file-TkMc2SaZVLPmoP37ucXDPH', estimated_finish=None, integrations=[FineTuningJobWandbIntegrationObject(type='wandb', wandb=FineTuningJobWandbIntegration(project='gpt-pricer', entity=None, name=None, tags=None, run_id='ftjob-IBBaP9CY5ovNGnsueXoCLjeX'))], metadata=None, method=Method(type='supervised', dpo=None, reinforcement=None, supervised=SupervisedMethod(hyperparameters=SupervisedHyperparameters(batch_size='auto', learning_rate_multiplier='auto', n_epochs=1))), user_provided_suffix='pricer', usage_metrics=None, shared_with_openai=False, eval_id=None)], has_more=False, object='list')"
      ]
     },
     "execution_count": 24,
     "metadata": {},
     "output_type": "execute_result"
    }
   ],
   "source": [
    "openai.fine_tuning.jobs.list(limit=1)"
   ]
  },
  {
   "cell_type": "code",
   "execution_count": 25,
   "id": "40d24873-8ff5-413f-b0d4-8f77c28f18e1",
   "metadata": {},
   "outputs": [],
   "source": [
    "job_id = openai.fine_tuning.jobs.list(limit=1).data[0].id"
   ]
  },
  {
   "cell_type": "code",
   "execution_count": 26,
   "id": "a32aef35-4b38-436c-ad00-d082f758efa7",
   "metadata": {},
   "outputs": [
    {
     "data": {
      "text/plain": [
       "'ftjob-IBBaP9CY5ovNGnsueXoCLjeX'"
      ]
     },
     "execution_count": 26,
     "metadata": {},
     "output_type": "execute_result"
    }
   ],
   "source": [
    "job_id"
   ]
  },
  {
   "cell_type": "code",
   "execution_count": 27,
   "id": "a7e01247-c133-48e1-93d3-c79c399e6178",
   "metadata": {},
   "outputs": [
    {
     "data": {
      "text/plain": [
       "FineTuningJob(id='ftjob-IBBaP9CY5ovNGnsueXoCLjeX', created_at=1753341041, error=Error(code=None, message=None, param=None), fine_tuned_model=None, finished_at=None, hyperparameters=Hyperparameters(batch_size='auto', learning_rate_multiplier='auto', n_epochs=1), model='gpt-4o-mini-2024-07-18', object='fine_tuning.job', organization_id='org-du4k6X6j1Eu0j5xNKaVVIO3O', result_files=[], seed=42, status='validating_files', trained_tokens=None, training_file='file-8nECKUWKSHTorbKVrcLxGc', validation_file='file-TkMc2SaZVLPmoP37ucXDPH', estimated_finish=None, integrations=[FineTuningJobWandbIntegrationObject(type='wandb', wandb=FineTuningJobWandbIntegration(project='gpt-pricer', entity=None, name=None, tags=None, run_id='ftjob-IBBaP9CY5ovNGnsueXoCLjeX'))], metadata=None, method=Method(type='supervised', dpo=None, reinforcement=None, supervised=SupervisedMethod(hyperparameters=SupervisedHyperparameters(batch_size='auto', learning_rate_multiplier='auto', n_epochs=1))), user_provided_suffix='pricer', usage_metrics=None, shared_with_openai=False, eval_id=None)"
      ]
     },
     "execution_count": 27,
     "metadata": {},
     "output_type": "execute_result"
    }
   ],
   "source": [
    "openai.fine_tuning.jobs.retrieve(job_id)"
   ]
  },
  {
   "cell_type": "code",
   "execution_count": 28,
   "id": "0f5150e1-b8de-485f-8eba-cf1e5b00c117",
   "metadata": {},
   "outputs": [
    {
     "data": {
      "text/plain": [
       "[FineTuningJobEvent(id='ftevent-Hen3aW1QhNBeK3fNUmtTnBop', created_at=1753341041, level='info', message='Validating training file: file-8nECKUWKSHTorbKVrcLxGc and validation file: file-TkMc2SaZVLPmoP37ucXDPH', object='fine_tuning.job.event', data={}, type='message'),\n",
       " FineTuningJobEvent(id='ftevent-osUdwcFOjzf1HG99p1q4ivBm', created_at=1753341041, level='info', message='Created fine-tuning job: ftjob-IBBaP9CY5ovNGnsueXoCLjeX', object='fine_tuning.job.event', data={}, type='message')]"
      ]
     },
     "execution_count": 28,
     "metadata": {},
     "output_type": "execute_result"
    }
   ],
   "source": [
    "openai.fine_tuning.jobs.list_events(fine_tuning_job_id=job_id, limit=10).data"
   ]
  },
  {
   "cell_type": "markdown",
   "id": "066fef03-8338-4526-9df3-89b649ad4f0a",
   "metadata": {},
   "source": [
    "# Step 3\n",
    "\n",
    "Test our fine tuned model"
   ]
  },
  {
   "cell_type": "code",
   "execution_count": 43,
   "id": "fa4488cb-3c17-4eda-abd1-53c1c68a491b",
   "metadata": {},
   "outputs": [],
   "source": [
    "fine_tuned_model_name = openai.fine_tuning.jobs.retrieve(job_id).fine_tuned_model"
   ]
  },
  {
   "cell_type": "code",
   "execution_count": 44,
   "id": "e9370937-5a6f-4724-8265-b208663b4450",
   "metadata": {},
   "outputs": [
    {
     "data": {
      "text/plain": [
       "'ft:gpt-4o-mini-2024-07-18:aaron:pricer:BwkX85YV'"
      ]
     },
     "execution_count": 44,
     "metadata": {},
     "output_type": "execute_result"
    }
   ],
   "source": [
    "fine_tuned_model_name"
   ]
  },
  {
   "cell_type": "code",
   "execution_count": 31,
   "id": "66ea68e8-ab1b-4f0d-aba4-a59574d8f85e",
   "metadata": {},
   "outputs": [],
   "source": [
    "def messages_for(item):\n",
    "    system_message = \"\"\"You are an Amazon marketplace pricing expert. Analyze product descriptions to predict accurate Amazon selling prices based on typical marketplace dynamics and consumer behavior patterns.\n",
    "\n",
    "Key Amazon pricing factors to evaluate:\n",
    "- Brand strength (Apple, Samsung, Nike = premium; generic/unbranded = budget)\n",
    "- Product category positioning (Home & Kitchen, Electronics, Sports, Beauty, etc.)\n",
    "- Pack size and quantity (bulk/multi-packs often better per-unit value)\n",
    "- Prime eligibility indicators and fulfillment method signals\n",
    "- Product variations (color, size, model) affecting price tiers\n",
    "- Feature density and specification richness\n",
    "- Amazon's Choice or bestseller indicators in description\n",
    "- Customer rating implications (4.5+ stars = premium pricing power)\n",
    "- Seasonal/trending product indicators\n",
    "\n",
    "Amazon-specific pricing patterns:\n",
    "- Electronics: $10-50 (accessories), $50-200 (mid-tier), $200+ (premium)\n",
    "- Home/Kitchen: $15-40 (small items), $40-150 (appliances), $150+ (major items)\n",
    "- Beauty/Personal Care: $8-25 (drugstore), $25-60 (prestige), $60+ (luxury)\n",
    "- Sports/Outdoors: $20-80 (equipment), $30-120 (apparel), $100+ (specialized gear)\n",
    "- Books/Media: $10-20 (paperback), $15-35 (hardcover), $25-50 (specialty)\n",
    "- Toys/Games: $15-40 (standard), $40-100 (premium/electronic)\n",
    "\n",
    "Consider Amazon's psychological pricing (ends in .99, .95, .49) and competitive marketplace pressure.\n",
    "\n",
    "Output format: Respond with only the price including dollar sign and cents (e.g., \"$24.99\"). No explanations or additional text.\"\"\"\n",
    "    \n",
    "    user_prompt = item.test_prompt().replace(\" to the nearest dollar\",\"\").replace(\"\\n\\nPrice is $\",\"\")\n",
    "    \n",
    "    return [\n",
    "        {\"role\": \"system\", \"content\": system_message},\n",
    "        {\"role\": \"user\", \"content\": user_prompt},\n",
    "        {\"role\": \"assistant\", \"content\": f\"${item.price:.2f}\"}\n",
    "    ]"
   ]
  },
  {
   "cell_type": "code",
   "execution_count": 32,
   "id": "4ff92d61-0d27-4b0d-8b32-c9891016509b",
   "metadata": {},
   "outputs": [
    {
     "data": {
      "text/plain": [
       "[{'role': 'system',\n",
       "  'content': 'You are an Amazon marketplace pricing expert. Analyze product descriptions to predict accurate Amazon selling prices based on typical marketplace dynamics and consumer behavior patterns.\\n\\nKey Amazon pricing factors to evaluate:\\n- Brand strength (Apple, Samsung, Nike = premium; generic/unbranded = budget)\\n- Product category positioning (Home & Kitchen, Electronics, Sports, Beauty, etc.)\\n- Pack size and quantity (bulk/multi-packs often better per-unit value)\\n- Prime eligibility indicators and fulfillment method signals\\n- Product variations (color, size, model) affecting price tiers\\n- Feature density and specification richness\\n- Amazon\\'s Choice or bestseller indicators in description\\n- Customer rating implications (4.5+ stars = premium pricing power)\\n- Seasonal/trending product indicators\\n\\nAmazon-specific pricing patterns:\\n- Electronics: $10-50 (accessories), $50-200 (mid-tier), $200+ (premium)\\n- Home/Kitchen: $15-40 (small items), $40-150 (appliances), $150+ (major items)\\n- Beauty/Personal Care: $8-25 (drugstore), $25-60 (prestige), $60+ (luxury)\\n- Sports/Outdoors: $20-80 (equipment), $30-120 (apparel), $100+ (specialized gear)\\n- Books/Media: $10-20 (paperback), $15-35 (hardcover), $25-50 (specialty)\\n- Toys/Games: $15-40 (standard), $40-100 (premium/electronic)\\n\\nConsider Amazon\\'s psychological pricing (ends in .99, .95, .49) and competitive marketplace pressure.\\n\\nOutput format: Respond with only the price including dollar sign and cents (e.g., \"$24.99\"). No explanations or additional text.'},\n",
       " {'role': 'user',\n",
       "  'content': \"How much does this cost?\\n\\nOEM AC Compressor w/A/C Repair Kit For Ford F150 F-150 V8 & Lincoln Mark LT 2007 2008 - BuyAutoParts NEW\\nAs one of the world's largest automotive parts suppliers, our parts are trusted every day by mechanics and vehicle owners worldwide. This A/C Compressor and Components Kit is manufactured and tested to the strictest OE standards for unparalleled performance. Built for trouble-free ownership and 100% visually inspected and quality tested, this A/C Compressor and Components Kit is backed by our 100% satisfaction guarantee. Guaranteed Exact Fit for easy installation 100% BRAND NEW, premium ISO/TS 16949 quality - tested to meet or exceed OEM specifications Engineered for superior durability, backed by industry-leading unlimited-mileage warranty Included in this K\"},\n",
       " {'role': 'assistant', 'content': '$374.41'}]"
      ]
     },
     "execution_count": 32,
     "metadata": {},
     "output_type": "execute_result"
    }
   ],
   "source": [
    "# Try this out\n",
    "\n",
    "messages_for(test[0])"
   ]
  },
  {
   "cell_type": "code",
   "execution_count": 38,
   "id": "b1af1888-f94a-4106-b0d8-8a70939eec4e",
   "metadata": {},
   "outputs": [],
   "source": [
    "# A utility function to extract the price from a string\n",
    "\n",
    "def get_price(s):\n",
    "    s = s.replace('$','').replace(',','')\n",
    "    match = re.search(r\"[-+]?\\d*\\.\\d+|\\d+\", s)\n",
    "    return float(match.group()) if match else 0"
   ]
  },
  {
   "cell_type": "code",
   "execution_count": 39,
   "id": "f138c5b7-bcc1-4085-aced-68dad1bf36b4",
   "metadata": {},
   "outputs": [
    {
     "data": {
      "text/plain": [
       "99.99"
      ]
     },
     "execution_count": 39,
     "metadata": {},
     "output_type": "execute_result"
    }
   ],
   "source": [
    "get_price(\"The price is roughly $99.99 because blah blah\")"
   ]
  },
  {
   "cell_type": "code",
   "execution_count": 45,
   "id": "501a2a7a-69c8-451b-bbc0-398bcb9e1612",
   "metadata": {},
   "outputs": [],
   "source": [
    "# The function for gpt-4o-mini\n",
    "\n",
    "def gpt_fine_tuned(item):\n",
    "    response = openai.chat.completions.create(\n",
    "        model=fine_tuned_model_name, \n",
    "        messages=messages_for(item),\n",
    "        seed=42,\n",
    "        max_tokens=7\n",
    "    )\n",
    "    reply = response.choices[0].message.content\n",
    "    return get_price(reply)"
   ]
  },
  {
   "cell_type": "code",
   "execution_count": 46,
   "id": "843d88b4-364a-431b-b48b-8a7c1f68b786",
   "metadata": {},
   "outputs": [
    {
     "name": "stdout",
     "output_type": "stream",
     "text": [
      "374.41\n",
      "400.06\n"
     ]
    }
   ],
   "source": [
    "print(test[0].price)\n",
    "print(gpt_fine_tuned(test[0]))"
   ]
  },
  {
   "cell_type": "code",
   "execution_count": 47,
   "id": "edd7ada0-15b7-42ec-bbbb-1250e0eb9af1",
   "metadata": {},
   "outputs": [
    {
     "name": "stdout",
     "output_type": "stream",
     "text": [
      "How much does this cost to the nearest dollar?\n",
      "\n",
      "OEM AC Compressor w/A/C Repair Kit For Ford F150 F-150 V8 & Lincoln Mark LT 2007 2008 - BuyAutoParts NEW\n",
      "As one of the world's largest automotive parts suppliers, our parts are trusted every day by mechanics and vehicle owners worldwide. This A/C Compressor and Components Kit is manufactured and tested to the strictest OE standards for unparalleled performance. Built for trouble-free ownership and 100% visually inspected and quality tested, this A/C Compressor and Components Kit is backed by our 100% satisfaction guarantee. Guaranteed Exact Fit for easy installation 100% BRAND NEW, premium ISO/TS 16949 quality - tested to meet or exceed OEM specifications Engineered for superior durability, backed by industry-leading unlimited-mileage warranty Included in this K\n",
      "\n",
      "Price is $\n"
     ]
    }
   ],
   "source": [
    "print(test[0].test_prompt())"
   ]
  },
  {
   "cell_type": "code",
   "execution_count": 53,
   "id": "36bdd2c9-1859-4f99-a09f-3ec83b845b30",
   "metadata": {},
   "outputs": [
    {
     "name": "stdout",
     "output_type": "stream",
     "text": [
      "Testing Gpt Fine Tuned on 250 samples...\n",
      "Thresholds: Excellent ≤15%, Good ≤30%\n",
      "--------------------------------------------------------------------------------\n",
      "\u001b[94m1: Guess: $374.41 Truth: $374.41 Abs Error: $0.00 % Error: 0.0% SLE: 0.00 Item: OEM AC Compressor w/A/C Repair Kit For F...\u001b[0m\n",
      "\u001b[95m2: Guess: $161.72 Truth: $225.11 Abs Error: $63.39 % Error: 28.2% SLE: 0.11 Item: Motorcraft YB3125 Fan Clutch\u001b[0m\n",
      "\u001b[94m3: Guess: $61.68 Truth: $61.68 Abs Error: $0.00 % Error: 0.0% SLE: 0.00 Item: Dorman 603-159 Front Washer Fluid Reserv...\u001b[0m\n",
      "\u001b[94m4: Guess: $599.99 Truth: $599.99 Abs Error: $0.00 % Error: 0.0% SLE: 0.00 Item: HP Premium 17.3-inch HD Plus Touchscreen...\u001b[0m\n",
      "\u001b[94m5: Guess: $16.99 Truth: $16.99 Abs Error: $0.00 % Error: 0.0% SLE: 0.00 Item: 5-Position Super Switch Pickup Selector ...\u001b[0m\n",
      "\u001b[94m6: Guess: $33.00 Truth: $31.99 Abs Error: $1.01 % Error: 3.2% SLE: 0.00 Item: Horror Bookmarks, Resin Horror Bookmarks...\u001b[0m\n",
      "\u001b[94m7: Guess: $101.79 Truth: $101.79 Abs Error: $0.00 % Error: 0.0% SLE: 0.00 Item: SK6241 - Stinger 4 Gauge 6000 Series Pow...\u001b[0m\n",
      "\u001b[94m8: Guess: $289.00 Truth: $289.00 Abs Error: $0.00 % Error: 0.0% SLE: 0.00 Item: Godox ML60Bi LED Light Kit, Handheld LED...\u001b[0m\n",
      "\u001b[94m9: Guess: $629.99 Truth: $635.86 Abs Error: $5.87 % Error: 0.9% SLE: 0.00 Item: Randall RG75DG3PLUS G3 Plus 100-Watt Com...\u001b[0m\n",
      "\u001b[94m10: Guess: $61.99 Truth: $65.99 Abs Error: $4.00 % Error: 6.1% SLE: 0.00 Item: HOLDWILL 6 Pack LED Shop Light, 4FT 24W ...\u001b[0m\n",
      "\u001b[94m11: Guess: $228.06 Truth: $254.21 Abs Error: $26.15 % Error: 10.3% SLE: 0.01 Item: Viking Horns V103C/1005ATK 3 Gallon Air ...\u001b[0m\n",
      "\u001b[94m12: Guess: $412.99 Truth: $412.99 Abs Error: $0.00 % Error: 0.0% SLE: 0.00 Item: CURT 70110 Custom Tow Bar Base Plate Bra...\u001b[0m\n",
      "\u001b[94m13: Guess: $210.57 Truth: $205.50 Abs Error: $5.07 % Error: 2.5% SLE: 0.00 Item: 10-Pack Solar HAMMERED BRONZE Finish Pos...\u001b[0m\n",
      "\u001b[94m14: Guess: $248.23 Truth: $248.23 Abs Error: $0.00 % Error: 0.0% SLE: 0.00 Item: COSTWAY Electric Tumble Dryer, Sliver\u001b[0m\n",
      "\u001b[94m15: Guess: $399.00 Truth: $399.00 Abs Error: $0.00 % Error: 0.0% SLE: 0.00 Item: FREE SIGNAL TV Transit 32\" 12 Volt DC Po...\u001b[0m\n",
      "\u001b[94m16: Guess: $371.96 Truth: $373.94 Abs Error: $1.98 % Error: 0.5% SLE: 0.00 Item: Bilstein 5100 Monotube Gas Shock Set com...\u001b[0m\n",
      "\u001b[94m17: Guess: $81.99 Truth: $92.89 Abs Error: $10.90 % Error: 11.7% SLE: 0.02 Item: Sangean K-200 Multi-Function Upright AM/...\u001b[0m\n",
      "\u001b[94m18: Guess: $51.99 Truth: $51.99 Abs Error: $0.00 % Error: 0.0% SLE: 0.00 Item: Charles Leonard Magnetic Lapboard Class ...\u001b[0m\n",
      "\u001b[94m19: Guess: $179.00 Truth: $179.00 Abs Error: $0.00 % Error: 0.0% SLE: 0.00 Item: Gigabyte AMD Radeon HD 7870 2 GB GDDR5 D...\u001b[0m\n",
      "\u001b[94m20: Guess: $19.00 Truth: $19.42 Abs Error: $0.42 % Error: 2.2% SLE: 0.00 Item: 3dRose LLC 8 x 8 x 0.25 Inches Bull Terr...\u001b[0m\n",
      "\u001b[94m21: Guess: $539.95 Truth: $539.95 Abs Error: $0.00 % Error: 0.0% SLE: 0.00 Item: ROKINON 85mm F1.4 Auto Focus Full Frame ...\u001b[0m\n",
      "\u001b[94m22: Guess: $147.67 Truth: $147.67 Abs Error: $0.00 % Error: 0.0% SLE: 0.00 Item: AUTOSAVER88 Headlight Assembly Compatibl...\u001b[0m\n",
      "\u001b[91m23: Guess: $47.97 Truth: $24.99 Abs Error: $22.98 % Error: 92.0% SLE: 0.40 Item: ASI NAUTICAL 2.5 Inches Opera Glasses Bi...\u001b[0m\n",
      "\u001b[94m24: Guess: $149.00 Truth: $149.00 Abs Error: $0.00 % Error: 0.0% SLE: 0.00 Item: Behringer TUBE OVERDRIVE TO100 Authentic...\u001b[0m\n",
      "\u001b[94m25: Guess: $16.99 Truth: $16.99 Abs Error: $0.00 % Error: 0.0% SLE: 0.00 Item: Fun Express Insect Finger Puppets - 24 f...\u001b[0m\n",
      "\u001b[94m26: Guess: $7.99 Truth: $7.99 Abs Error: $0.00 % Error: 0.0% SLE: 0.00 Item: WAFJAMF Roller Stamp Identity Theft Stam...\u001b[0m\n",
      "\u001b[94m27: Guess: $199.99 Truth: $199.99 Abs Error: $0.00 % Error: 0.0% SLE: 0.00 Item: Capulina Tiffany Floor Lamp 2-Light 16\" ...\u001b[0m\n",
      "\u001b[94m28: Guess: $251.45 Truth: $251.45 Abs Error: $0.00 % Error: 0.0% SLE: 0.00 Item: Apple Watch Series 6 (GPS, 44mm) - Space...\u001b[0m\n",
      "\u001b[94m29: Guess: $231.62 Truth: $231.62 Abs Error: $0.00 % Error: 0.0% SLE: 0.00 Item: ICON 01725 Tandem Axle Fender Skirt FS17...\u001b[0m\n",
      "\u001b[94m30: Guess: $135.00 Truth: $135.00 Abs Error: $0.00 % Error: 0.0% SLE: 0.00 Item: SanDisk 128GB Ultra (10 Pack) MicroSD Cl...\u001b[0m\n",
      "\u001b[94m31: Guess: $356.62 Truth: $356.62 Abs Error: $0.00 % Error: 0.0% SLE: 0.00 Item: Velvac 2020,L,C/Hr,W,E2003,102\",Bk - 715...\u001b[0m\n",
      "\u001b[94m32: Guess: $257.99 Truth: $257.99 Abs Error: $0.00 % Error: 0.0% SLE: 0.00 Item: TCMT Passenger Backrest Sissy Bar & Lugg...\u001b[0m\n",
      "\u001b[94m33: Guess: $27.99 Truth: $27.99 Abs Error: $0.00 % Error: 0.0% SLE: 0.00 Item: Alnicov 63.5MM Brass Tremolo Block，Tremo...\u001b[0m\n",
      "\u001b[94m34: Guess: $171.20 Truth: $171.20 Abs Error: $0.00 % Error: 0.0% SLE: 0.00 Item: Subaru Forester Outback Legacy OEM Engin...\u001b[0m\n",
      "\u001b[94m35: Guess: $225.00 Truth: $225.00 Abs Error: $0.00 % Error: 0.0% SLE: 0.00 Item: Richmond Auto Upholstery - 2012 Dodge Ra...\u001b[0m\n",
      "\u001b[94m36: Guess: $105.00 Truth: $105.00 Abs Error: $0.00 % Error: 0.0% SLE: 0.00 Item: AP-39 Automotive Paint Primer Grey 2K Ur...\u001b[0m\n",
      "\u001b[94m37: Guess: $299.99 Truth: $299.99 Abs Error: $0.00 % Error: 0.0% SLE: 0.00 Item: Road Top Wireless Carplay Retrofit Kit D...\u001b[0m\n",
      "\u001b[94m38: Guess: $535.09 Truth: $535.09 Abs Error: $0.00 % Error: 0.0% SLE: 0.00 Item: Gibson Performance Exhaust 5658 Aluminiz...\u001b[0m\n",
      "\u001b[94m39: Guess: $12.33 Truth: $12.33 Abs Error: $0.00 % Error: 0.0% SLE: 0.00 Item: Bella Tunno Happy Links - Baby Montessor...\u001b[0m\n",
      "\u001b[94m40: Guess: $81.99 Truth: $84.99 Abs Error: $3.00 % Error: 3.5% SLE: 0.00 Item: CANMORE H300 Handheld GPS Golf Device, S...\u001b[0m\n",
      "\u001b[94m41: Guess: $15.99 Truth: $15.99 Abs Error: $0.00 % Error: 0.0% SLE: 0.00 Item: DCPOWER AC Adapter Compatible Replacemen...\u001b[0m\n",
      "\u001b[94m42: Guess: $62.44 Truth: $62.44 Abs Error: $0.00 % Error: 0.0% SLE: 0.00 Item: Sharp, VX2128V, Commercial Desktop Calcu...\u001b[0m\n",
      "\u001b[94m43: Guess: $82.99 Truth: $82.99 Abs Error: $0.00 % Error: 0.0% SLE: 0.00 Item: Melissa & Doug Lifelike Plush Stork Gian...\u001b[0m\n",
      "\u001b[94m44: Guess: $599.95 Truth: $599.95 Abs Error: $0.00 % Error: 0.0% SLE: 0.00 Item: Sony SSCS8 2-Way 3-Driver Center Channel...\u001b[0m\n",
      "\u001b[94m45: Guess: $184.99 Truth: $194.99 Abs Error: $10.00 % Error: 5.1% SLE: 0.00 Item: ASUS Chromebook CX1, 14\" Full HD NanoEdg...\u001b[0m\n",
      "\u001b[94m46: Guess: $344.99 Truth: $344.95 Abs Error: $0.04 % Error: 0.0% SLE: 0.00 Item: FiiO X7 32GB Hi-Res Lossless Music Playe...\u001b[0m\n",
      "\u001b[94m47: Guess: $37.99 Truth: $37.99 Abs Error: $0.00 % Error: 0.0% SLE: 0.00 Item: TORRO Leather Case Compatible with iPhon...\u001b[0m\n",
      "\u001b[94m48: Guess: $228.22 Truth: $224.35 Abs Error: $3.87 % Error: 1.7% SLE: 0.00 Item: Universal Air Conditioner KT 1031 A/C Co...\u001b[0m\n",
      "\u001b[94m49: Guess: $814.00 Truth: $814.00 Abs Error: $0.00 % Error: 0.0% SLE: 0.00 Item: Street Series Stainless Performance Cat-...\u001b[0m\n",
      "\u001b[94m50: Guess: $399.99 Truth: $439.88 Abs Error: $39.89 % Error: 9.1% SLE: 0.01 Item: Lenovo IdeaPad 3 14-inch Laptop, 14.0-in...\u001b[0m\n",
      "\u001b[94m51: Guess: $341.43 Truth: $341.43 Abs Error: $0.00 % Error: 0.0% SLE: 0.00 Item: Access Bed Covers TonnoSport 22050219 - ...\u001b[0m\n",
      "\u001b[94m52: Guess: $46.78 Truth: $46.78 Abs Error: $0.00 % Error: 0.0% SLE: 0.00 Item: G.I. JOE Hasbro 3 3/4\" Wave 5 Action Fig...\u001b[0m\n",
      "\u001b[94m53: Guess: $171.44 Truth: $171.44 Abs Error: $0.00 % Error: 0.0% SLE: 0.00 Item: T&S Brass B-0232-BST Double Pantry Fauce...\u001b[0m\n",
      "\u001b[94m54: Guess: $458.00 Truth: $458.00 Abs Error: $0.00 % Error: 0.0% SLE: 0.00 Item: ZTUOAUMA Fuel Injection Pump 3090942 309...\u001b[0m\n",
      "\u001b[94m55: Guess: $130.00 Truth: $130.75 Abs Error: $0.75 % Error: 0.6% SLE: 0.00 Item: 2AP18AA#ABA Hp Prime Graphing Calculator...\u001b[0m\n",
      "\u001b[94m56: Guess: $81.73 Truth: $83.81 Abs Error: $2.08 % Error: 2.5% SLE: 0.00 Item: Lowrance 000-0119-83 Nmea 2000 25' Exten...\u001b[0m\n",
      "\u001b[91m57: Guess: $47.97 Truth: $386.39 Abs Error: $338.42 % Error: 87.6% SLE: 4.28 Item: Jeep Genuine Accessories 82213051 Hood L...\u001b[0m\n",
      "\u001b[94m58: Guess: $169.00 Truth: $169.00 Abs Error: $0.00 % Error: 0.0% SLE: 0.00 Item: GODOX CB-06 Hard Carrying Case with Whee...\u001b[0m\n",
      "\u001b[94m59: Guess: $17.95 Truth: $17.95 Abs Error: $0.00 % Error: 0.0% SLE: 0.00 Item: Au-Tomotive Gold, INC. Ford Black Valet ...\u001b[0m\n",
      "\u001b[94m60: Guess: $269.00 Truth: $269.00 Abs Error: $0.00 % Error: 0.0% SLE: 0.00 Item: Snailfly Black Roof Rack Rail + Cross Ba...\u001b[0m\n",
      "\u001b[94m61: Guess: $77.77 Truth: $77.77 Abs Error: $0.00 % Error: 0.0% SLE: 0.00 Item: KING SHA Anti Glare LED Track Lighting H...\u001b[0m\n",
      "\u001b[94m62: Guess: $81.99 Truth: $88.99 Abs Error: $7.00 % Error: 7.9% SLE: 0.01 Item: APS Compatible with Chevy Silverado 1500...\u001b[0m\n",
      "\u001b[94m63: Guess: $364.41 Truth: $364.41 Abs Error: $0.00 % Error: 0.0% SLE: 0.00 Item: Wilwood Engineering 14011291R Brake Cali...\u001b[0m\n",
      "\u001b[94m64: Guess: $127.03 Truth: $127.03 Abs Error: $0.00 % Error: 0.0% SLE: 0.00 Item: ACDelco Gold 336-1925A Starter, Remanufa...\u001b[0m\n",
      "\u001b[94m65: Guess: $778.95 Truth: $778.95 Abs Error: $0.00 % Error: 0.0% SLE: 0.00 Item: UWS EC10783 69-Inch Matte Black Heavy-Wa...\u001b[0m\n",
      "\u001b[94m66: Guess: $206.66 Truth: $206.66 Abs Error: $0.00 % Error: 0.0% SLE: 0.00 Item: Dell Latitude E5440 14in Business Laptop...\u001b[0m\n",
      "\u001b[94m67: Guess: $35.94 Truth: $35.94 Abs Error: $0.00 % Error: 0.0% SLE: 0.00 Item: (Plug and Play) Spare Tire Brake Light W...\u001b[0m\n",
      "\u001b[94m68: Guess: $149.00 Truth: $149.00 Abs Error: $0.00 % Error: 0.0% SLE: 0.00 Item: The Ultimate Roadside Rescue Assistant\u001b[0m\n",
      "\u001b[94m69: Guess: $251.98 Truth: $251.98 Abs Error: $0.00 % Error: 0.0% SLE: 0.00 Item: Brand New 18\" x 8.5\" Replacement Wheel f...\u001b[0m\n",
      "\u001b[94m70: Guess: $160.00 Truth: $160.00 Abs Error: $0.00 % Error: 0.0% SLE: 0.00 Item: Headlight Headlamp LH Left & RH Right Pa...\u001b[0m\n",
      "\u001b[91m71: Guess: $64.90 Truth: $39.99 Abs Error: $24.91 % Error: 62.3% SLE: 0.23 Item: Lilo And Stitch Deluxe Oversize Print La...\u001b[0m\n",
      "\u001b[94m72: Guess: $362.41 Truth: $362.41 Abs Error: $0.00 % Error: 0.0% SLE: 0.00 Item: AC Compressor & A/C Clutch For Hyundai A...\u001b[0m\n",
      "\u001b[94m73: Guess: $344.00 Truth: $344.00 Abs Error: $0.00 % Error: 0.0% SLE: 0.00 Item: House Of Troy PIN475-AB Pinnacle Collect...\u001b[0m\n",
      "\u001b[94m74: Guess: $22.99 Truth: $25.09 Abs Error: $2.10 % Error: 8.4% SLE: 0.01 Item: Juno T29 WH Floating Electrical Feed Sin...\u001b[0m\n",
      "\u001b[94m75: Guess: $175.95 Truth: $175.95 Abs Error: $0.00 % Error: 0.0% SLE: 0.00 Item: Sherman GO-PARTS - for 2013-2016 Toyota ...\u001b[0m\n",
      "\u001b[94m76: Guess: $132.64 Truth: $132.64 Abs Error: $0.00 % Error: 0.0% SLE: 0.00 Item: Roland RPU-3 Electronic Keyboard Pedal o...\u001b[0m\n",
      "\u001b[94m77: Guess: $422.99 Truth: $422.99 Abs Error: $0.00 % Error: 0.0% SLE: 0.00 Item: Rockland VMI14 12,000 Pound 12 Volt DC E...\u001b[0m\n",
      "\u001b[94m78: Guess: $146.48 Truth: $146.48 Abs Error: $0.00 % Error: 0.0% SLE: 0.00 Item: Max Advanced Brakes Elite XDS Front Cros...\u001b[0m\n",
      "\u001b[94m79: Guess: $156.83 Truth: $156.83 Abs Error: $0.00 % Error: 0.0% SLE: 0.00 Item: Quality-Built 11030 Premium Quality Alte...\u001b[0m\n",
      "\u001b[94m80: Guess: $251.99 Truth: $251.99 Abs Error: $0.00 % Error: 0.0% SLE: 0.00 Item: Lucida LG-510 Student Classical Guitar, ...\u001b[0m\n",
      "\u001b[94m81: Guess: $940.33 Truth: $940.33 Abs Error: $0.00 % Error: 0.0% SLE: 0.00 Item: Longacre 52-79800 Aluminum Turn Plates\u001b[0m\n",
      "\u001b[95m82: Guess: $64.22 Truth: $52.99 Abs Error: $11.23 % Error: 21.2% SLE: 0.04 Item: Motion Pro 08-0380 Adjustable Torque Wre...\u001b[0m\n",
      "\u001b[94m83: Guess: $219.99 Truth: $219.95 Abs Error: $0.04 % Error: 0.0% SLE: 0.00 Item: Glyph Thunderbolt 3 NVMe Dock (0 GB)\u001b[0m\n",
      "\u001b[94m84: Guess: $441.03 Truth: $441.03 Abs Error: $0.00 % Error: 0.0% SLE: 0.00 Item: TOYO Open Country MT Performance Radial ...\u001b[0m\n",
      "\u001b[94m85: Guess: $168.00 Truth: $168.98 Abs Error: $0.98 % Error: 0.6% SLE: 0.00 Item: Razer Seiren X USB Streaming Microphone ...\u001b[0m\n",
      "\u001b[95m86: Guess: $3.09 Truth: $2.49 Abs Error: $0.60 % Error: 24.1% SLE: 0.03 Item: Happy Birthday to Dad From Your Daughter...\u001b[0m\n",
      "\u001b[94m87: Guess: $97.99 Truth: $98.62 Abs Error: $0.63 % Error: 0.6% SLE: 0.00 Item: Little Tikes My Real Jam First Concert S...\u001b[0m\n",
      "\u001b[91m88: Guess: $156.97 Truth: $256.95 Abs Error: $99.98 % Error: 38.9% SLE: 0.24 Item: Studio M Peace and Harmony Art Pole Comm...\u001b[0m\n",
      "\u001b[94m89: Guess: $30.99 Truth: $30.99 Abs Error: $0.00 % Error: 0.0% SLE: 0.00 Item: MyVolts 12V Power Supply Adaptor Compati...\u001b[0m\n",
      "\u001b[94m90: Guess: $569.84 Truth: $569.84 Abs Error: $0.00 % Error: 0.0% SLE: 0.00 Item: Dell Latitude 7212 Rugged Extreme Tablet...\u001b[0m\n",
      "\u001b[94m91: Guess: $177.99 Truth: $177.99 Abs Error: $0.00 % Error: 0.0% SLE: 0.00 Item: Covermates Contour Fit Car Cover - Light...\u001b[0m\n",
      "\u001b[94m92: Guess: $992.99 Truth: $997.99 Abs Error: $5.00 % Error: 0.5% SLE: 0.00 Item: Westin 57-4025 Black HDX Grille Guard fi...\u001b[0m\n",
      "\u001b[94m93: Guess: $219.00 Truth: $219.00 Abs Error: $0.00 % Error: 0.0% SLE: 0.00 Item: Fieldpiece JL2 Job Link Wireless App Tra...\u001b[0m\n",
      "\u001b[94m94: Guess: $210.57 Truth: $225.55 Abs Error: $14.98 % Error: 6.6% SLE: 0.00 Item: hansgrohe Talis S Modern Premium Easy Cl...\u001b[0m\n",
      "\u001b[94m95: Guess: $495.99 Truth: $495.95 Abs Error: $0.04 % Error: 0.0% SLE: 0.00 Item: G-Technology G-SPEED eS PRO High-Perform...\u001b[0m\n",
      "\u001b[94m96: Guess: $942.37 Truth: $942.37 Abs Error: $0.00 % Error: 0.0% SLE: 0.00 Item: DreamLine SHDR-1960723L-01 Shower Door, ...\u001b[0m\n",
      "\u001b[94m97: Guess: $1.99 Truth: $1.94 Abs Error: $0.05 % Error: 2.6% SLE: 0.00 Item: Sanctuary Square Backplate Finish: Oiled...\u001b[0m\n",
      "\u001b[94m98: Guess: $284.34 Truth: $284.34 Abs Error: $0.00 % Error: 0.0% SLE: 0.00 Item: Pelican Protector 1750 Long Case - Multi...\u001b[0m\n",
      "\u001b[94m99: Guess: $171.90 Truth: $171.90 Abs Error: $0.00 % Error: 0.0% SLE: 0.00 Item: Brock Replacement Driver and Passenger H...\u001b[0m\n",
      "\u001b[95m100: Guess: $169.97 Truth: $144.99 Abs Error: $24.98 % Error: 17.2% SLE: 0.02 Item: Carlinkit Ai Box Mini, Android 11, Multi...\u001b[0m\n",
      "\u001b[94m101: Guess: $470.47 Truth: $470.47 Abs Error: $0.00 % Error: 0.0% SLE: 0.00 Item: StarDot NetCamLIVE2 YouTube Live Stream ...\u001b[0m\n",
      "\u001b[94m102: Guess: $66.95 Truth: $66.95 Abs Error: $0.00 % Error: 0.0% SLE: 0.00 Item: Atomic Compatible FILXXCAR0016 16x25x5 M...\u001b[0m\n",
      "\u001b[94m103: Guess: $130.97 Truth: $117.00 Abs Error: $13.97 % Error: 11.9% SLE: 0.01 Item: Bandai Awakening of S. H. s.h.figuarts s...\u001b[0m\n",
      "\u001b[94m104: Guess: $172.14 Truth: $172.14 Abs Error: $0.00 % Error: 0.0% SLE: 0.00 Item: Fit System 62135G Passenger Side Towing ...\u001b[0m\n",
      "\u001b[94m105: Guess: $392.74 Truth: $392.74 Abs Error: $0.00 % Error: 0.0% SLE: 0.00 Item: Black Horse Black Aluminum Exceed Runnin...\u001b[0m\n",
      "\u001b[94m106: Guess: $16.99 Truth: $16.99 Abs Error: $0.00 % Error: 0.0% SLE: 0.00 Item: Dearsun Twinkle Star Color Night Light P...\u001b[0m\n",
      "\u001b[91m107: Guess: $1.99 Truth: $1.34 Abs Error: $0.65 % Error: 48.5% SLE: 0.06 Item: Pokemon - Gallade Spirit Link (83/108) -...\u001b[0m\n",
      "\u001b[94m108: Guess: $349.00 Truth: $349.98 Abs Error: $0.98 % Error: 0.3% SLE: 0.00 Item: Ibanez GA34STCE-NT GIO Series Classical ...\u001b[0m\n",
      "\u001b[94m109: Guess: $370.71 Truth: $370.71 Abs Error: $0.00 % Error: 0.0% SLE: 0.00 Item: Set 2 Heavy Duty 12-16.5 12x16.5 12 Ply ...\u001b[0m\n",
      "\u001b[94m110: Guess: $57.99 Truth: $65.88 Abs Error: $7.89 % Error: 12.0% SLE: 0.02 Item: Hairpin Table Legs 28\" Heavy Duty Hairpi...\u001b[0m\n",
      "\u001b[94m111: Guess: $229.99 Truth: $229.99 Abs Error: $0.00 % Error: 0.0% SLE: 0.00 Item: Marada Racing Seat with Adjustable Slide...\u001b[0m\n",
      "\u001b[91m112: Guess: $22.57 Truth: $9.14 Abs Error: $13.43 % Error: 146.9% SLE: 0.71 Item: Remington Industries 24UL1007STRWHI25 24...\u001b[0m\n",
      "\u001b[94m113: Guess: $199.00 Truth: $199.00 Abs Error: $0.00 % Error: 0.0% SLE: 0.00 Item: Acer S3-391-6046 13.3-inch Ultrabook, In...\u001b[0m\n",
      "\u001b[94m114: Guess: $109.99 Truth: $109.99 Abs Error: $0.00 % Error: 0.0% SLE: 0.00 Item: ICBEAMER 7\" RGB LED Headlights Bulb Halo...\u001b[0m\n",
      "\u001b[94m115: Guess: $570.42 Truth: $570.42 Abs Error: $0.00 % Error: 0.0% SLE: 0.00 Item: R1 Concepts Front Rear Brakes and Rotors...\u001b[0m\n",
      "\u001b[94m116: Guess: $279.99 Truth: $279.99 Abs Error: $0.00 % Error: 0.0% SLE: 0.00 Item: Camplux 2.64 GPM Tankless , Outdoor Port...\u001b[0m\n",
      "\u001b[94m117: Guess: $30.99 Truth: $30.99 Abs Error: $0.00 % Error: 0.0% SLE: 0.00 Item: KNOKLOCK 10 Pack 3.75 Inch(96mm) Kitchen...\u001b[0m\n",
      "\u001b[94m118: Guess: $31.99 Truth: $31.99 Abs Error: $0.00 % Error: 0.0% SLE: 0.00 Item: Valley Enterprises Yaesu USB FTDI CT-62 ...\u001b[0m\n",
      "\u001b[94m119: Guess: $15.90 Truth: $15.90 Abs Error: $0.00 % Error: 0.0% SLE: 0.00 Item: G9 LED Light Bulbs，8W，75W 100W replaceme...\u001b[0m\n",
      "\u001b[94m120: Guess: $45.99 Truth: $45.99 Abs Error: $0.00 % Error: 0.0% SLE: 0.00 Item: ZCHAOZ 4 Lights Antique White Farmhouse ...\u001b[0m\n",
      "\u001b[94m121: Guess: $113.52 Truth: $113.52 Abs Error: $0.00 % Error: 0.0% SLE: 0.00 Item: Honeywell TH8320R1003 Honeywell VisionPr...\u001b[0m\n",
      "\u001b[94m122: Guess: $516.99 Truth: $516.99 Abs Error: $0.00 % Error: 0.0% SLE: 0.00 Item: Patriot Exhaust H8013-1 1-7/8\" Clippster...\u001b[0m\n",
      "\u001b[95m123: Guess: $166.22 Truth: $196.99 Abs Error: $30.77 % Error: 15.6% SLE: 0.03 Item: Fitrite Autopart New Front Left Driver S...\u001b[0m\n",
      "\u001b[94m124: Guess: $46.99 Truth: $46.55 Abs Error: $0.44 % Error: 0.9% SLE: 0.00 Item: Technical Precision Replacement for GE G...\u001b[0m\n",
      "\u001b[94m125: Guess: $356.99 Truth: $356.99 Abs Error: $0.00 % Error: 0.0% SLE: 0.00 Item: Covercraft Carhartt SeatSaver Front Row ...\u001b[0m\n",
      "\u001b[94m126: Guess: $319.95 Truth: $319.95 Abs Error: $0.00 % Error: 0.0% SLE: 0.00 Item: Sennheiser SD Pro 2 (506008) - Double-Si...\u001b[0m\n",
      "\u001b[94m127: Guess: $96.06 Truth: $96.06 Abs Error: $0.00 % Error: 0.0% SLE: 0.00 Item: Hitachi MAF0110 Mass Air Flow Sensor\u001b[0m\n",
      "\u001b[94m128: Guess: $190.99 Truth: $190.99 Abs Error: $0.00 % Error: 0.0% SLE: 0.00 Item: AmScope SE305R-P-LED-PS36A 10X-30X LED C...\u001b[0m\n",
      "\u001b[94m129: Guess: $257.99 Truth: $257.95 Abs Error: $0.04 % Error: 0.0% SLE: 0.00 Item: Front Left Driver Side Window Regulator ...\u001b[0m\n",
      "\u001b[94m130: Guess: $57.95 Truth: $62.95 Abs Error: $5.00 % Error: 7.9% SLE: 0.01 Item: Premium Replica Hubcap Set, Fits Nissan ...\u001b[0m\n",
      "\u001b[94m131: Guess: $47.66 Truth: $47.66 Abs Error: $0.00 % Error: 0.0% SLE: 0.00 Item: Excellerations Phonics Spelling Game for...\u001b[0m\n",
      "\u001b[94m132: Guess: $226.99 Truth: $226.99 Abs Error: $0.00 % Error: 0.0% SLE: 0.00 Item: RC4WD BigDog Dual Axle Scale Car/Truck T...\u001b[0m\n",
      "\u001b[94m133: Guess: $359.95 Truth: $359.95 Abs Error: $0.00 % Error: 0.0% SLE: 0.00 Item: Unknown Stage 2 Clutch Kit - Low Altitud...\u001b[0m\n",
      "\u001b[94m134: Guess: $78.40 Truth: $78.40 Abs Error: $0.00 % Error: 0.0% SLE: 0.00 Item: 2002-2008 Dodge Ram 1500 Mopar 4X4 Emble...\u001b[0m\n",
      "\u001b[94m135: Guess: $172.77 Truth: $172.77 Abs Error: $0.00 % Error: 0.0% SLE: 0.00 Item: Pro Comp Alloys Series 89 Wheel with Pol...\u001b[0m\n",
      "\u001b[94m136: Guess: $316.45 Truth: $316.45 Abs Error: $0.00 % Error: 0.0% SLE: 0.00 Item: Detroit Axle - Front Rear Strut & Coil S...\u001b[0m\n",
      "\u001b[94m137: Guess: $87.99 Truth: $87.99 Abs Error: $0.00 % Error: 0.0% SLE: 0.00 Item: ECCPP Rear Wheel Axle Replacement fit fo...\u001b[0m\n",
      "\u001b[94m138: Guess: $226.63 Truth: $226.63 Abs Error: $0.00 % Error: 0.0% SLE: 0.00 Item: Dell Latitude E6520 Intel i7-2720QM 2.20...\u001b[0m\n",
      "\u001b[94m139: Guess: $31.49 Truth: $31.49 Abs Error: $0.00 % Error: 0.0% SLE: 0.00 Item: F FIERCE CYCLE 251pcs Black Universal Mo...\u001b[0m\n",
      "\u001b[94m140: Guess: $196.00 Truth: $196.00 Abs Error: $0.00 % Error: 0.0% SLE: 0.00 Item: Flash Furniture 4 Pk. HERCULES Series 88...\u001b[0m\n",
      "\u001b[95m141: Guess: $57.99 Truth: $78.40 Abs Error: $20.41 % Error: 26.0% SLE: 0.09 Item: B&M 30287 Throttle Valve/Kickdown Cable,...\u001b[0m\n",
      "\u001b[94m142: Guess: $116.25 Truth: $116.25 Abs Error: $0.00 % Error: 0.0% SLE: 0.00 Item: Gates TCK226 PowerGrip Premium Timing Be...\u001b[0m\n",
      "\u001b[94m143: Guess: $112.78 Truth: $112.78 Abs Error: $0.00 % Error: 0.0% SLE: 0.00 Item: Monroe Shocks & Struts Quick-Strut 17149...\u001b[0m\n",
      "\u001b[95m144: Guess: $22.47 Truth: $27.32 Abs Error: $4.85 % Error: 17.8% SLE: 0.04 Item: Feit Electric BPMR16/GU10/930CA/6 35W EQ...\u001b[0m\n",
      "\u001b[94m145: Guess: $145.91 Truth: $145.91 Abs Error: $0.00 % Error: 0.0% SLE: 0.00 Item: Yellow Jacket 2806 Contractor Extension ...\u001b[0m\n",
      "\u001b[94m146: Guess: $171.09 Truth: $171.09 Abs Error: $0.00 % Error: 0.0% SLE: 0.00 Item: Garage-Pro Tailgate SET Compatible with ...\u001b[0m\n",
      "\u001b[94m147: Guess: $169.97 Truth: $167.95 Abs Error: $2.02 % Error: 1.2% SLE: 0.00 Item: 3M Perfect It Buffing and Polishing Kit ...\u001b[0m\n",
      "\u001b[91m148: Guess: $57.99 Truth: $28.49 Abs Error: $29.50 % Error: 103.5% SLE: 0.48 Item: Chinese Style Dollhouse Model DIY Miniat...\u001b[0m\n",
      "\u001b[94m149: Guess: $122.23 Truth: $122.23 Abs Error: $0.00 % Error: 0.0% SLE: 0.00 Item: Generic NRG Innovations SRK-161H Steerin...\u001b[0m\n",
      "\u001b[91m150: Guess: $57.99 Truth: $32.99 Abs Error: $25.00 % Error: 75.8% SLE: 0.30 Item: Learning Resources Coding Critters Range...\u001b[0m\n",
      "\u001b[94m151: Guess: $81.47 Truth: $71.20 Abs Error: $10.27 % Error: 14.4% SLE: 0.02 Item: Bosch Automotive 15463 Oxygen Sensor, OE...\u001b[0m\n",
      "\u001b[94m152: Guess: $112.75 Truth: $112.75 Abs Error: $0.00 % Error: 0.0% SLE: 0.00 Item: Case of 24-2 Inch Blue Painters Tape - 6...\u001b[0m\n",
      "\u001b[94m153: Guess: $142.43 Truth: $142.43 Abs Error: $0.00 % Error: 0.0% SLE: 0.00 Item: MOCA Engine Water Pump & Fan Clutch fit ...\u001b[0m\n",
      "\u001b[94m154: Guess: $398.99 Truth: $398.99 Abs Error: $0.00 % Error: 0.0% SLE: 0.00 Item: SAREMAS Foot Step Bars for Hyundai Palis...\u001b[0m\n",
      "\u001b[94m155: Guess: $449.00 Truth: $449.00 Abs Error: $0.00 % Error: 0.0% SLE: 0.00 Item: Gretsch G9210 Square Neck Boxcar Mahogan...\u001b[0m\n",
      "\u001b[94m156: Guess: $169.97 Truth: $189.00 Abs Error: $19.03 % Error: 10.1% SLE: 0.01 Item: NikoMaku Mirror Dash Cam Front and Rear ...\u001b[0m\n",
      "\u001b[94m157: Guess: $120.91 Truth: $120.91 Abs Error: $0.00 % Error: 0.0% SLE: 0.00 Item: Fenix HP25R v2.0 USB-C Rechargeable Head...\u001b[0m\n",
      "\u001b[94m158: Guess: $203.53 Truth: $203.53 Abs Error: $0.00 % Error: 0.0% SLE: 0.00 Item: R&L Racing Heavy Duty Roll-Up Soft Tonne...\u001b[0m\n",
      "\u001b[94m159: Guess: $399.99 Truth: $349.99 Abs Error: $50.00 % Error: 14.3% SLE: 0.02 Item: Garmin 010-02258-10 GPSMAP 64sx, Handhel...\u001b[0m\n",
      "\u001b[91m160: Guess: $22.99 Truth: $34.35 Abs Error: $11.36 % Error: 33.1% SLE: 0.15 Item: Brown 5-7/8\" X 8-1/2\" X 3/16\" Thick Heav...\u001b[0m\n",
      "\u001b[94m161: Guess: $384.99 Truth: $384.99 Abs Error: $0.00 % Error: 0.0% SLE: 0.00 Item: GAOMON PD2200 Pen Display & 20 Pen Nibs ...\u001b[0m\n",
      "\u001b[94m162: Guess: $211.00 Truth: $211.00 Abs Error: $0.00 % Error: 0.0% SLE: 0.00 Item: VXMOTOR for 97-03 Ford F150/F250 Lightdu...\u001b[0m\n",
      "\u001b[94m163: Guess: $129.00 Truth: $129.00 Abs Error: $0.00 % Error: 0.0% SLE: 0.00 Item: HP EliteBook 2540p Intel Core i7-640LM X...\u001b[0m\n",
      "\u001b[94m164: Guess: $111.45 Truth: $111.45 Abs Error: $0.00 % Error: 0.0% SLE: 0.00 Item: Green EPX Mixing Nozzles 100-Pack-fits 3...\u001b[0m\n",
      "\u001b[94m165: Guess: $81.12 Truth: $81.12 Abs Error: $0.00 % Error: 0.0% SLE: 0.00 Item: Box Partners 6 1/4 x 3 1/8\" 13 Pt. Manil...\u001b[0m\n",
      "\u001b[94m166: Guess: $457.08 Truth: $457.08 Abs Error: $0.00 % Error: 0.0% SLE: 0.00 Item: Vixen Air 1/2\" NPT Air Ride Suspension H...\u001b[0m\n",
      "\u001b[94m167: Guess: $49.99 Truth: $49.49 Abs Error: $0.50 % Error: 1.0% SLE: 0.00 Item: Smart Floor Lamp, 2700-6500K+RGBPink Mul...\u001b[0m\n",
      "\u001b[94m168: Guess: $80.56 Truth: $80.56 Abs Error: $0.00 % Error: 0.0% SLE: 0.00 Item: SOZG 324mm Wheelbase Body Shell RC Car B...\u001b[0m\n",
      "\u001b[94m169: Guess: $278.39 Truth: $278.39 Abs Error: $0.00 % Error: 0.0% SLE: 0.00 Item: Mickey Thompson ET Street S/S Racing Rad...\u001b[0m\n",
      "\u001b[94m170: Guess: $364.50 Truth: $364.50 Abs Error: $0.00 % Error: 0.0% SLE: 0.00 Item: Pirelli 275/40R20 106W XL RFT P0 PZ4-LUX...\u001b[0m\n",
      "\u001b[94m171: Guess: $378.99 Truth: $378.99 Abs Error: $0.00 % Error: 0.0% SLE: 0.00 Item: Torklift C3212 Rear Tie Down\u001b[0m\n",
      "\u001b[94m172: Guess: $165.28 Truth: $165.28 Abs Error: $0.00 % Error: 0.0% SLE: 0.00 Item: Cardone 78-4226 Remanufactured Ford Comp...\u001b[0m\n",
      "\u001b[94m173: Guess: $57.33 Truth: $56.74 Abs Error: $0.59 % Error: 1.0% SLE: 0.00 Item: Kidde AccessPoint 001798 Supra TouchPoin...\u001b[0m\n",
      "\u001b[94m174: Guess: $307.95 Truth: $307.95 Abs Error: $0.00 % Error: 0.0% SLE: 0.00 Item: 3M Protecta 3100414 Self Retracting Life...\u001b[0m\n",
      "\u001b[94m175: Guess: $38.00 Truth: $38.00 Abs Error: $0.00 % Error: 0.0% SLE: 0.00 Item: Plantronics 89435-01 Wired Headset, Blac...\u001b[0m\n",
      "\u001b[95m176: Guess: $63.88 Truth: $53.00 Abs Error: $10.88 % Error: 20.5% SLE: 0.03 Item: Logitech K750 Wireless Solar Keyboard fo...\u001b[0m\n",
      "\u001b[94m177: Guess: $498.00 Truth: $498.00 Abs Error: $0.00 % Error: 0.0% SLE: 0.00 Item: Olympus PEN E-PL9 Body Only with 3-Inch ...\u001b[0m\n",
      "\u001b[94m178: Guess: $53.99 Truth: $53.99 Abs Error: $0.00 % Error: 0.0% SLE: 0.00 Item: Beck/Arnley 051-6066 Hub & Bearing Assem...\u001b[0m\n",
      "\u001b[94m179: Guess: $319.88 Truth: $350.00 Abs Error: $30.12 % Error: 8.6% SLE: 0.01 Item: Eibach Pro-Kit Performance Springs E10-6...\u001b[0m\n",
      "\u001b[94m180: Guess: $299.99 Truth: $299.95 Abs Error: $0.04 % Error: 0.0% SLE: 0.00 Item: LEGO DC Batman 1989 Batwing 76161 Displa...\u001b[0m\n",
      "\u001b[94m181: Guess: $94.93 Truth: $94.93 Abs Error: $0.00 % Error: 0.0% SLE: 0.00 Item: Kingston Brass KS3608PL Restoration 4-In...\u001b[0m\n",
      "\u001b[94m182: Guess: $379.00 Truth: $379.00 Abs Error: $0.00 % Error: 0.0% SLE: 0.00 Item: Polk Vanishing Series 265-LS In-Wall 3-W...\u001b[0m\n",
      "\u001b[94m183: Guess: $299.95 Truth: $299.95 Abs Error: $0.00 % Error: 0.0% SLE: 0.00 Item: Spec-D Tuning LED Projector Headlights G...\u001b[0m\n",
      "\u001b[94m184: Guess: $24.99 Truth: $24.99 Abs Error: $0.00 % Error: 0.0% SLE: 0.00 Item: RICHMOND & FINCH Airpod Pro Case, Green ...\u001b[0m\n",
      "\u001b[94m185: Guess: $41.04 Truth: $41.04 Abs Error: $0.00 % Error: 0.0% SLE: 0.00 Item: LFA Industries 43B-5A-33JT 1/16-1/2-1.5-...\u001b[0m\n",
      "\u001b[94m186: Guess: $327.90 Truth: $327.90 Abs Error: $0.00 % Error: 0.0% SLE: 0.00 Item: SAUTVS LED Headlight Assembly for Slings...\u001b[0m\n",
      "\u001b[94m187: Guess: $10.99 Truth: $10.99 Abs Error: $0.00 % Error: 0.0% SLE: 0.00 Item: 2 Pack Combo Womens Safety Glasses Impac...\u001b[0m\n",
      "\u001b[94m188: Guess: $14.99 Truth: $14.99 Abs Error: $0.00 % Error: 0.0% SLE: 0.00 Item: Arepa - Venezuelan cuisine - Venezuela P...\u001b[0m\n",
      "\u001b[91m189: Guess: $22.57 Truth: $84.95 Abs Error: $62.38 % Error: 73.4% SLE: 1.67 Item: Schlage Lock Company KS23D2300 Padlock, ...\u001b[0m\n",
      "\u001b[94m190: Guess: $111.00 Truth: $111.00 Abs Error: $0.00 % Error: 0.0% SLE: 0.00 Item: Techni Mobili White Sit to Stand Mobile ...\u001b[0m\n",
      "\u001b[94m191: Guess: $123.73 Truth: $123.73 Abs Error: $0.00 % Error: 0.0% SLE: 0.00 Item: Special Lite Products Contemporary Wall ...\u001b[0m\n",
      "\u001b[94m192: Guess: $557.38 Truth: $557.38 Abs Error: $0.00 % Error: 0.0% SLE: 0.00 Item: Tascam DP-24SD 24-Track Digital Portastu...\u001b[0m\n",
      "\u001b[94m193: Guess: $95.55 Truth: $95.55 Abs Error: $0.00 % Error: 0.0% SLE: 0.00 Item: Glow Lighting 636CC10SP Vista Crystal Fl...\u001b[0m\n",
      "\u001b[94m194: Guess: $154.00 Truth: $154.00 Abs Error: $0.00 % Error: 0.0% SLE: 0.00 Item: Z3 Wind Deflector, Smoke Tint, Lexan, Wi...\u001b[0m\n",
      "\u001b[94m195: Guess: $198.99 Truth: $198.99 Abs Error: $0.00 % Error: 0.0% SLE: 0.00 Item: Olympus E-20 5MP Digital Camera w/ 4x Op...\u001b[0m\n",
      "\u001b[94m196: Guess: $430.44 Truth: $430.44 Abs Error: $0.00 % Error: 0.0% SLE: 0.00 Item: PHYNEDI 1:1000 World Trade Center (1973-...\u001b[0m\n",
      "\u001b[94m197: Guess: $45.67 Truth: $45.67 Abs Error: $0.00 % Error: 0.0% SLE: 0.00 Item: YANGHUAN Unstable Unicorns Adventure Car...\u001b[0m\n",
      "\u001b[94m198: Guess: $249.00 Truth: $249.00 Abs Error: $0.00 % Error: 0.0% SLE: 0.00 Item: Interlogix NX-1820E NetworX Touch Screen...\u001b[0m\n",
      "\u001b[94m199: Guess: $42.99 Truth: $42.99 Abs Error: $0.00 % Error: 0.0% SLE: 0.00 Item: Steering Damper,Universal Motorcycle Han...\u001b[0m\n",
      "\u001b[94m200: Guess: $181.33 Truth: $181.33 Abs Error: $0.00 % Error: 0.0% SLE: 0.00 Item: Amprobe TIC 410A Hot Stick Attachment\u001b[0m\n",
      "\u001b[95m201: Guess: $6.99 Truth: $6.03 Abs Error: $0.96 % Error: 15.9% SLE: 0.02 Item: MyCableMart 3.5mm Plug/Jack, 4 Conductor...\u001b[0m\n",
      "\u001b[94m202: Guess: $33.94 Truth: $29.99 Abs Error: $3.95 % Error: 13.2% SLE: 0.01 Item: OtterBox + Pop Symmetry Series Case for ...\u001b[0m\n",
      "\u001b[94m203: Guess: $899.00 Truth: $899.00 Abs Error: $0.00 % Error: 0.0% SLE: 0.00 Item: Dell XPS X8700-1572BLK Desktop ( Intel C...\u001b[0m\n",
      "\u001b[94m204: Guess: $399.99 Truth: $399.99 Abs Error: $0.00 % Error: 0.0% SLE: 0.00 Item: Franklin Iron Works Sperry Industrial Br...\u001b[0m\n",
      "\u001b[94m205: Guess: $4.66 Truth: $4.66 Abs Error: $0.00 % Error: 0.0% SLE: 0.00 Item: Avery Legal Dividers, Standard Collated ...\u001b[0m\n",
      "\u001b[94m206: Guess: $261.41 Truth: $261.41 Abs Error: $0.00 % Error: 0.0% SLE: 0.00 Item: Moen 8346 Commercial Posi-Temp Pressure ...\u001b[0m\n",
      "\u001b[94m207: Guess: $136.97 Truth: $136.97 Abs Error: $0.00 % Error: 0.0% SLE: 0.00 Item: Carlisle Versa Trail ATR All Terrain Rad...\u001b[0m\n",
      "\u001b[94m208: Guess: $79.00 Truth: $79.00 Abs Error: $0.00 % Error: 0.0% SLE: 0.00 Item: SUNWAYFOTO 44mm Tripod Ball Head Arca Co...\u001b[0m\n",
      "\u001b[94m209: Guess: $444.99 Truth: $444.99 Abs Error: $0.00 % Error: 0.0% SLE: 0.00 Item: NanoBeam AC NBE-5AC-Gen2-US 4 Units 5GHz...\u001b[0m\n",
      "\u001b[94m210: Guess: $411.94 Truth: $411.94 Abs Error: $0.00 % Error: 0.0% SLE: 0.00 Item: WULF 4\" Front 2\" Rear Leveling Lift Kit ...\u001b[0m\n",
      "\u001b[94m211: Guess: $148.40 Truth: $148.40 Abs Error: $0.00 % Error: 0.0% SLE: 0.00 Item: Alera ALEVABFMC Valencia Series Mobile B...\u001b[0m\n",
      "\u001b[94m212: Guess: $244.99 Truth: $244.99 Abs Error: $0.00 % Error: 0.0% SLE: 0.00 Item: YU-GI-OH! Ignition Assault Booster Box\u001b[0m\n",
      "\u001b[94m213: Guess: $86.50 Truth: $86.50 Abs Error: $0.00 % Error: 0.0% SLE: 0.00 Item: 48\" x 36\" Extra-Large Framed Magnetic Bl...\u001b[0m\n",
      "\u001b[94m214: Guess: $297.95 Truth: $297.95 Abs Error: $0.00 % Error: 0.0% SLE: 0.00 Item: Dell Latitude D620 Renewed Notebook PC\u001b[0m\n",
      "\u001b[94m215: Guess: $399.99 Truth: $399.99 Abs Error: $0.00 % Error: 0.0% SLE: 0.00 Item: acer Aspire 5 Laptop, AMD Ryzen 3 5300U ...\u001b[0m\n",
      "\u001b[94m216: Guess: $599.00 Truth: $599.00 Abs Error: $0.00 % Error: 0.0% SLE: 0.00 Item: Elk 31080/6RC-GRN 30 by 6-Inch Viva 6-Li...\u001b[0m\n",
      "\u001b[91m217: Guess: $64.90 Truth: $105.99 Abs Error: $41.09 % Error: 38.8% SLE: 0.23 Item: Barbie Top Model Doll\u001b[0m\n",
      "\u001b[94m218: Guess: $629.97 Truth: $689.00 Abs Error: $59.03 % Error: 8.6% SLE: 0.01 Item: Danby Designer 20-In. Electric Range wit...\u001b[0m\n",
      "\u001b[94m219: Guess: $404.99 Truth: $404.99 Abs Error: $0.00 % Error: 0.0% SLE: 0.00 Item: FixtureDisplays® Metal Truss Podium Doub...\u001b[0m\n",
      "\u001b[94m220: Guess: $207.76 Truth: $207.76 Abs Error: $0.00 % Error: 0.0% SLE: 0.00 Item: ACDelco 13597235 GM Original Equipment A...\u001b[0m\n",
      "\u001b[94m221: Guess: $171.82 Truth: $171.82 Abs Error: $0.00 % Error: 0.0% SLE: 0.00 Item: EBC S1KF1135 Stage-1 Premium Street Brak...\u001b[0m\n",
      "\u001b[94m222: Guess: $293.24 Truth: $293.24 Abs Error: $0.00 % Error: 0.0% SLE: 0.00 Item: FXR Men's Boost FX Jacket (Black/Orange/...\u001b[0m\n",
      "\u001b[94m223: Guess: $374.95 Truth: $374.95 Abs Error: $0.00 % Error: 0.0% SLE: 0.00 Item: SuperATV Scratch Resistant 3-in-1 Flip W...\u001b[0m\n",
      "\u001b[94m224: Guess: $111.99 Truth: $111.99 Abs Error: $0.00 % Error: 0.0% SLE: 0.00 Item: SBU 3 Layer All Weather Mini Van Car Cov...\u001b[0m\n",
      "\u001b[91m225: Guess: $22.99 Truth: $42.99 Abs Error: $20.00 % Error: 46.5% SLE: 0.37 Item: 2 Pack Outdoor Brochure Holder Advertisi...\u001b[0m\n",
      "\u001b[94m226: Guess: $116.71 Truth: $116.71 Abs Error: $0.00 % Error: 0.0% SLE: 0.00 Item: Monroe Shocks & Struts Quick-Strut 17158...\u001b[0m\n",
      "\u001b[94m227: Guess: $118.61 Truth: $118.61 Abs Error: $0.00 % Error: 0.0% SLE: 0.00 Item: Elements of Design Magellan EB235AL Thre...\u001b[0m\n",
      "\u001b[94m228: Guess: $147.12 Truth: $147.12 Abs Error: $0.00 % Error: 0.0% SLE: 0.00 Item: GM Genuine Parts 15-62961 Air Conditioni...\u001b[0m\n",
      "\u001b[94m229: Guess: $119.99 Truth: $119.99 Abs Error: $0.00 % Error: 0.0% SLE: 0.00 Item: Baseus 17-in-1 USB C Docking Station to ...\u001b[0m\n",
      "\u001b[94m230: Guess: $369.98 Truth: $369.98 Abs Error: $0.00 % Error: 0.0% SLE: 0.00 Item: Whitehall™ Personalized Whitehall Capito...\u001b[0m\n",
      "\u001b[94m231: Guess: $315.55 Truth: $315.55 Abs Error: $0.00 % Error: 0.0% SLE: 0.00 Item: Pro Circuit Works Pipe PY05250 for 02-19...\u001b[0m\n",
      "\u001b[94m232: Guess: $210.00 Truth: $190.99 Abs Error: $19.01 % Error: 10.0% SLE: 0.01 Item: HYANKA 15 \"1200W Professional DJ Speaker...\u001b[0m\n",
      "\u001b[94m233: Guess: $155.00 Truth: $155.00 Abs Error: $0.00 % Error: 0.0% SLE: 0.00 Item: Bluetooth X6BT Card Reader Writer Encode...\u001b[0m\n",
      "\u001b[94m234: Guess: $349.99 Truth: $349.99 Abs Error: $0.00 % Error: 0.0% SLE: 0.00 Item: AIRAID Cold Air Intake System by K&N: In...\u001b[0m\n",
      "\u001b[94m235: Guess: $249.99 Truth: $249.99 Abs Error: $0.00 % Error: 0.0% SLE: 0.00 Item: Bostingner Shower Faucets Sets Complete,...\u001b[0m\n",
      "\u001b[94m236: Guess: $42.99 Truth: $42.99 Abs Error: $0.00 % Error: 0.0% SLE: 0.00 Item: PIT66 Front Bumper Turn Signal Lights, C...\u001b[0m\n",
      "\u001b[95m237: Guess: $22.99 Truth: $17.99 Abs Error: $5.00 % Error: 27.8% SLE: 0.05 Item: Caseology Bumpy Compatible with Google P...\u001b[0m\n",
      "\u001b[94m238: Guess: $425.00 Truth: $425.00 Abs Error: $0.00 % Error: 0.0% SLE: 0.00 Item: Fleck 2510 Timer Mechanical Filter Contr...\u001b[0m\n",
      "\u001b[94m239: Guess: $249.99 Truth: $249.99 Abs Error: $0.00 % Error: 0.0% SLE: 0.00 Item: Haloview MC7108 Wireless RV Backup Camer...\u001b[0m\n",
      "\u001b[94m240: Guess: $138.23 Truth: $138.23 Abs Error: $0.00 % Error: 0.0% SLE: 0.00 Item: Schmidt Spiele - Manhattan\u001b[0m\n",
      "\u001b[94m241: Guess: $354.99 Truth: $414.99 Abs Error: $60.00 % Error: 14.5% SLE: 0.02 Item: Corsa 14333 Tip Kit (Ford Mustang GT)\u001b[0m\n",
      "\u001b[94m242: Guess: $168.28 Truth: $168.28 Abs Error: $0.00 % Error: 0.0% SLE: 0.00 Item: Hoshizaki FM116A Fan Motor Kit 1\u001b[0m\n",
      "\u001b[94m243: Guess: $199.99 Truth: $199.99 Abs Error: $0.00 % Error: 0.0% SLE: 0.00 Item: BAINUO Antler Chandelier Lighting,6 Ligh...\u001b[0m\n",
      "\u001b[94m244: Guess: $126.70 Truth: $126.70 Abs Error: $0.00 % Error: 0.0% SLE: 0.00 Item: DNA MOTORING HL-OH-FEXP06-SM-AM Smoke Le...\u001b[0m\n",
      "\u001b[94m245: Guess: $5.91 Truth: $5.91 Abs Error: $0.00 % Error: 0.0% SLE: 0.00 Item: Wera Stainless 3840/1 TS 2.5mm Hex Inser...\u001b[0m\n",
      "\u001b[94m246: Guess: $193.06 Truth: $193.06 Abs Error: $0.00 % Error: 0.0% SLE: 0.00 Item: Celestron - PowerSeeker 127EQ Telescope ...\u001b[0m\n",
      "\u001b[94m247: Guess: $249.99 Truth: $249.99 Abs Error: $0.00 % Error: 0.0% SLE: 0.00 Item: NHOPEEW 10.1inch Android Car Radio Carpl...\u001b[0m\n",
      "\u001b[94m248: Guess: $64.12 Truth: $64.12 Abs Error: $0.00 % Error: 0.0% SLE: 0.00 Item: Other Harmonica (Suzuki-2Timer24- A)\u001b[0m\n",
      "\u001b[94m249: Guess: $114.99 Truth: $114.99 Abs Error: $0.00 % Error: 0.0% SLE: 0.00 Item: Harley Air Filter Venturi Intake Air Cle...\u001b[0m\n",
      "\u001b[94m250: Guess: $928.33 Truth: $926.00 Abs Error: $2.33 % Error: 0.3% SLE: 0.00 Item: Elite Screens Edge Free Ambient Light Re...\u001b[0m\n",
      "\n",
      "------------------------------------------------------------\n",
      "TEST SUMMARY: Gpt Fine Tuned\n",
      "------------------------------------------------------------\n",
      "Samples tested: 250\n",
      "Average absolute error: $5.18\n",
      "Average percentage error: 5.1%\n",
      "RMSLE: 0.1979\n",
      "\n",
      "Performance Breakdown:\n",
      "  🔵 Excellent (<=15% error): 228 (91.2%)\n",
      "  🟣 Good (<=30% error): 10 (4.0%)\n",
      "  🔴 Poor (>30% error): 12 (4.8%)\n",
      "------------------------------------------------------------\n"
     ]
    },
    {
     "data": {
      "image/png": "[encoded data removed]",
      "text/plain": [
       "<Figure size 1200x800 with 1 Axes>"
      ]
     },
     "metadata": {},
     "output_type": "display_data"
    }
   ],
   "source": [
    "from dynamic_testing import Tester # Imports Tester from dynamic_testing module.\n",
    "\n",
    "# Tester.test(my_predictor, data, excellent_threshold=0.10, good_threshold=0.25) # Example usage with custom thresholds:\n",
    "\n",
    "Tester.test(gpt_fine_tuned, test)"
   ]
  },
  {
   "cell_type": "code",
   "execution_count": null,
   "id": "8ce2d93d-13f0-49bd-9928-c60b7bd22ff5",
   "metadata": {},
   "outputs": [],
   "source": []
  }
 ],
 "metadata": {
  "kernelspec": {
   "display_name": "Python 3 (ipykernel)",
   "language": "python",
   "name": "python3"
  },
  "language_info": {
   "codemirror_mode": {
    "name": "ipython",
    "version": 3
   },
   "file_extension": ".py",
   "mimetype": "text/x-python",
   "name": "python",
   "nbconvert_exporter": "python",
   "pygments_lexer": "ipython3",
   "version": "3.11.12"
  }
 },
 "nbformat": 4,
 "nbformat_minor": 5
}
