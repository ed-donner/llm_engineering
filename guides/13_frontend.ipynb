{
 "cells": [
  {
   "cell_type": "markdown",
   "id": "695d0c99",
   "metadata": {},
   "source": [
    "# Your frontend crash course\n",
    "\n",
    "Here is a seven part series developed by you-know-who under my direction. It's very nicely done! You should take this in any direction you like.\n",
    "\n",
    "ChatGPT has written these in note form for someone who wants to experiment; you should ask it to rewrite in a more verbose way if you'd prefer deeper explanations.\n",
    "\n",
    "1. Refresher on modern HTML, CSS and JavaScript\n",
    "\n",
    "https://chatgpt.com/share/68c345ee-ae34-8012-9a05-0ce43a816f9c\n",
    "\n",
    "2. Modern JavaScript\n",
    "\n",
    "https://chatgpt.com/share/68c3495f-0c94-8012-b048-db1670aefa47\n",
    "\n",
    "3. From JavaScript to TypeScript\n",
    "\n",
    "https://chatgpt.com/share/68c34974-b768-8012-9926-5a9ed67d59c3\n",
    "\n",
    "4. React (TypeScript) basics\n",
    "\n",
    "https://chatgpt.com/share/68c3498d-e340-8012-b3a3-37a28802db6a\n",
    "\n",
    "5. React - state, props, hooks\n",
    "\n",
    "https://chatgpt.com/share/68c349c7-e75c-8012-b1e5-b4f51bb0e27c\n",
    "\n",
    "6. NextJS introduction\n",
    "\n",
    "https://chatgpt.com/share/68c349e7-e740-8012-8f0c-ba40ad7e148d\n",
    "\n",
    "7. NextJS rendering models and Tailwind\n",
    "\n",
    "https://chatgpt.com/share/68c34a13-3120-8012-9a67-f53d7a0cfc99\n",
    "\n",
    "\n",
    "\n",
    "\n"
   ]
  }
 ],
 "metadata": {
  "language_info": {
   "name": "python"
  }
 },
 "nbformat": 4,
 "nbformat_minor": 5
}
