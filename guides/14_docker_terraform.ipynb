{
 "cells": [
  {
   "cell_type": "markdown",
   "id": "303a5c4f",
   "metadata": {},
   "source": [
    "# Briefings on Docker and Terraform\n",
    "\n",
    "Here's a mutual friend giving an excellent self-study tutorial on Docker essentials:\n",
    "\n",
    "https://chatgpt.com/share/68c34f21-07bc-8012-b411-35cc97aff6ab\n",
    "\n",
    "And here is an equally excellent overview of Terraform to get you building infrastructure with code like a pro. No more AWS console!\n",
    "\n",
    "https://chatgpt.com/share/68c3513a-c194-8012-85c3-c0ea9143af5a"
   ]
  },
  {
   "cell_type": "markdown",
   "id": "6fe933fd",
   "metadata": {},
   "source": []
  }
 ],
 "metadata": {
  "language_info": {
   "name": "python"
  }
 },
 "nbformat": 4,
 "nbformat_minor": 5
}
