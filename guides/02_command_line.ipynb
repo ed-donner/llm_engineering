{
 "cells": [
  {
   "cell_type": "markdown",
   "metadata": {},
   "source": [
    "# The command line"
   ]
  },
  {
   "cell_type": "markdown",
   "metadata": {},
   "source": [
    "Welcome to the guide to build your confidence working at the command line.\n",
    "\n",
    "By the end of this guide, you should be able to confidently work at the command line, creating directories, moving files and more!\n"
   ]
  },
  {
   "cell_type": "markdown",
   "metadata": {},
   "source": [
    "## For Windows PC users\n",
    "\n",
    "Please see this briefing:\n",
    "\n",
    "https://chatgpt.com/share/68064acf-4d3c-8012-86a1-fb09a7c6f923"
   ]
  },
  {
   "cell_type": "markdown",
   "metadata": {},
   "source": [
    "## For Mac users\n",
    "\n",
    "Please see this briefing:\n",
    "\n",
    "https://chatgpt.com/share/68064bfe-662c-8012-8073-479c32595459"
   ]
  },
  {
   "cell_type": "markdown",
   "metadata": {},
   "source": [
    "Please do experiment to build your confidence.\n",
    "\n",
    "ChatGPT, Claude, Gemini, DeepSeek and others are your friends! They are excellent at explaining any command line commands in detail. This will quickly become second nature."
   ]
  },
  {
   "cell_type": "markdown",
   "metadata": {},
   "source": []
  }
 ],
 "metadata": {
  "language_info": {
   "name": "python"
  }
 },
 "nbformat": 4,
 "nbformat_minor": 2
}
