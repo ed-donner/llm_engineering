{
 "cells": [
  {
   "cell_type": "markdown",
   "id": "d15d8294-3328-4e07-ad16-8a03e9bbfdb9",
   "metadata": {},
   "source": [
    "## If you're new to the Command Line\n",
    "\n",
    "Please see these excellent guides: [Command line on PC](https://chatgpt.com/share/67b0acea-ba38-8012-9c34-7a2541052665) and [Command line on Mac](https://chatgpt.com/canvas/shared/67b0b10c93a081918210723867525d2b).  \n",
    "\n",
    "## If you'd like to brush up your Python\n",
    "\n",
    "I've added a notebook called [Intermediate Python](Intermediate%20Python.ipynb) to get you up to speed. But you should give it a miss if you already have a good idea what this code does:    \n",
    "`yield from {book.get(\"author\") for book in books if book.get(\"author\")}` \n",
    "\n",
    "## More troubleshooting\n",
    "\n",
    "Please see the [troubleshooting](troubleshooting.ipynb) notebook in this folder to diagnose and fix common problems. At the very end of it is a diagnostics script with some useful debug info.\n",
    "\n",
    "## For foundational technical knowledge (eg Git, APIs, debugging) \n",
    "\n",
    "If you're relatively new to programming -- I've got your back! While it's ideal to have some programming experience for this course, there's only one mandatory prerequisite: plenty of patience. 😁 I've put together a set of self-study guides that cover Git and GitHub, APIs and endpoints, beginner python and more.\n",
    "\n",
    "This covers Git and GitHub; what they are, the difference, and how to use them:  \n",
    "https://github.com/ed-donner/agents/blob/main/guides/03_git_and_github.ipynb\n",
    "\n",
    "This covers technical foundations:  \n",
    "ChatGPT vs API; taking screenshots; Environment Variables; Networking basics; APIs and endpoints:  \n",
    "https://github.com/ed-donner/agents/blob/main/guides/04_technical_foundations.ipynb\n",
    "\n",
    "This covers Python for beginners, and making sure that a `NameError` never trips you up:  \n",
    "https://github.com/ed-donner/agents/blob/main/guides/06_python_foundations.ipynb\n",
    "\n",
    "This covers the essential techniques for figuring out errors:  \n",
    "https://github.com/ed-donner/agents/blob/main/guides/08_debugging.ipynb\n",
    "\n",
    "And you'll find other useful guides in the same folder in GitHub. Some information applies to my other Udemy course (eg Async Python) but most of it is very relevant for LLM engineering.\n",
    "\n",
    "## If this is old hat!\n",
    "\n",
    "If you're already comfortable with today's material, please hang in there; you can move swiftly through the first few labs - we will get much more in depth as the weeks progress. Ultimately we will fine-tune our own LLM to compete with OpenAI!\n",
    "\n",
    "<table style=\"margin: 0; text-align: left;\">\n",
    "    <tr>\n",
    "        <td style=\"width: 150px; height: 150px; vertical-align: middle;\">\n",
    "            <img src=\"../important.jpg\" width=\"150\" height=\"150\" style=\"display: block;\" />\n",
    "        </td>\n",
    "        <td>\n",
    "            <h2 style=\"color:#900;\">Please read - important note</h2>\n",
    "            <span style=\"color:#900;\">The way I collaborate with you may be different to other courses you've taken. I prefer not to type code while you watch. Rather, I execute Jupyter Labs, like this, and give you an intuition for what's going on. My suggestion is that you carefully execute this yourself, <b>after</b> watching the lecture. Add print statements to understand what's going on, and then come up with your own variations. If you have a Github account, use this to showcase your variations. Not only is this essential practice, but it demonstrates your skills to others, including perhaps future clients or employers...</span>\n",
    "        </td>\n",
    "    </tr>\n",
    "</table>\n",
    "<table style=\"margin: 0; text-align: left;\">\n",
    "    <tr>\n",
    "        <td style=\"width: 150px; height: 150px; vertical-align: middle;\">\n",
    "            <img src=\"../resources.jpg\" width=\"150\" height=\"150\" style=\"display: block;\" />\n",
    "        </td>\n",
    "        <td>\n",
    "            <h2 style=\"color:#f71;\">This code is a live resource - keep an eye out for my emails</h2>\n",
    "            <span style=\"color:#f71;\">I push updates to the code regularly. As people ask questions, I add more examples or improved commentary. As a result, you'll notice that the code below isn't identical to the videos. Everything from the videos is here; but I've also added better explanations and new models like DeepSeek. Consider this like an interactive book.<br/><br/>\n",
    "                I try to send emails regularly with important updates related to the course. You can find this in the 'Announcements' section of Udemy in the left sidebar. You can also choose to receive my emails via your Notification Settings in Udemy. I'm respectful of your inbox and always try to add value with my emails!\n",
    "            </span>\n",
    "        </td>\n",
    "    </tr>\n",
    "</table>\n",
    "<table style=\"margin: 0; text-align: left;\">\n",
    "    <tr>\n",
    "        <td style=\"width: 150px; height: 150px; vertical-align: middle;\">\n",
    "            <img src=\"../business.jpg\" width=\"150\" height=\"150\" style=\"display: block;\" />\n",
    "        </td>\n",
    "        <td>\n",
    "            <h2 style=\"color:#181;\">Business value of these exercises</h2>\n",
    "            <span style=\"color:#181;\">A final thought. While I've designed these notebooks to be educational, I've also tried to make them enjoyable. We'll do fun things like have LLMs tell jokes and argue with each other. But fundamentally, my goal is to teach skills you can apply in business. I'll explain business implications as we go, and it's worth keeping this in mind: as you build experience with models and techniques, think of ways you could put this into action at work today. Please do contact me if you'd like to discuss more or if you have ideas to bounce off me.</span>\n",
    "        </td>\n",
    "    </tr>\n",
    "</table>"
   ]
  },
  {
   "cell_type": "code",
   "execution_count": null,
   "id": "4e2a9393-7767-488e-a8bf-27c12dca35bd",
   "metadata": {},
   "outputs": [],
   "source": [
    "# imports\n",
    "\n",
    "import os\n",
    "import requests\n",
    "from dotenv import load_dotenv\n",
    "from bs4 import BeautifulSoup\n",
    "from IPython.display import Markdown, display\n",
    "from openai import OpenAI"
   ]
  },
  {
   "cell_type": "markdown",
   "id": "6900b2a8-6384-4316-8aaa-5e519fca4254",
   "metadata": {},
   "source": [
    "# Connecting to OpenAI (or Ollama)\n",
    "\n",
    "The next cell is where we load in the environment variables in your `.env` file and connect to OpenAI.  \n",
    "\n",
    "If you'd like to use free Ollama instead, please see the README section \"Free Alternative to Paid APIs\", and if you're not sure how to do this, there's a full solution in the solutions folder (day1_with_ollama.ipynb).\n",
    "\n",
    "## Troubleshooting if you have problems:\n",
    "\n",
    "Head over to the [troubleshooting](troubleshooting.ipynb) notebook in this folder for step by step code to identify the root cause and fix it!\n",
    "\n",
    "If you make a change, try restarting the \"Kernel\" (the python process sitting behind this notebook) by Kernel menu >> Restart Kernel and Clear Outputs of All Cells. Then try this notebook again, starting at the top.\n",
    "\n",
    "Or, contact me! Message me or email ed@edwarddonner.com and we will get this to work.\n",
    "\n",
    "Any concerns about API costs? See my notes in the README - costs should be minimal, and you can control it at every point. You can also use Ollama as a free alternative, which we discuss during Day 2."
   ]
  },
  {
   "cell_type": "code",
   "execution_count": null,
   "id": "7b87cadb-d513-4303-baee-a37b6f938e4d",
   "metadata": {},
   "outputs": [],
   "source": [
    "# Load environment variables in a file called .env\n",
    "\n",
    "load_dotenv(override=True)\n",
    "api_key = os.getenv('OPENAI_API_KEY')\n",
    "\n",
    "# Check the key\n",
    "\n",
    "if not api_key:\n",
    "    print(\"No API key was found - please head over to the troubleshooting notebook in this folder to identify & fix!\")\n",
    "elif not api_key.startswith(\"sk-proj-\"):\n",
    "    print(\"An API key was found, but it doesn't start sk-proj-; please check you're using the right key - see troubleshooting notebook\")\n",
    "elif api_key.strip() != api_key:\n",
    "    print(\"An API key was found, but it looks like it might have space or tab characters at the start or end - please remove them - see troubleshooting notebook\")\n",
    "else:\n",
    "    print(\"API key found and looks good so far!\")\n"
   ]
  },
  {
   "cell_type": "code",
   "execution_count": null,
   "id": "019974d9-f3ad-4a8a-b5f9-0a3719aea2d3",
   "metadata": {},
   "outputs": [],
   "source": [
    "openai = OpenAI()\n",
    "\n",
    "# If this doesn't work, try Kernel menu >> Restart Kernel and Clear Outputs Of All Cells, then run the cells from the top of this notebook down.\n",
    "# If it STILL doesn't work (horrors!) then please see the Troubleshooting notebook in this folder for full instructions"
   ]
  },
  {
   "cell_type": "markdown",
   "id": "442fc84b-0815-4f40-99ab-d9a5da6bda91",
   "metadata": {},
   "source": [
    "# Let's make a quick call to a Frontier model to get started, as a preview!"
   ]
  },
  {
   "cell_type": "code",
   "execution_count": null,
   "id": "a58394bf-1e45-46af-9bfd-01e24da6f49a",
   "metadata": {},
   "outputs": [],
   "source": [
    "# To give you a preview -- calling OpenAI with these messages is this easy. Any problems, head over to the Troubleshooting notebook.\n",
    "\n",
    "message = \"Hello, GPT! This is my first ever message to you! Hi!\"\n",
    "response = openai.chat.completions.create(model=\"gpt-4o-mini\", messages=[{\"role\":\"user\", \"content\":message}])\n",
    "print(response.choices[0].message.content)"
   ]
  },
  {
   "cell_type": "code",
   "execution_count": null,
   "id": "d622ebf5",
   "metadata": {},
   "outputs": [],
   "source": [
    "message = \"Do you know me?\"\n",
    "response = openai.chat.completions.create(model=\"gpt-4o-mini\", messages=[{\"role\":\"user\", \"content\":message}])\n",
    "print(response.choices[0].message.content)"
   ]
  },
  {
   "cell_type": "code",
   "execution_count": null,
   "id": "1b60020b",
   "metadata": {},
   "outputs": [],
   "source": [
    "response"
   ]
  },
  {
   "cell_type": "code",
   "execution_count": null,
   "id": "ff28861b",
   "metadata": {},
   "outputs": [],
   "source": [
    "messages = [\n",
    "    {\n",
    "        \"role\": \"user\",\n",
    "        \"content\": \"What is the most distant planet in our solar system?\"\n",
    "    },\n",
    "    {\n",
    "        \"role\": \"assistant\",\n",
    "        \"content\": \"The most distant planet in our solar system is Neptune.\"\n",
    "    },\n",
    "    {\n",
    "        \"role\": \"user\",\n",
    "        \"content\": \"Tell me a fun fact about it.\" # This question depends on the context above.\n",
    "    }\n",
    "]\n",
    "\n",
    "response = openai.chat.completions.create(model=\"gpt-4o-mini\", messages=messages)\n",
    "print(response.choices[0].message.content)"
   ]
  },
  {
   "cell_type": "code",
   "execution_count": null,
   "id": "0553d07f",
   "metadata": {},
   "outputs": [],
   "source": [
    "messages = [\n",
    "    {\n",
    "        \"role\": \"system\",\n",
    "        \"content\": \"You are a helpful assistant who speaks and acts like a classic, swashbuckling pirate. Always stay in character.\"\n",
    "    },\n",
    "    {\n",
    "        \"role\": \"user\",\n",
    "        \"content\": \"What is the most distant planet in our solar system?\"\n",
    "    }\n",
    "]\n",
    "\n",
    "response = openai.chat.completions.create(model=\"gpt-4o-mini\", messages=messages)\n",
    "print(response.choices[0].message.content)"
   ]
  },
  {
   "cell_type": "markdown",
   "id": "2aa190e5-cb31-456a-96cc-db109919cd78",
   "metadata": {},
   "source": [
    "## OK onwards with our first project"
   ]
  },
  {
   "cell_type": "code",
   "execution_count": null,
   "id": "c5e793b2-6775-426a-a139-4848291d0463",
   "metadata": {},
   "outputs": [],
   "source": [
    "# A class to represent a Webpage\n",
    "# If you're not familiar with Classes, check out the \"Intermediate Python\" notebook\n",
    "\n",
    "# Some websites need you to use proper headers when fetching them:\n",
    "headers = {\n",
    " \"User-Agent\": \"Mozilla/5.0 (Windows NT 10.0; Win64; x64) AppleWebKit/537.36 (KHTML, like Gecko) Chrome/117.0.0.0 Safari/537.36\"\n",
    "}\n",
    "\n",
    "class Website:\n",
    "\n",
    "    def __init__(self, url):\n",
    "        \"\"\"\n",
    "        Create this Website object from the given url using the BeautifulSoup library\n",
    "        \"\"\"\n",
    "        self.url = url\n",
    "        response = requests.get(url, headers=headers)\n",
    "        soup = BeautifulSoup(response.content, 'html.parser')\n",
    "        self.title = soup.title.string if soup.title else \"No title found\"\n",
    "        for irrelevant in soup.body([\"script\", \"style\", \"img\", \"input\"]):\n",
    "            irrelevant.decompose()\n",
    "        self.text = soup.body.get_text(separator=\"\\n\", strip=True)"
   ]
  },
  {
   "cell_type": "code",
   "execution_count": null,
   "id": "2ef960cf-6dc2-4cda-afb3-b38be12f4c97",
   "metadata": {},
   "outputs": [],
   "source": [
    "# Let's try one out. Change the website and add print statements to follow along.\n",
    "\n",
    "ed = Website(\"https://edwarddonner.com\")\n",
    "print(ed.title)\n",
    "print(ed.text)"
   ]
  },
  {
   "cell_type": "code",
   "execution_count": null,
   "id": "b6bd0201",
   "metadata": {},
   "outputs": [],
   "source": [
    "my = Website(\"https://japyh.vercel.app/\")\n",
    "print(my.title)\n",
    "print(my.text)\n",
    "# I created this website using JavaScript and React! So there is no text here. I'm gonna fix that later."
   ]
  },
  {
   "cell_type": "code",
   "execution_count": null,
   "id": "d80463f9",
   "metadata": {},
   "outputs": [],
   "source": [
    "medium = Website(\"https://medium.com/@japyh/playground-series-s5e5-216-4316-4715112b79ec\")\n",
    "print(medium.title)\n",
    "print(medium.text)"
   ]
  },
  {
   "cell_type": "markdown",
   "id": "6a478a0c-2c53-48ff-869c-4d08199931e1",
   "metadata": {},
   "source": [
    "## Types of prompts\n",
    "\n",
    "You may know this already - but if not, you will get very familiar with it!\n",
    "\n",
    "Models like GPT4o have been trained to receive instructions in a particular way.\n",
    "\n",
    "They expect to receive:\n",
    "\n",
    "**A system prompt** that tells them what task they are performing and what tone they should use\n",
    "\n",
    "**A user prompt** -- the conversation starter that they should reply to"
   ]
  },
  {
   "cell_type": "code",
   "execution_count": null,
   "id": "abdb8417-c5dc-44bc-9bee-2e059d162699",
   "metadata": {},
   "outputs": [],
   "source": [
    "# Define our system prompt - you can experiment with this later, changing the last sentence to 'Respond in markdown in Spanish.\"\n",
    "\n",
    "system_prompt = \"You are an assistant that analyzes the contents of a website \\\n",
    "and provides a short summary, ignoring text that might be navigation related. \\\n",
    "Respond in markdown.\""
   ]
  },
  {
   "cell_type": "code",
   "execution_count": null,
   "id": "f0275b1b-7cfe-4f9d-abfa-7650d378da0c",
   "metadata": {},
   "outputs": [],
   "source": [
    "# A function that writes a User Prompt that asks for summaries of websites:\n",
    "\n",
    "def user_prompt_for(website):\n",
    "    user_prompt = f\"You are looking at a website titled {website.title}\"\n",
    "    user_prompt += \"\\nThe contents of this website is as follows; \\\n",
    "please provide a short summary of this website in markdown. \\\n",
    "If it includes news or announcements, then summarize these too.\\n\\n\"\n",
    "    user_prompt += website.text\n",
    "    return user_prompt"
   ]
  },
  {
   "cell_type": "code",
   "execution_count": null,
   "id": "26448ec4-5c00-4204-baec-7df91d11ff2e",
   "metadata": {},
   "outputs": [],
   "source": [
    "print(user_prompt_for(ed))"
   ]
  },
  {
   "cell_type": "markdown",
   "id": "ea211b5f-28e1-4a86-8e52-c0b7677cadcc",
   "metadata": {},
   "source": [
    "## Messages\n",
    "\n",
    "The API from OpenAI expects to receive messages in a particular structure.\n",
    "Many of the other APIs share this structure:\n",
    "\n",
    "```python\n",
    "[\n",
    "    {\"role\": \"system\", \"content\": \"system message goes here\"},\n",
    "    {\"role\": \"user\", \"content\": \"user message goes here\"}\n",
    "]\n",
    "```\n",
    "To give you a preview, the next 2 cells make a rather simple call - we won't stretch the mighty GPT (yet!)"
   ]
  },
  {
   "cell_type": "code",
   "execution_count": null,
   "id": "f25dcd35-0cd0-4235-9f64-ac37ed9eaaa5",
   "metadata": {},
   "outputs": [],
   "source": [
    "messages = [\n",
    "    {\"role\": \"system\", \"content\": \"You are a snarky assistant\"},\n",
    "    {\"role\": \"user\", \"content\": \"What is 2 + 2?\"}\n",
    "]"
   ]
  },
  {
   "cell_type": "code",
   "execution_count": null,
   "id": "21ed95c5-7001-47de-a36d-1d6673b403ce",
   "metadata": {},
   "outputs": [],
   "source": [
    "# To give you a preview -- calling OpenAI with system and user messages:\n",
    "\n",
    "response = openai.chat.completions.create(model=\"gpt-4o-mini\", messages=messages)\n",
    "print(response.choices[0].message.content)"
   ]
  },
  {
   "cell_type": "markdown",
   "id": "d06e8d78-ce4c-4b05-aa8e-17050c82bb47",
   "metadata": {},
   "source": [
    "## And now let's build useful messages for GPT-4o-mini, using a function"
   ]
  },
  {
   "cell_type": "code",
   "execution_count": null,
   "id": "0134dfa4-8299-48b5-b444-f2a8c3403c88",
   "metadata": {},
   "outputs": [],
   "source": [
    "# See how this function creates exactly the format above\n",
    "\n",
    "def messages_for(website):\n",
    "    return [\n",
    "        {\"role\": \"system\", \"content\": system_prompt},\n",
    "        {\"role\": \"user\", \"content\": user_prompt_for(website)}\n",
    "    ]"
   ]
  },
  {
   "cell_type": "code",
   "execution_count": null,
   "id": "36478464-39ee-485c-9f3f-6a4e458dbc9c",
   "metadata": {},
   "outputs": [],
   "source": [
    "# Try this out, and then try for a few more websites\n",
    "\n",
    "messages_for(ed)"
   ]
  },
  {
   "cell_type": "markdown",
   "id": "16f49d46-bf55-4c3e-928f-68fc0bf715b0",
   "metadata": {},
   "source": [
    "## Time to bring it together - the API for OpenAI is very simple!"
   ]
  },
  {
   "cell_type": "code",
   "execution_count": null,
   "id": "905b9919-aba7-45b5-ae65-81b3d1d78e34",
   "metadata": {},
   "outputs": [],
   "source": [
    "# And now: call the OpenAI API. You will get very familiar with this!\n",
    "\n",
    "def summarize(url):\n",
    "    website = Website(url)\n",
    "    response = openai.chat.completions.create(\n",
    "        model = \"gpt-4o-mini\",\n",
    "        messages = messages_for(website)\n",
    "    )\n",
    "    return response.choices[0].message.content"
   ]
  },
  {
   "cell_type": "code",
   "execution_count": null,
   "id": "05e38d41-dfa4-4b20-9c96-c46ea75d9fb5",
   "metadata": {},
   "outputs": [],
   "source": [
    "summarize(\"https://edwarddonner.com\")"
   ]
  },
  {
   "cell_type": "code",
   "execution_count": null,
   "id": "3d926d59-450e-4609-92ba-2d6f244f1342",
   "metadata": {},
   "outputs": [],
   "source": [
    "# A function to display this nicely in the Jupyter output, using markdown\n",
    "\n",
    "def display_summary(url):\n",
    "    summary = summarize(url)\n",
    "    display(Markdown(summary))"
   ]
  },
  {
   "cell_type": "code",
   "execution_count": null,
   "id": "3018853a-445f-41ff-9560-d925d1774b2f",
   "metadata": {},
   "outputs": [],
   "source": [
    "display_summary(\"https://edwarddonner.com\")"
   ]
  },
  {
   "cell_type": "code",
   "execution_count": null,
   "id": "19ce1477",
   "metadata": {},
   "outputs": [],
   "source": [
    "display_summary(\"https://medium.com/@japyh/playground-series-s5e5-216-4316-4715112b79ec\")"
   ]
  },
  {
   "cell_type": "markdown",
   "id": "b3bcf6f4-adce-45e9-97ad-d9a5d7a3a624",
   "metadata": {},
   "source": [
    "# Let's try more websites\n",
    "\n",
    "Note that this will only work on websites that can be scraped using this simplistic approach.\n",
    "\n",
    "Websites that are rendered with Javascript, like React apps, won't show up. See the community-contributions folder for a Selenium implementation that gets around this. You'll need to read up on installing Selenium (ask ChatGPT!)\n",
    "\n",
    "Also Websites protected with CloudFront (and similar) may give 403 errors - many thanks Andy J for pointing this out.\n",
    "\n",
    "But many websites will work just fine!"
   ]
  },
  {
   "cell_type": "markdown",
   "id": "4d05cfb5",
   "metadata": {},
   "source": [
    "## Enhanced Website Class with Selenium\n",
    "\n",
    "Let's create an improved version of the `Website` class that can handle JavaScript-rendered pages using Selenium. This will allow us to scrape websites like OpenAI that rely on JavaScript to render content.\n",
    "\n",
    "**Installation required:**\n",
    "```bash\n",
    "pip install selenium webdriver-manager\n",
    "```\n",
    "\n",
    "The enhanced class will:\n",
    "1. Automatically detect when a page has minimal content (likely JS-rendered)\n",
    "2. Fall back to Selenium to render the page with a headless browser\n",
    "3. Extract the fully rendered content"
   ]
  },
  {
   "cell_type": "code",
   "execution_count": null,
   "id": "7d6f1a2a",
   "metadata": {},
   "outputs": [],
   "source": [
    "# Enhanced Website class with Selenium fallback for JavaScript-rendered pages\n",
    "\n",
    "from selenium import webdriver\n",
    "from selenium.webdriver.chrome.service import Service\n",
    "from selenium.webdriver.chrome.options import Options\n",
    "from selenium.webdriver.common.by import By\n",
    "from selenium.webdriver.support.ui import WebDriverWait\n",
    "from selenium.webdriver.support import expected_conditions as EC\n",
    "from webdriver_manager.chrome import ChromeDriverManager\n",
    "\n",
    "class WebsiteWithSelenium:\n",
    "    \"\"\"\n",
    "    Enhanced Website class that can handle both static and JavaScript-rendered pages.\n",
    "    Falls back to Selenium when minimal content is detected.\n",
    "    \"\"\"\n",
    "    \n",
    "    def __init__(self, url, use_selenium=False):\n",
    "        \"\"\"\n",
    "        Create this Website object from the given url.\n",
    "        If use_selenium is True, or if minimal content is detected, use Selenium.\n",
    "        \"\"\"\n",
    "        self.url = url\n",
    "        self.title = None\n",
    "        self.text = None\n",
    "        \n",
    "        # Try regular requests first (unless explicitly told to use Selenium)\n",
    "        if not use_selenium:\n",
    "            try:\n",
    "                response = requests.get(url, headers=headers, timeout=10)\n",
    "                soup = BeautifulSoup(response.content, 'html.parser')\n",
    "                self.title = soup.title.string if soup.title else \"No title found\"\n",
    "                \n",
    "                # Remove irrelevant elements\n",
    "                if soup.body:\n",
    "                    for irrelevant in soup.body([\"script\", \"style\", \"img\", \"input\"]):\n",
    "                        irrelevant.decompose()\n",
    "                    text = soup.body.get_text(separator=\"\\n\", strip=True)\n",
    "                else:\n",
    "                    text = \"\"\n",
    "                \n",
    "                # Check if content is minimal (likely JS-rendered)\n",
    "                if len(text) < 500:  # Arbitrary threshold\n",
    "                    print(f\"⚠️ Minimal content ({len(text)} chars) - using Selenium to render JavaScript...\")\n",
    "                    use_selenium = True\n",
    "                else:\n",
    "                    self.text = text\n",
    "                    print(f\"✓ Fetched {len(self.text)} characters using requests\")\n",
    "                    return  # Successfully got content, no need for Selenium\n",
    "            except Exception as e:\n",
    "                print(f\"⚠️ Error with requests: {e}\")\n",
    "                print(f\"   Falling back to Selenium...\")\n",
    "                use_selenium = True\n",
    "        \n",
    "        # Use Selenium if needed\n",
    "        if use_selenium:\n",
    "            self._fetch_with_selenium()\n",
    "    \n",
    "    def _fetch_with_selenium(self):\n",
    "        \"\"\"\n",
    "        Fetch the website content using Selenium with a headless Chrome browser.\n",
    "        \"\"\"\n",
    "        # Configure Chrome options for headless mode\n",
    "        chrome_options = Options()\n",
    "        chrome_options.add_argument(\"--headless\")  # Run in background\n",
    "        chrome_options.add_argument(\"--no-sandbox\")\n",
    "        chrome_options.add_argument(\"--disable-dev-shm-usage\")\n",
    "        chrome_options.add_argument(\"--disable-gpu\")\n",
    "        chrome_options.add_argument(f\"user-agent={headers['User-Agent']}\")\n",
    "        \n",
    "        # Initialize the Chrome driver\n",
    "        driver = None\n",
    "        try:\n",
    "            service = Service(ChromeDriverManager().install())\n",
    "            driver = webdriver.Chrome(service=service, options=chrome_options)\n",
    "            \n",
    "            # Load the page\n",
    "            driver.get(self.url)\n",
    "            \n",
    "            # Wait for the page to load (wait for body to be present)\n",
    "            WebDriverWait(driver, 10).until(\n",
    "                EC.presence_of_element_located((By.TAG_NAME, \"body\"))\n",
    "            )\n",
    "            \n",
    "            # Give JavaScript time to render\n",
    "            import time\n",
    "            time.sleep(2)\n",
    "            \n",
    "            # Get the page source after JavaScript has rendered\n",
    "            page_source = driver.page_source\n",
    "            soup = BeautifulSoup(page_source, 'html.parser')\n",
    "            \n",
    "            # Extract title\n",
    "            self.title = soup.title.string if soup.title else \"No title found\"\n",
    "            \n",
    "            # Remove irrelevant elements\n",
    "            if soup.body:\n",
    "                for irrelevant in soup.body([\"script\", \"style\", \"img\", \"input\"]):\n",
    "                    irrelevant.decompose()\n",
    "                self.text = soup.body.get_text(separator=\"\\n\", strip=True)\n",
    "            else:\n",
    "                self.text = soup.get_text(separator=\"\\n\", strip=True)\n",
    "            \n",
    "            print(f\"✓ Fetched {len(self.text)} characters using Selenium\")\n",
    "            \n",
    "        except Exception as e:\n",
    "            print(f\"Error with Selenium: {e}\")\n",
    "            self.title = \"Error loading page\"\n",
    "            self.text = f\"Could not load content from {self.url}\"\n",
    "        \n",
    "        finally:\n",
    "            if driver:\n",
    "                driver.quit()"
   ]
  },
  {
   "cell_type": "markdown",
   "id": "6f060d79",
   "metadata": {},
   "source": [
    "## Testing the Enhanced Website Class\n",
    "\n",
    "Now let's create updated versions of our functions that use the new `WebsiteWithSelenium` class:\n",
    "\n",
    "**Important:** After running the cell above that defines `WebsiteWithSelenium`, if you see duplicate messages or unexpected behavior, restart the kernel:\n",
    "- **Menu:** Kernel → Restart Kernel\n",
    "- This clears old class definitions from memory\n",
    "\n",
    "**Note:** The first time you run Selenium code, it will download the Chrome WebDriver automatically. This might take a moment."
   ]
  },
  {
   "cell_type": "code",
   "execution_count": null,
   "id": "8c3047b5",
   "metadata": {},
   "outputs": [],
   "source": [
    "# Updated functions to use WebsiteWithSelenium\n",
    "\n",
    "def summarize_with_selenium(url, use_selenium=False):\n",
    "    \"\"\"\n",
    "    Summarize a website using the enhanced WebsiteWithSelenium class.\n",
    "    Set use_selenium=True to force Selenium, or let it auto-detect.\n",
    "    \"\"\"\n",
    "    website = WebsiteWithSelenium(url, use_selenium=use_selenium)\n",
    "    response = openai.chat.completions.create(\n",
    "        model = \"gpt-4o-mini\",\n",
    "        messages = messages_for(website)\n",
    "    )\n",
    "    return response.choices[0].message.content\n",
    "\n",
    "def display_summary_selenium(url, use_selenium=False):\n",
    "    \"\"\"\n",
    "    Display a nicely formatted summary using the enhanced class.\n",
    "    \"\"\"\n",
    "    summary = summarize_with_selenium(url, use_selenium=use_selenium)\n",
    "    display(Markdown(summary))"
   ]
  },
  {
   "cell_type": "markdown",
   "id": "38cba661",
   "metadata": {},
   "source": [
    "### 🔄 Quick Tip: Restart Kernel if Needed\n",
    "\n",
    "If you see any duplicate messages like:\n",
    "```\n",
    "Successfully fetched 5592 characters using Selenium\n",
    "Successfully fetched 5592 characters using Selenium  ← duplicate!\n",
    "```\n",
    "\n",
    "This means the class was redefined and Python has old versions in memory. Fix:\n",
    "1. **Kernel menu → Restart Kernel**  \n",
    "2. Re-run cells from the top (imports, OpenAI setup, etc.)\n",
    "3. Then run the tests again\n",
    "\n",
    "This is a common Jupyter workflow when redefining classes!"
   ]
  },
  {
   "cell_type": "markdown",
   "id": "96532705",
   "metadata": {},
   "source": [
    "## Testing Different Scenarios\n",
    "\n",
    "Let's test the enhanced class with different types of websites:\n",
    "1. **JavaScript-heavy sites** (like OpenAI) - will automatically use Selenium\n",
    "2. **Regular sites** (like CNN) - will use regular requests for speed\n",
    "3. **Comparison** - showing both methods produce consistent results"
   ]
  },
  {
   "cell_type": "code",
   "execution_count": null,
   "id": "131cc04d",
   "metadata": {},
   "outputs": [],
   "source": [
    "# Test 1: JavaScript-heavy website (OpenAI) - force Selenium\n",
    "print(\"=== Test 1: OpenAI.com with Selenium ===\")\n",
    "display_summary_selenium(\"https://openai.com\", use_selenium=True)"
   ]
  },
  {
   "cell_type": "code",
   "execution_count": null,
   "id": "249b999d",
   "metadata": {},
   "outputs": [],
   "source": [
    "# Test 2: Your React website - auto-detect (will use Selenium due to minimal content)\n",
    "print(\"=== Test 2: Your React website (auto-detect) ===\")\n",
    "display_summary_selenium(\"https://japyh.vercel.app/\", use_selenium=False)"
   ]
  },
  {
   "cell_type": "code",
   "execution_count": null,
   "id": "918bd2b1",
   "metadata": {},
   "outputs": [],
   "source": [
    "# Test 3: Regular website (CNN) - using enhanced class WITHOUT forcing Selenium\n",
    "print(\"=== Test 3: CNN.com with enhanced class (auto-detect, will use regular requests) ===\")\n",
    "display_summary_selenium(\"https://cnn.com\", use_selenium=False)"
   ]
  },
  {
   "cell_type": "code",
   "execution_count": null,
   "id": "4f2a35a5",
   "metadata": {},
   "outputs": [],
   "source": [
    "# Test 4: Same website (CNN) using the ORIGINAL Website class for comparison\n",
    "print(\"=== Test 4: CNN.com with original Website class ===\")\n",
    "display_summary(\"https://cnn.com\")"
   ]
  },
  {
   "cell_type": "markdown",
   "id": "346dccd9",
   "metadata": {},
   "source": [
    "## Results Explanation\n",
    "\n",
    "**What you should see:**\n",
    "\n",
    "1. **Test 1 (OpenAI)**: Uses Selenium because we forced it. Gets the full rendered content.\n",
    "   - Expected: `✓ Fetched XXXX characters using Selenium`\n",
    "\n",
    "2. **Test 2 (Your React site)**: Auto-detects minimal content and falls back to Selenium automatically.\n",
    "   - Expected: `⚠️ Minimal content (0 chars) - using Selenium to render JavaScript...`\n",
    "   - Then: `✓ Fetched XXX characters using Selenium`\n",
    "\n",
    "3. **Test 3 (CNN with enhanced class)**: Uses regular `requests` library for speed since CNN has plenty of static content (>500 chars).\n",
    "   - Expected: `✓ Fetched 11945 characters using requests`\n",
    "\n",
    "4. **Test 4 (CNN with original class)**: Should produce the **same result** as Test 3, proving the enhanced class maintains compatibility.\n",
    "\n",
    "**Key fixes applied:**\n",
    "- ✅ No more duplicate fetching - the `return` statement prevents calling Selenium twice\n",
    "- ✅ Better print messages - clearer status indicators with ✓ and ⚠️ symbols  \n",
    "- ✅ Consistent results - both `Website` and `WebsiteWithSelenium` handle regular sites the same way\n",
    "- ✅ Smart auto-detection - automatically switches to Selenium only when needed (content < 500 chars)\n",
    "\n",
    "**Troubleshooting:** If you see duplicate messages or unexpected behavior:\n",
    "1. **Restart the kernel**: Kernel menu → Restart Kernel\n",
    "2. **Re-run from top**: Execute cells from the imports down to the tests\n",
    "3. This clears old class definitions from memory"
   ]
  },
  {
   "cell_type": "markdown",
   "id": "c951be1a-7f1b-448f-af1f-845978e47e2c",
   "metadata": {},
   "source": [
    "<table style=\"margin: 0; text-align: left;\">\n",
    "    <tr>\n",
    "        <td style=\"width: 150px; height: 150px; vertical-align: middle;\">\n",
    "            <img src=\"../business.jpg\" width=\"150\" height=\"150\" style=\"display: block;\" />\n",
    "        </td>\n",
    "        <td>\n",
    "            <h2 style=\"color:#181;\">Business applications</h2>\n",
    "            <span style=\"color:#181;\">In this exercise, you experienced calling the Cloud API of a Frontier Model (a leading model at the frontier of AI) for the first time. We will be using APIs like OpenAI at many stages in the course, in addition to building our own LLMs.\n",
    "\n",
    "More specifically, we've applied this to Summarization - a classic Gen AI use case to make a summary. This can be applied to any business vertical - summarizing the news, summarizing financial performance, summarizing a resume in a cover letter - the applications are limitless. Consider how you could apply Summarization in your business, and try prototyping a solution.</span>\n",
    "        </td>\n",
    "    </tr>\n",
    "</table>\n",
    "\n",
    "<table style=\"margin: 0; text-align: left;\">\n",
    "    <tr>\n",
    "        <td style=\"width: 150px; height: 150px; vertical-align: middle;\">\n",
    "            <img src=\"../important.jpg\" width=\"150\" height=\"150\" style=\"display: block;\" />\n",
    "        </td>\n",
    "        <td>\n",
    "            <h2 style=\"color:#900;\">Before you continue - now try yourself</h2>\n",
    "            <span style=\"color:#900;\">Use the cell below to make your own simple commercial example. Stick with the summarization use case for now. Here's an idea: write something that will take the contents of an email, and will suggest an appropriate short subject line for the email. That's the kind of feature that might be built into a commercial email tool.</span>\n",
    "        </td>\n",
    "    </tr>\n",
    "</table>"
   ]
  },
  {
   "cell_type": "code",
   "execution_count": null,
   "id": "00743dac-0e70-45b7-879a-d7293a6f68a6",
   "metadata": {},
   "outputs": [],
   "source": [
    "# Step 1: Create your prompts\n",
    "\n",
    "system_prompt = \"You are an expert copywriter specializing in clear, concise, and professional email subject lines. Analyze the following email body and suggest one perfect subject line. The subject line should be no more than 10 words. Do not add any extra text or quotation marks, just the subject line.\"\n",
    "user_prompt = \"\"\"\n",
    "Hi Team,\n",
    "\n",
    "Just a reminder that the quarterly performance review documents are due by the end of the day this Friday, October 10th. Please make sure you have submitted your self-assessment forms to your direct manager by then.\n",
    "\n",
    "We also need to finalize the Q4 budget proposals. I've attached the latest draft to this email. Please review the numbers for your department and send any feedback or required adjustments to me by Monday.\n",
    "\n",
    "Let me know if you have any questions.\n",
    "\n",
    "Best,\n",
    "Derya Umut Kulalı\n",
    "\"\"\"\n",
    "\n",
    "# Step 2: Make the messages list\n",
    "\n",
    "messages = [\n",
    "    {\"role\": \"system\", \"content\": system_prompt},\n",
    "    {\"role\": \"user\", \"content\": user_prompt}\n",
    "] # fill this in\n",
    "\n",
    "# Step 3: Call OpenAI\n",
    "\n",
    "response = openai.chat.completions.create(\n",
    "        model=\"gpt-4o-mini\",\n",
    "        messages=messages\n",
    "    )\n",
    "# Step 4: print the result\n",
    "\n",
    "print(response.choices[0].message.content)"
   ]
  },
  {
   "cell_type": "markdown",
   "id": "eeab24dc-5f90-4570-b542-b0585aca3eb6",
   "metadata": {},
   "source": [
    "# Sharing your code\n",
    "\n",
    "I'd love it if you share your code afterwards so I can share it with others! You'll notice that some students have already made changes (including a Selenium implementation) which you will find in the community-contributions folder. If you'd like add your changes to that folder, submit a Pull Request with your new versions in that folder and I'll merge your changes.\n",
    "\n",
    "If you're not an expert with git (and I am not!) then GPT has given some nice instructions on how to submit a Pull Request. It's a bit of an involved process, but once you've done it once it's pretty clear. As a pro-tip: it's best if you clear the outputs of your Jupyter notebooks (Edit >> Clean outputs of all cells, and then Save) for clean notebooks.\n",
    "\n",
    "Here are good instructions courtesy of an AI friend:  \n",
    "https://chatgpt.com/share/677a9cb5-c64c-8012-99e0-e06e88afd293"
   ]
  },
  {
   "cell_type": "code",
   "execution_count": null,
   "id": "f4484fcf-8b39-4c3f-9674-37970ed71988",
   "metadata": {},
   "outputs": [],
   "source": []
  }
 ],
 "metadata": {
  "kernelspec": {
   "display_name": "llms",
   "language": "python",
   "name": "python3"
  },
  "language_info": {
   "codemirror_mode": {
    "name": "ipython",
    "version": 3
   },
   "file_extension": ".py",
   "mimetype": "text/x-python",
   "name": "python",
   "nbconvert_exporter": "python",
   "pygments_lexer": "ipython3",
   "version": "3.11.13"
  }
 },
 "nbformat": 4,
 "nbformat_minor": 5
}
