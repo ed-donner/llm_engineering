{
 "cells": [
  {
   "cell_type": "markdown",
   "id": "abaef96b",
   "metadata": {},
   "source": [
    "## Importing The Libraries"
   ]
  },
  {
   "cell_type": "code",
   "execution_count": 1,
   "id": "f90c541b",
   "metadata": {},
   "outputs": [],
   "source": [
    "import os\n",
    "import datetime\n",
    "from utils import fetch_clean_data\n",
    "from openai import OpenAI\n",
    "from IPython.display import Markdown, display\n",
    "from dotenv import load_dotenv\n",
    "import json"
   ]
  },
  {
   "cell_type": "markdown",
   "id": "6e6c864b",
   "metadata": {},
   "source": [
    "## Configuration"
   ]
  },
  {
   "cell_type": "code",
   "execution_count": 2,
   "id": "be62299d",
   "metadata": {},
   "outputs": [],
   "source": [
    "load_dotenv(override=True)\n",
    "api_key = os.getenv('OPENAI_API_KEY')\n",
    "\n",
    "client = OpenAI()"
   ]
  },
  {
   "cell_type": "code",
   "execution_count": 3,
   "id": "3aa8e3e2",
   "metadata": {},
   "outputs": [],
   "source": [
    "def generate_markdown_summary(data: dict, today_date_str: str) -> str:\n",
    "    \"\"\"\n",
    "    Send cleaned Bitcoin data to an LLM and receive a Markdown summary.\n",
    "    \"\"\"\n",
    "\n",
    "    system_prompt = f\"\"\"\n",
    "    You are a professional crypto analyst. Your job is to read the provided Bitcoin network data \n",
    "    and write a clear, structured report that can be read directly as a daily summary.\n",
    "\n",
    "    Following are the rules that you must adhere to:\n",
    "    - **IMPORTANT**: The summary title MUST use today's date: {today_date_str}. The title must be: \"Bitcoin Daily Summary - {today_date_str}\".\n",
    "    - **CRITICAL**: Do NOT infer the reporting period from the data. The data contains historical records, but your report is for {today_date_str}.\n",
    "    - Include **headings** for sections like \"Market Overview\", \"Network Metrics Explained\", \"Miner Revenue Trends\", and \"Halving Outlook\".\n",
    "    - Use **bullet points** for key metrics.\n",
    "    - Use a **table** for historical or time-series data if available.\n",
    "    - Explain important terms (like hashrate, difficulty, transaction fees) in plain language.\n",
    "\n",
    "    Respond in markdown. Do not wrap the markdown in a code block - respond just with the markdown.\n",
    "    \"\"\"\n",
    "\n",
    "    # Convert the Python data dictionary into a clean JSON string for the prompt\n",
    "    data_str = json.dumps(data, indent=2)\n",
    "\n",
    "    user_prompt = f\"\"\"\n",
    "    Today's date is {today_date_str}. Use this as the reference point for the report.\n",
    "\n",
    "    The following data may contain historical records (e.g., from 2024), \n",
    "    but you must treat it as background context and write the summary as of {today_date_str}.\n",
    "\n",
    "    Here is the data for you to summarize: \n",
    "    {data_str}\n",
    "    \"\"\"\n",
    "    \n",
    "    response = client.chat.completions.create(\n",
    "        model= \"gpt-4.1-mini\", \n",
    "        messages=[\n",
    "            {\"role\": \"system\", \"content\": system_prompt},\n",
    "            {\"role\": \"user\", \"content\": user_prompt}\n",
    "        ]\n",
    "    )\n",
    "\n",
    "    markdown_text = response.choices[0].message.content.strip()\n",
    "    return markdown_text"
   ]
  },
  {
   "cell_type": "markdown",
   "id": "1e8c2d7d",
   "metadata": {},
   "source": [
    "## Main Function"
   ]
  },
  {
   "cell_type": "code",
   "execution_count": null,
   "id": "05059ed9",
   "metadata": {},
   "outputs": [],
   "source": [
    "def main():\n",
    "    # 0. Get today's date as a string\n",
    "    today_str = datetime.datetime.now().strftime('%B %d, %Y')\n",
    "    \n",
    "    # 1. Fetch and clean data\n",
    "    print(\"Fetching Bitcoin data...\")\n",
    "    data = fetch_clean_data()\n",
    "\n",
    "    # 2. Generate Markdown summary\n",
    "    print(\"Generating LLM summary...\")\n",
    "    markdown_report = generate_markdown_summary(data, today_str)\n",
    "\n",
    "    # 3. Display Output\n",
    "    display(Markdown(markdown_report))\n",
    "\n",
    "if __name__ == \"__main__\":\n",
    "    main()"
   ]
  }
 ],
 "metadata": {
  "kernelspec": {
   "display_name": "llm-engineering",
   "language": "python",
   "name": "python3"
  },
  "language_info": {
   "codemirror_mode": {
    "name": "ipython",
    "version": 3
   },
   "file_extension": ".py",
   "mimetype": "text/x-python",
   "name": "python",
   "nbconvert_exporter": "python",
   "pygments_lexer": "ipython3",
   "version": "3.12.12"
  }
 },
 "nbformat": 4,
 "nbformat_minor": 5
}
