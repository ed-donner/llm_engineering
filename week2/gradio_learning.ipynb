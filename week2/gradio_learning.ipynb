{
 "cells": [
  {
   "cell_type": "code",
   "execution_count": 1,
   "id": "f354d2b7-ee23-46fd-8724-ce39a9fb9799",
   "metadata": {},
   "outputs": [
    {
     "name": "stderr",
     "output_type": "stream",
     "text": [
      "C:\\Users\\st\\Documents\\kurs_Przyszły_Programista\\LLM_Engineering\\llm_engineering\\venv\\Lib\\site-packages\\tqdm\\auto.py:21: TqdmWarning: IProgress not found. Please update jupyter and ipywidgets. See https://ipywidgets.readthedocs.io/en/stable/user_install.html\n",
      "  from .autonotebook import tqdm as notebook_tqdm\n"
     ]
    }
   ],
   "source": [
    "import gradio as gr"
   ]
  },
  {
   "cell_type": "code",
   "execution_count": 3,
   "id": "bbf10b4d-7f91-4791-ba49-73dab8378e43",
   "metadata": {},
   "outputs": [
    {
     "name": "stdout",
     "output_type": "stream",
     "text": [
      "* Running on local URL:  http://127.0.0.1:7860\n",
      "* To create a public link, set `share=True` in `launch()`.\n"
     ]
    },
    {
     "data": {
      "text/html": [
       "<div><iframe src=\"http://127.0.0.1:7860/\" width=\"100%\" height=\"500\" allow=\"autoplay; camera; microphone; clipboard-read; clipboard-write;\" frameborder=\"0\" allowfullscreen></iframe></div>"
      ],
      "text/plain": [
       "<IPython.core.display.HTML object>"
      ]
     },
     "metadata": {},
     "output_type": "display_data"
    },
    {
     "data": {
      "text/plain": []
     },
     "execution_count": 3,
     "metadata": {},
     "output_type": "execute_result"
    }
   ],
   "source": [
    "def greet(name, intensity):\n",
    "    return \"Hello \" + name + \"!\" * intensity\n",
    "\n",
    "demo = gr.Interface(\n",
    "    fn=greet,\n",
    "    inputs=[\"text\", gr.Slider(value=2, minimum=1, maximum=10, step=1)],\n",
    "    outputs=[gr.Textbox(label=\"greeting\", lines=3)]\n",
    ")\n",
    "\n",
    "demo.launch()"
   ]
  },
  {
   "cell_type": "code",
   "execution_count": 4,
   "id": "80a3368e-41b2-447c-998e-991d383b6b92",
   "metadata": {},
   "outputs": [
    {
     "name": "stdout",
     "output_type": "stream",
     "text": [
      "* Running on local URL:  http://127.0.0.1:7861\n",
      "* To create a public link, set `share=True` in `launch()`.\n"
     ]
    },
    {
     "data": {
      "text/html": [
       "<div><iframe src=\"http://127.0.0.1:7861/\" width=\"100%\" height=\"500\" allow=\"autoplay; camera; microphone; clipboard-read; clipboard-write;\" frameborder=\"0\" allowfullscreen></iframe></div>"
      ],
      "text/plain": [
       "<IPython.core.display.HTML object>"
      ]
     },
     "metadata": {},
     "output_type": "display_data"
    },
    {
     "data": {
      "text/plain": []
     },
     "execution_count": 4,
     "metadata": {},
     "output_type": "execute_result"
    }
   ],
   "source": [
    "import gradio as gr\n",
    "def greet(name, is_morning, temperature):\n",
    "    salutation = f\"Good morning\" if is_morning else \"Good evening\"\n",
    "    greeting = f\"{salutation} {name}. It is {temperature} degress today.\"\n",
    "    celsius = (temperature - 32) * 5 / 9\n",
    "    return greeting, round(celsius, 2)\n",
    "\n",
    "demo = gr.Interface(\n",
    "    fn=greet,\n",
    "    inputs=[\"text\", \"checkbox\", gr.Slider(0, 100)],\n",
    "    outputs=[\"text\", \"number\"]\n",
    ")\n",
    "demo.launch()"
   ]
  },
  {
   "cell_type": "code",
   "execution_count": 12,
   "id": "864a2d19-39ff-4535-84cc-1a26081abac1",
   "metadata": {},
   "outputs": [
    {
     "name": "stdout",
     "output_type": "stream",
     "text": [
      "* Running on local URL:  http://127.0.0.1:7867\n"
     ]
    },
    {
     "name": "stderr",
     "output_type": "stream",
     "text": [
      "ERROR:    Exception in ASGI application\n",
      "Traceback (most recent call last):\n",
      "  File \"C:\\Users\\st\\Documents\\kurs_Przyszły_Programista\\LLM_Engineering\\llm_engineering\\venv\\Lib\\site-packages\\uvicorn\\protocols\\http\\h11_impl.py\", line 403, in run_asgi\n",
      "    result = await app(  # type: ignore[func-returns-value]\n",
      "             ^^^^^^^^^^^^^^^^^^^^^^^^^^^^^^^^^^^^^^^^^^^^^^\n",
      "        self.scope, self.receive, self.send\n",
      "        ^^^^^^^^^^^^^^^^^^^^^^^^^^^^^^^^^^^\n",
      "    )\n",
      "    ^\n",
      "  File \"C:\\Users\\st\\Documents\\kurs_Przyszły_Programista\\LLM_Engineering\\llm_engineering\\venv\\Lib\\site-packages\\uvicorn\\middleware\\proxy_headers.py\", line 60, in __call__\n",
      "    return await self.app(scope, receive, send)\n",
      "           ^^^^^^^^^^^^^^^^^^^^^^^^^^^^^^^^^^^^\n",
      "  File \"C:\\Users\\st\\Documents\\kurs_Przyszły_Programista\\LLM_Engineering\\llm_engineering\\venv\\Lib\\site-packages\\fastapi\\applications.py\", line 1133, in __call__\n",
      "    await super().__call__(scope, receive, send)\n",
      "  File \"C:\\Users\\st\\Documents\\kurs_Przyszły_Programista\\LLM_Engineering\\llm_engineering\\venv\\Lib\\site-packages\\starlette\\applications.py\", line 113, in __call__\n",
      "    await self.middleware_stack(scope, receive, send)\n",
      "  File \"C:\\Users\\st\\Documents\\kurs_Przyszły_Programista\\LLM_Engineering\\llm_engineering\\venv\\Lib\\site-packages\\starlette\\middleware\\errors.py\", line 186, in __call__\n",
      "    raise exc\n",
      "  File \"C:\\Users\\st\\Documents\\kurs_Przyszły_Programista\\LLM_Engineering\\llm_engineering\\venv\\Lib\\site-packages\\starlette\\middleware\\errors.py\", line 164, in __call__\n",
      "    await self.app(scope, receive, _send)\n",
      "  File \"C:\\Users\\st\\Documents\\kurs_Przyszły_Programista\\LLM_Engineering\\llm_engineering\\venv\\Lib\\site-packages\\gradio\\route_utils.py\", line 789, in __call__\n",
      "    if previous_root is None or previous_root != root:\n",
      "            ^^^^^^^^^^^^^^^^^^^^^^^^^^^^^^^^^^^^\n",
      "  File \"C:\\Users\\st\\Documents\\kurs_Przyszły_Programista\\LLM_Engineering\\llm_engineering\\venv\\Lib\\site-packages\\starlette\\middleware\\exceptions.py\", line 63, in __call__\n",
      "    await wrap_app_handling_exceptions(self.app, conn)(scope, receive, send)\n",
      "  File \"C:\\Users\\st\\Documents\\kurs_Przyszły_Programista\\LLM_Engineering\\llm_engineering\\venv\\Lib\\site-packages\\starlette\\_exception_handler.py\", line 53, in wrapped_app\n",
      "    raise exc\n",
      "  File \"C:\\Users\\st\\Documents\\kurs_Przyszły_Programista\\LLM_Engineering\\llm_engineering\\venv\\Lib\\site-packages\\starlette\\_exception_handler.py\", line 42, in wrapped_app\n",
      "    await app(scope, receive, sender)\n",
      "  File \"C:\\Users\\st\\Documents\\kurs_Przyszły_Programista\\LLM_Engineering\\llm_engineering\\venv\\Lib\\site-packages\\fastapi\\middleware\\asyncexitstack.py\", line 18, in __call__\n",
      "    await self.app(scope, receive, send)\n",
      "  File \"C:\\Users\\st\\Documents\\kurs_Przyszły_Programista\\LLM_Engineering\\llm_engineering\\venv\\Lib\\site-packages\\starlette\\routing.py\", line 716, in __call__\n",
      "    await self.middleware_stack(scope, receive, send)\n",
      "  File \"C:\\Users\\st\\Documents\\kurs_Przyszły_Programista\\LLM_Engineering\\llm_engineering\\venv\\Lib\\site-packages\\starlette\\routing.py\", line 736, in app\n",
      "    await route.handle(scope, receive, send)\n",
      "  File \"C:\\Users\\st\\Documents\\kurs_Przyszły_Programista\\LLM_Engineering\\llm_engineering\\venv\\Lib\\site-packages\\starlette\\routing.py\", line 290, in handle\n",
      "    await self.app(scope, receive, send)\n",
      "  File \"C:\\Users\\st\\Documents\\kurs_Przyszły_Programista\\LLM_Engineering\\llm_engineering\\venv\\Lib\\site-packages\\fastapi\\routing.py\", line 123, in app\n",
      "    await wrap_app_handling_exceptions(app, request)(scope, receive, send)\n",
      "  File \"C:\\Users\\st\\Documents\\kurs_Przyszły_Programista\\LLM_Engineering\\llm_engineering\\venv\\Lib\\site-packages\\starlette\\_exception_handler.py\", line 53, in wrapped_app\n",
      "    raise exc\n",
      "  File \"C:\\Users\\st\\Documents\\kurs_Przyszły_Programista\\LLM_Engineering\\llm_engineering\\venv\\Lib\\site-packages\\starlette\\_exception_handler.py\", line 42, in wrapped_app\n",
      "    await app(scope, receive, sender)\n",
      "  File \"C:\\Users\\st\\Documents\\kurs_Przyszły_Programista\\LLM_Engineering\\llm_engineering\\venv\\Lib\\site-packages\\fastapi\\routing.py\", line 109, in app\n",
      "    response = await f(request)\n",
      "               ^^^^^^^^^^^^^^^^\n",
      "  File \"C:\\Users\\st\\Documents\\kurs_Przyszły_Programista\\LLM_Engineering\\llm_engineering\\venv\\Lib\\site-packages\\fastapi\\routing.py\", line 389, in app\n",
      "    raw_response = await run_endpoint_function(\n",
      "                   ^^^^^^^^^^^^^^^^^^^^^^^^^^^^\n",
      "    ...<3 lines>...\n",
      "    )\n",
      "    ^\n",
      "  File \"C:\\Users\\st\\Documents\\kurs_Przyszły_Programista\\LLM_Engineering\\llm_engineering\\venv\\Lib\\site-packages\\fastapi\\routing.py\", line 290, in run_endpoint_function\n",
      "    return await run_in_threadpool(dependant.call, **values)\n",
      "           ^^^^^^^^^^^^^^^^^^^^^^^^^^^^^^^^^^^^^^^^^^^^^^^^^\n",
      "  File \"C:\\Users\\st\\Documents\\kurs_Przyszły_Programista\\LLM_Engineering\\llm_engineering\\venv\\Lib\\site-packages\\starlette\\concurrency.py\", line 38, in run_in_threadpool\n",
      "    return await anyio.to_thread.run_sync(func)\n",
      "           ^^^^^^^^^^^^^^^^^^^^^^^^^^^^^^^^^^^^\n",
      "  File \"C:\\Users\\st\\Documents\\kurs_Przyszły_Programista\\LLM_Engineering\\llm_engineering\\venv\\Lib\\site-packages\\anyio\\to_thread.py\", line 56, in run_sync\n",
      "    return await get_async_backend().run_sync_in_worker_thread(\n",
      "           ^^^^^^^^^^^^^^^^^^^^^^^^^^^^^^^^^^^^^^^^^^^^^^^^^^^^\n",
      "        func, args, abandon_on_cancel=abandon_on_cancel, limiter=limiter\n",
      "        ^^^^^^^^^^^^^^^^^^^^^^^^^^^^^^^^^^^^^^^^^^^^^^^^^^^^^^^^^^^^^^^^\n",
      "    )\n",
      "    ^\n",
      "  File \"C:\\Users\\st\\Documents\\kurs_Przyszły_Programista\\LLM_Engineering\\llm_engineering\\venv\\Lib\\site-packages\\anyio\\_backends\\_asyncio.py\", line 2485, in run_sync_in_worker_thread\n",
      "    return await future\n",
      "           ^^^^^^^^^^^^\n",
      "  File \"C:\\Users\\st\\Documents\\kurs_Przyszły_Programista\\LLM_Engineering\\llm_engineering\\venv\\Lib\\site-packages\\anyio\\_backends\\_asyncio.py\", line 976, in run\n",
      "    result = context.run(func, *args)\n",
      "  File \"C:\\Users\\st\\Documents\\kurs_Przyszły_Programista\\LLM_Engineering\\llm_engineering\\venv\\Lib\\site-packages\\gradio\\routes.py\", line 553, in main\n",
      "    value=token,\n",
      "    \n",
      "  File \"C:\\Users\\st\\Documents\\kurs_Przyszły_Programista\\LLM_Engineering\\llm_engineering\\venv\\Lib\\site-packages\\gradio\\routes.py\", line 583, in api_info\n",
      "    ):\n",
      "    \n",
      "  File \"C:\\Users\\st\\Documents\\kurs_Przyszły_Programista\\LLM_Engineering\\llm_engineering\\venv\\Lib\\site-packages\\gradio\\blocks.py\", line 2924, in get_api_info\n",
      "    else:\n",
      "    \n",
      "  File \"C:\\Users\\st\\Documents\\kurs_Przyszły_Programista\\LLM_Engineering\\llm_engineering\\venv\\Lib\\site-packages\\gradio_client\\utils.py\", line 931, in json_schema_to_python_type\n",
      "    if \"const\" in schema:\n",
      "            ^^^^^^^^^^^^^\n",
      "  File \"C:\\Users\\st\\Documents\\kurs_Przyszły_Programista\\LLM_Engineering\\llm_engineering\\venv\\Lib\\site-packages\\gradio_client\\utils.py\", line 986, in _json_schema_to_python_type\n",
      "    return (\n",
      "    \n",
      "  File \"C:\\Users\\st\\Documents\\kurs_Przyszły_Programista\\LLM_Engineering\\llm_engineering\\venv\\Lib\\site-packages\\gradio_client\\utils.py\", line 993, in _json_schema_to_python_type\n",
      "    elif type_ == \"boolean\":\n",
      "                        ^^^^\n",
      "  File \"C:\\Users\\st\\Documents\\kurs_Przyszły_Programista\\LLM_Engineering\\llm_engineering\\venv\\Lib\\site-packages\\gradio_client\\utils.py\", line 939, in _json_schema_to_python_type\n",
      "    elif schema.get(\"oneOf\"):\n",
      "            ~~~~~~~^^^^^^^^^\n",
      "  File \"C:\\Users\\st\\Documents\\kurs_Przyszły_Programista\\LLM_Engineering\\llm_engineering\\venv\\Lib\\site-packages\\gradio_client\\utils.py\", line 898, in get_type\n",
      "    except httpx.HTTPStatusError as e:\n",
      "       ^^^^^^^^^^^^^^^^^\n",
      "TypeError: argument of type 'bool' is not iterable\n",
      "ERROR:    Exception in ASGI application\n",
      "Traceback (most recent call last):\n",
      "  File \"C:\\Users\\st\\Documents\\kurs_Przyszły_Programista\\LLM_Engineering\\llm_engineering\\venv\\Lib\\site-packages\\uvicorn\\protocols\\http\\h11_impl.py\", line 403, in run_asgi\n",
      "    result = await app(  # type: ignore[func-returns-value]\n",
      "             ^^^^^^^^^^^^^^^^^^^^^^^^^^^^^^^^^^^^^^^^^^^^^^\n",
      "        self.scope, self.receive, self.send\n",
      "        ^^^^^^^^^^^^^^^^^^^^^^^^^^^^^^^^^^^\n",
      "    )\n",
      "    ^\n",
      "  File \"C:\\Users\\st\\Documents\\kurs_Przyszły_Programista\\LLM_Engineering\\llm_engineering\\venv\\Lib\\site-packages\\uvicorn\\middleware\\proxy_headers.py\", line 60, in __call__\n",
      "    return await self.app(scope, receive, send)\n",
      "           ^^^^^^^^^^^^^^^^^^^^^^^^^^^^^^^^^^^^\n",
      "  File \"C:\\Users\\st\\Documents\\kurs_Przyszły_Programista\\LLM_Engineering\\llm_engineering\\venv\\Lib\\site-packages\\fastapi\\applications.py\", line 1133, in __call__\n",
      "    await super().__call__(scope, receive, send)\n",
      "  File \"C:\\Users\\st\\Documents\\kurs_Przyszły_Programista\\LLM_Engineering\\llm_engineering\\venv\\Lib\\site-packages\\starlette\\applications.py\", line 113, in __call__\n",
      "    await self.middleware_stack(scope, receive, send)\n",
      "  File \"C:\\Users\\st\\Documents\\kurs_Przyszły_Programista\\LLM_Engineering\\llm_engineering\\venv\\Lib\\site-packages\\starlette\\middleware\\errors.py\", line 186, in __call__\n",
      "    raise exc\n",
      "  File \"C:\\Users\\st\\Documents\\kurs_Przyszły_Programista\\LLM_Engineering\\llm_engineering\\venv\\Lib\\site-packages\\starlette\\middleware\\errors.py\", line 164, in __call__\n",
      "    await self.app(scope, receive, _send)\n",
      "  File \"C:\\Users\\st\\Documents\\kurs_Przyszły_Programista\\LLM_Engineering\\llm_engineering\\venv\\Lib\\site-packages\\gradio\\route_utils.py\", line 789, in __call__\n",
      "    if previous_root is None or previous_root != root:\n",
      "            ^^^^^^^^^^^^^^^^^^^^^^^^^^^^^^^^^^^^\n",
      "  File \"C:\\Users\\st\\Documents\\kurs_Przyszły_Programista\\LLM_Engineering\\llm_engineering\\venv\\Lib\\site-packages\\starlette\\middleware\\exceptions.py\", line 63, in __call__\n",
      "    await wrap_app_handling_exceptions(self.app, conn)(scope, receive, send)\n",
      "  File \"C:\\Users\\st\\Documents\\kurs_Przyszły_Programista\\LLM_Engineering\\llm_engineering\\venv\\Lib\\site-packages\\starlette\\_exception_handler.py\", line 53, in wrapped_app\n",
      "    raise exc\n",
      "  File \"C:\\Users\\st\\Documents\\kurs_Przyszły_Programista\\LLM_Engineering\\llm_engineering\\venv\\Lib\\site-packages\\starlette\\_exception_handler.py\", line 42, in wrapped_app\n",
      "    await app(scope, receive, sender)\n",
      "  File \"C:\\Users\\st\\Documents\\kurs_Przyszły_Programista\\LLM_Engineering\\llm_engineering\\venv\\Lib\\site-packages\\fastapi\\middleware\\asyncexitstack.py\", line 18, in __call__\n",
      "    await self.app(scope, receive, send)\n",
      "  File \"C:\\Users\\st\\Documents\\kurs_Przyszły_Programista\\LLM_Engineering\\llm_engineering\\venv\\Lib\\site-packages\\starlette\\routing.py\", line 716, in __call__\n",
      "    await self.middleware_stack(scope, receive, send)\n",
      "  File \"C:\\Users\\st\\Documents\\kurs_Przyszły_Programista\\LLM_Engineering\\llm_engineering\\venv\\Lib\\site-packages\\starlette\\routing.py\", line 736, in app\n",
      "    await route.handle(scope, receive, send)\n",
      "  File \"C:\\Users\\st\\Documents\\kurs_Przyszły_Programista\\LLM_Engineering\\llm_engineering\\venv\\Lib\\site-packages\\starlette\\routing.py\", line 290, in handle\n",
      "    await self.app(scope, receive, send)\n",
      "  File \"C:\\Users\\st\\Documents\\kurs_Przyszły_Programista\\LLM_Engineering\\llm_engineering\\venv\\Lib\\site-packages\\fastapi\\routing.py\", line 123, in app\n",
      "    await wrap_app_handling_exceptions(app, request)(scope, receive, send)\n",
      "  File \"C:\\Users\\st\\Documents\\kurs_Przyszły_Programista\\LLM_Engineering\\llm_engineering\\venv\\Lib\\site-packages\\starlette\\_exception_handler.py\", line 53, in wrapped_app\n",
      "    raise exc\n",
      "  File \"C:\\Users\\st\\Documents\\kurs_Przyszły_Programista\\LLM_Engineering\\llm_engineering\\venv\\Lib\\site-packages\\starlette\\_exception_handler.py\", line 42, in wrapped_app\n",
      "    await app(scope, receive, sender)\n",
      "  File \"C:\\Users\\st\\Documents\\kurs_Przyszły_Programista\\LLM_Engineering\\llm_engineering\\venv\\Lib\\site-packages\\fastapi\\routing.py\", line 109, in app\n",
      "    response = await f(request)\n",
      "               ^^^^^^^^^^^^^^^^\n",
      "  File \"C:\\Users\\st\\Documents\\kurs_Przyszły_Programista\\LLM_Engineering\\llm_engineering\\venv\\Lib\\site-packages\\fastapi\\routing.py\", line 389, in app\n",
      "    raw_response = await run_endpoint_function(\n",
      "                   ^^^^^^^^^^^^^^^^^^^^^^^^^^^^\n",
      "    ...<3 lines>...\n",
      "    )\n",
      "    ^\n",
      "  File \"C:\\Users\\st\\Documents\\kurs_Przyszły_Programista\\LLM_Engineering\\llm_engineering\\venv\\Lib\\site-packages\\fastapi\\routing.py\", line 290, in run_endpoint_function\n",
      "    return await run_in_threadpool(dependant.call, **values)\n",
      "           ^^^^^^^^^^^^^^^^^^^^^^^^^^^^^^^^^^^^^^^^^^^^^^^^^\n",
      "  File \"C:\\Users\\st\\Documents\\kurs_Przyszły_Programista\\LLM_Engineering\\llm_engineering\\venv\\Lib\\site-packages\\starlette\\concurrency.py\", line 38, in run_in_threadpool\n",
      "    return await anyio.to_thread.run_sync(func)\n",
      "           ^^^^^^^^^^^^^^^^^^^^^^^^^^^^^^^^^^^^\n",
      "  File \"C:\\Users\\st\\Documents\\kurs_Przyszły_Programista\\LLM_Engineering\\llm_engineering\\venv\\Lib\\site-packages\\anyio\\to_thread.py\", line 56, in run_sync\n",
      "    return await get_async_backend().run_sync_in_worker_thread(\n",
      "           ^^^^^^^^^^^^^^^^^^^^^^^^^^^^^^^^^^^^^^^^^^^^^^^^^^^^\n",
      "        func, args, abandon_on_cancel=abandon_on_cancel, limiter=limiter\n",
      "        ^^^^^^^^^^^^^^^^^^^^^^^^^^^^^^^^^^^^^^^^^^^^^^^^^^^^^^^^^^^^^^^^\n",
      "    )\n",
      "    ^\n",
      "  File \"C:\\Users\\st\\Documents\\kurs_Przyszły_Programista\\LLM_Engineering\\llm_engineering\\venv\\Lib\\site-packages\\anyio\\_backends\\_asyncio.py\", line 2485, in run_sync_in_worker_thread\n",
      "    return await future\n",
      "           ^^^^^^^^^^^^\n",
      "  File \"C:\\Users\\st\\Documents\\kurs_Przyszły_Programista\\LLM_Engineering\\llm_engineering\\venv\\Lib\\site-packages\\anyio\\_backends\\_asyncio.py\", line 976, in run\n",
      "    result = context.run(func, *args)\n",
      "  File \"C:\\Users\\st\\Documents\\kurs_Przyszły_Programista\\LLM_Engineering\\llm_engineering\\venv\\Lib\\site-packages\\gradio\\routes.py\", line 553, in main\n",
      "    value=token,\n",
      "    \n",
      "  File \"C:\\Users\\st\\Documents\\kurs_Przyszły_Programista\\LLM_Engineering\\llm_engineering\\venv\\Lib\\site-packages\\gradio\\routes.py\", line 583, in api_info\n",
      "    ):\n",
      "    \n",
      "  File \"C:\\Users\\st\\Documents\\kurs_Przyszły_Programista\\LLM_Engineering\\llm_engineering\\venv\\Lib\\site-packages\\gradio\\blocks.py\", line 2924, in get_api_info\n",
      "    else:\n",
      "    \n",
      "  File \"C:\\Users\\st\\Documents\\kurs_Przyszły_Programista\\LLM_Engineering\\llm_engineering\\venv\\Lib\\site-packages\\gradio_client\\utils.py\", line 931, in json_schema_to_python_type\n",
      "    if \"const\" in schema:\n",
      "            ^^^^^^^^^^^^^\n",
      "  File \"C:\\Users\\st\\Documents\\kurs_Przyszły_Programista\\LLM_Engineering\\llm_engineering\\venv\\Lib\\site-packages\\gradio_client\\utils.py\", line 986, in _json_schema_to_python_type\n",
      "    return (\n",
      "    \n",
      "  File \"C:\\Users\\st\\Documents\\kurs_Przyszły_Programista\\LLM_Engineering\\llm_engineering\\venv\\Lib\\site-packages\\gradio_client\\utils.py\", line 993, in _json_schema_to_python_type\n",
      "    elif type_ == \"boolean\":\n",
      "                        ^^^^\n",
      "  File \"C:\\Users\\st\\Documents\\kurs_Przyszły_Programista\\LLM_Engineering\\llm_engineering\\venv\\Lib\\site-packages\\gradio_client\\utils.py\", line 939, in _json_schema_to_python_type\n",
      "    elif schema.get(\"oneOf\"):\n",
      "            ~~~~~~~^^^^^^^^^\n",
      "  File \"C:\\Users\\st\\Documents\\kurs_Przyszły_Programista\\LLM_Engineering\\llm_engineering\\venv\\Lib\\site-packages\\gradio_client\\utils.py\", line 898, in get_type\n",
      "    except httpx.HTTPStatusError as e:\n",
      "       ^^^^^^^^^^^^^^^^^\n",
      "TypeError: argument of type 'bool' is not iterable\n",
      "ERROR:    Exception in ASGI application\n",
      "Traceback (most recent call last):\n",
      "  File \"C:\\Users\\st\\Documents\\kurs_Przyszły_Programista\\LLM_Engineering\\llm_engineering\\venv\\Lib\\site-packages\\uvicorn\\protocols\\http\\h11_impl.py\", line 403, in run_asgi\n",
      "    result = await app(  # type: ignore[func-returns-value]\n",
      "             ^^^^^^^^^^^^^^^^^^^^^^^^^^^^^^^^^^^^^^^^^^^^^^\n",
      "        self.scope, self.receive, self.send\n",
      "        ^^^^^^^^^^^^^^^^^^^^^^^^^^^^^^^^^^^\n",
      "    )\n",
      "    ^\n",
      "  File \"C:\\Users\\st\\Documents\\kurs_Przyszły_Programista\\LLM_Engineering\\llm_engineering\\venv\\Lib\\site-packages\\uvicorn\\middleware\\proxy_headers.py\", line 60, in __call__\n",
      "    return await self.app(scope, receive, send)\n",
      "           ^^^^^^^^^^^^^^^^^^^^^^^^^^^^^^^^^^^^\n",
      "  File \"C:\\Users\\st\\Documents\\kurs_Przyszły_Programista\\LLM_Engineering\\llm_engineering\\venv\\Lib\\site-packages\\fastapi\\applications.py\", line 1133, in __call__\n",
      "    await super().__call__(scope, receive, send)\n",
      "  File \"C:\\Users\\st\\Documents\\kurs_Przyszły_Programista\\LLM_Engineering\\llm_engineering\\venv\\Lib\\site-packages\\starlette\\applications.py\", line 113, in __call__\n",
      "    await self.middleware_stack(scope, receive, send)\n",
      "  File \"C:\\Users\\st\\Documents\\kurs_Przyszły_Programista\\LLM_Engineering\\llm_engineering\\venv\\Lib\\site-packages\\starlette\\middleware\\errors.py\", line 186, in __call__\n",
      "    raise exc\n",
      "  File \"C:\\Users\\st\\Documents\\kurs_Przyszły_Programista\\LLM_Engineering\\llm_engineering\\venv\\Lib\\site-packages\\starlette\\middleware\\errors.py\", line 164, in __call__\n",
      "    await self.app(scope, receive, _send)\n",
      "  File \"C:\\Users\\st\\Documents\\kurs_Przyszły_Programista\\LLM_Engineering\\llm_engineering\\venv\\Lib\\site-packages\\gradio\\route_utils.py\", line 789, in __call__\n",
      "    if previous_root is None or previous_root != root:\n",
      "            ^^^^^^^^^^^^^^^^^^^^^^^^^^^^^^^^^^^^\n",
      "  File \"C:\\Users\\st\\Documents\\kurs_Przyszły_Programista\\LLM_Engineering\\llm_engineering\\venv\\Lib\\site-packages\\starlette\\middleware\\exceptions.py\", line 63, in __call__\n",
      "    await wrap_app_handling_exceptions(self.app, conn)(scope, receive, send)\n",
      "  File \"C:\\Users\\st\\Documents\\kurs_Przyszły_Programista\\LLM_Engineering\\llm_engineering\\venv\\Lib\\site-packages\\starlette\\_exception_handler.py\", line 53, in wrapped_app\n",
      "    raise exc\n",
      "  File \"C:\\Users\\st\\Documents\\kurs_Przyszły_Programista\\LLM_Engineering\\llm_engineering\\venv\\Lib\\site-packages\\starlette\\_exception_handler.py\", line 42, in wrapped_app\n",
      "    await app(scope, receive, sender)\n",
      "  File \"C:\\Users\\st\\Documents\\kurs_Przyszły_Programista\\LLM_Engineering\\llm_engineering\\venv\\Lib\\site-packages\\fastapi\\middleware\\asyncexitstack.py\", line 18, in __call__\n",
      "    await self.app(scope, receive, send)\n",
      "  File \"C:\\Users\\st\\Documents\\kurs_Przyszły_Programista\\LLM_Engineering\\llm_engineering\\venv\\Lib\\site-packages\\starlette\\routing.py\", line 716, in __call__\n",
      "    await self.middleware_stack(scope, receive, send)\n",
      "  File \"C:\\Users\\st\\Documents\\kurs_Przyszły_Programista\\LLM_Engineering\\llm_engineering\\venv\\Lib\\site-packages\\starlette\\routing.py\", line 736, in app\n",
      "    await route.handle(scope, receive, send)\n",
      "  File \"C:\\Users\\st\\Documents\\kurs_Przyszły_Programista\\LLM_Engineering\\llm_engineering\\venv\\Lib\\site-packages\\starlette\\routing.py\", line 290, in handle\n",
      "    await self.app(scope, receive, send)\n",
      "  File \"C:\\Users\\st\\Documents\\kurs_Przyszły_Programista\\LLM_Engineering\\llm_engineering\\venv\\Lib\\site-packages\\fastapi\\routing.py\", line 123, in app\n",
      "    await wrap_app_handling_exceptions(app, request)(scope, receive, send)\n",
      "  File \"C:\\Users\\st\\Documents\\kurs_Przyszły_Programista\\LLM_Engineering\\llm_engineering\\venv\\Lib\\site-packages\\starlette\\_exception_handler.py\", line 53, in wrapped_app\n",
      "    raise exc\n",
      "  File \"C:\\Users\\st\\Documents\\kurs_Przyszły_Programista\\LLM_Engineering\\llm_engineering\\venv\\Lib\\site-packages\\starlette\\_exception_handler.py\", line 42, in wrapped_app\n",
      "    await app(scope, receive, sender)\n",
      "  File \"C:\\Users\\st\\Documents\\kurs_Przyszły_Programista\\LLM_Engineering\\llm_engineering\\venv\\Lib\\site-packages\\fastapi\\routing.py\", line 109, in app\n",
      "    response = await f(request)\n",
      "               ^^^^^^^^^^^^^^^^\n",
      "  File \"C:\\Users\\st\\Documents\\kurs_Przyszły_Programista\\LLM_Engineering\\llm_engineering\\venv\\Lib\\site-packages\\fastapi\\routing.py\", line 389, in app\n",
      "    raw_response = await run_endpoint_function(\n",
      "                   ^^^^^^^^^^^^^^^^^^^^^^^^^^^^\n",
      "    ...<3 lines>...\n",
      "    )\n",
      "    ^\n",
      "  File \"C:\\Users\\st\\Documents\\kurs_Przyszły_Programista\\LLM_Engineering\\llm_engineering\\venv\\Lib\\site-packages\\fastapi\\routing.py\", line 290, in run_endpoint_function\n",
      "    return await run_in_threadpool(dependant.call, **values)\n",
      "           ^^^^^^^^^^^^^^^^^^^^^^^^^^^^^^^^^^^^^^^^^^^^^^^^^\n",
      "  File \"C:\\Users\\st\\Documents\\kurs_Przyszły_Programista\\LLM_Engineering\\llm_engineering\\venv\\Lib\\site-packages\\starlette\\concurrency.py\", line 38, in run_in_threadpool\n",
      "    return await anyio.to_thread.run_sync(func)\n",
      "           ^^^^^^^^^^^^^^^^^^^^^^^^^^^^^^^^^^^^\n",
      "  File \"C:\\Users\\st\\Documents\\kurs_Przyszły_Programista\\LLM_Engineering\\llm_engineering\\venv\\Lib\\site-packages\\anyio\\to_thread.py\", line 56, in run_sync\n",
      "    return await get_async_backend().run_sync_in_worker_thread(\n",
      "           ^^^^^^^^^^^^^^^^^^^^^^^^^^^^^^^^^^^^^^^^^^^^^^^^^^^^\n",
      "        func, args, abandon_on_cancel=abandon_on_cancel, limiter=limiter\n",
      "        ^^^^^^^^^^^^^^^^^^^^^^^^^^^^^^^^^^^^^^^^^^^^^^^^^^^^^^^^^^^^^^^^\n",
      "    )\n",
      "    ^\n",
      "  File \"C:\\Users\\st\\Documents\\kurs_Przyszły_Programista\\LLM_Engineering\\llm_engineering\\venv\\Lib\\site-packages\\anyio\\_backends\\_asyncio.py\", line 2485, in run_sync_in_worker_thread\n",
      "    return await future\n",
      "           ^^^^^^^^^^^^\n",
      "  File \"C:\\Users\\st\\Documents\\kurs_Przyszły_Programista\\LLM_Engineering\\llm_engineering\\venv\\Lib\\site-packages\\anyio\\_backends\\_asyncio.py\", line 976, in run\n",
      "    result = context.run(func, *args)\n",
      "  File \"C:\\Users\\st\\Documents\\kurs_Przyszły_Programista\\LLM_Engineering\\llm_engineering\\venv\\Lib\\site-packages\\gradio\\routes.py\", line 553, in main\n",
      "    value=token,\n",
      "    \n",
      "  File \"C:\\Users\\st\\Documents\\kurs_Przyszły_Programista\\LLM_Engineering\\llm_engineering\\venv\\Lib\\site-packages\\gradio\\routes.py\", line 583, in api_info\n",
      "    ):\n",
      "    \n",
      "  File \"C:\\Users\\st\\Documents\\kurs_Przyszły_Programista\\LLM_Engineering\\llm_engineering\\venv\\Lib\\site-packages\\gradio\\blocks.py\", line 2924, in get_api_info\n",
      "    else:\n",
      "    \n",
      "  File \"C:\\Users\\st\\Documents\\kurs_Przyszły_Programista\\LLM_Engineering\\llm_engineering\\venv\\Lib\\site-packages\\gradio_client\\utils.py\", line 931, in json_schema_to_python_type\n",
      "    if \"const\" in schema:\n",
      "            ^^^^^^^^^^^^^\n",
      "  File \"C:\\Users\\st\\Documents\\kurs_Przyszły_Programista\\LLM_Engineering\\llm_engineering\\venv\\Lib\\site-packages\\gradio_client\\utils.py\", line 986, in _json_schema_to_python_type\n",
      "    return (\n",
      "    \n",
      "  File \"C:\\Users\\st\\Documents\\kurs_Przyszły_Programista\\LLM_Engineering\\llm_engineering\\venv\\Lib\\site-packages\\gradio_client\\utils.py\", line 993, in _json_schema_to_python_type\n",
      "    elif type_ == \"boolean\":\n",
      "                        ^^^^\n",
      "  File \"C:\\Users\\st\\Documents\\kurs_Przyszły_Programista\\LLM_Engineering\\llm_engineering\\venv\\Lib\\site-packages\\gradio_client\\utils.py\", line 939, in _json_schema_to_python_type\n",
      "    elif schema.get(\"oneOf\"):\n",
      "            ~~~~~~~^^^^^^^^^\n",
      "  File \"C:\\Users\\st\\Documents\\kurs_Przyszły_Programista\\LLM_Engineering\\llm_engineering\\venv\\Lib\\site-packages\\gradio_client\\utils.py\", line 898, in get_type\n",
      "    except httpx.HTTPStatusError as e:\n",
      "       ^^^^^^^^^^^^^^^^^\n",
      "TypeError: argument of type 'bool' is not iterable\n",
      "ERROR:    Exception in ASGI application\n",
      "Traceback (most recent call last):\n",
      "  File \"C:\\Users\\st\\Documents\\kurs_Przyszły_Programista\\LLM_Engineering\\llm_engineering\\venv\\Lib\\site-packages\\uvicorn\\protocols\\http\\h11_impl.py\", line 403, in run_asgi\n",
      "    result = await app(  # type: ignore[func-returns-value]\n",
      "             ^^^^^^^^^^^^^^^^^^^^^^^^^^^^^^^^^^^^^^^^^^^^^^\n",
      "        self.scope, self.receive, self.send\n",
      "        ^^^^^^^^^^^^^^^^^^^^^^^^^^^^^^^^^^^\n",
      "    )\n",
      "    ^\n",
      "  File \"C:\\Users\\st\\Documents\\kurs_Przyszły_Programista\\LLM_Engineering\\llm_engineering\\venv\\Lib\\site-packages\\uvicorn\\middleware\\proxy_headers.py\", line 60, in __call__\n",
      "    return await self.app(scope, receive, send)\n",
      "           ^^^^^^^^^^^^^^^^^^^^^^^^^^^^^^^^^^^^\n",
      "  File \"C:\\Users\\st\\Documents\\kurs_Przyszły_Programista\\LLM_Engineering\\llm_engineering\\venv\\Lib\\site-packages\\fastapi\\applications.py\", line 1133, in __call__\n",
      "    await super().__call__(scope, receive, send)\n",
      "  File \"C:\\Users\\st\\Documents\\kurs_Przyszły_Programista\\LLM_Engineering\\llm_engineering\\venv\\Lib\\site-packages\\starlette\\applications.py\", line 113, in __call__\n",
      "    await self.middleware_stack(scope, receive, send)\n",
      "  File \"C:\\Users\\st\\Documents\\kurs_Przyszły_Programista\\LLM_Engineering\\llm_engineering\\venv\\Lib\\site-packages\\starlette\\middleware\\errors.py\", line 186, in __call__\n",
      "    raise exc\n",
      "  File \"C:\\Users\\st\\Documents\\kurs_Przyszły_Programista\\LLM_Engineering\\llm_engineering\\venv\\Lib\\site-packages\\starlette\\middleware\\errors.py\", line 164, in __call__\n",
      "    await self.app(scope, receive, _send)\n",
      "  File \"C:\\Users\\st\\Documents\\kurs_Przyszły_Programista\\LLM_Engineering\\llm_engineering\\venv\\Lib\\site-packages\\gradio\\route_utils.py\", line 789, in __call__\n",
      "    if previous_root is None or previous_root != root:\n",
      "            ^^^^^^^^^^^^^^^^^^^^^^^^^^^^^^^^^^^^\n",
      "  File \"C:\\Users\\st\\Documents\\kurs_Przyszły_Programista\\LLM_Engineering\\llm_engineering\\venv\\Lib\\site-packages\\starlette\\middleware\\exceptions.py\", line 63, in __call__\n",
      "    await wrap_app_handling_exceptions(self.app, conn)(scope, receive, send)\n",
      "  File \"C:\\Users\\st\\Documents\\kurs_Przyszły_Programista\\LLM_Engineering\\llm_engineering\\venv\\Lib\\site-packages\\starlette\\_exception_handler.py\", line 53, in wrapped_app\n",
      "    raise exc\n",
      "  File \"C:\\Users\\st\\Documents\\kurs_Przyszły_Programista\\LLM_Engineering\\llm_engineering\\venv\\Lib\\site-packages\\starlette\\_exception_handler.py\", line 42, in wrapped_app\n",
      "    await app(scope, receive, sender)\n",
      "  File \"C:\\Users\\st\\Documents\\kurs_Przyszły_Programista\\LLM_Engineering\\llm_engineering\\venv\\Lib\\site-packages\\fastapi\\middleware\\asyncexitstack.py\", line 18, in __call__\n",
      "    await self.app(scope, receive, send)\n",
      "  File \"C:\\Users\\st\\Documents\\kurs_Przyszły_Programista\\LLM_Engineering\\llm_engineering\\venv\\Lib\\site-packages\\starlette\\routing.py\", line 716, in __call__\n",
      "    await self.middleware_stack(scope, receive, send)\n",
      "  File \"C:\\Users\\st\\Documents\\kurs_Przyszły_Programista\\LLM_Engineering\\llm_engineering\\venv\\Lib\\site-packages\\starlette\\routing.py\", line 736, in app\n",
      "    await route.handle(scope, receive, send)\n",
      "  File \"C:\\Users\\st\\Documents\\kurs_Przyszły_Programista\\LLM_Engineering\\llm_engineering\\venv\\Lib\\site-packages\\starlette\\routing.py\", line 290, in handle\n",
      "    await self.app(scope, receive, send)\n",
      "  File \"C:\\Users\\st\\Documents\\kurs_Przyszły_Programista\\LLM_Engineering\\llm_engineering\\venv\\Lib\\site-packages\\fastapi\\routing.py\", line 123, in app\n",
      "    await wrap_app_handling_exceptions(app, request)(scope, receive, send)\n",
      "  File \"C:\\Users\\st\\Documents\\kurs_Przyszły_Programista\\LLM_Engineering\\llm_engineering\\venv\\Lib\\site-packages\\starlette\\_exception_handler.py\", line 53, in wrapped_app\n",
      "    raise exc\n",
      "  File \"C:\\Users\\st\\Documents\\kurs_Przyszły_Programista\\LLM_Engineering\\llm_engineering\\venv\\Lib\\site-packages\\starlette\\_exception_handler.py\", line 42, in wrapped_app\n",
      "    await app(scope, receive, sender)\n",
      "  File \"C:\\Users\\st\\Documents\\kurs_Przyszły_Programista\\LLM_Engineering\\llm_engineering\\venv\\Lib\\site-packages\\fastapi\\routing.py\", line 109, in app\n",
      "    response = await f(request)\n",
      "               ^^^^^^^^^^^^^^^^\n",
      "  File \"C:\\Users\\st\\Documents\\kurs_Przyszły_Programista\\LLM_Engineering\\llm_engineering\\venv\\Lib\\site-packages\\fastapi\\routing.py\", line 389, in app\n",
      "    raw_response = await run_endpoint_function(\n",
      "                   ^^^^^^^^^^^^^^^^^^^^^^^^^^^^\n",
      "    ...<3 lines>...\n",
      "    )\n",
      "    ^\n",
      "  File \"C:\\Users\\st\\Documents\\kurs_Przyszły_Programista\\LLM_Engineering\\llm_engineering\\venv\\Lib\\site-packages\\fastapi\\routing.py\", line 290, in run_endpoint_function\n",
      "    return await run_in_threadpool(dependant.call, **values)\n",
      "           ^^^^^^^^^^^^^^^^^^^^^^^^^^^^^^^^^^^^^^^^^^^^^^^^^\n",
      "  File \"C:\\Users\\st\\Documents\\kurs_Przyszły_Programista\\LLM_Engineering\\llm_engineering\\venv\\Lib\\site-packages\\starlette\\concurrency.py\", line 38, in run_in_threadpool\n",
      "    return await anyio.to_thread.run_sync(func)\n",
      "           ^^^^^^^^^^^^^^^^^^^^^^^^^^^^^^^^^^^^\n",
      "  File \"C:\\Users\\st\\Documents\\kurs_Przyszły_Programista\\LLM_Engineering\\llm_engineering\\venv\\Lib\\site-packages\\anyio\\to_thread.py\", line 56, in run_sync\n",
      "    return await get_async_backend().run_sync_in_worker_thread(\n",
      "           ^^^^^^^^^^^^^^^^^^^^^^^^^^^^^^^^^^^^^^^^^^^^^^^^^^^^\n",
      "        func, args, abandon_on_cancel=abandon_on_cancel, limiter=limiter\n",
      "        ^^^^^^^^^^^^^^^^^^^^^^^^^^^^^^^^^^^^^^^^^^^^^^^^^^^^^^^^^^^^^^^^\n",
      "    )\n",
      "    ^\n",
      "  File \"C:\\Users\\st\\Documents\\kurs_Przyszły_Programista\\LLM_Engineering\\llm_engineering\\venv\\Lib\\site-packages\\anyio\\_backends\\_asyncio.py\", line 2485, in run_sync_in_worker_thread\n",
      "    return await future\n",
      "           ^^^^^^^^^^^^\n",
      "  File \"C:\\Users\\st\\Documents\\kurs_Przyszły_Programista\\LLM_Engineering\\llm_engineering\\venv\\Lib\\site-packages\\anyio\\_backends\\_asyncio.py\", line 976, in run\n",
      "    result = context.run(func, *args)\n",
      "  File \"C:\\Users\\st\\Documents\\kurs_Przyszły_Programista\\LLM_Engineering\\llm_engineering\\venv\\Lib\\site-packages\\gradio\\routes.py\", line 553, in main\n",
      "    value=token,\n",
      "    \n",
      "  File \"C:\\Users\\st\\Documents\\kurs_Przyszły_Programista\\LLM_Engineering\\llm_engineering\\venv\\Lib\\site-packages\\gradio\\routes.py\", line 583, in api_info\n",
      "    ):\n",
      "    \n",
      "  File \"C:\\Users\\st\\Documents\\kurs_Przyszły_Programista\\LLM_Engineering\\llm_engineering\\venv\\Lib\\site-packages\\gradio\\blocks.py\", line 2924, in get_api_info\n",
      "    else:\n",
      "    \n",
      "  File \"C:\\Users\\st\\Documents\\kurs_Przyszły_Programista\\LLM_Engineering\\llm_engineering\\venv\\Lib\\site-packages\\gradio_client\\utils.py\", line 931, in json_schema_to_python_type\n",
      "    if \"const\" in schema:\n",
      "            ^^^^^^^^^^^^^\n",
      "  File \"C:\\Users\\st\\Documents\\kurs_Przyszły_Programista\\LLM_Engineering\\llm_engineering\\venv\\Lib\\site-packages\\gradio_client\\utils.py\", line 986, in _json_schema_to_python_type\n",
      "    return (\n",
      "    \n",
      "  File \"C:\\Users\\st\\Documents\\kurs_Przyszły_Programista\\LLM_Engineering\\llm_engineering\\venv\\Lib\\site-packages\\gradio_client\\utils.py\", line 993, in _json_schema_to_python_type\n",
      "    elif type_ == \"boolean\":\n",
      "                        ^^^^\n",
      "  File \"C:\\Users\\st\\Documents\\kurs_Przyszły_Programista\\LLM_Engineering\\llm_engineering\\venv\\Lib\\site-packages\\gradio_client\\utils.py\", line 939, in _json_schema_to_python_type\n",
      "    elif schema.get(\"oneOf\"):\n",
      "            ~~~~~~~^^^^^^^^^\n",
      "  File \"C:\\Users\\st\\Documents\\kurs_Przyszły_Programista\\LLM_Engineering\\llm_engineering\\venv\\Lib\\site-packages\\gradio_client\\utils.py\", line 898, in get_type\n",
      "    except httpx.HTTPStatusError as e:\n",
      "       ^^^^^^^^^^^^^^^^^\n",
      "TypeError: argument of type 'bool' is not iterable\n",
      "ERROR:    Exception in ASGI application\n",
      "Traceback (most recent call last):\n",
      "  File \"C:\\Users\\st\\Documents\\kurs_Przyszły_Programista\\LLM_Engineering\\llm_engineering\\venv\\Lib\\site-packages\\uvicorn\\protocols\\http\\h11_impl.py\", line 403, in run_asgi\n",
      "    result = await app(  # type: ignore[func-returns-value]\n",
      "             ^^^^^^^^^^^^^^^^^^^^^^^^^^^^^^^^^^^^^^^^^^^^^^\n",
      "        self.scope, self.receive, self.send\n",
      "        ^^^^^^^^^^^^^^^^^^^^^^^^^^^^^^^^^^^\n",
      "    )\n",
      "    ^\n",
      "  File \"C:\\Users\\st\\Documents\\kurs_Przyszły_Programista\\LLM_Engineering\\llm_engineering\\venv\\Lib\\site-packages\\uvicorn\\middleware\\proxy_headers.py\", line 60, in __call__\n",
      "    return await self.app(scope, receive, send)\n",
      "           ^^^^^^^^^^^^^^^^^^^^^^^^^^^^^^^^^^^^\n",
      "  File \"C:\\Users\\st\\Documents\\kurs_Przyszły_Programista\\LLM_Engineering\\llm_engineering\\venv\\Lib\\site-packages\\fastapi\\applications.py\", line 1133, in __call__\n",
      "    await super().__call__(scope, receive, send)\n",
      "  File \"C:\\Users\\st\\Documents\\kurs_Przyszły_Programista\\LLM_Engineering\\llm_engineering\\venv\\Lib\\site-packages\\starlette\\applications.py\", line 113, in __call__\n",
      "    await self.middleware_stack(scope, receive, send)\n",
      "  File \"C:\\Users\\st\\Documents\\kurs_Przyszły_Programista\\LLM_Engineering\\llm_engineering\\venv\\Lib\\site-packages\\starlette\\middleware\\errors.py\", line 186, in __call__\n",
      "    raise exc\n",
      "  File \"C:\\Users\\st\\Documents\\kurs_Przyszły_Programista\\LLM_Engineering\\llm_engineering\\venv\\Lib\\site-packages\\starlette\\middleware\\errors.py\", line 164, in __call__\n",
      "    await self.app(scope, receive, _send)\n",
      "  File \"C:\\Users\\st\\Documents\\kurs_Przyszły_Programista\\LLM_Engineering\\llm_engineering\\venv\\Lib\\site-packages\\gradio\\route_utils.py\", line 789, in __call__\n",
      "    if previous_root is None or previous_root != root:\n",
      "            ^^^^^^^^^^^^^^^^^^^^^^^^^^^^^^^^^^^^\n",
      "  File \"C:\\Users\\st\\Documents\\kurs_Przyszły_Programista\\LLM_Engineering\\llm_engineering\\venv\\Lib\\site-packages\\starlette\\middleware\\exceptions.py\", line 63, in __call__\n",
      "    await wrap_app_handling_exceptions(self.app, conn)(scope, receive, send)\n",
      "  File \"C:\\Users\\st\\Documents\\kurs_Przyszły_Programista\\LLM_Engineering\\llm_engineering\\venv\\Lib\\site-packages\\starlette\\_exception_handler.py\", line 53, in wrapped_app\n",
      "    raise exc\n",
      "  File \"C:\\Users\\st\\Documents\\kurs_Przyszły_Programista\\LLM_Engineering\\llm_engineering\\venv\\Lib\\site-packages\\starlette\\_exception_handler.py\", line 42, in wrapped_app\n",
      "    await app(scope, receive, sender)\n",
      "  File \"C:\\Users\\st\\Documents\\kurs_Przyszły_Programista\\LLM_Engineering\\llm_engineering\\venv\\Lib\\site-packages\\fastapi\\middleware\\asyncexitstack.py\", line 18, in __call__\n",
      "    await self.app(scope, receive, send)\n",
      "  File \"C:\\Users\\st\\Documents\\kurs_Przyszły_Programista\\LLM_Engineering\\llm_engineering\\venv\\Lib\\site-packages\\starlette\\routing.py\", line 716, in __call__\n",
      "    await self.middleware_stack(scope, receive, send)\n",
      "  File \"C:\\Users\\st\\Documents\\kurs_Przyszły_Programista\\LLM_Engineering\\llm_engineering\\venv\\Lib\\site-packages\\starlette\\routing.py\", line 736, in app\n",
      "    await route.handle(scope, receive, send)\n",
      "  File \"C:\\Users\\st\\Documents\\kurs_Przyszły_Programista\\LLM_Engineering\\llm_engineering\\venv\\Lib\\site-packages\\starlette\\routing.py\", line 290, in handle\n",
      "    await self.app(scope, receive, send)\n",
      "  File \"C:\\Users\\st\\Documents\\kurs_Przyszły_Programista\\LLM_Engineering\\llm_engineering\\venv\\Lib\\site-packages\\fastapi\\routing.py\", line 123, in app\n",
      "    await wrap_app_handling_exceptions(app, request)(scope, receive, send)\n",
      "  File \"C:\\Users\\st\\Documents\\kurs_Przyszły_Programista\\LLM_Engineering\\llm_engineering\\venv\\Lib\\site-packages\\starlette\\_exception_handler.py\", line 53, in wrapped_app\n",
      "    raise exc\n",
      "  File \"C:\\Users\\st\\Documents\\kurs_Przyszły_Programista\\LLM_Engineering\\llm_engineering\\venv\\Lib\\site-packages\\starlette\\_exception_handler.py\", line 42, in wrapped_app\n",
      "    await app(scope, receive, sender)\n",
      "  File \"C:\\Users\\st\\Documents\\kurs_Przyszły_Programista\\LLM_Engineering\\llm_engineering\\venv\\Lib\\site-packages\\fastapi\\routing.py\", line 109, in app\n",
      "    response = await f(request)\n",
      "               ^^^^^^^^^^^^^^^^\n",
      "  File \"C:\\Users\\st\\Documents\\kurs_Przyszły_Programista\\LLM_Engineering\\llm_engineering\\venv\\Lib\\site-packages\\fastapi\\routing.py\", line 389, in app\n",
      "    raw_response = await run_endpoint_function(\n",
      "                   ^^^^^^^^^^^^^^^^^^^^^^^^^^^^\n",
      "    ...<3 lines>...\n",
      "    )\n",
      "    ^\n",
      "  File \"C:\\Users\\st\\Documents\\kurs_Przyszły_Programista\\LLM_Engineering\\llm_engineering\\venv\\Lib\\site-packages\\fastapi\\routing.py\", line 290, in run_endpoint_function\n",
      "    return await run_in_threadpool(dependant.call, **values)\n",
      "           ^^^^^^^^^^^^^^^^^^^^^^^^^^^^^^^^^^^^^^^^^^^^^^^^^\n",
      "  File \"C:\\Users\\st\\Documents\\kurs_Przyszły_Programista\\LLM_Engineering\\llm_engineering\\venv\\Lib\\site-packages\\starlette\\concurrency.py\", line 38, in run_in_threadpool\n",
      "    return await anyio.to_thread.run_sync(func)\n",
      "           ^^^^^^^^^^^^^^^^^^^^^^^^^^^^^^^^^^^^\n",
      "  File \"C:\\Users\\st\\Documents\\kurs_Przyszły_Programista\\LLM_Engineering\\llm_engineering\\venv\\Lib\\site-packages\\anyio\\to_thread.py\", line 56, in run_sync\n",
      "    return await get_async_backend().run_sync_in_worker_thread(\n",
      "           ^^^^^^^^^^^^^^^^^^^^^^^^^^^^^^^^^^^^^^^^^^^^^^^^^^^^\n",
      "        func, args, abandon_on_cancel=abandon_on_cancel, limiter=limiter\n",
      "        ^^^^^^^^^^^^^^^^^^^^^^^^^^^^^^^^^^^^^^^^^^^^^^^^^^^^^^^^^^^^^^^^\n",
      "    )\n",
      "    ^\n",
      "  File \"C:\\Users\\st\\Documents\\kurs_Przyszły_Programista\\LLM_Engineering\\llm_engineering\\venv\\Lib\\site-packages\\anyio\\_backends\\_asyncio.py\", line 2485, in run_sync_in_worker_thread\n",
      "    return await future\n",
      "           ^^^^^^^^^^^^\n",
      "  File \"C:\\Users\\st\\Documents\\kurs_Przyszły_Programista\\LLM_Engineering\\llm_engineering\\venv\\Lib\\site-packages\\anyio\\_backends\\_asyncio.py\", line 976, in run\n",
      "    result = context.run(func, *args)\n",
      "  File \"C:\\Users\\st\\Documents\\kurs_Przyszły_Programista\\LLM_Engineering\\llm_engineering\\venv\\Lib\\site-packages\\gradio\\routes.py\", line 553, in main\n",
      "    value=token,\n",
      "    \n",
      "  File \"C:\\Users\\st\\Documents\\kurs_Przyszły_Programista\\LLM_Engineering\\llm_engineering\\venv\\Lib\\site-packages\\gradio\\routes.py\", line 583, in api_info\n",
      "    ):\n",
      "    \n",
      "  File \"C:\\Users\\st\\Documents\\kurs_Przyszły_Programista\\LLM_Engineering\\llm_engineering\\venv\\Lib\\site-packages\\gradio\\blocks.py\", line 2924, in get_api_info\n",
      "    else:\n",
      "    \n",
      "  File \"C:\\Users\\st\\Documents\\kurs_Przyszły_Programista\\LLM_Engineering\\llm_engineering\\venv\\Lib\\site-packages\\gradio_client\\utils.py\", line 931, in json_schema_to_python_type\n",
      "    if \"const\" in schema:\n",
      "            ^^^^^^^^^^^^^\n",
      "  File \"C:\\Users\\st\\Documents\\kurs_Przyszły_Programista\\LLM_Engineering\\llm_engineering\\venv\\Lib\\site-packages\\gradio_client\\utils.py\", line 986, in _json_schema_to_python_type\n",
      "    return (\n",
      "    \n",
      "  File \"C:\\Users\\st\\Documents\\kurs_Przyszły_Programista\\LLM_Engineering\\llm_engineering\\venv\\Lib\\site-packages\\gradio_client\\utils.py\", line 993, in _json_schema_to_python_type\n",
      "    elif type_ == \"boolean\":\n",
      "                        ^^^^\n",
      "  File \"C:\\Users\\st\\Documents\\kurs_Przyszły_Programista\\LLM_Engineering\\llm_engineering\\venv\\Lib\\site-packages\\gradio_client\\utils.py\", line 939, in _json_schema_to_python_type\n",
      "    elif schema.get(\"oneOf\"):\n",
      "            ~~~~~~~^^^^^^^^^\n",
      "  File \"C:\\Users\\st\\Documents\\kurs_Przyszły_Programista\\LLM_Engineering\\llm_engineering\\venv\\Lib\\site-packages\\gradio_client\\utils.py\", line 898, in get_type\n",
      "    except httpx.HTTPStatusError as e:\n",
      "       ^^^^^^^^^^^^^^^^^\n",
      "TypeError: argument of type 'bool' is not iterable\n"
     ]
    },
    {
     "ename": "ValueError",
     "evalue": "When localhost is not accessible, a shareable link must be created. Please set share=True or check your proxy settings to allow access to localhost.",
     "output_type": "error",
     "traceback": [
      "\u001b[31m---------------------------------------------------------------------------\u001b[39m",
      "\u001b[31mValueError\u001b[39m                                Traceback (most recent call last)",
      "\u001b[36mCell\u001b[39m\u001b[36m \u001b[39m\u001b[32mIn[12]\u001b[39m\u001b[32m, line 16\u001b[39m\n\u001b[32m      4\u001b[39m     \u001b[38;5;28;01mreturn\u001b[39;00m \u001b[33mf\u001b[39m\u001b[33m\"\u001b[39m\u001b[33mUsed seed: \u001b[39m\u001b[38;5;132;01m{\u001b[39;00mseed\u001b[38;5;132;01m}\u001b[39;00m\u001b[33m\"\u001b[39m, \u001b[33m\"\u001b[39m\u001b[33mhttps://dummyimage.com/300/09f.png\u001b[39m\u001b[33m\"\u001b[39m\n\u001b[32m      6\u001b[39m demo = gr.Interface(\n\u001b[32m      7\u001b[39m     generate_fake_image,\n\u001b[32m      8\u001b[39m     inputs=[\u001b[33m\"\u001b[39m\u001b[33mtextbox\u001b[39m\u001b[33m\"\u001b[39m],\n\u001b[32m   (...)\u001b[39m\u001b[32m     13\u001b[39m     ]\n\u001b[32m     14\u001b[39m )\n\u001b[32m---> \u001b[39m\u001b[32m16\u001b[39m \u001b[43mdemo\u001b[49m\u001b[43m.\u001b[49m\u001b[43mlaunch\u001b[49m\u001b[43m(\u001b[49m\u001b[43m)\u001b[49m\n",
      "\u001b[36mFile \u001b[39m\u001b[32m~\\Documents\\kurs_Przyszły_Programista\\LLM_Engineering\\llm_engineering\\venv\\Lib\\site-packages\\gradio\\blocks.py:2618\u001b[39m, in \u001b[36mBlocks.launch\u001b[39m\u001b[34m(self, inline, inbrowser, share, debug, max_threads, auth, auth_message, prevent_thread_lock, show_error, server_name, server_port, height, width, favicon_path, ssl_keyfile, ssl_certfile, ssl_keyfile_password, ssl_verify, quiet, show_api, allowed_paths, blocked_paths, root_path, app_kwargs, state_session_capacity, share_server_address, share_server_protocol, auth_dependency, max_file_size, enable_monitoring, strict_cors, node_server_name, node_port, ssr_mode, pwa, _frontend)\u001b[39m\n\u001b[32m   2610\u001b[39m \u001b[38;5;66;03m# If running in a colab or not able to access localhost,\u001b[39;00m\n\u001b[32m   2611\u001b[39m \u001b[38;5;66;03m# a shareable link must be created.\u001b[39;00m\n\u001b[32m   2612\u001b[39m \u001b[38;5;28;01mif\u001b[39;00m (\n\u001b[32m   2613\u001b[39m     _frontend\n\u001b[32m   2614\u001b[39m     \u001b[38;5;129;01mand\u001b[39;00m \u001b[38;5;129;01mnot\u001b[39;00m wasm_utils.IS_WASM\n\u001b[32m   2615\u001b[39m     \u001b[38;5;129;01mand\u001b[39;00m \u001b[38;5;129;01mnot\u001b[39;00m networking.url_ok(\u001b[38;5;28mself\u001b[39m.local_url)\n\u001b[32m   2616\u001b[39m     \u001b[38;5;129;01mand\u001b[39;00m \u001b[38;5;129;01mnot\u001b[39;00m \u001b[38;5;28mself\u001b[39m.share\n\u001b[32m   2617\u001b[39m ):\n\u001b[32m-> \u001b[39m\u001b[32m2618\u001b[39m     \u001b[38;5;28;01mraise\u001b[39;00m \u001b[38;5;167;01mValueError\u001b[39;00m(\n\u001b[32m   2619\u001b[39m         \u001b[33m\"\u001b[39m\u001b[33mWhen localhost is not accessible, a shareable link must be created. Please set share=True or check your proxy settings to allow access to localhost.\u001b[39m\u001b[33m\"\u001b[39m\n\u001b[32m   2620\u001b[39m     )\n\u001b[32m   2622\u001b[39m \u001b[38;5;28;01mif\u001b[39;00m \u001b[38;5;28mself\u001b[39m.is_colab \u001b[38;5;129;01mand\u001b[39;00m \u001b[38;5;129;01mnot\u001b[39;00m quiet:\n\u001b[32m   2623\u001b[39m     \u001b[38;5;28;01mif\u001b[39;00m debug:\n",
      "\u001b[31mValueError\u001b[39m: When localhost is not accessible, a shareable link must be created. Please set share=True or check your proxy settings to allow access to localhost."
     ]
    }
   ],
   "source": [
    "import gradio as gr\n",
    "\n",
    "def generate_fake_image(prompt, seed, initial_image=None):\n",
    "    return f\"Used seed: {seed}\", \"https://dummyimage.com/300/09f.png\"\n",
    "\n",
    "demo = gr.Interface(\n",
    "    generate_fake_image,\n",
    "    inputs=[\"textbox\"],\n",
    "    outputs=[\"textbox\", \"image\"],\n",
    "    additional_inputs=[\n",
    "        gr.Slider(0, 1000),\n",
    "        \"image\"\n",
    "    ]\n",
    ")\n",
    "\n",
    "demo.launch()"
   ]
  },
  {
   "cell_type": "code",
   "execution_count": 11,
   "id": "c3a43566-025e-4252-b24c-41f946a5fe3f",
   "metadata": {},
   "outputs": [
    {
     "name": "stdout",
     "output_type": "stream",
     "text": [
      "Requirement already satisfied: gradio in c:\\users\\st\\documents\\kurs_przyszły_programista\\llm_engineering\\llm_engineering\\venv\\lib\\site-packages (5.49.1)\n",
      "Requirement already satisfied: aiofiles<25.0,>=22.0 in c:\\users\\st\\documents\\kurs_przyszły_programista\\llm_engineering\\llm_engineering\\venv\\lib\\site-packages (from gradio) (23.2.1)\n",
      "Requirement already satisfied: anyio<5.0,>=3.0 in c:\\users\\st\\documents\\kurs_przyszły_programista\\llm_engineering\\llm_engineering\\venv\\lib\\site-packages (from gradio) (4.11.0)\n",
      "Requirement already satisfied: audioop-lts<1.0 in c:\\users\\st\\documents\\kurs_przyszły_programista\\llm_engineering\\llm_engineering\\venv\\lib\\site-packages (from gradio) (0.2.2)\n",
      "Requirement already satisfied: brotli>=1.1.0 in c:\\users\\st\\documents\\kurs_przyszły_programista\\llm_engineering\\llm_engineering\\venv\\lib\\site-packages (from gradio) (1.1.0)\n",
      "Requirement already satisfied: fastapi<1.0,>=0.115.2 in c:\\users\\st\\documents\\kurs_przyszły_programista\\llm_engineering\\llm_engineering\\venv\\lib\\site-packages (from gradio) (0.119.0)\n",
      "Requirement already satisfied: ffmpy in c:\\users\\st\\documents\\kurs_przyszły_programista\\llm_engineering\\llm_engineering\\venv\\lib\\site-packages (from gradio) (0.6.3)\n",
      "Requirement already satisfied: gradio-client==1.13.3 in c:\\users\\st\\documents\\kurs_przyszły_programista\\llm_engineering\\llm_engineering\\venv\\lib\\site-packages (from gradio) (1.13.3)\n",
      "Requirement already satisfied: groovy~=0.1 in c:\\users\\st\\documents\\kurs_przyszły_programista\\llm_engineering\\llm_engineering\\venv\\lib\\site-packages (from gradio) (0.1.2)\n",
      "Requirement already satisfied: httpx<1.0,>=0.24.1 in c:\\users\\st\\documents\\kurs_przyszły_programista\\llm_engineering\\llm_engineering\\venv\\lib\\site-packages (from gradio) (0.28.1)\n",
      "Requirement already satisfied: huggingface-hub<2.0,>=0.33.5 in c:\\users\\st\\documents\\kurs_przyszły_programista\\llm_engineering\\llm_engineering\\venv\\lib\\site-packages (from gradio) (0.35.3)\n",
      "Requirement already satisfied: jinja2<4.0 in c:\\users\\st\\documents\\kurs_przyszły_programista\\llm_engineering\\llm_engineering\\venv\\lib\\site-packages (from gradio) (3.1.6)\n",
      "Requirement already satisfied: markupsafe<4.0,>=2.0 in c:\\users\\st\\documents\\kurs_przyszły_programista\\llm_engineering\\llm_engineering\\venv\\lib\\site-packages (from gradio) (2.1.5)\n",
      "Requirement already satisfied: numpy<3.0,>=1.0 in c:\\users\\st\\documents\\kurs_przyszły_programista\\llm_engineering\\llm_engineering\\venv\\lib\\site-packages (from gradio) (2.3.3)\n",
      "Requirement already satisfied: orjson~=3.0 in c:\\users\\st\\documents\\kurs_przyszły_programista\\llm_engineering\\llm_engineering\\venv\\lib\\site-packages (from gradio) (3.11.3)\n",
      "Requirement already satisfied: packaging in c:\\users\\st\\documents\\kurs_przyszły_programista\\llm_engineering\\llm_engineering\\venv\\lib\\site-packages (from gradio) (25.0)\n",
      "Requirement already satisfied: pandas<3.0,>=1.0 in c:\\users\\st\\documents\\kurs_przyszły_programista\\llm_engineering\\llm_engineering\\venv\\lib\\site-packages (from gradio) (2.3.3)\n",
      "Requirement already satisfied: pillow<12.0,>=8.0 in c:\\users\\st\\documents\\kurs_przyszły_programista\\llm_engineering\\llm_engineering\\venv\\lib\\site-packages (from gradio) (11.3.0)\n",
      "Requirement already satisfied: pydantic<2.12,>=2.0 in c:\\users\\st\\documents\\kurs_przyszły_programista\\llm_engineering\\llm_engineering\\venv\\lib\\site-packages (from gradio) (2.11.10)\n",
      "Requirement already satisfied: pydub in c:\\users\\st\\documents\\kurs_przyszły_programista\\llm_engineering\\llm_engineering\\venv\\lib\\site-packages (from gradio) (0.25.1)\n",
      "Requirement already satisfied: python-multipart>=0.0.18 in c:\\users\\st\\documents\\kurs_przyszły_programista\\llm_engineering\\llm_engineering\\venv\\lib\\site-packages (from gradio) (0.0.20)\n",
      "Requirement already satisfied: pyyaml<7.0,>=5.0 in c:\\users\\st\\documents\\kurs_przyszły_programista\\llm_engineering\\llm_engineering\\venv\\lib\\site-packages (from gradio) (6.0.3)\n",
      "Requirement already satisfied: ruff>=0.9.3 in c:\\users\\st\\documents\\kurs_przyszły_programista\\llm_engineering\\llm_engineering\\venv\\lib\\site-packages (from gradio) (0.14.0)\n",
      "Requirement already satisfied: safehttpx<0.2.0,>=0.1.6 in c:\\users\\st\\documents\\kurs_przyszły_programista\\llm_engineering\\llm_engineering\\venv\\lib\\site-packages (from gradio) (0.1.6)\n",
      "Requirement already satisfied: semantic-version~=2.0 in c:\\users\\st\\documents\\kurs_przyszły_programista\\llm_engineering\\llm_engineering\\venv\\lib\\site-packages (from gradio) (2.10.0)\n",
      "Requirement already satisfied: starlette<1.0,>=0.40.0 in c:\\users\\st\\documents\\kurs_przyszły_programista\\llm_engineering\\llm_engineering\\venv\\lib\\site-packages (from gradio) (0.48.0)\n",
      "Requirement already satisfied: tomlkit<0.14.0,>=0.12.0 in c:\\users\\st\\documents\\kurs_przyszły_programista\\llm_engineering\\llm_engineering\\venv\\lib\\site-packages (from gradio) (0.13.3)\n",
      "Requirement already satisfied: typer<1.0,>=0.12 in c:\\users\\st\\documents\\kurs_przyszły_programista\\llm_engineering\\llm_engineering\\venv\\lib\\site-packages (from gradio) (0.19.2)\n",
      "Requirement already satisfied: typing-extensions~=4.0 in c:\\users\\st\\documents\\kurs_przyszły_programista\\llm_engineering\\llm_engineering\\venv\\lib\\site-packages (from gradio) (4.15.0)\n",
      "Requirement already satisfied: uvicorn>=0.14.0 in c:\\users\\st\\documents\\kurs_przyszły_programista\\llm_engineering\\llm_engineering\\venv\\lib\\site-packages (from gradio) (0.37.0)\n",
      "Requirement already satisfied: fsspec in c:\\users\\st\\documents\\kurs_przyszły_programista\\llm_engineering\\llm_engineering\\venv\\lib\\site-packages (from gradio-client==1.13.3->gradio) (2025.9.0)\n",
      "Requirement already satisfied: websockets<16.0,>=13.0 in c:\\users\\st\\documents\\kurs_przyszły_programista\\llm_engineering\\llm_engineering\\venv\\lib\\site-packages (from gradio-client==1.13.3->gradio) (14.2)\n",
      "Requirement already satisfied: idna>=2.8 in c:\\users\\st\\documents\\kurs_przyszły_programista\\llm_engineering\\llm_engineering\\venv\\lib\\site-packages (from anyio<5.0,>=3.0->gradio) (3.10)\n",
      "Requirement already satisfied: sniffio>=1.1 in c:\\users\\st\\documents\\kurs_przyszły_programista\\llm_engineering\\llm_engineering\\venv\\lib\\site-packages (from anyio<5.0,>=3.0->gradio) (1.3.1)\n",
      "Requirement already satisfied: certifi in c:\\users\\st\\documents\\kurs_przyszły_programista\\llm_engineering\\llm_engineering\\venv\\lib\\site-packages (from httpx<1.0,>=0.24.1->gradio) (2025.10.5)\n",
      "Requirement already satisfied: httpcore==1.* in c:\\users\\st\\documents\\kurs_przyszły_programista\\llm_engineering\\llm_engineering\\venv\\lib\\site-packages (from httpx<1.0,>=0.24.1->gradio) (1.0.9)\n",
      "Requirement already satisfied: h11>=0.16 in c:\\users\\st\\documents\\kurs_przyszły_programista\\llm_engineering\\llm_engineering\\venv\\lib\\site-packages (from httpcore==1.*->httpx<1.0,>=0.24.1->gradio) (0.16.0)\n",
      "Requirement already satisfied: filelock in c:\\users\\st\\documents\\kurs_przyszły_programista\\llm_engineering\\llm_engineering\\venv\\lib\\site-packages (from huggingface-hub<2.0,>=0.33.5->gradio) (3.20.0)\n",
      "Requirement already satisfied: requests in c:\\users\\st\\documents\\kurs_przyszły_programista\\llm_engineering\\llm_engineering\\venv\\lib\\site-packages (from huggingface-hub<2.0,>=0.33.5->gradio) (2.32.5)\n",
      "Requirement already satisfied: tqdm>=4.42.1 in c:\\users\\st\\documents\\kurs_przyszły_programista\\llm_engineering\\llm_engineering\\venv\\lib\\site-packages (from huggingface-hub<2.0,>=0.33.5->gradio) (4.67.1)\n",
      "Requirement already satisfied: python-dateutil>=2.8.2 in c:\\users\\st\\documents\\kurs_przyszły_programista\\llm_engineering\\llm_engineering\\venv\\lib\\site-packages (from pandas<3.0,>=1.0->gradio) (2.9.0.post0)\n",
      "Requirement already satisfied: pytz>=2020.1 in c:\\users\\st\\documents\\kurs_przyszły_programista\\llm_engineering\\llm_engineering\\venv\\lib\\site-packages (from pandas<3.0,>=1.0->gradio) (2025.2)\n",
      "Requirement already satisfied: tzdata>=2022.7 in c:\\users\\st\\documents\\kurs_przyszły_programista\\llm_engineering\\llm_engineering\\venv\\lib\\site-packages (from pandas<3.0,>=1.0->gradio) (2025.2)\n",
      "Requirement already satisfied: annotated-types>=0.6.0 in c:\\users\\st\\documents\\kurs_przyszły_programista\\llm_engineering\\llm_engineering\\venv\\lib\\site-packages (from pydantic<2.12,>=2.0->gradio) (0.7.0)\n",
      "Requirement already satisfied: pydantic-core==2.33.2 in c:\\users\\st\\documents\\kurs_przyszły_programista\\llm_engineering\\llm_engineering\\venv\\lib\\site-packages (from pydantic<2.12,>=2.0->gradio) (2.33.2)\n",
      "Requirement already satisfied: typing-inspection>=0.4.0 in c:\\users\\st\\documents\\kurs_przyszły_programista\\llm_engineering\\llm_engineering\\venv\\lib\\site-packages (from pydantic<2.12,>=2.0->gradio) (0.4.2)\n",
      "Requirement already satisfied: click>=8.0.0 in c:\\users\\st\\documents\\kurs_przyszły_programista\\llm_engineering\\llm_engineering\\venv\\lib\\site-packages (from typer<1.0,>=0.12->gradio) (8.3.0)\n",
      "Requirement already satisfied: shellingham>=1.3.0 in c:\\users\\st\\documents\\kurs_przyszły_programista\\llm_engineering\\llm_engineering\\venv\\lib\\site-packages (from typer<1.0,>=0.12->gradio) (1.5.4)\n",
      "Requirement already satisfied: rich>=10.11.0 in c:\\users\\st\\documents\\kurs_przyszły_programista\\llm_engineering\\llm_engineering\\venv\\lib\\site-packages (from typer<1.0,>=0.12->gradio) (14.2.0)\n",
      "Requirement already satisfied: colorama in c:\\users\\st\\documents\\kurs_przyszły_programista\\llm_engineering\\llm_engineering\\venv\\lib\\site-packages (from click>=8.0.0->typer<1.0,>=0.12->gradio) (0.4.6)\n",
      "Requirement already satisfied: six>=1.5 in c:\\users\\st\\documents\\kurs_przyszły_programista\\llm_engineering\\llm_engineering\\venv\\lib\\site-packages (from python-dateutil>=2.8.2->pandas<3.0,>=1.0->gradio) (1.17.0)\n",
      "Requirement already satisfied: markdown-it-py>=2.2.0 in c:\\users\\st\\documents\\kurs_przyszły_programista\\llm_engineering\\llm_engineering\\venv\\lib\\site-packages (from rich>=10.11.0->typer<1.0,>=0.12->gradio) (4.0.0)\n",
      "Requirement already satisfied: pygments<3.0.0,>=2.13.0 in c:\\users\\st\\documents\\kurs_przyszły_programista\\llm_engineering\\llm_engineering\\venv\\lib\\site-packages (from rich>=10.11.0->typer<1.0,>=0.12->gradio) (2.19.2)\n",
      "Requirement already satisfied: mdurl~=0.1 in c:\\users\\st\\documents\\kurs_przyszły_programista\\llm_engineering\\llm_engineering\\venv\\lib\\site-packages (from markdown-it-py>=2.2.0->rich>=10.11.0->typer<1.0,>=0.12->gradio) (0.1.2)\n",
      "Requirement already satisfied: charset_normalizer<4,>=2 in c:\\users\\st\\documents\\kurs_przyszły_programista\\llm_engineering\\llm_engineering\\venv\\lib\\site-packages (from requests->huggingface-hub<2.0,>=0.33.5->gradio) (3.4.3)\n",
      "Requirement already satisfied: urllib3<3,>=1.21.1 in c:\\users\\st\\documents\\kurs_przyszły_programista\\llm_engineering\\llm_engineering\\venv\\lib\\site-packages (from requests->huggingface-hub<2.0,>=0.33.5->gradio) (2.5.0)\n"
     ]
    }
   ],
   "source": [
    "!pip install --upgrade gradio"
   ]
  },
  {
   "cell_type": "code",
   "execution_count": 6,
   "id": "ed4875d8-f7b5-4fa2-b11c-7ef58541460d",
   "metadata": {},
   "outputs": [
    {
     "name": "stdout",
     "output_type": "stream",
     "text": [
      "* Running on local URL:  http://127.0.0.1:7862\n",
      "* To create a public link, set `share=True` in `launch()`.\n"
     ]
    },
    {
     "data": {
      "text/html": [
       "<div><iframe src=\"http://127.0.0.1:7862/\" width=\"100%\" height=\"500\" allow=\"autoplay; camera; microphone; clipboard-read; clipboard-write;\" frameborder=\"0\" allowfullscreen></iframe></div>"
      ],
      "text/plain": [
       "<IPython.core.display.HTML object>"
      ]
     },
     "metadata": {},
     "output_type": "display_data"
    },
    {
     "data": {
      "text/plain": []
     },
     "execution_count": 6,
     "metadata": {},
     "output_type": "execute_result"
    }
   ],
   "source": [
    "import gradio as gr\n",
    "\n",
    "def greet(name):\n",
    "    return \"Hello \" + name + \"!\"\n",
    "\n",
    "with gr.Blocks() as demo:\n",
    "    name = gr.Textbox(label=\"Name\")\n",
    "    output = gr.Textbox(label=\"Output Box\")\n",
    "    greet_button = gr.Button(\"Greet\")\n",
    "    greet_button.click(fn=greet, inputs=name, outputs=output, api_name=\"greet\")\n",
    "\n",
    "demo.launch()"
   ]
  },
  {
   "cell_type": "code",
   "execution_count": 8,
   "id": "2eaaed42-131b-495d-8a72-70491bd19606",
   "metadata": {},
   "outputs": [
    {
     "name": "stdout",
     "output_type": "stream",
     "text": [
      "* Running on local URL:  http://127.0.0.1:7863\n",
      "* To create a public link, set `share=True` in `launch()`.\n"
     ]
    },
    {
     "data": {
      "text/html": [
       "<div><iframe src=\"http://127.0.0.1:7863/\" width=\"100%\" height=\"500\" allow=\"autoplay; camera; microphone; clipboard-read; clipboard-write;\" frameborder=\"0\" allowfullscreen></iframe></div>"
      ],
      "text/plain": [
       "<IPython.core.display.HTML object>"
      ]
     },
     "metadata": {},
     "output_type": "display_data"
    },
    {
     "data": {
      "text/plain": []
     },
     "execution_count": 8,
     "metadata": {},
     "output_type": "execute_result"
    }
   ],
   "source": [
    "import gradio as gr\n",
    "\n",
    "def welcome(name):\n",
    "    return f\"Welcome to Gradio {name}!\"\n",
    "\n",
    "with gr.Blocks() as demo:\n",
    "    gr.Markdown(\n",
    "        \"\"\"\n",
    "        Start typing below to see the output\n",
    "        \"\"\"\n",
    "    )\n",
    "    inp = gr.Textbox(placeholder=\"What is your name?\")\n",
    "    out = gr.Textbox()\n",
    "    inp.change(welcome, inp, out)\n",
    "\n",
    "demo.launch()"
   ]
  },
  {
   "cell_type": "code",
   "execution_count": 6,
   "id": "966b0799-b895-4aa9-9288-de9a8d17af89",
   "metadata": {},
   "outputs": [
    {
     "name": "stdout",
     "output_type": "stream",
     "text": [
      "* Running on local URL:  http://127.0.0.1:7862\n",
      "* To create a public link, set `share=True` in `launch()`.\n"
     ]
    },
    {
     "data": {
      "text/html": [
       "<div><iframe src=\"http://127.0.0.1:7862/\" width=\"100%\" height=\"500\" allow=\"autoplay; camera; microphone; clipboard-read; clipboard-write;\" frameborder=\"0\" allowfullscreen></iframe></div>"
      ],
      "text/plain": [
       "<IPython.core.display.HTML object>"
      ]
     },
     "metadata": {},
     "output_type": "display_data"
    },
    {
     "data": {
      "text/plain": []
     },
     "execution_count": 6,
     "metadata": {},
     "output_type": "execute_result"
    }
   ],
   "source": [
    "import gradio as gr\n",
    "\n",
    "with gr.Blocks() as demo:\n",
    "    a = gr.Number(label=\"a\")\n",
    "    b = gr.Number(label=\"b\")\n",
    "    with gr.Row():\n",
    "        add_button = gr.Button(\"Add\")\n",
    "        substract_button = gr.Button(\"Substract\")\n",
    "    c = gr.Number(label=\"sum\")\n",
    "\n",
    "    def add(num1, num2):\n",
    "        return num1 + num2\n",
    "    add_button.click(add, inputs=[a,b], outputs=c)\n",
    "\n",
    "    def substract(data):\n",
    "        return data[a] - data[b]\n",
    "    substract_button.click(substract, inputs={a, b}, outputs=c)\n",
    "\n",
    "demo.launch()"
   ]
  },
  {
   "cell_type": "code",
   "execution_count": 12,
   "id": "a16315b6-df1a-4ea4-b938-58cbfc7ee4f3",
   "metadata": {},
   "outputs": [
    {
     "name": "stdout",
     "output_type": "stream",
     "text": [
      "* Running on local URL:  http://127.0.0.1:7867\n",
      "* To create a public link, set `share=True` in `launch()`.\n"
     ]
    },
    {
     "data": {
      "text/html": [
       "<div><iframe src=\"http://127.0.0.1:7867/\" width=\"100%\" height=\"500\" allow=\"autoplay; camera; microphone; clipboard-read; clipboard-write;\" frameborder=\"0\" allowfullscreen></iframe></div>"
      ],
      "text/plain": [
       "<IPython.core.display.HTML object>"
      ]
     },
     "metadata": {},
     "output_type": "display_data"
    },
    {
     "data": {
      "text/plain": []
     },
     "execution_count": 12,
     "metadata": {},
     "output_type": "execute_result"
    }
   ],
   "source": [
    "import gradio as gr\n",
    "\n",
    "def change_textbox(choice):\n",
    "    if choice == \"short\":\n",
    "        return gr.Textbox(lines=2, visible=True)\n",
    "    elif choice == \"long\":\n",
    "        return gr.Textbox(lines=8, visible=True, value=\"Lorem ipsum dolor sit amet\")\n",
    "    else:\n",
    "        return gr.Textbox(visible=False)\n",
    "\n",
    "with gr.Blocks() as demo:\n",
    "    radio = gr.Radio(\n",
    "        [\"short\", \"long\", \"none\"], label=\"What kind of essay would you like to write?\"\n",
    "    )\n",
    "    text = gr.Textbox(lines=2, interactive=True, show_copy_button=True)\n",
    "    radio.change(fn=change_textbox, inputs=radio, outputs=text)\n",
    "\n",
    "demo.launch()"
   ]
  },
  {
   "cell_type": "code",
   "execution_count": 13,
   "id": "a15b8ea9-1583-4710-8158-a94c797571dd",
   "metadata": {},
   "outputs": [
    {
     "name": "stdout",
     "output_type": "stream",
     "text": [
      "* Running on local URL:  http://127.0.0.1:7868\n",
      "* To create a public link, set `share=True` in `launch()`.\n"
     ]
    },
    {
     "data": {
      "text/html": [
       "<div><iframe src=\"http://127.0.0.1:7868/\" width=\"100%\" height=\"500\" allow=\"autoplay; camera; microphone; clipboard-read; clipboard-write;\" frameborder=\"0\" allowfullscreen></iframe></div>"
      ],
      "text/plain": [
       "<IPython.core.display.HTML object>"
      ]
     },
     "metadata": {},
     "output_type": "display_data"
    },
    {
     "data": {
      "text/plain": []
     },
     "execution_count": 13,
     "metadata": {},
     "output_type": "execute_result"
    }
   ],
   "source": [
    "import random\n",
    "import gradio as gr\n",
    "\n",
    "with gr.Blocks() as demo:\n",
    "    with gr.Row():\n",
    "        clear_button = gr.Button(\"Clear\")\n",
    "        skip_button = gr.Button(\"Skip\")\n",
    "        random_button = gr.Button(\"Random\")\n",
    "    numbers = [gr.Number(), gr.Number()]\n",
    "\n",
    "    clear_button.click(lambda : (None, None), outputs=numbers)\n",
    "    skip_button.click(lambda : [gr.skip(), gr.skip()], outputs=numbers)\n",
    "    random_button.click(lambda : (random.randint(0, 100), random.randint(0, 100)), outputs=numbers)\n",
    "\n",
    "demo.launch()"
   ]
  }
 ],
 "metadata": {
  "kernelspec": {
   "display_name": "Python 3 (ipykernel)",
   "language": "python",
   "name": "python3"
  },
  "language_info": {
   "codemirror_mode": {
    "name": "ipython",
    "version": 3
   },
   "file_extension": ".py",
   "mimetype": "text/x-python",
   "name": "python",
   "nbconvert_exporter": "python",
   "pygments_lexer": "ipython3",
   "version": "3.13.7"
  }
 },
 "nbformat": 4,
 "nbformat_minor": 5
}
