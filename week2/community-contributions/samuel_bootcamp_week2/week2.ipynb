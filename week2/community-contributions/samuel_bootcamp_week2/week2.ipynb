{
 "cells": [
  {
   "cell_type": "markdown",
   "id": "c82607d7",
   "metadata": {},
   "source": [
    "WEEK 2: Deep Seek Store Assistant"
   ]
  },
  {
   "cell_type": "markdown",
   "id": "9a2afafa",
   "metadata": {},
   "source": [
    "Import Dependencies "
   ]
  },
  {
   "cell_type": "code",
   "execution_count": null,
   "id": "7b07f3c7",
   "metadata": {},
   "outputs": [],
   "source": [
    "import os\n",
    "from dotenv import load_dotenv\n",
    "import gradio as gr"
   ]
  },
  {
   "cell_type": "markdown",
   "id": "edb0de1f",
   "metadata": {},
   "source": [
    "Get Deepseek Key"
   ]
  },
  {
   "cell_type": "code",
   "execution_count": null,
   "id": "7d98b093",
   "metadata": {},
   "outputs": [],
   "source": [
    "\n",
    "\n",
    "load_dotenv(override=True)\n",
    "api_key = os.getenv('DEEPSEEK_API_KEY')\n",
    "if not api_key:\n",
    "    print(\"No API key was found - please head over to the troubleshooting notebook in this folder to identify & fix!\")\n",
    "#elif not api_key.startswith(\"sk-proj-\"):\n",
    "#    print(\"An API key was found, but it doesn't start sk-proj-; please check you're using the right key - see troubleshooting notebook\")\n",
    "elif not api_key.startswith(\"sk-\"):\n",
    "    print(\"An API key was found, but it doesn't start sk-proj-; please check you're using the right key - see troubleshooting notebook\")\n",
    "elif api_key.strip() != api_key:\n",
    "    print(\"An API key was found, but it looks like it might have space or tab characters at the start or end - please remove them - see troubleshooting notebook\")\n",
    "else:\n",
    "    print(\"API key found and looks good so far!\")"
   ]
  },
  {
   "cell_type": "code",
   "execution_count": null,
   "id": "eb558032",
   "metadata": {},
   "outputs": [],
   "source": [
    "\n",
    "\n",
    "#Add Northwind Database\n",
    "DB = \"northwind.db\"\n",
    "\n"
   ]
  },
  {
   "cell_type": "markdown",
   "id": "c374f5fa",
   "metadata": {},
   "source": [
    "System Message"
   ]
  },
  {
   "cell_type": "code",
   "execution_count": null,
   "id": "5d1c32b0",
   "metadata": {},
   "outputs": [],
   "source": [
    "system_message = \"\"\"\n",
    "You are a helpful store assistant for Northwind Traders company.\n",
    "Give short, courteous answers, no more than 1-2 sentences.\n",
    "Always be accurate about product availability and pricing from our database.\n",
    "If you don't know the answer or can't find the product, say so.\n",
    "\"\"\""
   ]
  },
  {
   "cell_type": "markdown",
   "id": "b58c7453",
   "metadata": {},
   "source": [
    "Get product from the database"
   ]
  },
  {
   "cell_type": "code",
   "execution_count": null,
   "id": "4f266033",
   "metadata": {},
   "outputs": [],
   "source": [
    "def get_product(product_name):\n",
    "    print(f\"DATABASE TOOL CALLED: Getting product info for {product_name}\", flush=True)\n",
    "    with sqlite3.connect(DB) as conn:\n",
    "        cursor = conn.cursor()\n",
    "        cursor.execute('''\n",
    "            SELECT p.ProductID, p.ProductName, p.UnitPrice, p.UnitsInStock, c.CategoryName\n",
    "            FROM Products p\n",
    "            LEFT JOIN Categories c ON p.CategoryID = c.CategoryID\n",
    "            WHERE p.ProductName LIKE ?''', (f'%{product_name}%',))\n",
    "        result = cursor.fetchone()\n",
    "        if result:\n",
    "            product_id, name, price, in_stock, category = result\n",
    "            category_info = f\", Category: {category}\" if category else \"\"\n",
    "            return f\"Product: {name} (ID: {product_id}), Price: ${price:.2f}, In Stock: {in_stock}{category_info}\"\n",
    "        else:\n",
    "            return f\"No product found with name containing '{product_name}'\""
   ]
  },
  {
   "cell_type": "code",
   "execution_count": null,
   "id": "81747168",
   "metadata": {},
   "outputs": [],
   "source": [
    "get_product(\"Cheese\")"
   ]
  },
  {
   "cell_type": "markdown",
   "id": "26955925",
   "metadata": {},
   "source": [
    "Get Shop Assistant build tool"
   ]
  },
  {
   "cell_type": "code",
   "execution_count": null,
   "id": "caeb429d",
   "metadata": {},
   "outputs": [],
   "source": [
    "from openai import OpenAI\n",
    "\n",
    "# Initialize DeepSeek client\n",
    "client = OpenAI(\n",
    "    api_key=os.getenv('DEEPSEEK_API_KEY'),\n",
    "    base_url=\"https://api.deepseek.com/v1\"\n",
    ")\n",
    "\n",
    "def chat(message, history):\n",
    "    history = [{\"role\": h[\"role\"], \"content\": h[\"content\"]} for h in history]\n",
    "    messages = [{\"role\": \"system\", \"content\": system_message}] + history + [{\"role\": \"user\", \"content\": message}]\n",
    "    \n",
    "    try:\n",
    "        response = client.chat.completions.create(\n",
    "            model=\"deepseek-chat\",\n",
    "            messages=messages,\n",
    "            temperature=0.7,\n",
    "            max_tokens=500\n",
    "        )\n",
    "        return response.choices[0].message.content\n",
    "    except Exception as e:\n",
    "        return f\"I apologize, but I'm having trouble accessing our system right now. Please try again later.\"\n",
    "\n",
    "gr.ChatInterface(fn=chat, type=\"messages\").launch()"
   ]
  },
  {
   "cell_type": "markdown",
   "id": "fdad26d0",
   "metadata": {},
   "source": []
  }
 ],
 "metadata": {
  "kernelspec": {
   "display_name": "llms",
   "language": "python",
   "name": "python3"
  },
  "language_info": {
   "codemirror_mode": {
    "name": "ipython",
    "version": 3
   },
   "file_extension": ".py",
   "mimetype": "text/x-python",
   "name": "python",
   "nbconvert_exporter": "python",
   "pygments_lexer": "ipython3",
   "version": "3.11.14"
  }
 },
 "nbformat": 4,
 "nbformat_minor": 5
}
