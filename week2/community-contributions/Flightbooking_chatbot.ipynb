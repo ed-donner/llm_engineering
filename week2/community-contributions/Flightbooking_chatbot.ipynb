{
 "cells": [
  {
   "cell_type": "markdown",
   "id": "d006b2ea-9dfe-49c7-88a9-a5a0775185fd",
   "metadata": {},
   "source": [
    "# Additional End of week Exercise - week 2\n",
    "\n",
    "Now use everything you've learned from Week 2 to build a full prototype for the technical question/answerer you built in Week 1 Exercise.\n",
    "\n",
    "This should include a Gradio UI, streaming, use of the system prompt to add expertise, and the ability to switch between models. Bonus points if you can demonstrate use of a tool!\n",
    "\n",
    "If you feel bold, see if you can add audio input so you can talk to it, and have it respond with audio. ChatGPT or Claude can help you, or email me if you have questions.\n",
    "\n",
    "I will publish a full solution here soon - unless someone beats me to it...\n",
    "\n",
    "There are so many commercial applications for this, from a language tutor, to a company onboarding solution, to a companion AI to a course (like this one!) I can't wait to see your results."
   ]
  },
  {
   "cell_type": "code",
   "execution_count": 67,
   "id": "dcad2af1-5860-4966-bb69-205d6c1fe21d",
   "metadata": {},
   "outputs": [],
   "source": [
    "import numpy as np\n",
    "import pandas as pd\n",
    "import os\n",
    "\n",
    "import sys\n",
    "import time\n",
    "import json\n",
    "from dotenv import load_dotenv\n",
    "\n",
    "from openai import OpenAI\n",
    "import gradio as gr"
   ]
  },
  {
   "cell_type": "code",
   "execution_count": 68,
   "id": "4f99b9ce-4ea3-4533-a22b-8fac091587fe",
   "metadata": {},
   "outputs": [],
   "source": [
    "# Checking Python environment in use"
   ]
  },
  {
   "cell_type": "code",
   "execution_count": 69,
   "id": "11deee9a-b6df-46bf-8b73-bb9c74c51473",
   "metadata": {},
   "outputs": [
    {
     "data": {
      "text/plain": [
       "'C:\\\\Users\\\\Prithvi\\\\anaconda3\\\\envs\\\\udemyllm\\\\python.exe'"
      ]
     },
     "execution_count": 69,
     "metadata": {},
     "output_type": "execute_result"
    }
   ],
   "source": [
    "sys.executable"
   ]
  },
  {
   "cell_type": "code",
   "execution_count": 70,
   "id": "1b8125fd-be02-4c3a-be49-b2de3189663e",
   "metadata": {},
   "outputs": [
    {
     "data": {
      "text/plain": [
       "'C:\\\\Users\\\\Prithvi\\\\Downloads\\\\Practice\\\\Udemy - LLM Engineering\\\\llm_engineering\\\\week2'"
      ]
     },
     "execution_count": 70,
     "metadata": {},
     "output_type": "execute_result"
    }
   ],
   "source": [
    "os.getcwd()"
   ]
  },
  {
   "cell_type": "code",
   "execution_count": 71,
   "id": "da0f2a66-5f66-4ae3-bf2b-b7f5cf1d86e8",
   "metadata": {},
   "outputs": [
    {
     "data": {
      "text/plain": [
       "'udemyllm'"
      ]
     },
     "execution_count": 71,
     "metadata": {},
     "output_type": "execute_result"
    }
   ],
   "source": [
    "os.environ.get('CONDA_DEFAULT_ENV')"
   ]
  },
  {
   "cell_type": "code",
   "execution_count": 72,
   "id": "0f2d2afa-5ed9-4826-862d-b0178d3197fb",
   "metadata": {},
   "outputs": [
    {
     "data": {
      "text/plain": [
       "True"
      ]
     },
     "execution_count": 72,
     "metadata": {},
     "output_type": "execute_result"
    }
   ],
   "source": [
    "load_dotenv(override = True)"
   ]
  },
  {
   "cell_type": "code",
   "execution_count": 73,
   "id": "f03b586c-f115-4c67-b799-11ec9cd4f5b3",
   "metadata": {},
   "outputs": [],
   "source": [
    "# Loading OPENAI_API_KEY"
   ]
  },
  {
   "cell_type": "code",
   "execution_count": 74,
   "id": "4126dea9-26ce-4377-90fc-6c63600b288b",
   "metadata": {},
   "outputs": [],
   "source": [
    "openai_api_key = os.getenv('OPENAI_API_KEY')"
   ]
  },
  {
   "cell_type": "code",
   "execution_count": 75,
   "id": "6f27d2df-fbfa-40da-a096-9ebe1bd0303f",
   "metadata": {},
   "outputs": [
    {
     "data": {
      "text/plain": [
       "'sk-p'"
      ]
     },
     "execution_count": 75,
     "metadata": {},
     "output_type": "execute_result"
    }
   ],
   "source": [
    "openai_api_key[:4]"
   ]
  },
  {
   "cell_type": "code",
   "execution_count": 76,
   "id": "1c39c92b-ed35-4691-b466-f43f0ebc98f2",
   "metadata": {},
   "outputs": [],
   "source": [
    "openai = OpenAI()"
   ]
  },
  {
   "cell_type": "code",
   "execution_count": null,
   "id": "b5679197-8cdc-4b07-9c03-c266bd7c6d69",
   "metadata": {},
   "outputs": [],
   "source": []
  },
  {
   "cell_type": "code",
   "execution_count": null,
   "id": "3cfbba44-b334-4245-aa65-1aadd862bec3",
   "metadata": {},
   "outputs": [],
   "source": []
  },
  {
   "cell_type": "code",
   "execution_count": 127,
   "id": "3925ec72-227a-4ecc-8d03-b3919503052c",
   "metadata": {},
   "outputs": [
    {
     "name": "stdout",
     "output_type": "stream",
     "text": [
      "* Running on local URL:  http://127.0.0.1:7870\n",
      "* To create a public link, set `share=True` in `launch()`.\n"
     ]
    },
    {
     "data": {
      "text/html": [
       "<div><iframe src=\"http://127.0.0.1:7870/\" width=\"100%\" height=\"500\" allow=\"autoplay; camera; microphone; clipboard-read; clipboard-write;\" frameborder=\"0\" allowfullscreen></iframe></div>"
      ],
      "text/plain": [
       "<IPython.core.display.HTML object>"
      ]
     },
     "metadata": {},
     "output_type": "display_data"
    },
    {
     "data": {
      "text/plain": []
     },
     "execution_count": 127,
     "metadata": {},
     "output_type": "execute_result"
    }
   ],
   "source": [
    "import json\n",
    "import gradio as gr\n",
    "import openai\n",
    "\n",
    "# ------------------ System Message ------------------\n",
    "system_message = \"\"\"\n",
    "You are a helpful AI assistant which always gives courteous replies.\n",
    "If you don't know the answer, politely say so.\n",
    "When showing booking details, ALWAYS return a clean and beautiful Markdown table.\n",
    "\"\"\"\n",
    "\n",
    "MODEL = \"gpt-4.1\"  # Use GPT-4.1 or GPT-4.1-mini if available\n",
    "\n",
    "# ------------------ Ticket Price Tool ------------------\n",
    "ticket_prices = {\n",
    "    \"london\": \"$799\",\n",
    "    \"paris\": \"$899\",\n",
    "    \"tokyo\": \"$1400\",\n",
    "    \"berlin\": \"$499\"\n",
    "}\n",
    "\n",
    "def get_ticket_price(destination_city):\n",
    "    city = destination_city.lower()\n",
    "    return ticket_prices.get(city, \"Unknown\")\n",
    "\n",
    "price_function = {\n",
    "    \"name\": \"get_ticket_price\",\n",
    "    \"description\": \"Get the price of a return ticket to the destination city.\",\n",
    "    \"parameters\": {\n",
    "        \"type\": \"object\",\n",
    "        \"properties\": {\n",
    "            \"destination_city\": {\n",
    "                \"type\": \"string\",\n",
    "                \"description\": \"The city that the customer wants to travel to\"\n",
    "            }\n",
    "        },\n",
    "        \"required\": [\"destination_city\"],\n",
    "        \"additionalProperties\": False\n",
    "    }\n",
    "}\n",
    "\n",
    "# ------------------ Flight Booking Tool ------------------\n",
    "def book_flight(name, origin, destination, travel_date):\n",
    "    return {\n",
    "        \"confirmation_message\": \"Your flight is confirmed! 🎉\",\n",
    "        \"details\": {\n",
    "            \"Passenger Name\": name,\n",
    "            \"Origin\": origin,\n",
    "            \"Destination\": destination,\n",
    "            \"Travel Date\": travel_date,\n",
    "            \"Booking Status\": \"✅ Confirmed\"\n",
    "        }\n",
    "    }\n",
    "\n",
    "booking_function = {\n",
    "    \"name\": \"book_flight\",\n",
    "    \"description\": \"Book a flight and confirm the booking. Returns passenger details and booking status.\",\n",
    "    \"parameters\": {\n",
    "        \"type\": \"object\",\n",
    "        \"properties\": {\n",
    "            \"name\": {\"type\": \"string\", \"description\": \"Passenger's full name\"},\n",
    "            \"origin\": {\"type\": \"string\", \"description\": \"Departure city\"},\n",
    "            \"destination\": {\"type\": \"string\", \"description\": \"Arrival city\"},\n",
    "            \"travel_date\": {\"type\": \"string\", \"description\": \"Date of travel in YYYY-MM-DD format\"}\n",
    "        },\n",
    "        \"required\": [\"name\", \"origin\", \"destination\", \"travel_date\"],\n",
    "        \"additionalProperties\": False\n",
    "    }\n",
    "}\n",
    "\n",
    "# ------------------ Tools ------------------\n",
    "tools = [\n",
    "    {\"type\": \"function\", \"function\": price_function},\n",
    "    {\"type\": \"function\", \"function\": booking_function}\n",
    "]\n",
    "\n",
    "# ------------------ Tool Handler ------------------\n",
    "def handle_tool_call(tool_call):\n",
    "    \"\"\"Executes the tool and returns the tool message.\"\"\"\n",
    "    function_name = tool_call.function.name\n",
    "    arguments = json.loads(tool_call.function.arguments)\n",
    "\n",
    "    if function_name == \"get_ticket_price\":\n",
    "        city = arguments.get('destination_city')\n",
    "        price = get_ticket_price(city)\n",
    "        response_content = {\"destination_city\": city, \"price\": price}\n",
    "\n",
    "    elif function_name == \"book_flight\":\n",
    "        name = arguments.get('name')\n",
    "        origin = arguments.get('origin')\n",
    "        destination = arguments.get('destination')\n",
    "        travel_date = arguments.get('travel_date')\n",
    "        booking_info = book_flight(name, origin, destination, travel_date)\n",
    "        response_content = booking_info\n",
    "\n",
    "    return {\n",
    "        \"role\": \"tool\",\n",
    "        \"tool_call_id\": tool_call.id,  # REQUIRED for OpenAI\n",
    "        \"content\": json.dumps(response_content)\n",
    "    }\n",
    "\n",
    "# ------------------ Chat Function ------------------\n",
    "def chat_openai(user_message, history):\n",
    "    # Build OpenAI-style messages from history\n",
    "    messages = [{\"role\": \"system\", \"content\": system_message}]\n",
    "    for h in history:\n",
    "        messages.append(h)\n",
    "    messages.append({\"role\": \"user\", \"content\": user_message})\n",
    "\n",
    "    # First response\n",
    "    response = openai.chat.completions.create(\n",
    "        model=MODEL,\n",
    "        messages=messages,\n",
    "        tools=tools\n",
    "    )\n",
    "\n",
    "    message = response.choices[0].message\n",
    "\n",
    "    # If a tool is called, handle it\n",
    "    if response.choices[0].finish_reason == \"tool_calls\":\n",
    "        tool_call = message.tool_calls[0]\n",
    "        tool_response = handle_tool_call(tool_call)\n",
    "\n",
    "        # Append assistant + tool response to messages\n",
    "        messages.append(message)  # assistant asking for tool\n",
    "        messages.append(tool_response)  # our tool's reply\n",
    "\n",
    "        # Final response after tool execution\n",
    "        response = openai.chat.completions.create(\n",
    "            model=MODEL,\n",
    "            messages=messages,\n",
    "            tools=tools\n",
    "        )\n",
    "        message = response.choices[0].message\n",
    "\n",
    "    # Update history in OpenAI's format\n",
    "    history.append({\"role\": \"user\", \"content\": user_message})\n",
    "    history.append({\"role\": \"assistant\", \"content\": message.content})\n",
    "    return \"\", history, history\n",
    "\n",
    "# ------------------ Gradio UI ------------------\n",
    "with gr.Blocks() as demo:\n",
    "    gr.Markdown(\"## ✈️ Flight Booking Assistant\")\n",
    "    chatbot = gr.Chatbot(label=\"AI Assistant\", type=\"messages\", height=500)\n",
    "    msg = gr.Textbox(label=\"Type your message...\")\n",
    "    clear = gr.Button(\"Clear Chat\")\n",
    "    state = gr.State([])\n",
    "\n",
    "    msg.submit(chat_openai, [msg, state], [msg, chatbot, state])\n",
    "    clear.click(lambda: [], None, [chatbot, state], queue=False)\n",
    "\n",
    "demo.launch()\n"
   ]
  },
  {
   "cell_type": "code",
   "execution_count": null,
   "id": "8a821d0f-4f97-4321-9f17-07fee4273a17",
   "metadata": {},
   "outputs": [],
   "source": []
  },
  {
   "cell_type": "code",
   "execution_count": null,
   "id": "cf269e2f-14cc-42ad-a33a-e6f802eda3d0",
   "metadata": {},
   "outputs": [],
   "source": []
  },
  {
   "cell_type": "code",
   "execution_count": null,
   "id": "f9285b93-3b77-4e9e-9019-2e1ce47b0142",
   "metadata": {},
   "outputs": [],
   "source": []
  },
  {
   "cell_type": "code",
   "execution_count": null,
   "id": "a07e7793-b8f5-44f4-aded-5562f633271a",
   "metadata": {},
   "outputs": [],
   "source": []
  }
 ],
 "metadata": {
  "kernelspec": {
   "display_name": "Python 3 (ipykernel)",
   "language": "python",
   "name": "python3"
  },
  "language_info": {
   "codemirror_mode": {
    "name": "ipython",
    "version": 3
   },
   "file_extension": ".py",
   "mimetype": "text/x-python",
   "name": "python",
   "nbconvert_exporter": "python",
   "pygments_lexer": "ipython3",
   "version": "3.11.13"
  }
 },
 "nbformat": 4,
 "nbformat_minor": 5
}
