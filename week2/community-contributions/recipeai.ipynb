{
 "cells": [
  {
   "cell_type": "code",
   "execution_count": null,
   "id": "edad8a5d-0393-4624-bc26-8153cb99ee57",
   "metadata": {},
   "outputs": [],
   "source": [
    "!pip install openai\n"
   ]
  },
  {
   "cell_type": "code",
   "execution_count": 4,
   "id": "d5d8d93e-bd08-4509-9939-7255f308efdb",
   "metadata": {},
   "outputs": [],
   "source": [
    "import os\n",
    "import json\n",
    "from dotenv import load_dotenv\n",
    "from openai import OpenAI\n",
    "from IPython.display import Markdown, display, update_display"
   ]
  },
  {
   "cell_type": "code",
   "execution_count": 5,
   "id": "e78e6211-9e3b-4fef-97e0-52807c8132f6",
   "metadata": {},
   "outputs": [
    {
     "name": "stdout",
     "output_type": "stream",
     "text": [
      "Key found\n"
     ]
    }
   ],
   "source": [
    "# check the environment variables\n",
    "load_dotenv(override=True)\n",
    "openai_api_key=os.getenv('OPENAI_API_KEY')\n",
    "if openai_api_key:\n",
    "    print(\"Key found\")\n",
    "else:\n",
    "    print(\"Invalid key\")"
   ]
  },
  {
   "cell_type": "code",
   "execution_count": 6,
   "id": "fa2fb7c4-ea50-4be4-a85a-1f5d36d24bd1",
   "metadata": {},
   "outputs": [],
   "source": [
    "openai = OpenAI()"
   ]
  },
  {
   "cell_type": "code",
   "execution_count": 7,
   "id": "9dfd0448-b980-40b0-9b4c-8cc3086a97e4",
   "metadata": {},
   "outputs": [],
   "source": [
    "MODEL = \"gpt-4.1-mini\""
   ]
  },
  {
   "cell_type": "code",
   "execution_count": 8,
   "id": "5bdc0533-bf17-4770-af38-c9055c88775f",
   "metadata": {},
   "outputs": [],
   "source": [
    "# Prompt to tell the system what it needs to do\n",
    "system_prompt = \"\"\"You are RecipeAI, an expert chef assistant. \n",
    "When a user tells you the food they want to eat or the ingredients they have, suggest a recipe in a clear, step-by-step format.\n",
    "\n",
    "Your response must include:\n",
    "1. Recipe Name\n",
    "2. Short Description\n",
    "3. Ingredients List\n",
    "4. Step-by-Step Instructions\n",
    "5. Optional Tips (e.g., variations, healthier options)\n",
    "\n",
    "Keep the response concise but practical, and make sure the recipe is easy to follow.\n",
    "\"\"\""
   ]
  },
  {
   "cell_type": "code",
   "execution_count": 9,
   "id": "6f937d3c-cc2c-4c40-9553-669f16e089da",
   "metadata": {},
   "outputs": [
    {
     "name": "stdin",
     "output_type": "stream",
     "text": [
      "Enter food to get recipe:  ugali mayai\n"
     ]
    }
   ],
   "source": [
    "food_question = input(\"Enter food to get recipe: \")"
   ]
  },
  {
   "cell_type": "code",
   "execution_count": 10,
   "id": "967f3900-61d4-4e79-b427-adc86420e97f",
   "metadata": {},
   "outputs": [],
   "source": [
    "#getting the messages for the llm\n",
    "prompts = [\n",
    "    {\"role\": \"system\", \"content\": system_prompt},\n",
    "    {\"role\": \"user\", \"content\": food_question}\n",
    "]"
   ]
  },
  {
   "cell_type": "code",
   "execution_count": null,
   "id": "5506b796-6c90-4a03-8070-6d0ba9e83fc8",
   "metadata": {},
   "outputs": [],
   "source": [
    "#response of the ai\n",
    "response = openai.chat.completions.create(\n",
    "    model = MODEL,\n",
    "    max_tokens = 200,\n",
    "    temperature = 0.6,\n",
    "    messages = prompts,\n",
    "    \n",
    ")\n",
    "recipe_output = response.choices[0].message.content\n",
    "display(Markdown(recipe_output))"
   ]
  },
  {
   "cell_type": "code",
   "execution_count": null,
   "id": "719acf6e-b158-40f3-b515-e75eda458919",
   "metadata": {},
   "outputs": [],
   "source": []
  }
 ],
 "metadata": {
  "kernelspec": {
   "display_name": "Python 3 (ipykernel)",
   "language": "python",
   "name": "python3"
  },
  "language_info": {
   "codemirror_mode": {
    "name": "ipython",
    "version": 3
   },
   "file_extension": ".py",
   "mimetype": "text/x-python",
   "name": "python",
   "nbconvert_exporter": "python",
   "pygments_lexer": "ipython3",
   "version": "3.13.5"
  }
 },
 "nbformat": 4,
 "nbformat_minor": 5
}
