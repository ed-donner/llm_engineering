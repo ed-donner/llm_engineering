{
 "cells": [
  {
   "metadata": {
    "collapsed": true,
    "ExecuteTime": {
     "end_time": "2025-10-03T11:54:55.134153Z",
     "start_time": "2025-10-03T11:54:55.132338Z"
    }
   },
   "cell_type": "markdown",
   "source": [
    "### LLMs Chat Room\n",
    "Several LLMs model discussion the topic inside the chat room\n"
   ],
   "id": "b317cfdc98c19cf2"
  },
  {
   "metadata": {
    "ExecuteTime": {
     "end_time": "2025-10-03T14:29:44.656272Z",
     "start_time": "2025-10-03T14:29:44.261197Z"
    }
   },
   "cell_type": "code",
   "source": "from llm_chat_room import LLMChatRoom",
   "id": "33d224807d0b0be6",
   "outputs": [],
   "execution_count": 1
  },
  {
   "metadata": {},
   "cell_type": "markdown",
   "source": "",
   "id": "4f00eb9db0c25957"
  },
  {
   "metadata": {
    "ExecuteTime": {
     "end_time": "2025-10-03T14:32:59.878365Z",
     "start_time": "2025-10-03T14:32:59.845975Z"
    }
   },
   "cell_type": "code",
   "source": [
    "llms = [\"gpt\",\"claude\",\"gemini\"]\n",
    "subject = \"Pets\"\n",
    "room = LLMChatRoom(llms, subject)"
   ],
   "id": "70746449bfd70fcf",
   "outputs": [],
   "execution_count": 6
  },
  {
   "metadata": {
    "ExecuteTime": {
     "end_time": "2025-10-03T14:33:15.074067Z",
     "start_time": "2025-10-03T14:33:02.158650Z"
    }
   },
   "cell_type": "code",
   "source": "room.chat(5)",
   "id": "1b717ae03a6c48c0",
   "outputs": [
    {
     "name": "stdout",
     "output_type": "stream",
     "text": [
      "Anna: Hello everyone! I'd love to share my thoughts about pets since we're discussing them today.\n",
      "\n",
      "I think pets bring such wonderful companionship to our lives. Whether it's a loyal dog who greets you at the door with pure joy, a cat who curls up on your lap during quiet evenings, or even smaller pets like birds or fish that add life to a home - they all offer something special.\n",
      "\n",
      "What I find most remarkable is how pets teach us responsibility and empathy. Caring for another living being, making sure they're fed, healthy, and loved, really helps us grow as people. And the unconditional love they give back is just incredible.\n",
      "\n",
      "Of course, I know pet ownership isn't right for everyone - it's a big commitment that requires time, money, and lifestyle adjustments. But for those who can provide a good home, I think the bond between humans and pets is truly one of life's great joys.\n",
      "\n",
      "What are\n",
      "--------------------------------------------------------------------------------\n",
      "Isabella: Hello Anna!\n",
      "\n",
      "I agree wholeheartedly! Pets truly enrich our lives in so many ways. The unconditional love and companionship they offer are invaluable. It's amazing how they teach us responsibility and empathy.\n",
      "\n",
      "--------------------------------------------------------------------------------\n",
      "Isabella: I think the best part is that pets come in all shapes and sizes, each with unique quirks and personalities. It is important to consider not only dogs and cats, but also birds, reptiles, and even insects that can bring joy and fulfillment to people's lives. What do you think?\n",
      "\n",
      "--------------------------------------------------------------------------------\n",
      "Giorgio: Hello everyone! If I may add a little, I believe that regardless of the kind of pet, the key is the mutual respect and understanding we develop with them. They truly become part of our families and teach us patience and compassion. It's always wonderful to see how each type of pet has its own way of bonding with people.\n",
      "--------------------------------------------------------------------------------\n",
      "Giorgio: Hello everyone! I completely agree with Giorgio. Pets, no matter their size or species, have a unique way of connecting with us and enriching our daily lives. Their loyalty and innocence often remind us to appreciate the simple joys and to be more patient and caring. It’s truly a special relationship that benefits both sides.\n",
      "--------------------------------------------------------------------------------\n"
     ]
    }
   ],
   "execution_count": 7
  }
 ],
 "metadata": {
  "kernelspec": {
   "display_name": "Python 3",
   "language": "python",
   "name": "python3"
  },
  "language_info": {
   "codemirror_mode": {
    "name": "ipython",
    "version": 2
   },
   "file_extension": ".py",
   "mimetype": "text/x-python",
   "name": "python",
   "nbconvert_exporter": "python",
   "pygments_lexer": "ipython2",
   "version": "2.7.6"
  }
 },
 "nbformat": 4,
 "nbformat_minor": 5
}
