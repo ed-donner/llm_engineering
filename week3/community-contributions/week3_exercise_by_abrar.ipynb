{
 "cells": [
  {
   "cell_type": "markdown",
   "id": "61f56afc-bc15-46a4-8eb1-d940c332cf52",
   "metadata": {},
   "source": [
    "# Synthetic Data Studio\n",
    "\n",
    "It includes useful code to connect your Google Drive to your Colab and Hugging Face Model. \n",
    "To use the Huggingface Model, you first need to create an account on HuggingFace and then send a request to the required model. \n",
    "\n",
    "\n",
    "https://colab.research.google.com/drive/1W3JPe0F6su8sNpfdlp2uqXqWZChevHYa?usp=sharing\n",
    "\n",
    "This should run nicely on a low-cost or free T4 box."
   ]
  },
  {
   "cell_type": "code",
   "execution_count": null,
   "id": "e9289ba7-200c-43a9-b67a-c5ce826c9537",
   "metadata": {},
   "outputs": [],
   "source": []
  }
 ],
 "metadata": {
  "kernelspec": {
   "display_name": "Python 3 (ipykernel)",
   "language": "python",
   "name": "python3"
  },
  "language_info": {
   "codemirror_mode": {
    "name": "ipython",
    "version": 3
   },
   "file_extension": ".py",
   "mimetype": "text/x-python",
   "name": "python",
   "nbconvert_exporter": "python",
   "pygments_lexer": "ipython3",
   "version": "3.11.13"
  }
 },
 "nbformat": 4,
 "nbformat_minor": 5
}
