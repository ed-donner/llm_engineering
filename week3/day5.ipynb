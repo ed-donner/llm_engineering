{
 "cells": [
  {
   "cell_type": "markdown",
   "id": "61f56afc-bc15-46a4-8eb1-d940c332cf52",
   "metadata": {},
   "source": [
    "# Meeting minutes creator\n",
    "\n",
    "In this colab, we make a meeting minutes program.\n",
    "\n",
    "It includes useful code to connect your Google Drive to your colab.\n",
    "\n",
    "Upload your own audio to make this work!!\n",
    "\n",
    "https://colab.research.google.com/drive/1KSMxOCprsl1QRpt_Rq0UqCAyMtPqDQYx?usp=sharing\n",
    "\n",
    "This should run nicely on a low-cost or free T4 box."
   ]
  },
  {
   "cell_type": "markdown",
   "id": "501aa674",
   "metadata": {},
   "source": [
    "### BUT FIRST - Something cool - really showing you how \"model inference\" works via OpenAI"
   ]
  },
  {
   "cell_type": "code",
   "execution_count": null,
   "id": "e9289ba7-200c-43a9-b67a-c5ce826c9537",
   "metadata": {},
   "outputs": [],
   "source": [
    "from visualizer import TokenPredictor, create_token_graph, visualize_predictions\n",
    "\n",
    "message = \"In one sentence, describe the color orange to someone who has never been able to see\"\n",
    "model_name = \"gpt-4.1-mini\"\n",
    "\n",
    "predictor = TokenPredictor(model_name)\n",
    "predictions = predictor.predict_tokens(message)\n",
    "G = create_token_graph(model_name, predictions)\n",
    "plt = visualize_predictions(G)\n",
    "plt.show()"
   ]
  },
  {
   "cell_type": "code",
   "execution_count": null,
   "id": "540a8255",
   "metadata": {},
   "outputs": [],
   "source": []
  }
 ],
 "metadata": {
  "kernelspec": {
   "display_name": ".venv",
   "language": "python",
   "name": "python3"
  },
  "language_info": {
   "codemirror_mode": {
    "name": "ipython",
    "version": 3
   },
   "file_extension": ".py",
   "mimetype": "text/x-python",
   "name": "python",
   "nbconvert_exporter": "python",
   "pygments_lexer": "ipython3",
   "version": "3.12.9"
  }
 },
 "nbformat": 4,
 "nbformat_minor": 5
}
