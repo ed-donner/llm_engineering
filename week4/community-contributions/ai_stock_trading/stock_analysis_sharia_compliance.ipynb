{
 "cells": [
  {
   "cell_type": "markdown",
   "metadata": {
    "vscode": {
     "languageId": "raw"
    }
   },
   "source": [
    "# Stock Analysis & Sharia Compliance Chat Interface\n",
    "\n",
    "This notebook implements a comprehensive Gradio-based chat interface for stock analysis and Islamic Sharia compliance checks. It provides:\n",
    "\n",
    "- **Real-time Stock Data Fetching** using yfinance\n",
    "- **Technical Analysis** with multiple time periods\n",
    "- **AI-Powered Trade Recommendations** using OpenAI GPT-4o-mini\n",
    "- **Sharia Compliance Assessment** for Islamic investing\n",
    "- **Interactive Charts** and user-friendly interface\n",
    "\n",
    "## Features\n",
    "1. Multi-period stock analysis (1 month, 1 year, 5 years)\n",
    "2. Automated trade advice (BUY/HOLD/SELL) with justification\n",
    "3. Sharia compliance ruling with confidence scores\n",
    "4. Interactive price charts\n",
    "5. Clean Gradio chat interface\n"
   ]
  },
  {
   "cell_type": "markdown",
   "metadata": {
    "vscode": {
     "languageId": "raw"
    }
   },
   "source": [
    "## 1. Imports\n",
    "\n",
    "First, let's import all necessary libraries and set up our environment.\n"
   ]
  },
  {
   "cell_type": "code",
   "execution_count": 2,
   "metadata": {},
   "outputs": [
    {
     "name": "stdout",
     "output_type": "stream",
     "text": [
      "✅ OpenAI API key loaded successfully\n",
      "🚀 All libraries imported successfully!\n"
     ]
    }
   ],
   "source": [
    "# Core imports\n",
    "import os\n",
    "import json\n",
    "import warnings\n",
    "from dotenv import load_dotenv\n",
    "\n",
    "warnings.filterwarnings('ignore')\n",
    "\n",
    "# Data and analysis\n",
    "import yfinance as yf\n",
    "import pandas as pd\n",
    "import numpy as np\n",
    "\n",
    "# Visualization\n",
    "import matplotlib.pyplot as plt\n",
    "import matplotlib.dates as mdates\n",
    "\n",
    "# Web scraping for company info\n",
    "import requests\n",
    "from bs4 import BeautifulSoup\n",
    "\n",
    "# AI and interface\n",
    "import openai\n",
    "import gradio as gr\n",
    "\n",
    "# Load OpenAI API key from environment\n",
    "load_dotenv(override=True)\n",
    "openai.api_key = os.getenv('OPENAI_API_KEY')\n",
    "\n",
    "if not openai.api_key:\n",
    "    print(\"⚠️ Warning: OPENAI_API_KEY not found in environment variables\")\n",
    "    print(\"Please set your OpenAI API key: export OPENAI_API_KEY='your-key-here'\")\n",
    "else:\n",
    "    print(\"✅ OpenAI API key loaded successfully\")\n",
    "\n",
    "print(\"🚀 All libraries imported successfully!\")\n"
   ]
  },
  {
   "cell_type": "markdown",
   "metadata": {
    "vscode": {
     "languageId": "raw"
    }
   },
   "source": [
    "## 2. Data Fetching Tool\n",
    "\n",
    "This function fetches historical stock data using yfinance for any given symbol, period, and interval.\n"
   ]
  },
  {
   "cell_type": "code",
   "execution_count": 6,
   "metadata": {},
   "outputs": [
    {
     "name": "stdout",
     "output_type": "stream",
     "text": [
      "✅ Successfully fetched 18 data points for ABUK.CA (1mo)\n",
      "\n",
      "📊 Sample data for ABUK.CA:\n",
      "                                Open       High        Low      Close  Volume  \\\n",
      "Date                                                                            \n",
      "2025-05-29 00:00:00+03:00  49.000000  49.270000  48.099998  48.320000  971406   \n",
      "2025-06-01 00:00:00+03:00  48.320000  48.840000  48.189999  48.400002  583557   \n",
      "2025-06-02 00:00:00+03:00  48.400002  49.450001  48.500000  49.000000  648049   \n",
      "2025-06-03 00:00:00+03:00  49.000000  49.470001  49.029999  49.090000  379774   \n",
      "2025-06-04 00:00:00+03:00  49.090000  49.889999  48.970001  49.889999  592659   \n",
      "\n",
      "                           Dividends  Stock Splits  Capital Gains  \n",
      "Date                                                               \n",
      "2025-05-29 00:00:00+03:00        0.0           0.0            0.0  \n",
      "2025-06-01 00:00:00+03:00        0.0           0.0            0.0  \n",
      "2025-06-02 00:00:00+03:00        0.0           0.0            0.0  \n",
      "2025-06-03 00:00:00+03:00        0.0           0.0            0.0  \n",
      "2025-06-04 00:00:00+03:00        0.0           0.0            0.0  \n"
     ]
    }
   ],
   "source": [
    "def fetch_history(symbol, period=\"1mo\", interval=\"1d\"):\n",
    "    \"\"\"\n",
    "    Fetch historical stock data using yfinance\n",
    "    \n",
    "    Args:\n",
    "        symbol (str): Stock ticker symbol (e.g., 'AAPL', 'MSFT')\n",
    "        period (str): Time period ('1d', '5d', '1mo', '3mo', '6mo', '1y', '2y', '5y', '10y', 'ytd', 'max')\n",
    "        interval (str): Data interval ('1m', '2m', '5m', '15m', '30m', '60m', '90m', '1h', '1d', '5d', '1wk', '1mo', '3mo')\n",
    "    \n",
    "    Returns:\n",
    "        pandas.DataFrame: Historical stock data with OHLCV columns\n",
    "    \"\"\"\n",
    "    try:\n",
    "        # Create ticker object\n",
    "        ticker = yf.Ticker(symbol)\n",
    "        \n",
    "        # Fetch historical data\n",
    "        df = ticker.history(period=period, interval=interval)\n",
    "        \n",
    "        if df.empty:\n",
    "            raise ValueError(f\"No data found for symbol: {symbol}\")\n",
    "        \n",
    "        print(f\"✅ Successfully fetched {len(df)} data points for {symbol} ({period})\")\n",
    "        return df\n",
    "        \n",
    "    except Exception as e:\n",
    "        print(f\"❌ Error fetching data for {symbol}: {str(e)}\")\n",
    "        return pd.DataFrame()\n",
    "\n",
    "# Test the function\n",
    "test_symbol = \"ABUK.CA\"\n",
    "test_data = fetch_history(test_symbol, \"1mo\", \"1d\")\n",
    "if not test_data.empty:\n",
    "    print(f\"\\n📊 Sample data for {test_symbol}:\")\n",
    "    print(test_data.head())\n"
   ]
  },
  {
   "cell_type": "markdown",
   "metadata": {
    "vscode": {
     "languageId": "raw"
    }
   },
   "source": [
    "## 3. Analysis Tool\n",
    "\n",
    "This function analyzes the fetched data and computes key financial metrics.\n"
   ]
  },
  {
   "cell_type": "code",
   "execution_count": 7,
   "metadata": {},
   "outputs": [
    {
     "name": "stdout",
     "output_type": "stream",
     "text": [
      "\n",
      "📈 Analysis Summary:\n",
      "  start_price: 48.32\n",
      "  end_price: 50.39\n",
      "  total_return_%: 4.28\n",
      "  volatility_%: 33.04\n",
      "  avg_volume: 965145\n",
      "  max_price: 51.5\n",
      "  min_price: 45.01\n",
      "  price_range_%: 14.42\n"
     ]
    }
   ],
   "source": [
    "def summarize(df):\n",
    "    \"\"\"\n",
    "    Analyze DataFrame and return key financial metrics\n",
    "    \n",
    "    Args:\n",
    "        df (pandas.DataFrame): Historical stock data with OHLCV columns\n",
    "    \n",
    "    Returns:\n",
    "        dict: Summary metrics including returns, volatility, and volume\n",
    "    \"\"\"\n",
    "    if df.empty:\n",
    "        return {\n",
    "            \"start_price\": 0,\n",
    "            \"end_price\": 0,\n",
    "            \"total_return_%\": 0,\n",
    "            \"volatility_%\": 0,\n",
    "            \"avg_volume\": 0,\n",
    "            \"max_price\": 0,\n",
    "            \"min_price\": 0,\n",
    "            \"price_range_%\": 0\n",
    "        }\n",
    "    \n",
    "    try:\n",
    "        # Basic price metrics\n",
    "        start_price = float(df['Close'].iloc[0])\n",
    "        end_price = float(df['Close'].iloc[-1])\n",
    "        max_price = float(df['High'].max())\n",
    "        min_price = float(df['Low'].min())\n",
    "        \n",
    "        # Calculate returns\n",
    "        total_return = ((end_price - start_price) / start_price) * 100\n",
    "        \n",
    "        # Calculate volatility (annualized)\n",
    "        daily_returns = df['Close'].pct_change().dropna()\n",
    "        volatility = daily_returns.std() * np.sqrt(252) * 100  # Annualized\n",
    "        \n",
    "        # Volume metrics\n",
    "        avg_volume = float(df['Volume'].mean())\n",
    "        \n",
    "        # Price range\n",
    "        price_range = ((max_price - min_price) / min_price) * 100\n",
    "        \n",
    "        summary = {\n",
    "            \"start_price\": round(start_price, 2),\n",
    "            \"end_price\": round(end_price, 2),\n",
    "            \"total_return_%\": round(total_return, 2),\n",
    "            \"volatility_%\": round(volatility, 2),\n",
    "            \"avg_volume\": int(avg_volume),\n",
    "            \"max_price\": round(max_price, 2),\n",
    "            \"min_price\": round(min_price, 2),\n",
    "            \"price_range_%\": round(price_range, 2)\n",
    "        }\n",
    "        \n",
    "        return summary\n",
    "        \n",
    "    except Exception as e:\n",
    "        print(f\"❌ Error in analysis: {str(e)}\")\n",
    "        return {\"error\": str(e)}\n",
    "\n",
    "# Test the analysis function\n",
    "if not test_data.empty:\n",
    "    test_summary = summarize(test_data)\n",
    "    print(\"\\n📈 Analysis Summary:\")\n",
    "    for key, value in test_summary.items():\n",
    "        print(f\"  {key}: {value}\")\n"
   ]
  },
  {
   "cell_type": "markdown",
   "metadata": {
    "vscode": {
     "languageId": "raw"
    }
   },
   "source": [
    "## 4. Trade Decision Tool\n",
    "\n",
    "This function uses OpenAI GPT-4o-mini to provide intelligent trade recommendations based on multi-period analysis.\n"
   ]
  },
  {
   "cell_type": "code",
   "execution_count": 8,
   "metadata": {
    "scrolled": true
   },
   "outputs": [
    {
     "name": "stdout",
     "output_type": "stream",
     "text": [
      "\n",
      "🤖 Getting AI trade advice...\n",
      "\n",
      "Trade Advice for ABUK.CA:\n",
      "RECOMMENDATION: BUY\n",
      "\n",
      "**Justification:**\n",
      "\n",
      "1. **Price Movement**: The stock price has increased from $48.32 to $50.39 over the past month, representing a gain of 4.28%. This upward movement indicates positive momentum and investor interest.\n",
      "\n",
      "2. **Volatility**: The volatility of 33.04% is relatively high, which suggests that the stock may experience significant price fluctuations. While this can be a risk factor, it also indicates potential for higher returns, especially for investors who can tolerate short-term volatility.\n",
      "\n",
      "3. **Average Volume**: The average trading volume of 965,145 shares suggests healthy liquidity in the stock. High trading volume often correlates with strong investor interest and can lead to more stable price movements.\n",
      "\n",
      "4. **Price Range**: The price range of 14.42% indicates that the stock has experienced considerable price swings within the month. This can be viewed as a sign of volatility but also presents opportunities for traders to capitalize on price movements.\n",
      "\n",
      "5. **Risk Factors**: While the volatility is a concern, the positive total return and upward price trend suggest that the stock is currently in a bullish phase. Investors should be aware of the potential for increased risk but can also benefit from the potential upside.\n",
      "\n",
      "6. **Technical Indicators**: If we consider typical technical analysis indicators, such as moving averages or RSI (Relative Strength Index), a further analysis would likely show that the stock is either approaching or is in a bullish trend, supporting the BUY recommendation.\n",
      "\n",
      "In conclusion, given the recent price appreciation, healthy trading volume, and the potential for further gains despite the volatility, I recommend a BUY for ABUK.CA. Investors should, however, monitor the stock closely due to its high volatility.\n"
     ]
    }
   ],
   "source": [
    "def get_trade_advice(symbol, summaries):\n",
    "    \"\"\"\n",
    "    Get AI-powered trade advice using OpenAI GPT-4o-mini\n",
    "    \n",
    "    Args:\n",
    "        symbol (str): Stock ticker symbol\n",
    "        summaries (dict): Dictionary containing summaries for different periods\n",
    "    \n",
    "    Returns:\n",
    "        str: Trade advice from AI assistant\n",
    "    \"\"\"\n",
    "    if not openai.api_key:\n",
    "        return \"❌ OpenAI API key not configured. Please set OPENAI_API_KEY environment variable.\"\n",
    "    \n",
    "    try:\n",
    "        # Build multi-period summary text\n",
    "        summary_text = f\"Stock Analysis for {symbol}:\\n\\n\"\n",
    "        \n",
    "        for period, data in summaries.items():\n",
    "            if \"error\" not in data:\n",
    "                summary_text += f\"{period.upper()} ANALYSIS:\\n\"\n",
    "                summary_text += f\"  • Price: ${data['start_price']} → ${data['end_price']}\\n\"\n",
    "                summary_text += f\"  • Total Return: {data['total_return_%']}%\\n\"\n",
    "                summary_text += f\"  • Volatility: {data['volatility_%']}%\\n\"\n",
    "                summary_text += f\"  • Average Volume: {data['avg_volume']:,}\\n\"\n",
    "                summary_text += f\"  • Price Range: {data['price_range_%']}%\\n\\n\"\n",
    "        \n",
    "        # Create the prompt\n",
    "        prompt = f\"\"\"As a professional financial analyst, analyze the following stock data and provide a clear BUY/HOLD/SELL recommendation.\n",
    "\n",
    "{summary_text}\n",
    "\n",
    "Instructions:\n",
    "1. Start your response with a clear decision: \"RECOMMENDATION: BUY/HOLD/SELL\"\n",
    "2. Provide specific numerical justification based on the data\n",
    "3. Consider multiple timeframes and risk factors\n",
    "4. Keep your analysis concise but thorough\n",
    "5. Include key metrics that support your decision\n",
    "\n",
    "Should I BUY/HOLD/SELL this stock? Justify with numbers.\"\"\"\n",
    "\n",
    "        # Call OpenAI API\n",
    "        response = openai.chat.completions.create(\n",
    "            model=\"gpt-4o-mini\",\n",
    "            messages=[\n",
    "                {\"role\": \"system\", \"content\": \"You are a professional financial analyst providing stock trading advice based on technical analysis.\"},\n",
    "                {\"role\": \"user\", \"content\": prompt}\n",
    "            ],\n",
    "            max_tokens=500,\n",
    "            temperature=0.3\n",
    "        )\n",
    "        \n",
    "        advice = response.choices[0].message.content.strip()\n",
    "        return advice\n",
    "        \n",
    "    except Exception as e:\n",
    "        return f\"❌ Error getting trade advice: {str(e)}\"\n",
    "\n",
    "# Test with dummy data\n",
    "if not test_data.empty:\n",
    "    test_summaries = {\"1mo\": test_summary}\n",
    "    print(\"\\n🤖 Getting AI trade advice...\")\n",
    "    test_advice = get_trade_advice(test_symbol, test_summaries)\n",
    "    print(f\"\\nTrade Advice for {test_symbol}:\")\n",
    "    print(test_advice)\n"
   ]
  },
  {
   "cell_type": "markdown",
   "metadata": {
    "vscode": {
     "languageId": "raw"
    }
   },
   "source": [
    "## 5. Sharia Compliance Tool\n",
    "\n",
    "This tool assesses whether a stock is compliant with Islamic Sharia principles by analyzing the company's business activities.\n"
   ]
  },
  {
   "cell_type": "code",
   "execution_count": 9,
   "metadata": {},
   "outputs": [
    {
     "name": "stdout",
     "output_type": "stream",
     "text": [
      "\n",
      "☪️ Testing Sharia compliance assessment...\n",
      "\n",
      "Sharia Assessment for ABUK.CA:\n",
      "Ruling: DOUBTFUL\n",
      "Confidence: 50%\n",
      "Justification: The business description for ABUK.CA does not provide sufficient information regarding its specific activities, sector, or industry. Without clarity on whether the company engages in any HARAM activities or has excessive debt, it is difficult to make a definitive ruling. Given the lack of transparency, it is prudent to classify the company as DOUBTFUL.\n"
     ]
    }
   ],
   "source": [
    "def get_company_profile(symbol):\n",
    "    \"\"\"\n",
    "    Fetch company information from the internet\n",
    "    \n",
    "    Args:\n",
    "        symbol (str): Stock ticker symbol\n",
    "    \n",
    "    Returns:\n",
    "        str: Company description and business activities\n",
    "    \"\"\"\n",
    "    try:\n",
    "        # Use yfinance to get company info\n",
    "        ticker = yf.Ticker(symbol)\n",
    "        info = ticker.info\n",
    "        \n",
    "        company_info = \"\"\n",
    "        if 'longBusinessSummary' in info:\n",
    "            company_info = info['longBusinessSummary']\n",
    "        elif 'description' in info:\n",
    "            company_info = info['description']\n",
    "        else:\n",
    "            # Fallback: try to get basic info\n",
    "            company_info = f\"Company: {info.get('longName', symbol)}, \"\n",
    "            company_info += f\"Sector: {info.get('sector', 'Unknown')}, \"\n",
    "            company_info += f\"Industry: {info.get('industry', 'Unknown')}\"\n",
    "        \n",
    "        return company_info\n",
    "        \n",
    "    except Exception as e:\n",
    "        return f\"Unable to fetch company information for {symbol}: {str(e)}\"\n",
    "\n",
    "def assess_sharia(symbol):\n",
    "    \"\"\"\n",
    "    Assess Sharia compliance using AI analysis of company activities\n",
    "    \n",
    "    Args:\n",
    "        symbol (str): Stock ticker symbol\n",
    "    \n",
    "    Returns:\n",
    "        dict: Sharia ruling with confidence score and justification\n",
    "    \"\"\"\n",
    "    if not openai.api_key:\n",
    "        return {\n",
    "            \"ruling\": \"UNKNOWN\",\n",
    "            \"confidence\": 0,\n",
    "            \"justification\": \"OpenAI API key not configured\"\n",
    "        }\n",
    "    \n",
    "    try:\n",
    "        # Get company profile\n",
    "        company_profile = get_company_profile(symbol)\n",
    "        \n",
    "        # Create Sharia compliance prompt\n",
    "        prompt = f\"\"\"As an Islamic finance scholar, analyze the following company's business activities and determine if it is HALAL (permissible) or HARAM (forbidden) according to Islamic Sharia principles.\n",
    "\n",
    "Company: {symbol}\n",
    "Business Description: {company_profile}\n",
    "\n",
    "Islamic Sharia Compliance Criteria:\n",
    "- HARAM: Alcohol, gambling, adult entertainment, tobacco, conventional banking with interest (riba), insurance, pork products\n",
    "- HARAM: Companies with >33% revenue from prohibited activities\n",
    "- HARAM: Companies with excessive debt (debt-to-market cap >33%)\n",
    "- HALAL: Technology, healthcare, retail (halal products), renewable energy, telecommunications\n",
    "\n",
    "Provide your assessment in the following format:\n",
    "RULING: [HALAL/HARAM/DOUBTFUL]\n",
    "CONFIDENCE: [0-100]\n",
    "JUSTIFICATION: [Brief explanation of the ruling based on business activities]\n",
    "\n",
    "Be conservative in your assessment - when in doubt, classify as DOUBTFUL.\"\"\"\n",
    "\n",
    "        # Call OpenAI API\n",
    "        response = openai.chat.completions.create(\n",
    "            model=\"gpt-4o-mini\",\n",
    "            messages=[\n",
    "                {\"role\": \"system\", \"content\": \"You are an Islamic finance scholar specializing in Sharia compliance assessment for investments.\"},\n",
    "                {\"role\": \"user\", \"content\": prompt}\n",
    "            ],\n",
    "            max_tokens=300,\n",
    "            temperature=0.2\n",
    "        )\n",
    "        \n",
    "        response_text = response.choices[0].message.content.strip()\n",
    "        \n",
    "        # Parse the response\n",
    "        ruling = \"UNKNOWN\"\n",
    "        confidence = 0\n",
    "        justification = response_text\n",
    "        \n",
    "        # Extract ruling\n",
    "        if \"RULING:\" in response_text:\n",
    "            ruling_line = [line for line in response_text.split('\\n') if 'RULING:' in line][0]\n",
    "            ruling = ruling_line.split('RULING:')[1].strip()\n",
    "        \n",
    "        # Extract confidence\n",
    "        if \"CONFIDENCE:\" in response_text:\n",
    "            confidence_line = [line for line in response_text.split('\\n') if 'CONFIDENCE:' in line][0]\n",
    "            try:\n",
    "                confidence = int(''.join(filter(str.isdigit, confidence_line)))\n",
    "            except:\n",
    "                confidence = 50\n",
    "        \n",
    "        # Extract justification\n",
    "        if \"JUSTIFICATION:\" in response_text:\n",
    "            justification = response_text.split('JUSTIFICATION:')[1].strip()\n",
    "        \n",
    "        return {\n",
    "            \"ruling\": ruling,\n",
    "            \"confidence\": confidence,\n",
    "            \"justification\": justification\n",
    "        }\n",
    "        \n",
    "    except Exception as e:\n",
    "        return {\n",
    "            \"ruling\": \"ERROR\",\n",
    "            \"confidence\": 0,\n",
    "            \"justification\": f\"Error assessing Sharia compliance: {str(e)}\"\n",
    "        }\n",
    "\n",
    "# Test Sharia assessment\n",
    "print(\"\\n☪️ Testing Sharia compliance assessment...\")\n",
    "test_sharia = assess_sharia(test_symbol)\n",
    "print(f\"\\nSharia Assessment for {test_symbol}:\")\n",
    "print(f\"Ruling: {test_sharia['ruling']}\")\n",
    "print(f\"Confidence: {test_sharia['confidence']}%\")\n",
    "print(f\"Justification: {test_sharia['justification']}\")\n"
   ]
  },
  {
   "cell_type": "markdown",
   "metadata": {
    "vscode": {
     "languageId": "raw"
    }
   },
   "source": [
    "## 6. Charting Tool\n",
    "\n",
    "This function creates interactive price charts using Matplotlib for visualization in the Gradio interface.\n"
   ]
  },
  {
   "cell_type": "code",
   "execution_count": 10,
   "metadata": {},
   "outputs": [
    {
     "name": "stdout",
     "output_type": "stream",
     "text": [
      "\n",
      "📊 Creating test chart...\n"
     ]
    },
    {
     "data": {
      "image/png": "[encoded data removed]",
      "text/plain": [
       "<Figure size 1200x600 with 2 Axes>"
      ]
     },
     "metadata": {},
     "output_type": "display_data"
    }
   ],
   "source": [
    "def plot_price(df, symbol):\n",
    "    \"\"\"\n",
    "    Create a price chart using Matplotlib\n",
    "    \n",
    "    Args:\n",
    "        df (pandas.DataFrame): Historical stock data\n",
    "        symbol (str): Stock ticker symbol\n",
    "    \n",
    "    Returns:\n",
    "        matplotlib.figure.Figure: Price chart figure\n",
    "    \"\"\"\n",
    "    if df.empty:\n",
    "        # Create empty figure with error message\n",
    "        fig, ax = plt.subplots(figsize=(12, 6))\n",
    "        ax.text(0.5, 0.5, f'No data available for {symbol}', \n",
    "                horizontalalignment='center', verticalalignment='center',\n",
    "                transform=ax.transAxes, fontsize=16)\n",
    "        ax.set_title(f'Stock Price Chart - {symbol}')\n",
    "        return fig\n",
    "    \n",
    "    try:\n",
    "        # Create figure and axis\n",
    "        fig, ax = plt.subplots(figsize=(12, 6))\n",
    "        \n",
    "        # Plot closing price\n",
    "        ax.plot(df.index, df['Close'], linewidth=2, label='Close Price', color='#1f77b4')\n",
    "        \n",
    "        # Add volume as secondary axis\n",
    "        ax2 = ax.twinx()\n",
    "        ax2.bar(df.index, df['Volume'], alpha=0.3, color='gray', label='Volume')\n",
    "        \n",
    "        # Formatting\n",
    "        ax.set_title(f'Stock Price Chart - {symbol}', fontsize=16, fontweight='bold')\n",
    "        ax.set_xlabel('Date', fontsize=12)\n",
    "        ax.set_ylabel('Price ($)', fontsize=12)\n",
    "        ax2.set_ylabel('Volume', fontsize=12)\n",
    "        \n",
    "        # Add grid\n",
    "        ax.grid(True, alpha=0.3)\n",
    "        \n",
    "        # Format dates on x-axis\n",
    "        ax.xaxis.set_major_formatter(mdates.DateFormatter('%Y-%m-%d'))\n",
    "        ax.xaxis.set_major_locator(mdates.WeekdayLocator(interval=1))\n",
    "        plt.xticks(rotation=45)\n",
    "        \n",
    "        # Add legends\n",
    "        ax.legend(loc='upper left')\n",
    "        ax2.legend(loc='upper right')\n",
    "        \n",
    "        # Add price statistics\n",
    "        current_price = df['Close'].iloc[-1]\n",
    "        price_change = df['Close'].iloc[-1] - df['Close'].iloc[0]\n",
    "        price_change_pct = (price_change / df['Close'].iloc[0]) * 100\n",
    "        \n",
    "        stats_text = f'Current: ${current_price:.2f} | Change: ${price_change:.2f} ({price_change_pct:+.2f}%)'\n",
    "        ax.text(0.02, 0.98, stats_text, transform=ax.transAxes, \n",
    "                bbox=dict(boxstyle='round', facecolor='wheat', alpha=0.8),\n",
    "                verticalalignment='top', fontsize=10)\n",
    "        \n",
    "        # Tight layout\n",
    "        plt.tight_layout()\n",
    "        \n",
    "        return fig\n",
    "        \n",
    "    except Exception as e:\n",
    "        # Create error figure\n",
    "        fig, ax = plt.subplots(figsize=(12, 6))\n",
    "        ax.text(0.5, 0.5, f'Error creating chart: {str(e)}', \n",
    "                horizontalalignment='center', verticalalignment='center',\n",
    "                transform=ax.transAxes, fontsize=16)\n",
    "        ax.set_title(f'Stock Price Chart - {symbol}')\n",
    "        return fig\n",
    "\n",
    "# Test the plotting function\n",
    "if not test_data.empty:\n",
    "    print(\"\\n📊 Creating test chart...\")\n",
    "    test_fig = plot_price(test_data, test_symbol)\n",
    "    plt.show()\n"
   ]
  },
  {
   "cell_type": "markdown",
   "metadata": {
    "vscode": {
     "languageId": "raw"
    }
   },
   "source": [
    "## 7. Gradio Chat Interface\n",
    "\n",
    "This section creates the main Gradio interface with a two-column layout for stock analysis and Sharia compliance assessment.\n"
   ]
  },
  {
   "cell_type": "code",
   "execution_count": 11,
   "metadata": {},
   "outputs": [
    {
     "name": "stdout",
     "output_type": "stream",
     "text": [
      "🚀 Creating Gradio interface...\n",
      "✅ Interface created successfully!\n",
      "🌐 Launch the interface by running: demo.launch()\n"
     ]
    }
   ],
   "source": [
    "def analyze_stock(symbol):\n",
    "    \"\"\"\n",
    "    Main analysis function that combines all tools\n",
    "    \n",
    "    Args:\n",
    "        symbol (str): Stock ticker symbol\n",
    "    \n",
    "    Returns:\n",
    "        tuple: (trade_advice, sharia_dict, price_chart)\n",
    "    \"\"\"\n",
    "    if not symbol or not symbol.strip():\n",
    "        return (\"Please enter a valid stock symbol.\", {}, None)\n",
    "    \n",
    "    symbol = symbol.strip().upper()\n",
    "    \n",
    "    try:\n",
    "        # Update status\n",
    "        status_message = f\"🔄 Analyzing {symbol}...\"\n",
    "        print(status_message)\n",
    "        \n",
    "        # Fetch data for multiple periods\n",
    "        periods = [\"1mo\", \"1y\", \"5y\"]\n",
    "        summaries = {}\n",
    "        \n",
    "        for period in periods:\n",
    "            print(f\"📈 Fetching {period} data...\")\n",
    "            df = fetch_history(symbol, period, \"1d\")\n",
    "            if not df.empty:\n",
    "                summaries[period] = summarize(df)\n",
    "            else:\n",
    "                summaries[period] = {\"error\": f\"No data for {period}\"}\n",
    "        \n",
    "        # Get 1-month data for chart\n",
    "        df_1mo = fetch_history(symbol, \"1mo\", \"1d\")\n",
    "        \n",
    "        # Get trade advice\n",
    "        print(\"🤖 Getting AI trade advice...\")\n",
    "        trade_advice = get_trade_advice(symbol, summaries)\n",
    "        \n",
    "        # Get Sharia assessment\n",
    "        print(\"☪️ Assessing Sharia compliance...\")\n",
    "        sharia_assessment = assess_sharia(symbol)\n",
    "        \n",
    "        # Create price chart\n",
    "        print(\"📊 Creating price chart...\")\n",
    "        price_chart = plot_price(df_1mo, symbol)\n",
    "        \n",
    "        print(f\"✅ Analysis complete for {symbol}\")\n",
    "        \n",
    "        return (trade_advice, sharia_assessment, price_chart)\n",
    "        \n",
    "    except Exception as e:\n",
    "        error_msg = f\"❌ Error analyzing {symbol}: {str(e)}\"\n",
    "        print(error_msg)\n",
    "        return (error_msg, {\"error\": str(e)}, None)\n",
    "\n",
    "# Create Gradio Interface\n",
    "def create_interface():\n",
    "    \"\"\"Create and return the Gradio interface\"\"\"\n",
    "    \n",
    "    with gr.Blocks(title=\"Stock Analysis & Sharia Compliance\", theme=gr.themes.Soft()) as interface:\n",
    "        \n",
    "        # Header\n",
    "        gr.Markdown(\"\"\"\n",
    "        # 📈 Stock Analysis & Sharia Compliance Tool\n",
    "        \n",
    "        **Get comprehensive stock analysis with AI-powered trade recommendations and Islamic Sharia compliance assessment.**\n",
    "        \n",
    "        *Enter a stock ticker (e.g., AAPL, MSFT, GOOGL) and click Analyze to get started.*\n",
    "        \"\"\")\n",
    "        \n",
    "        with gr.Row():\n",
    "            # Left Column - Inputs and Results\n",
    "            with gr.Column(scale=1):\n",
    "                gr.Markdown(\"### 📊 Stock Analysis\")\n",
    "                \n",
    "                # Input section\n",
    "                with gr.Group():\n",
    "                    ticker_input = gr.Textbox(\n",
    "                        label=\"Stock Ticker Symbol\",\n",
    "                        placeholder=\"Enter ticker (e.g., AAPL, MSFT, GOOGL)\",\n",
    "                        value=\"AAPL\"\n",
    "                    )\n",
    "                    analyze_button = gr.Button(\"🔍 Analyze Stock\", variant=\"primary\", size=\"lg\")\n",
    "                \n",
    "                # Trade advice output\n",
    "                with gr.Group():\n",
    "                    gr.Markdown(\"### 🤖 AI Trade Recommendation\")\n",
    "                    trade_advice_output = gr.Textbox(\n",
    "                        label=\"Trade Advice\",\n",
    "                        lines=8,\n",
    "                        placeholder=\"AI trade recommendation will appear here...\"\n",
    "                    )\n",
    "                \n",
    "                # Sharia compliance output\n",
    "                with gr.Group():\n",
    "                    gr.Markdown(\"### ☪️ Sharia Compliance Assessment\")\n",
    "                    sharia_output = gr.JSON(\n",
    "                        label=\"Sharia Ruling\",\n",
    "                        value={\"ruling\": \"Not analyzed\", \"confidence\": 0, \"justification\": \"Click Analyze to assess\"}\n",
    "                    )\n",
    "            \n",
    "            # Right Column - Chart\n",
    "            with gr.Column(scale=1):\n",
    "                gr.Markdown(\"### 📈 Price Chart (1 Month)\")\n",
    "                chart_output = gr.Plot(\n",
    "                    label=\"Stock Price Chart\",\n",
    "                    value=None\n",
    "                )\n",
    "        \n",
    "        # Examples section\n",
    "        with gr.Row():\n",
    "            gr.Markdown(\"\"\"\n",
    "            ### 💡 Example Tickers to Try:\n",
    "            - **AAPL** - Apple Inc. (Technology)\n",
    "            - **MSFT** - Microsoft Corporation (Technology) \n",
    "            - **BRK-B** - Berkshire Hathaway (Conglomerate)\n",
    "            - **JNJ** - Johnson & Johnson (Healthcare)\n",
    "            - **BAC** - Bank of America (Banking - may be Haram)\n",
    "            - **KO** - Coca-Cola (Beverages)\n",
    "            \n",
    "            *Note: Add \".CA\" suffix for Canadian stocks (e.g., \"SHOP.TO\" for Toronto Stock Exchange)*\n",
    "            \"\"\")\n",
    "        \n",
    "        # Wire up the interface\n",
    "        analyze_button.click(\n",
    "            fn=analyze_stock,\n",
    "            inputs=[ticker_input],\n",
    "            outputs=[trade_advice_output, sharia_output, chart_output],\n",
    "            show_progress=True\n",
    "        )\n",
    "        \n",
    "        # Add example buttons\n",
    "        with gr.Row():\n",
    "            example_buttons = [\n",
    "                gr.Button(\"📱 AAPL\", size=\"sm\"),\n",
    "                gr.Button(\"💻 MSFT\", size=\"sm\"),\n",
    "                gr.Button(\"🏦 BAC\", size=\"sm\"),\n",
    "                gr.Button(\"🥤 KO\", size=\"sm\")\n",
    "            ]\n",
    "        \n",
    "        # Wire example buttons\n",
    "        for button, ticker in zip(example_buttons, [\"AAPL\", \"MSFT\", \"BAC\", \"KO\"]):\n",
    "            button.click(\n",
    "                fn=lambda t=ticker: t,\n",
    "                outputs=[ticker_input]\n",
    "            )\n",
    "    \n",
    "    return interface\n",
    "\n",
    "# Create the interface\n",
    "print(\"🚀 Creating Gradio interface...\")\n",
    "demo = create_interface()\n",
    "\n",
    "print(\"✅ Interface created successfully!\")\n",
    "print(\"🌐 Launch the interface by running: demo.launch()\")\n"
   ]
  },
  {
   "cell_type": "markdown",
   "metadata": {
    "vscode": {
     "languageId": "raw"
    }
   },
   "source": [
    "## 8. Launch the Interface\n",
    "\n",
    "Run the cell below to launch the Gradio interface. It will open in your browser and provide an interactive chat interface for stock analysis.\n"
   ]
  },
  {
   "cell_type": "code",
   "execution_count": 13,
   "metadata": {},
   "outputs": [
    {
     "name": "stdout",
     "output_type": "stream",
     "text": [
      "🚀 Launching Stock Analysis & Sharia Compliance Interface...\n",
      "📝 Make sure you have set your OPENAI_API_KEY environment variable\n",
      "🌐 The interface will open in your browser\n",
      "* Running on local URL:  http://0.0.0.0:7861\n",
      "* Running on public URL: https://83c8badbf7f5d179dd.gradio.live\n",
      "\n",
      "This share link expires in 1 week. For free permanent hosting and GPU upgrades, run `gradio deploy` from the terminal in the working directory to deploy to Hugging Face Spaces (https://huggingface.co/spaces)\n"
     ]
    },
    {
     "data": {
      "text/html": [
       "<div><iframe src=\"https://83c8badbf7f5d179dd.gradio.live\" width=\"100%\" height=\"500\" allow=\"autoplay; camera; microphone; clipboard-read; clipboard-write;\" frameborder=\"0\" allowfullscreen></iframe></div>"
      ],
      "text/plain": [
       "<IPython.core.display.HTML object>"
      ]
     },
     "metadata": {},
     "output_type": "display_data"
    },
    {
     "name": "stdout",
     "output_type": "stream",
     "text": [
      "🔄 Analyzing AAPL...\n",
      "📈 Fetching 1mo data...\n",
      "✅ Successfully fetched 22 data points for AAPL (1mo)\n",
      "📈 Fetching 1y data...\n",
      "✅ Successfully fetched 250 data points for AAPL (1y)\n",
      "📈 Fetching 5y data...\n",
      "✅ Successfully fetched 1256 data points for AAPL (5y)\n",
      "✅ Successfully fetched 22 data points for AAPL (1mo)\n",
      "🤖 Getting AI trade advice...\n",
      "☪️ Assessing Sharia compliance...\n",
      "📊 Creating price chart...\n",
      "✅ Analysis complete for AAPL\n",
      "🔄 Analyzing ABUK...\n",
      "📈 Fetching 1mo data...\n"
     ]
    },
    {
     "name": "stderr",
     "output_type": "stream",
     "text": [
      "HTTP Error 404: \n",
      "$ABUK: possibly delisted; no price data found  (period=1mo) (Yahoo error = \"No data found, symbol may be delisted\")\n"
     ]
    },
    {
     "name": "stdout",
     "output_type": "stream",
     "text": [
      "❌ Error fetching data for ABUK: No data found for symbol: ABUK\n",
      "📈 Fetching 1y data...\n"
     ]
    },
    {
     "name": "stderr",
     "output_type": "stream",
     "text": [
      "$ABUK: possibly delisted; no price data found  (period=1y) (Yahoo error = \"No data found, symbol may be delisted\")\n"
     ]
    },
    {
     "name": "stdout",
     "output_type": "stream",
     "text": [
      "❌ Error fetching data for ABUK: No data found for symbol: ABUK\n",
      "📈 Fetching 5y data...\n"
     ]
    },
    {
     "name": "stderr",
     "output_type": "stream",
     "text": [
      "$ABUK: possibly delisted; no price data found  (period=5y) (Yahoo error = \"No data found, symbol may be delisted\")\n"
     ]
    },
    {
     "name": "stdout",
     "output_type": "stream",
     "text": [
      "❌ Error fetching data for ABUK: No data found for symbol: ABUK\n"
     ]
    },
    {
     "name": "stderr",
     "output_type": "stream",
     "text": [
      "$ABUK: possibly delisted; no price data found  (period=1mo) (Yahoo error = \"No data found, symbol may be delisted\")\n"
     ]
    },
    {
     "name": "stdout",
     "output_type": "stream",
     "text": [
      "❌ Error fetching data for ABUK: No data found for symbol: ABUK\n",
      "🤖 Getting AI trade advice...\n",
      "☪️ Assessing Sharia compliance...\n"
     ]
    },
    {
     "name": "stderr",
     "output_type": "stream",
     "text": [
      "HTTP Error 404: \n"
     ]
    },
    {
     "name": "stdout",
     "output_type": "stream",
     "text": [
      "📊 Creating price chart...\n",
      "✅ Analysis complete for ABUK\n"
     ]
    }
   ],
   "source": [
    "# Launch the Gradio interface\n",
    "if __name__ == \"__main__\":\n",
    "    print(\"🚀 Launching Stock Analysis & Sharia Compliance Interface...\")\n",
    "    print(\"📝 Make sure you have set your OPENAI_API_KEY environment variable\")\n",
    "    print(\"🌐 The interface will open in your browser\")\n",
    "    \n",
    "    # Launch with sharing enabled for easy access\n",
    "    demo.launch(\n",
    "        share=True,  # Creates a public link for sharing\n",
    "        server_name=\"0.0.0.0\",  # Allow external access\n",
    "        show_error=True,  # Show detailed error messages\n",
    "        quiet=False  # Show startup logs\n",
    "    )\n"
   ]
  },
  {
   "cell_type": "raw",
   "metadata": {
    "vscode": {
     "languageId": "raw"
    }
   },
   "source": [
    "## 9. Usage Instructions & Requirements\n",
    "\n",
    "### 📋 Prerequisites\n",
    "\n",
    "Before running this notebook, make sure you have the following installed:\n",
    "\n",
    "```bash\n",
    "pip install yfinance openai pandas matplotlib gradio requests beautifulsoup4 numpy\n",
    "```\n",
    "\n",
    "### 🔑 API Key Setup\n",
    "\n",
    "Set your OpenAI API key as an environment variable:\n",
    "\n",
    "```bash\n",
    "export OPENAI_API_KEY=\"your-api-key-here\"\n",
    "```\n",
    "\n",
    "Or in Python:\n",
    "```python\n",
    "import os\n",
    "os.environ[\"OPENAI_API_KEY\"] = \"your-api-key-here\"\n",
    "```\n",
    "\n",
    "### 🚀 How to Use\n",
    "\n",
    "1. **Run all cells** in this notebook to initialize all functions\n",
    "2. **Launch the interface** by running the launch cell\n",
    "3. **Enter a stock ticker** (e.g., AAPL, MSFT, GOOGL)\n",
    "4. **Click \"Analyze Stock\"** to get:\n",
    "   - AI-powered trade recommendations (BUY/HOLD/SELL)\n",
    "   - Sharia compliance assessment\n",
    "   - Interactive price chart\n",
    "\n",
    "### 📊 Features\n",
    "\n",
    "- **Multi-period Analysis**: 1 month, 1 year, and 5 year data analysis\n",
    "- **AI Trade Advice**: GPT-4o-mini powered recommendations with numerical justification\n",
    "- **Sharia Compliance**: Islamic finance assessment with confidence scores\n",
    "- **Interactive Charts**: Real-time price charts with volume data\n",
    "- **Example Tickers**: Quick-access buttons for popular stocks\n",
    "\n",
    "### ⚠️ Disclaimers\n",
    "\n",
    "- **Not Financial Advice**: This tool is for educational purposes only\n",
    "- **Sharia Assessments**: Consult qualified Islamic scholars for authoritative rulings\n",
    "- **Data Accuracy**: Stock data depends on yfinance API availability\n",
    "- **API Costs**: OpenAI API calls will consume your credits\n",
    "\n",
    "### 🛠️ Troubleshooting\n",
    "\n",
    "- **No data found**: Check if the ticker symbol is correct\n",
    "- **API errors**: Verify your OpenAI API key is set correctly\n",
    "- **Chart issues**: Ensure matplotlib backend supports interactive plotting\n",
    "- **Slow performance**: API calls may take 10-30 seconds depending on network\n",
    "\n",
    "Enjoy analyzing stocks with AI-powered insights and Sharia compliance! 🚀📈☪️\n"
   ]
  }
 ],
 "metadata": {
  "kernelspec": {
   "display_name": "Python 3 (ipykernel)",
   "language": "python",
   "name": "python3"
  },
  "language_info": {
   "codemirror_mode": {
    "name": "ipython",
    "version": 3
   },
   "file_extension": ".py",
   "mimetype": "text/x-python",
   "name": "python",
   "nbconvert_exporter": "python",
   "pygments_lexer": "ipython3",
   "version": "3.11.12"
  }
 },
 "nbformat": 4,
 "nbformat_minor": 4
}
